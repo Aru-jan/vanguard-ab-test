{
 "cells": [
  {
   "cell_type": "code",
   "execution_count": 36,
   "id": "7af57752-3d0c-48c8-a7c4-b3ca5692bd0c",
   "metadata": {},
   "outputs": [],
   "source": [
    "import pandas as pd\n",
    "import matplotlib.pyplot as plt\n",
    "import seaborn as sns\n",
    "import numpy as np"
   ]
  },
  {
   "cell_type": "code",
   "execution_count": null,
   "id": "b4511463-8edd-44bd-ab86-f22bbee2b31b",
   "metadata": {},
   "outputs": [],
   "source": [
    "client = pd.read_csv('data/unique_clients_visits.csv')\n",
    "client"
   ]
  },
  {
   "cell_type": "code",
   "execution_count": null,
   "id": "7365a659-d4d8-4934-a516-a72dd0bd21a5",
   "metadata": {},
   "outputs": [],
   "source": [
    "client.hist(figsize=(15, 20), bins=60, xlabelsize=10, ylabelsize=10);"
   ]
  },
  {
   "cell_type": "code",
   "execution_count": null,
   "id": "4214043c-1de9-494c-af29-498f3f3a9af6",
   "metadata": {},
   "outputs": [],
   "source": [
    "sns.histplot(client[\"client_age\"], kde=True, bins=30, color=\"lightblue\")\n",
    "plt.xlabel('Clients Age')\n",
    "plt.ylabel('Frequency')\n",
    "plt.show()"
   ]
  },
  {
   "cell_type": "code",
   "execution_count": null,
   "id": "debced7f-cdd6-4637-93b7-dae4463dd9d8",
   "metadata": {},
   "outputs": [],
   "source": [
    "sns.histplot(client[\"client_since_year\"], kde=True, bins=30, color=\"lightblue\")\n",
    "plt.xlabel('Client Tenure in Years')\n",
    "plt.ylabel('Frequency')\n",
    "plt.show()"
   ]
  },
  {
   "cell_type": "code",
   "execution_count": null,
   "id": "061bccfd-2a16-4c4d-96a9-4d9d729f202d",
   "metadata": {},
   "outputs": [],
   "source": [
    "sns.histplot(client[\"balance\"], kde=True, bins=70, color=\"lightblue\")\n"
   ]
  },
  {
   "cell_type": "code",
   "execution_count": null,
   "id": "246b454a",
   "metadata": {},
   "outputs": [],
   "source": [
    "total_balance_bin = client.groupby('balance_group').agg({'balance':'sum'}).reset_index()\n",
    "total_balance_bin"
   ]
  },
  {
   "cell_type": "code",
   "execution_count": null,
   "id": "f97f26e1",
   "metadata": {},
   "outputs": [],
   "source": [
    "import matplotlib.pyplot as plt\n",
    "total_balance_bin.plot.bar(x ='balance_group', y='balance', color='lightblue')\n",
    "plt.xticks(rotation=0)\n",
    "plt.xlabel('Balance Grouped')\n",
    "plt.ylabel('Total Balance per Group')"
   ]
  },
  {
   "cell_type": "code",
   "execution_count": null,
   "id": "519b07b7-1086-4430-a16e-85c0ea960ad2",
   "metadata": {},
   "outputs": [],
   "source": [
    "plt.figure(figsize=(10, 6))\n",
    "sns.boxplot(x='balance', data=client)\n",
    "plt.xlabel('Balance')\n",
    "plt.show()"
   ]
  },
  {
   "cell_type": "code",
   "execution_count": null,
   "id": "ca6fe3c6-2bcc-4fdb-b481-369982c98cae",
   "metadata": {},
   "outputs": [],
   "source": [
    "client['balance'].describe()"
   ]
  },
  {
   "cell_type": "code",
   "execution_count": null,
   "id": "7d462b4b-836f-46ca-af99-9c6e5ed37d8e",
   "metadata": {},
   "outputs": [],
   "source": [
    "gender_prop =client['gender'].value_counts().reset_index()\n",
    "gender_prop"
   ]
  },
  {
   "cell_type": "code",
   "execution_count": null,
   "id": "41771c2c",
   "metadata": {},
   "outputs": [],
   "source": [
    "gender_prop.plot.pie(y='count', labels=['U', 'M', 'F'], autopct='%1.1f%%', startangle=90, colors=['lightsteelblue', 'cornflowerblue', 'royalblue'])\n",
    "plt.ylabel('')\n",
    "plt.show()"
   ]
  }
 ],
 "metadata": {
  "kernelspec": {
   "display_name": "base",
   "language": "python",
   "name": "python3"
  },
  "language_info": {
   "codemirror_mode": {
    "name": "ipython",
    "version": 3
   },
   "file_extension": ".py",
   "mimetype": "text/x-python",
   "name": "python",
   "nbconvert_exporter": "python",
   "pygments_lexer": "ipython3",
   "version": "3.11.5"
  }
 },
 "nbformat": 4,
 "nbformat_minor": 5
}
