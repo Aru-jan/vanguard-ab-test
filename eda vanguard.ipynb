{
 "cells": [
  {
   "cell_type": "code",
   "execution_count": 25,
   "id": "7af57752-3d0c-48c8-a7c4-b3ca5692bd0c",
   "metadata": {},
   "outputs": [],
   "source": [
    "import pandas as pd\n",
    "import matplotlib.pyplot as plt\n",
    "import seaborn as sns\n",
    "import numpy as np"
   ]
  },
  {
   "cell_type": "code",
   "execution_count": null,
   "id": "b4511463-8edd-44bd-ab86-f22bbee2b31b",
   "metadata": {},
   "outputs": [],
   "source": [
    "client = pd.read_csv('data/unique_clients_visits.csv')\n",
    "client"
   ]
  },
  {
   "cell_type": "code",
   "execution_count": null,
   "id": "7365a659-d4d8-4934-a516-a72dd0bd21a5",
   "metadata": {},
   "outputs": [],
   "source": [
    "client.hist(figsize=(15, 20), bins=60, xlabelsize=10, ylabelsize=10);"
   ]
  },
  {
   "cell_type": "code",
   "execution_count": null,
   "id": "4214043c-1de9-494c-af29-498f3f3a9af6",
   "metadata": {},
   "outputs": [],
   "source": [
    "import matplotlib.pyplot as plt\n",
    "import seaborn as sns\n",
    "\n",
    "# Your plot\n",
    "sns.histplot(client[\"client_age\"], kde=True, bins=30, color=\"lightblue\")\n",
    "plt.xlabel('Clients Age')\n",
    "plt.ylabel('Frequency')\n",
    "\n",
    "# Set transparent background\n",
    "plt.gcf().set_facecolor('none')  # Make the figure face color transparent\n",
    "plt.gca().patch.set_alpha(0)     # Make the axes patch transparent\n",
    "\n",
    "plt.show()"
   ]
  },
  {
   "cell_type": "code",
   "execution_count": null,
   "id": "6daa15b9",
   "metadata": {},
   "outputs": [],
   "source": [
    "import matplotlib.pyplot as plt\n",
    "import seaborn as sns\n",
    "\n",
    "# Your plot\n",
    "sns.histplot(client[\"client_age\"], kde=True, bins=30, color=\"lightblue\")\n",
    "plt.xlabel('Clients Age')\n",
    "plt.ylabel('Frequency')\n",
    "\n",
    "# Set transparent background\n",
    "plt.gcf().set_facecolor('none')  # Make the figure face color transparent\n",
    "plt.gca().patch.set_alpha(0)     # Make the axes patch transparent\n",
    "\n",
    "plt.show()"
   ]
  },
  {
   "cell_type": "code",
   "execution_count": null,
   "id": "b10acf69",
   "metadata": {},
   "outputs": [],
   "source": [
    "sns.histplot(client[\"client_age\"], kde=True, bins=30, color=\"lightblue\")\n",
    "plt.xlabel('Clients Age')\n",
    "plt.ylabel('Frequency')\n",
    "# Set transparent background\n",
    "plt.gcf().set_facecolor('none')  # Make the figure face color transparent\n",
    "plt.gca().patch.set_alpha(0)     # Make the axes patch transparent\n",
    "\n",
    "plt.show()"
   ]
  },
  {
   "cell_type": "code",
   "execution_count": null,
   "id": "90e01c91",
   "metadata": {},
   "outputs": [],
   "source": [
    "sns.histplot(client[\"client_age\"], kde=True, bins=30, color=\"lightblue\")\n",
    "plt.xlabel('Clients Age')\n",
    "plt.ylabel('Frequency')\n",
    "# Set transparent background\n",
    "plt.gcf().set_facecolor('none')  # Make the figure face color transparent\n",
    "plt.gca().patch.set_alpha(0)     # Make the axes patch transparent\n",
    "\n",
    "plt.show()"
   ]
  },
  {
   "cell_type": "code",
   "execution_count": null,
   "id": "9fc8fb52",
   "metadata": {},
   "outputs": [],
   "source": [
    "import pandas as pd\n",
    "import plotly.graph_objects as go\n",
    "\n",
    "# Create a DataFrame with the data\n",
    "data = pd.DataFrame({\n",
    "    'Source': ['Raw Data', 'Removed Duplicates', 'Null Values Removed', 'Filtered Outliers', 'Filtered Outliers', 'Null Values Removed'],\n",
    "    'Target': ['Removed Duplicates', 'Null Values Removed', 'Filtered Outliers', 'Final Clean Data', 'Outliers Discarded', 'Nulls Discarded'],\n",
    "    'Value': [1000, 900, 800, 750, 50, 100]\n",
    "})\n",
    "\n",
    "# Create lists for the Sankey diagram\n",
    "sources = data['Source'].tolist()\n",
    "targets = data['Target'].tolist()\n",
    "values = data['Value'].tolist()\n",
    "\n",
    "# Create a list of unique labels for the nodes\n",
    "all_nodes = list(set(sources + targets))\n",
    "node_indices = {node: i for i, node in enumerate(all_nodes)}\n",
    "\n",
    "# Map the source and target labels to their corresponding indices\n",
    "source_indices = [node_indices[source] for source in sources]\n",
    "target_indices = [node_indices[target] for target in targets]\n",
    "\n",
    "# Create the Sankey diagram\n",
    "fig = go.Figure(go.Sankey(\n",
    "    node=dict(\n",
    "        pad=15,\n",
    "        thickness=20,\n",
    "        line=dict(color=\"black\", width=0.5),\n",
    "        label=all_nodes\n",
    "    ),\n",
    "    link=dict(\n",
    "        source=source_indices,\n",
    "        target=target_indices,\n",
    "        value=values\n",
    "    )\n",
    "))\n",
    "display(cleaning)\n",
    "# Update the layout and display the diagram\n",
    "fig.update_layout(title_text=\"Data Cleaning Process\", font_size=12)\n",
    "fig.show()"
   ]
  },
  {
   "cell_type": "code",
   "execution_count": null,
   "id": "dfdf9b8e",
   "metadata": {},
   "outputs": [],
   "source": []
  },
  {
   "cell_type": "code",
   "execution_count": null,
   "id": "debced7f-cdd6-4637-93b7-dae4463dd9d8",
   "metadata": {},
   "outputs": [],
   "source": [
    "sns.histplot(client[\"client_since_year\"], kde=True, bins=30, color=\"lightblue\")\n",
    "plt.xlabel('Client Tenure in Years')\n",
    "plt.ylabel('Frequency')\n",
    "\n",
    "# Set transparent background\n",
    "plt.gcf().set_facecolor('none')  # Make the figure face color transparent\n",
    "plt.gca().patch.set_alpha(0)     # Make the axes patch transparent\n",
    "\n",
    "plt.show()"
   ]
  },
  {
   "cell_type": "code",
   "execution_count": null,
   "id": "f7a58da8",
   "metadata": {},
   "outputs": [],
   "source": [
    "sns.histplot(client[\"client_since_year\"], kde=True, bins=30, color=\"lightblue\")\n",
    "plt.xlabel('Client Tenure in Years')\n",
    "plt.ylabel('Frequency')\n",
    "\n",
    "# Set transparent background\n",
    "plt.gcf().set_facecolor('none')  # Make the figure face color transparent\n",
    "plt.gca().patch.set_alpha(0)     # Make the axes patch transparent\n",
    "\n",
    "plt.show()"
   ]
  },
  {
   "cell_type": "code",
   "execution_count": null,
   "id": "061bccfd-2a16-4c4d-96a9-4d9d729f202d",
   "metadata": {},
   "outputs": [],
   "source": [
    "sns.histplot(client[\"balance\"], kde=True, bins=70, color=\"lightblue\")\n"
   ]
  },
  {
   "cell_type": "code",
   "execution_count": null,
   "id": "246b454a",
   "metadata": {},
   "outputs": [],
   "source": [
    "total_balance_bin = total_balance_bin.sort_values(by='balance', ascending=False)\n",
    "total_balance_bin"
   ]
  },
  {
   "cell_type": "code",
   "execution_count": null,
   "id": "57f4576b",
   "metadata": {},
   "outputs": [],
   "source": [
    "import matplotlib.pyplot as plt\n",
    "total_balance_bin.plot.bar(x ='balance_group', y='balance', color='lightblue', legend=False)\n",
    "plt.xticks(rotation=0)\n",
    "plt.xlabel('Balance Grouped')\n",
    "plt.ylabel('Total Balance per Group')\n",
    "\n",
    "# Set transparent background\n",
    "plt.gcf().set_facecolor('none')  # Make the figure face color transparent\n",
    "plt.gca().patch.set_alpha(0)     # Make the axes patch transparent\n",
    "\n",
    "plt.show()"
   ]
  },
  {
   "cell_type": "code",
   "execution_count": null,
   "id": "6274744b",
   "metadata": {},
   "outputs": [],
   "source": [
    "import matplotlib.pyplot as plt\n",
    "total_balance_bin.plot.bar(x ='balance_group', y='balance', color='lightblue', legend=False)\n",
    "plt.xticks(rotation=0)\n",
    "plt.xlabel('Balance Grouped')\n",
    "plt.ylabel('Total Balance per Group')\n",
    "\n",
    "# Set transparent background\n",
    "plt.gcf().set_facecolor('none')  # Make the figure face color transparent\n",
    "plt.gca().patch.set_alpha(0)     # Make the axes patch transparent\n",
    "\n",
    "plt.show()"
   ]
  },
  {
   "cell_type": "code",
   "execution_count": null,
   "id": "519b07b7-1086-4430-a16e-85c0ea960ad2",
   "metadata": {},
   "outputs": [],
   "source": [
    "plt.figure(figsize=(10, 6))\n",
    "sns.boxplot(x='balance', data=client)\n",
    "plt.xlabel('Balance')\n",
    "plt.show()"
   ]
  },
  {
   "cell_type": "code",
   "execution_count": null,
   "id": "ca6fe3c6-2bcc-4fdb-b481-369982c98cae",
   "metadata": {},
   "outputs": [],
   "source": [
    "client['balance'].describe()"
   ]
  },
  {
   "cell_type": "code",
   "execution_count": null,
   "id": "7d462b4b-836f-46ca-af99-9c6e5ed37d8e",
   "metadata": {},
   "outputs": [],
   "source": [
    "gender_prop =client['gender'].value_counts().reset_index()\n",
    "gender_prop"
   ]
  },
  {
   "cell_type": "code",
   "execution_count": null,
   "id": "41771c2c",
   "metadata": {},
   "outputs": [],
   "source": [
    "gender_prop.plot.pie(y='count', labels=['U', 'M', 'F'], autopct='%1.1f%%', startangle=90, colors=['lightsteelblue', 'cornflowerblue', 'royalblue'], legend=False)\n",
    "plt.ylabel('')\n",
    "\n",
    "# Set transparent background\n",
    "plt.gcf().set_facecolor('none')  # Make the figure face color transparent\n",
    "plt.gca().patch.set_alpha(0)     # Make the axes patch transparent\n",
    "\n",
    "plt.show()"
   ]
  }
 ],
 "metadata": {
  "kernelspec": {
   "display_name": "base",
   "language": "python",
   "name": "python3"
  },
  "language_info": {
   "codemirror_mode": {
    "name": "ipython",
    "version": 3
   },
   "file_extension": ".py",
   "mimetype": "text/x-python",
   "name": "python",
   "nbconvert_exporter": "python",
   "pygments_lexer": "ipython3",
   "version": "3.12.4"
  }
 },
 "nbformat": 4,
 "nbformat_minor": 5
}
