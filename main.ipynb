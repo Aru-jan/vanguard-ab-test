{
 "cells": [
  {
   "cell_type": "markdown",
   "metadata": {},
   "source": [
    "# VANGUARD AB TEST\n"
   ]
  },
  {
   "cell_type": "markdown",
   "metadata": {},
   "source": [
    "## METADATA HELP\n",
    "\n",
    "This comprehensive set of fields will guide your analysis, helping you unravel the intricacies of client behavior and preferences.\n",
    "\n",
    "- **client_id**: Every client’s unique ID.\n",
    "- **variation**: Indicates if a client was part of the experiment.\n",
    "- **visitor_id**: A unique ID for each client-device combination.\n",
    "- **visit_id**: A unique ID for each web visit/session.\n",
    "- **process_step**: Marks each step in the digital process.\n",
    "- **date_time**: Timestamp of each web activity.\n",
    "- **clnt_tenure_yr**: Represents how long the client has been with Vanguard, measured in years.\n",
    "- **clnt_tenure_mnth**: Further breaks down the client’s tenure with Vanguard in months.\n",
    "- **clnt_age**: Indicates the age of the client.\n",
    "- **gendr**: Specifies the client’s gender.\n",
    "- **num_accts**: Denotes the number of accounts the client holds with Vanguard.\n",
    "- **bal**: Gives the total balance spread across all accounts for a particular client.\n",
    "- **calls_6_mnth**: Records the number of times the client reached out over a call in the past six months.\n",
    "- **logons_6_mnth**: Reflects the frequency with which the client logged onto Vanguard’s platform over the last six months.\n"
   ]
  },
  {
   "cell_type": "code",
   "execution_count": null,
   "metadata": {},
   "outputs": [],
   "source": [
    "%load_ext autoreload\n",
    "%autoreload 2 "
   ]
  },
  {
   "cell_type": "code",
   "execution_count": 124,
   "metadata": {},
   "outputs": [],
   "source": [
    "from cleaning import *\n",
    "from mining import *\n",
    "from db_handling import *\n",
    "from analysis import *\n",
    "import pandas as pd\n",
    "from dotenv import load_dotenv\n",
    "import os\n",
    "import seaborn as sns\n",
    "import matplotlib.pyplot as plt\n",
    "from statsmodels.stats.proportion import proportions_ztest"
   ]
  },
  {
   "cell_type": "code",
   "execution_count": null,
   "metadata": {},
   "outputs": [],
   "source": [
    "# Load environment variables\n",
    "load_dotenv()"
   ]
  },
  {
   "cell_type": "markdown",
   "metadata": {},
   "source": [
    "### Load Configuration"
   ]
  },
  {
   "cell_type": "code",
   "execution_count": null,
   "metadata": {},
   "outputs": [],
   "source": [
    "# Load config.yaml\n",
    "config = parse_config()"
   ]
  },
  {
   "cell_type": "markdown",
   "metadata": {},
   "source": [
    "## Data Mining"
   ]
  },
  {
   "cell_type": "code",
   "execution_count": 127,
   "metadata": {},
   "outputs": [],
   "source": [
    "# Creates a dictionary of all imported dataframes\n",
    "dataframes = { name:import_data_from_config(config, name) for name in config['tables']}"
   ]
  },
  {
   "cell_type": "markdown",
   "metadata": {},
   "source": [
    "## Data Cleaning"
   ]
  },
  {
   "cell_type": "code",
   "execution_count": 128,
   "metadata": {},
   "outputs": [],
   "source": [
    "#TODO: don't impose categories?"
   ]
  },
  {
   "cell_type": "code",
   "execution_count": 129,
   "metadata": {},
   "outputs": [],
   "source": [
    "# Rename columns\n",
    "dataframes = rename_columns(dataframes, config)"
   ]
  },
  {
   "cell_type": "code",
   "execution_count": 130,
   "metadata": {},
   "outputs": [],
   "source": [
    "# Select columns\n",
    "dataframes = select_columns(dataframes, config)"
   ]
  },
  {
   "cell_type": "code",
   "execution_count": null,
   "metadata": {},
   "outputs": [],
   "source": [
    "display_dataFrames(dataframes,'head','shape')"
   ]
  },
  {
   "cell_type": "markdown",
   "metadata": {},
   "source": [
    "### Separation"
   ]
  },
  {
   "cell_type": "code",
   "execution_count": null,
   "metadata": {},
   "outputs": [],
   "source": [
    "client_df = dataframes['clients']\n",
    "experiment_df = dataframes['experiment']\n",
    "visits_df = dataframes['visits']\n",
    "display (client_df, experiment_df, visits_df)"
   ]
  },
  {
   "cell_type": "code",
   "execution_count": null,
   "metadata": {},
   "outputs": [],
   "source": [
    "# drop the nulls from clients, but keep the list of the drops\n",
    "\n",
    "nulls_client_id = client_df[client_df.isna().any(axis=1)]['client_id']\n",
    "nulls_client_id"
   ]
  },
  {
   "cell_type": "code",
   "execution_count": null,
   "metadata": {},
   "outputs": [],
   "source": [
    "client_df = client_df.dropna(axis=0)\n",
    "client_df"
   ]
  },
  {
   "cell_type": "code",
   "execution_count": null,
   "metadata": {},
   "outputs": [],
   "source": [
    "display(experiment_df['variation'].value_counts(dropna = False))\n",
    "# keep NaN for general analysis of clients, but drop them from everywhere for test analysis"
   ]
  },
  {
   "cell_type": "code",
   "execution_count": null,
   "metadata": {},
   "outputs": [],
   "source": [
    "# client_df, experiment_df, visit_df -> for general analysis\n",
    "# new_client_df, new_experiment_df, new_visit_dfn -> for test/control analysis   experiment_df_null = \n",
    "nulls_in_experiment = experiment_df[experiment_df.isna().any(axis=1)]['client_id']\n",
    "nulls_in_experiment"
   ]
  },
  {
   "cell_type": "code",
   "execution_count": null,
   "metadata": {},
   "outputs": [],
   "source": [
    "# new df removing client ID that are null in experiment\n",
    "\n",
    "display(experiment_df.count())\n",
    "new_experiment_df = experiment_df[~experiment_df['client_id'].isin(nulls_in_experiment)]\n",
    "display(new_experiment_df.count())\n",
    "\n",
    "new_experiment_df = new_experiment_df[~new_experiment_df['client_id'].isin(nulls_client_id)]\n",
    "display(new_experiment_df.count())\n",
    "display(new_experiment_df.isna().sum())\n",
    "\n"
   ]
  },
  {
   "cell_type": "code",
   "execution_count": null,
   "metadata": {},
   "outputs": [],
   "source": [
    "display(visits_df)\n",
    "new_visits_df = visits_df[~visits_df['client_id'].isin(nulls_in_experiment)]\n",
    "display(new_visits_df)\n",
    "display(new_visits_df.isna().sum())"
   ]
  },
  {
   "cell_type": "code",
   "execution_count": null,
   "metadata": {},
   "outputs": [],
   "source": [
    "display(client_df)\n",
    "new_client_df = client_df[~client_df['client_id'].isin(nulls_in_experiment)]\n",
    "display(new_client_df)"
   ]
  },
  {
   "cell_type": "markdown",
   "metadata": {},
   "source": [
    "### End separation"
   ]
  },
  {
   "cell_type": "code",
   "execution_count": 140,
   "metadata": {},
   "outputs": [],
   "source": [
    "dataframes['clients'] = new_client_df.copy()\n",
    "dataframes['experiment'] = new_experiment_df.copy()\n",
    "dataframes['visits'] = new_visits_df.copy()"
   ]
  },
  {
   "cell_type": "code",
   "execution_count": 141,
   "metadata": {},
   "outputs": [],
   "source": [
    "# Data Categorizing\n",
    "dataframes = clean_categorical_data(dataframes, config)"
   ]
  },
  {
   "cell_type": "code",
   "execution_count": 142,
   "metadata": {},
   "outputs": [],
   "source": [
    "#Convert types\n",
    "dataframes = convert_types(dataframes, config)"
   ]
  },
  {
   "cell_type": "code",
   "execution_count": null,
   "metadata": {},
   "outputs": [],
   "source": [
    "display_dataFrames(dataframes, 'head', 'shape', 'cat_count')"
   ]
  },
  {
   "cell_type": "code",
   "execution_count": 144,
   "metadata": {},
   "outputs": [],
   "source": [
    "client_df = dataframes['clients']\n",
    "experiment_df = dataframes['experiment']\n",
    "visits_df = dataframes['visits']\n"
   ]
  },
  {
   "cell_type": "markdown",
   "metadata": {},
   "source": [
    "### SQL EXPORT"
   ]
  },
  {
   "cell_type": "code",
   "execution_count": 145,
   "metadata": {},
   "outputs": [],
   "source": [
    "if config['refresh_db']:\n",
    "\n",
    "    db_password = os.getenv('SQL_PASSWORD')\n",
    "\n",
    "    # Create database if it doesn't exist\n",
    "    engine = create_db(db_password, config)\n",
    "\n",
    "    # Export tables to database if refresh is set to true\n",
    "    export_dataframes_to_sql(engine, dataframes)\n",
    "\n",
    "    # Import data from database\n",
    "    dataframes = import_all_tables_from_sql(engine)"
   ]
  },
  {
   "cell_type": "markdown",
   "metadata": {},
   "source": [
    "### Local Caching"
   ]
  },
  {
   "cell_type": "code",
   "execution_count": null,
   "metadata": {},
   "outputs": [],
   "source": [
    "\"\"\" # Save files locally in an untracked folder\n",
    "export_dataframes_to_csv(dataframes) \"\"\""
   ]
  },
  {
   "cell_type": "code",
   "execution_count": null,
   "metadata": {},
   "outputs": [],
   "source": [
    "#TODO CAREFUL DATA WONT BE PROPERLY CATEGORIZED / TYPED run after : convert_types(dataframes, config)\n",
    "\"\"\" clients_df = pd.read_csv('data/cleaned/clients.csv')\n",
    "experiment_df = pd.read_csv('data/cleaned/experiment.csv')\n",
    "visits_df = pd.read_csv('data/cleaned/visits.csv') \"\"\""
   ]
  },
  {
   "cell_type": "markdown",
   "metadata": {},
   "source": [
    "## CLEAN FRAMES"
   ]
  },
  {
   "cell_type": "code",
   "execution_count": null,
   "metadata": {},
   "outputs": [],
   "source": [
    "display('clients :',client_df, 'experiment :',experiment_df, 'visits :',visits_df)\n",
    "\n",
    "experiment_df['variation'].value_counts()\n"
   ]
  },
  {
   "cell_type": "markdown",
   "metadata": {},
   "source": [
    "## Data Exploration"
   ]
  },
  {
   "cell_type": "markdown",
   "metadata": {},
   "source": [
    "### Merge frames"
   ]
  },
  {
   "cell_type": "code",
   "execution_count": null,
   "metadata": {},
   "outputs": [],
   "source": [
    "# Added variation column to visits for easier analysis\n",
    "visits_variations = visits_df.merge(experiment_df, on='client_id', how='inner')\n",
    "display(visits_variations)"
   ]
  },
  {
   "cell_type": "code",
   "execution_count": null,
   "metadata": {},
   "outputs": [],
   "source": [
    "# Merge clients and visits for demographic analysis\n",
    "visits_variations = visits_variations.merge(client_df, on='client_id', how='inner')\n",
    "display(visits_variations)"
   ]
  },
  {
   "cell_type": "markdown",
   "metadata": {},
   "source": [
    "### Sort visits by time"
   ]
  },
  {
   "cell_type": "code",
   "execution_count": null,
   "metadata": {},
   "outputs": [],
   "source": [
    "# sort by visit_id and date_time to see the process steps in order\n",
    "visits_variations = visits_variations.sort_values(by=['visit_id', 'date_time'], ascending=[True, True])\n",
    "display(visits_variations)"
   ]
  },
  {
   "cell_type": "markdown",
   "metadata": {},
   "source": [
    "## OUTLIERS"
   ]
  },
  {
   "cell_type": "markdown",
   "metadata": {},
   "source": [
    "### Time taken"
   ]
  },
  {
   "cell_type": "code",
   "execution_count": null,
   "metadata": {},
   "outputs": [],
   "source": [
    "visits_variations['time_taken'] = visits_variations.groupby('visit_id')['date_time'].diff().dt.total_seconds()\n",
    "visits_variations['time_taken'] = visits_variations['time_taken'].fillna(0)\n",
    "\n",
    "display(visits_variations)"
   ]
  },
  {
   "cell_type": "code",
   "execution_count": null,
   "metadata": {},
   "outputs": [],
   "source": [
    "# add a column to show the total time taken for each visit_id\n",
    "visits_variations['total_time_taken'] = visits_variations.groupby('visit_id')['time_taken'].transform('sum')\n",
    "display(visits_variations)"
   ]
  },
  {
   "cell_type": "code",
   "execution_count": null,
   "metadata": {},
   "outputs": [],
   "source": [
    "plt.figure(figsize=(10, 6))\n",
    "sns.boxplot(x='variation', y='total_time_taken', data=visits_variations)\n",
    "plt.xlabel('Variation')\n",
    "plt.ylabel('Total Time Taken (seconds)')\n",
    "plt.show()"
   ]
  },
  {
   "cell_type": "code",
   "execution_count": null,
   "metadata": {},
   "outputs": [],
   "source": [
    "plt.figure(figsize=(10, 6))\n",
    "sns.histplot(data=visits_variations, x='total_time_taken', kde=True, bins=300)\n",
    "plt.xlabel('Total Time Taken (seconds)')\n",
    "plt.ylabel('Frequency')\n",
    "plt.show()"
   ]
  },
  {
   "cell_type": "code",
   "execution_count": null,
   "metadata": {},
   "outputs": [],
   "source": [
    "variations_outliers = tukeys_test_outliers(visits_variations['total_time_taken'], method=\"show\")\n",
    "display(variations_outliers)\n",
    "display(variations_outliers.describe())\n",
    "\n",
    "visits_variations = visits_variations[~visits_variations['total_time_taken'].isin(variations_outliers)]\n",
    "display(visits_variations)\n",
    "display(visits_variations.describe())"
   ]
  },
  {
   "cell_type": "code",
   "execution_count": null,
   "metadata": {},
   "outputs": [],
   "source": [
    "plt.figure(figsize=(10, 6))\n",
    "sns.histplot(data=visits_variations, x='total_time_taken', kde=True, bins=50)\n",
    "plt.xlabel('Total Time Taken (seconds)')\n",
    "plt.ylabel('Frequency')\n",
    "plt.show()"
   ]
  },
  {
   "cell_type": "code",
   "execution_count": null,
   "metadata": {},
   "outputs": [],
   "source": [
    "plt.figure(figsize=(10, 6))\n",
    "sns.boxplot(x='variation', y='total_time_taken', data=visits_variations)\n",
    "plt.xlabel('Variation')\n",
    "plt.ylabel('Total Time Taken (seconds)')\n",
    "plt.show()\n",
    "\n",
    "visits_variations['total_time_taken'].describe()"
   ]
  },
  {
   "cell_type": "markdown",
   "metadata": {},
   "source": [
    "### Correlation matrix"
   ]
  },
  {
   "cell_type": "code",
   "execution_count": null,
   "metadata": {},
   "outputs": [],
   "source": [
    "# select only the happy paths confirmed steps\n",
    "confirmed_steps = visits_variations[visits_variations['process_step'] == 'confirm']\n",
    "\n",
    "# Select numerical columns\n",
    "numerical_data = confirmed_steps.select_dtypes(include=['float64', 'int64'])\n",
    "\n",
    "# Compute the correlation matrix\n",
    "correlation_matrix = numerical_data.corr()\n",
    "\n",
    "# Display the correlation matrix\n",
    "display(correlation_matrix)\n",
    "\n",
    "# Plot the correlation matrix\n",
    "plt.figure(figsize=(10, 8))\n",
    "sns.heatmap(correlation_matrix, annot=True, cmap='coolwarm', fmt='.2f')\n",
    "plt.title('Correlation Matrix')\n",
    "plt.show()"
   ]
  },
  {
   "cell_type": "markdown",
   "metadata": {},
   "source": [
    "### Count visits"
   ]
  },
  {
   "cell_type": "code",
   "execution_count": null,
   "metadata": {},
   "outputs": [],
   "source": [
    "# Total number of visits per variation to calculate the success rate later\n",
    "number_of_visits = visits_variations.groupby('variation', observed=False)['visit_id'].nunique()\n",
    "display(number_of_visits)"
   ]
  },
  {
   "cell_type": "markdown",
   "metadata": {},
   "source": [
    "### Time taken"
   ]
  },
  {
   "cell_type": "code",
   "execution_count": null,
   "metadata": {},
   "outputs": [],
   "source": [
    "# Average total time taken per variation\n",
    "average_total_time_ = visits_variations.groupby('variation')['total_time_taken'].mean()\n",
    "display(average_total_time_)"
   ]
  },
  {
   "cell_type": "markdown",
   "metadata": {},
   "source": [
    "## Happy Path"
   ]
  },
  {
   "cell_type": "code",
   "execution_count": 162,
   "metadata": {},
   "outputs": [],
   "source": [
    "# function to filter visits with our happy path\n",
    "def filter_visits_with_happy_path(df):\n",
    "    def check_sequence(group):\n",
    "        steps = list(group['process_step'])\n",
    "        return steps == ['start', 'step_1', 'step_2', 'step_3', 'confirm']\n",
    "\n",
    "    df_filtered = df.groupby('visit_id').filter(check_sequence)\n",
    "    return df_filtered\n"
   ]
  },
  {
   "cell_type": "code",
   "execution_count": null,
   "metadata": {},
   "outputs": [],
   "source": [
    "happy_paths = filter_visits_with_happy_path(visits_variations)\n",
    "display(happy_paths)"
   ]
  },
  {
   "cell_type": "code",
   "execution_count": null,
   "metadata": {},
   "outputs": [],
   "source": [
    "# Total number of success per variation\n",
    "number_of_successes = happy_paths.groupby('variation', observed=False)['visit_id'].nunique()\n",
    "display(number_of_successes)"
   ]
  },
  {
   "cell_type": "code",
   "execution_count": null,
   "metadata": {},
   "outputs": [],
   "source": [
    "# calculate the success rate per variation\n",
    "success_rate = number_of_successes / number_of_visits\n",
    "display(success_rate)"
   ]
  },
  {
   "cell_type": "markdown",
   "metadata": {},
   "source": [
    "## Confused Path"
   ]
  },
  {
   "cell_type": "code",
   "execution_count": 166,
   "metadata": {},
   "outputs": [],
   "source": [
    "# function to filter out visits with start->confirm but no happy path in between them\n",
    "def filter_non_happy_path_visits(df):\n",
    "    def check_non_consecutive(group):\n",
    "        steps = list(group['process_step'])\n",
    "        if steps[0] == 'start' and steps[-1] == 'confirm':\n",
    "            if steps != ['start', 'step_1', 'step_2', 'step_3', 'confirm']:\n",
    "                return True\n",
    "        return False\n",
    "\n",
    "    df_filtered = df.groupby('visit_id').filter(check_non_consecutive)\n",
    "    return df_filtered"
   ]
  },
  {
   "cell_type": "code",
   "execution_count": null,
   "metadata": {},
   "outputs": [],
   "source": [
    "non_happy_paths = filter_non_happy_path_visits(visits_variations)\n",
    "display(non_happy_paths)"
   ]
  },
  {
   "cell_type": "code",
   "execution_count": null,
   "metadata": {},
   "outputs": [],
   "source": [
    "number_of_visits_non_happy = non_happy_paths.groupby('variation', observed=False)['visit_id'].nunique()\n",
    "display(number_of_visits_non_happy)"
   ]
  },
  {
   "cell_type": "code",
   "execution_count": null,
   "metadata": {},
   "outputs": [],
   "source": [
    "success_rate_non_happy = number_of_visits_non_happy / number_of_visits\n",
    "display(success_rate_non_happy)\n",
    "# proportion of lost people is greater in test group."
   ]
  },
  {
   "cell_type": "markdown",
   "metadata": {},
   "source": [
    "## Error Path"
   ]
  },
  {
   "cell_type": "code",
   "execution_count": null,
   "metadata": {},
   "outputs": [],
   "source": [
    "without_happy_path = visits_variations[~visits_variations['visit_id'].isin(happy_paths['visit_id'])]\n",
    "\n",
    "error_paths = without_happy_path[~without_happy_path['visit_id'].isin(non_happy_paths['visit_id'])]\n",
    "display(error_paths)"
   ]
  },
  {
   "cell_type": "code",
   "execution_count": null,
   "metadata": {},
   "outputs": [],
   "source": [
    "number_of_visits_error_path = error_paths.groupby('variation', observed=False)['visit_id'].nunique()\n",
    "display(number_of_visits_error_path)"
   ]
  },
  {
   "cell_type": "code",
   "execution_count": null,
   "metadata": {},
   "outputs": [],
   "source": [
    "success_rate_error_paths = number_of_visits_error_path / number_of_visits\n",
    "display(success_rate_error_paths)"
   ]
  },
  {
   "cell_type": "code",
   "execution_count": null,
   "metadata": {},
   "outputs": [],
   "source": [
    "#TODO merge success paths ?"
   ]
  },
  {
   "cell_type": "markdown",
   "metadata": {},
   "source": [
    "### Count check"
   ]
  },
  {
   "cell_type": "code",
   "execution_count": 184,
   "metadata": {},
   "outputs": [
    {
     "data": {
      "text/plain": [
       "True"
      ]
     },
     "metadata": {},
     "output_type": "display_data"
    },
    {
     "data": {
      "image/png": "[encoded data removed]",
      "text/plain": [
       "<Figure size 1000x600 with 1 Axes>"
      ]
     },
     "metadata": {},
     "output_type": "display_data"
    },
    {
     "name": "stderr",
     "output_type": "stream",
     "text": [
      "/var/folders/7w/s5bmwwgs2176bk3y33c2nv2m0000gn/T/ipykernel_64792/2136028899.py:22: FutureWarning: The default of observed=False is deprecated and will be changed to True in a future version of pandas. Pass observed=False to retain current behavior or observed=True to adopt the future default and silence this warning.\n",
      "  'Happy Paths': happy_paths.groupby('variation')['visit_id'].nunique(),\n",
      "/var/folders/7w/s5bmwwgs2176bk3y33c2nv2m0000gn/T/ipykernel_64792/2136028899.py:23: FutureWarning: The default of observed=False is deprecated and will be changed to True in a future version of pandas. Pass observed=False to retain current behavior or observed=True to adopt the future default and silence this warning.\n",
      "  'Non-Happy Paths': non_happy_paths.groupby('variation')['visit_id'].nunique(),\n",
      "/var/folders/7w/s5bmwwgs2176bk3y33c2nv2m0000gn/T/ipykernel_64792/2136028899.py:24: FutureWarning: The default of observed=False is deprecated and will be changed to True in a future version of pandas. Pass observed=False to retain current behavior or observed=True to adopt the future default and silence this warning.\n",
      "  'Error Paths': error_paths.groupby('variation')['visit_id'].nunique()\n"
     ]
    },
    {
     "data": {
      "image/png": "[encoded data removed]",
      "text/plain": [
       "<Figure size 1000x600 with 1 Axes>"
      ]
     },
     "metadata": {},
     "output_type": "display_data"
    },
    {
     "data": {
      "image/png": "[encoded data removed]",
      "text/plain": [
       "<Figure size 1000x600 with 1 Axes>"
      ]
     },
     "metadata": {},
     "output_type": "display_data"
    }
   ],
   "source": [
    "unique_visit_count = visits_variations['visit_id'].nunique()\n",
    "unique_happy_paths_count = happy_paths['visit_id'].nunique()\n",
    "unique_non_happy_paths_count = non_happy_paths['visit_id'].nunique()\n",
    "unique_error_paths_count = error_paths['visit_id'].nunique()\n",
    "display((unique_happy_paths_count+unique_non_happy_paths_count+unique_error_paths_count) == unique_visit_count)\n",
    "\n",
    "proportions = {\n",
    "    'Happy Paths': unique_happy_paths_count / unique_visit_count,\n",
    "    'Non-Happy Paths': unique_non_happy_paths_count / unique_visit_count,\n",
    "    'Error Paths': unique_error_paths_count / unique_visit_count\n",
    "}\n",
    "\n",
    "plt.figure(figsize=(10, 6))\n",
    "sns.barplot(x=list(proportions.keys()), y=list(proportions.values()))\n",
    "plt.xlabel('Path Type')\n",
    "plt.ylabel('Proportion')\n",
    "plt.ylim(0, 1)\n",
    "plt.show()\n",
    "\n",
    "\n",
    "path_counts_by_variation = {\n",
    "    'Happy Paths': happy_paths.groupby('variation')['visit_id'].nunique(),\n",
    "    'Non-Happy Paths': non_happy_paths.groupby('variation')['visit_id'].nunique(),\n",
    "    'Error Paths': error_paths.groupby('variation')['visit_id'].nunique()\n",
    "}\n",
    "\n",
    "path_counts_df = pd.DataFrame(path_counts_by_variation)\n",
    "path_counts_df.plot(kind='bar', figsize=(10, 6))\n",
    "plt.xlabel('Variation')\n",
    "plt.ylabel('Visit ID Count')\n",
    "plt.title('Visit ID Count by Path and Variation')\n",
    "plt.show()\n",
    "\n",
    "success_rates_by_path = {\n",
    "    'Happy Paths': number_of_successes / number_of_visits,\n",
    "    'Non-Happy Paths': number_of_visits_non_happy / number_of_visits,\n",
    "    'Error Paths': number_of_visits_error_path / number_of_visits\n",
    "}\n",
    "\n",
    "success_rates_df = pd.DataFrame(success_rates_by_path)\n",
    "ax = success_rates_df.plot(kind='bar', figsize=(10, 6))\n",
    "plt.xlabel('Variation')\n",
    "plt.ylabel('Success Rate')\n",
    "plt.title('Success Rates by Path and Variation')\n",
    "plt.ylim(0, 1)\n",
    "\n",
    "# Label the bars with the values\n",
    "for p in ax.patches:\n",
    "    ax.annotate(f'{p.get_height():.2f}', (p.get_x() + p.get_width() / 2., p.get_height()), \n",
    "                ha='center', va='center', xytext=(0, 10), textcoords='offset points')\n",
    "\n",
    "plt.show()\n"
   ]
  },
  {
   "cell_type": "markdown",
   "metadata": {},
   "source": [
    "## Analysis"
   ]
  },
  {
   "cell_type": "code",
   "execution_count": null,
   "metadata": {},
   "outputs": [],
   "source": [
    "# PROPORTION Z TEST ----Happy Paths---- Proportion of successes is greater in Test group than in Control group\n",
    "# H0: Proportion of complete steps in TEST group <= Proportion of complete steps in CONTROL group\n",
    "# H1: Pt > Pc\n",
    "alpha = 0.05\n",
    "\n",
    "successes = [number_of_successes['Test'], number_of_successes['Control']]\n",
    "just_visits = [number_of_visits['Test'], number_of_visits['Control']]\n",
    "\n",
    "proportions_ztest(successes, just_visits, alternative = \"larger\")"
   ]
  },
  {
   "cell_type": "code",
   "execution_count": null,
   "metadata": {},
   "outputs": [],
   "source": [
    "# PROPORTION Z TEST ----Non Happy Paths----\n",
    "# H0: Proportion of complete steps in TEST group <= Proportion of complete steps in CONTROL group\n",
    "# H1: Pt > Pc\n",
    "alpha = 0.05\n",
    "\n",
    "successes = [number_of_visits_non_happy['Test'], number_of_visits_non_happy['Control']]\n",
    "just_visits = [number_of_visits['Test'], number_of_visits['Control']]\n",
    "\n",
    "proportions_ztest(successes, just_visits, alternative = \"larger\")"
   ]
  },
  {
   "cell_type": "code",
   "execution_count": null,
   "metadata": {},
   "outputs": [],
   "source": [
    "# PROPORTION Z TEST ----Error Paths---- \n",
    "# H0: Proportion of visits in TEST group >= Proportion of visits in CONTROL group\n",
    "# H1: Pt < Pc\n",
    "alpha = 0.05\n",
    "\n",
    "successes = [number_of_visits_error_path['Test'], number_of_visits_error_path['Control']]\n",
    "just_visits = [number_of_visits['Test'], number_of_visits['Control']]\n",
    "\n",
    "proportions_ztest(successes, just_visits, alternative = \"smaller\")"
   ]
  },
  {
   "cell_type": "markdown",
   "metadata": {},
   "source": [
    "### T-Test for total time"
   ]
  },
  {
   "cell_type": "code",
   "execution_count": null,
   "metadata": {},
   "outputs": [],
   "source": [
    "# TWO SAMPLE T TEST ---- Average total_time of success is smaller in Test group than in Control group\n",
    "import scipy.stats as st\n",
    "# H0: average time it took to complete steps in test group is greater or equal to one in control group \n",
    "#       (Mean_time_test>=Mean_time_control)\n",
    "# H1: average time it took to complete steps is less in test group than in control group \n",
    "#       (Mean_time_test<Mean_time_control)\n",
    "alpha=0.05\n",
    "df_test = happy_paths[happy_paths['variation']=='Test']['total_time_taken']\n",
    "df_control = happy_paths[happy_paths['variation']=='Control']['total_time_taken']\n",
    "st.ttest_ind(df_test,df_control, equal_var=False, alternative = 'less')"
   ]
  },
  {
   "cell_type": "code",
   "execution_count": null,
   "metadata": {},
   "outputs": [],
   "source": [
    "average_time_per_variation = happy_paths.groupby('variation').agg({'total_time_taken': 'mean'})\n",
    "average_time_per_variation"
   ]
  },
  {
   "cell_type": "code",
   "execution_count": null,
   "metadata": {},
   "outputs": [],
   "source": [
    "# average total time without outliers\n",
    "avg_total_time = happy_paths['total_time_taken'].mean()\n",
    "display(avg_total_time)"
   ]
  },
  {
   "cell_type": "code",
   "execution_count": 180,
   "metadata": {},
   "outputs": [],
   "source": [
    "#TODO: consider binning / pd.cut / qcut for numerical data\n",
    "#TODO: correlation matrix\n",
    "#TODO: tukeys_test_outliers"
   ]
  },
  {
   "cell_type": "code",
   "execution_count": 181,
   "metadata": {},
   "outputs": [],
   "source": [
    "# check back and forth between steps, lost?\n",
    "# "
   ]
  },
  {
   "cell_type": "markdown",
   "metadata": {},
   "source": [
    "## Visualizations"
   ]
  },
  {
   "cell_type": "code",
   "execution_count": null,
   "metadata": {},
   "outputs": [],
   "source": []
  },
  {
   "cell_type": "markdown",
   "metadata": {},
   "source": [
    "## Conclusions"
   ]
  },
  {
   "cell_type": "code",
   "execution_count": null,
   "metadata": {},
   "outputs": [],
   "source": []
  }
 ],
 "metadata": {
  "kernelspec": {
   "display_name": "base",
   "language": "python",
   "name": "python3"
  },
  "language_info": {
   "codemirror_mode": {
    "name": "ipython",
    "version": 3
   },
   "file_extension": ".py",
   "mimetype": "text/x-python",
   "name": "python",
   "nbconvert_exporter": "python",
   "pygments_lexer": "ipython3",
   "version": "3.12.4"
  }
 },
 "nbformat": 4,
 "nbformat_minor": 2
}
