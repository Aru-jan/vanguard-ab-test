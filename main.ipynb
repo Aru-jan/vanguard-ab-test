{
 "cells": [
  {
   "cell_type": "markdown",
   "metadata": {},
   "source": [
    "# VANGUARD AB TEST\n"
   ]
  },
  {
   "cell_type": "markdown",
   "metadata": {},
   "source": [
    "## METADATA HELP\n",
    "\n",
    "This comprehensive set of fields will guide your analysis, helping you unravel the intricacies of client behavior and preferences.\n",
    "\n",
    "- **client_id**: Every client’s unique ID.\n",
    "- **variation**: Indicates if a client was part of the experiment.\n",
    "- **visitor_id**: A unique ID for each client-device combination.\n",
    "- **visit_id**: A unique ID for each web visit/session.\n",
    "- **process_step**: Marks each step in the digital process.\n",
    "- **date_time**: Timestamp of each web activity.\n",
    "- **clnt_tenure_yr**: Represents how long the client has been with Vanguard, measured in years.\n",
    "- **clnt_tenure_mnth**: Further breaks down the client’s tenure with Vanguard in months.\n",
    "- **clnt_age**: Indicates the age of the client.\n",
    "- **gendr**: Specifies the client’s gender.\n",
    "- **num_accts**: Denotes the number of accounts the client holds with Vanguard.\n",
    "- **bal**: Gives the total balance spread across all accounts for a particular client.\n",
    "- **calls_6_mnth**: Records the number of times the client reached out over a call in the past six months.\n",
    "- **logons_6_mnth**: Reflects the frequency with which the client logged onto Vanguard’s platform over the last six months.\n"
   ]
  },
  {
   "cell_type": "code",
   "execution_count": 76,
   "metadata": {},
   "outputs": [
    {
     "name": "stdout",
     "output_type": "stream",
     "text": [
      "The autoreload extension is already loaded. To reload it, use:\n",
      "  %reload_ext autoreload\n"
     ]
    }
   ],
   "source": [
    "%load_ext autoreload\n",
    "%autoreload 2 "
   ]
  },
  {
   "cell_type": "code",
   "execution_count": 77,
   "metadata": {},
   "outputs": [],
   "source": [
    "from cleaning import *\n",
    "from mining import *\n",
    "from db_handling import *\n",
    "from analysis import *\n",
    "import pandas as pd\n",
    "from dotenv import load_dotenv\n",
    "import os\n",
    "import seaborn as sns\n",
    "import matplotlib.pyplot as plt\n",
    "from statsmodels.stats.proportion import proportions_ztest"
   ]
  },
  {
   "cell_type": "code",
   "execution_count": 78,
   "metadata": {},
   "outputs": [
    {
     "data": {
      "text/plain": [
       "True"
      ]
     },
     "execution_count": 78,
     "metadata": {},
     "output_type": "execute_result"
    }
   ],
   "source": [
    "# Load environment variables\n",
    "load_dotenv()"
   ]
  },
  {
   "cell_type": "markdown",
   "metadata": {},
   "source": [
    "### Load Configuration"
   ]
  },
  {
   "cell_type": "code",
   "execution_count": 79,
   "metadata": {},
   "outputs": [
    {
     "name": "stdout",
     "output_type": "stream",
     "text": [
      "{'database_name': 'vanguard_ab', 'refresh_db': False, 'tables': {'clients': {'sources': [{'path': 'data/df_final_demo.txt', 'url': 'https://raw.githubusercontent.com/data-bootcamp-v4/lessons/refs/heads/main/5_6_eda_inf_stats_tableau/project/files_for_project/df_final_demo.txt'}], 'separator': ',', 'dropna': True, 'columns': {'client_id': {'original_name': 'client_id', 'data_type': 'INTEGER', 'primary_key': True, 'pandas_dtype': 'int64'}, 'client_since_month': {'original_name': 'clnt_tenure_mnth', 'data_type': 'FLOAT', 'pandas_dtype': 'int64'}, 'client_since_year': {'original_name': 'clnt_tenure_yr', 'data_type': 'FLOAT', 'pandas_dtype': 'int64'}, 'client_age': {'original_name': 'clnt_age', 'data_type': 'FLOAT', 'pandas_dtype': 'int64'}, 'gender': {'original_name': 'gendr', 'data_type': 'CHAR(1)', 'pandas_dtype': 'category', 'valid_categories': ['U', 'M', 'F'], 'fallback_category': 'U'}, 'number_of_accounts': {'original_name': 'num_accts', 'data_type': 'FLOAT', 'pandas_dtype': 'int64'}, 'balance': {'original_name': 'bal', 'data_type': 'FLOAT', 'pandas_dtype': 'float64'}, 'calls_6_months': {'original_name': 'calls_6_mnth', 'data_type': 'FLOAT', 'pandas_dtype': 'int64'}, 'logons_6_month': {'original_name': 'logons_6_mnth', 'data_type': 'FLOAT', 'pandas_dtype': 'int64'}}}, 'experiment': {'dropna': 'other strat', 'sources': [{'path': 'data/df_final_experiment_clients.txt', 'url': 'https://raw.githubusercontent.com/data-bootcamp-v4/lessons/refs/heads/main/5_6_eda_inf_stats_tableau/project/files_for_project/df_final_experiment_clients.txt'}], 'columns': {'client_id': {'original_name': 'client_id', 'data_type': 'INTEGER', 'primary_key': True, 'pandas_dtype': 'int64'}, 'variation': {'original_name': 'Variation', 'data_type': 'VARCHAR(20)', 'pandas_dtype': 'category', 'valid_categories': ['Test', 'Control']}}}, 'visits': {'dropna': False, 'sources': [{'path': 'data/df_final_web_data_pt_1.txt', 'url': 'https://raw.githubusercontent.com/data-bootcamp-v4/lessons/refs/heads/main/5_6_eda_inf_stats_tableau/project/files_for_project/df_final_web_data_pt_1.txt'}, {'path': 'data/df_final_web_data_pt_2.txt', 'url': 'https://raw.githubusercontent.com/data-bootcamp-v4/lessons/refs/heads/main/5_6_eda_inf_stats_tableau/project/files_for_project/df_final_web_data_pt_2.txt'}], 'columns': {'client_id': {'original_name': 'client_id', 'data_type': 'INTEGER', 'pandas_dtype': 'int64'}, 'visitor_id': {'original_name': 'visitor_id', 'data_type': 'VARCHAR(50)', 'pandas_dtype': 'object'}, 'visit_id': {'original_name': 'visit_id', 'data_type': 'VARCHAR(50)', 'pandas_dtype': 'object'}, 'process_step': {'original_name': 'process_step', 'data_type': 'VARCHAR(10)', 'pandas_dtype': 'category', 'valid_categories': ['start', 'step_1', 'step_2', 'step_3', 'confirm']}, 'date_time': {'original_name': 'date_time', 'data_type': 'DATETIME', 'pandas_dtype': 'datetime64[ns]'}}}}}\n"
     ]
    }
   ],
   "source": [
    "# Load config.yaml\n",
    "config = parse_config()"
   ]
  },
  {
   "cell_type": "markdown",
   "metadata": {},
   "source": [
    "## Data Mining"
   ]
  },
  {
   "cell_type": "code",
   "execution_count": 80,
   "metadata": {},
   "outputs": [],
   "source": [
    "# Creates a dictionary of all imported dataframes\n",
    "dataframes = { name:import_data_from_config(config, name) for name in config['tables']}"
   ]
  },
  {
   "cell_type": "markdown",
   "metadata": {},
   "source": [
    "## Data Cleaning"
   ]
  },
  {
   "cell_type": "code",
   "execution_count": 81,
   "metadata": {},
   "outputs": [],
   "source": [
    "# Rename columns\n",
    "dataframes = rename_columns(dataframes, config)"
   ]
  },
  {
   "cell_type": "code",
   "execution_count": 82,
   "metadata": {},
   "outputs": [],
   "source": [
    "# Select columns\n",
    "dataframes = select_columns(dataframes, config)"
   ]
  },
  {
   "cell_type": "code",
   "execution_count": 83,
   "metadata": {},
   "outputs": [
    {
     "name": "stdout",
     "output_type": "stream",
     "text": [
      "clients:\n",
      "clients - Head:\n"
     ]
    },
    {
     "data": {
      "text/html": [
       "<div>\n",
       "<style scoped>\n",
       "    .dataframe tbody tr th:only-of-type {\n",
       "        vertical-align: middle;\n",
       "    }\n",
       "\n",
       "    .dataframe tbody tr th {\n",
       "        vertical-align: top;\n",
       "    }\n",
       "\n",
       "    .dataframe thead th {\n",
       "        text-align: right;\n",
       "    }\n",
       "</style>\n",
       "<table border=\"1\" class=\"dataframe\">\n",
       "  <thead>\n",
       "    <tr style=\"text-align: right;\">\n",
       "      <th></th>\n",
       "      <th>client_id</th>\n",
       "      <th>client_since_month</th>\n",
       "      <th>client_since_year</th>\n",
       "      <th>client_age</th>\n",
       "      <th>gender</th>\n",
       "      <th>number_of_accounts</th>\n",
       "      <th>balance</th>\n",
       "      <th>calls_6_months</th>\n",
       "      <th>logons_6_month</th>\n",
       "    </tr>\n",
       "  </thead>\n",
       "  <tbody>\n",
       "    <tr>\n",
       "      <th>0</th>\n",
       "      <td>836976</td>\n",
       "      <td>73.0</td>\n",
       "      <td>6.0</td>\n",
       "      <td>60.5</td>\n",
       "      <td>U</td>\n",
       "      <td>2.0</td>\n",
       "      <td>45105.30</td>\n",
       "      <td>6.0</td>\n",
       "      <td>9.0</td>\n",
       "    </tr>\n",
       "    <tr>\n",
       "      <th>1</th>\n",
       "      <td>2304905</td>\n",
       "      <td>94.0</td>\n",
       "      <td>7.0</td>\n",
       "      <td>58.0</td>\n",
       "      <td>U</td>\n",
       "      <td>2.0</td>\n",
       "      <td>110860.30</td>\n",
       "      <td>6.0</td>\n",
       "      <td>9.0</td>\n",
       "    </tr>\n",
       "    <tr>\n",
       "      <th>2</th>\n",
       "      <td>1439522</td>\n",
       "      <td>64.0</td>\n",
       "      <td>5.0</td>\n",
       "      <td>32.0</td>\n",
       "      <td>U</td>\n",
       "      <td>2.0</td>\n",
       "      <td>52467.79</td>\n",
       "      <td>6.0</td>\n",
       "      <td>9.0</td>\n",
       "    </tr>\n",
       "    <tr>\n",
       "      <th>3</th>\n",
       "      <td>1562045</td>\n",
       "      <td>198.0</td>\n",
       "      <td>16.0</td>\n",
       "      <td>49.0</td>\n",
       "      <td>M</td>\n",
       "      <td>2.0</td>\n",
       "      <td>67454.65</td>\n",
       "      <td>3.0</td>\n",
       "      <td>6.0</td>\n",
       "    </tr>\n",
       "    <tr>\n",
       "      <th>4</th>\n",
       "      <td>5126305</td>\n",
       "      <td>145.0</td>\n",
       "      <td>12.0</td>\n",
       "      <td>33.0</td>\n",
       "      <td>F</td>\n",
       "      <td>2.0</td>\n",
       "      <td>103671.75</td>\n",
       "      <td>0.0</td>\n",
       "      <td>3.0</td>\n",
       "    </tr>\n",
       "  </tbody>\n",
       "</table>\n",
       "</div>"
      ],
      "text/plain": [
       "   client_id  client_since_month  client_since_year  client_age gender  \\\n",
       "0     836976                73.0                6.0        60.5      U   \n",
       "1    2304905                94.0                7.0        58.0      U   \n",
       "2    1439522                64.0                5.0        32.0      U   \n",
       "3    1562045               198.0               16.0        49.0      M   \n",
       "4    5126305               145.0               12.0        33.0      F   \n",
       "\n",
       "   number_of_accounts    balance  calls_6_months  logons_6_month  \n",
       "0                 2.0   45105.30             6.0             9.0  \n",
       "1                 2.0  110860.30             6.0             9.0  \n",
       "2                 2.0   52467.79             6.0             9.0  \n",
       "3                 2.0   67454.65             3.0             6.0  \n",
       "4                 2.0  103671.75             0.0             3.0  "
      ]
     },
     "metadata": {},
     "output_type": "display_data"
    },
    {
     "name": "stdout",
     "output_type": "stream",
     "text": [
      "clients - Shape:\n"
     ]
    },
    {
     "data": {
      "text/plain": [
       "(70609, 9)"
      ]
     },
     "metadata": {},
     "output_type": "display_data"
    },
    {
     "name": "stdout",
     "output_type": "stream",
     "text": [
      "clients - Describe:\n"
     ]
    },
    {
     "data": {
      "text/html": [
       "<div>\n",
       "<style scoped>\n",
       "    .dataframe tbody tr th:only-of-type {\n",
       "        vertical-align: middle;\n",
       "    }\n",
       "\n",
       "    .dataframe tbody tr th {\n",
       "        vertical-align: top;\n",
       "    }\n",
       "\n",
       "    .dataframe thead th {\n",
       "        text-align: right;\n",
       "    }\n",
       "</style>\n",
       "<table border=\"1\" class=\"dataframe\">\n",
       "  <thead>\n",
       "    <tr style=\"text-align: right;\">\n",
       "      <th></th>\n",
       "      <th>client_id</th>\n",
       "      <th>client_since_month</th>\n",
       "      <th>client_since_year</th>\n",
       "      <th>client_age</th>\n",
       "      <th>gender</th>\n",
       "      <th>number_of_accounts</th>\n",
       "      <th>balance</th>\n",
       "      <th>calls_6_months</th>\n",
       "      <th>logons_6_month</th>\n",
       "    </tr>\n",
       "  </thead>\n",
       "  <tbody>\n",
       "    <tr>\n",
       "      <th>count</th>\n",
       "      <td>7.060900e+04</td>\n",
       "      <td>70595.000000</td>\n",
       "      <td>70595.000000</td>\n",
       "      <td>70594.000000</td>\n",
       "      <td>70595</td>\n",
       "      <td>70595.000000</td>\n",
       "      <td>7.059500e+04</td>\n",
       "      <td>70595.000000</td>\n",
       "      <td>70595.000000</td>\n",
       "    </tr>\n",
       "    <tr>\n",
       "      <th>unique</th>\n",
       "      <td>NaN</td>\n",
       "      <td>NaN</td>\n",
       "      <td>NaN</td>\n",
       "      <td>NaN</td>\n",
       "      <td>4</td>\n",
       "      <td>NaN</td>\n",
       "      <td>NaN</td>\n",
       "      <td>NaN</td>\n",
       "      <td>NaN</td>\n",
       "    </tr>\n",
       "    <tr>\n",
       "      <th>top</th>\n",
       "      <td>NaN</td>\n",
       "      <td>NaN</td>\n",
       "      <td>NaN</td>\n",
       "      <td>NaN</td>\n",
       "      <td>U</td>\n",
       "      <td>NaN</td>\n",
       "      <td>NaN</td>\n",
       "      <td>NaN</td>\n",
       "      <td>NaN</td>\n",
       "    </tr>\n",
       "    <tr>\n",
       "      <th>freq</th>\n",
       "      <td>NaN</td>\n",
       "      <td>NaN</td>\n",
       "      <td>NaN</td>\n",
       "      <td>NaN</td>\n",
       "      <td>24122</td>\n",
       "      <td>NaN</td>\n",
       "      <td>NaN</td>\n",
       "      <td>NaN</td>\n",
       "      <td>NaN</td>\n",
       "    </tr>\n",
       "    <tr>\n",
       "      <th>mean</th>\n",
       "      <td>5.004992e+06</td>\n",
       "      <td>150.659367</td>\n",
       "      <td>12.052950</td>\n",
       "      <td>46.442240</td>\n",
       "      <td>NaN</td>\n",
       "      <td>2.255528</td>\n",
       "      <td>1.474452e+05</td>\n",
       "      <td>3.382478</td>\n",
       "      <td>5.566740</td>\n",
       "    </tr>\n",
       "    <tr>\n",
       "      <th>std</th>\n",
       "      <td>2.877278e+06</td>\n",
       "      <td>82.089854</td>\n",
       "      <td>6.871819</td>\n",
       "      <td>15.591273</td>\n",
       "      <td>NaN</td>\n",
       "      <td>0.534997</td>\n",
       "      <td>3.015087e+05</td>\n",
       "      <td>2.236580</td>\n",
       "      <td>2.353286</td>\n",
       "    </tr>\n",
       "    <tr>\n",
       "      <th>min</th>\n",
       "      <td>1.690000e+02</td>\n",
       "      <td>33.000000</td>\n",
       "      <td>2.000000</td>\n",
       "      <td>13.500000</td>\n",
       "      <td>NaN</td>\n",
       "      <td>1.000000</td>\n",
       "      <td>1.378942e+04</td>\n",
       "      <td>0.000000</td>\n",
       "      <td>1.000000</td>\n",
       "    </tr>\n",
       "    <tr>\n",
       "      <th>25%</th>\n",
       "      <td>2.519329e+06</td>\n",
       "      <td>82.000000</td>\n",
       "      <td>6.000000</td>\n",
       "      <td>32.500000</td>\n",
       "      <td>NaN</td>\n",
       "      <td>2.000000</td>\n",
       "      <td>3.734683e+04</td>\n",
       "      <td>1.000000</td>\n",
       "      <td>4.000000</td>\n",
       "    </tr>\n",
       "    <tr>\n",
       "      <th>50%</th>\n",
       "      <td>5.016978e+06</td>\n",
       "      <td>136.000000</td>\n",
       "      <td>11.000000</td>\n",
       "      <td>47.000000</td>\n",
       "      <td>NaN</td>\n",
       "      <td>2.000000</td>\n",
       "      <td>6.333290e+04</td>\n",
       "      <td>3.000000</td>\n",
       "      <td>5.000000</td>\n",
       "    </tr>\n",
       "    <tr>\n",
       "      <th>75%</th>\n",
       "      <td>7.483085e+06</td>\n",
       "      <td>192.000000</td>\n",
       "      <td>16.000000</td>\n",
       "      <td>59.000000</td>\n",
       "      <td>NaN</td>\n",
       "      <td>2.000000</td>\n",
       "      <td>1.375449e+05</td>\n",
       "      <td>6.000000</td>\n",
       "      <td>7.000000</td>\n",
       "    </tr>\n",
       "    <tr>\n",
       "      <th>max</th>\n",
       "      <td>9.999839e+06</td>\n",
       "      <td>749.000000</td>\n",
       "      <td>62.000000</td>\n",
       "      <td>96.000000</td>\n",
       "      <td>NaN</td>\n",
       "      <td>8.000000</td>\n",
       "      <td>1.632004e+07</td>\n",
       "      <td>7.000000</td>\n",
       "      <td>9.000000</td>\n",
       "    </tr>\n",
       "  </tbody>\n",
       "</table>\n",
       "</div>"
      ],
      "text/plain": [
       "           client_id  client_since_month  client_since_year    client_age  \\\n",
       "count   7.060900e+04        70595.000000       70595.000000  70594.000000   \n",
       "unique           NaN                 NaN                NaN           NaN   \n",
       "top              NaN                 NaN                NaN           NaN   \n",
       "freq             NaN                 NaN                NaN           NaN   \n",
       "mean    5.004992e+06          150.659367          12.052950     46.442240   \n",
       "std     2.877278e+06           82.089854           6.871819     15.591273   \n",
       "min     1.690000e+02           33.000000           2.000000     13.500000   \n",
       "25%     2.519329e+06           82.000000           6.000000     32.500000   \n",
       "50%     5.016978e+06          136.000000          11.000000     47.000000   \n",
       "75%     7.483085e+06          192.000000          16.000000     59.000000   \n",
       "max     9.999839e+06          749.000000          62.000000     96.000000   \n",
       "\n",
       "       gender  number_of_accounts       balance  calls_6_months  \\\n",
       "count   70595        70595.000000  7.059500e+04    70595.000000   \n",
       "unique      4                 NaN           NaN             NaN   \n",
       "top         U                 NaN           NaN             NaN   \n",
       "freq    24122                 NaN           NaN             NaN   \n",
       "mean      NaN            2.255528  1.474452e+05        3.382478   \n",
       "std       NaN            0.534997  3.015087e+05        2.236580   \n",
       "min       NaN            1.000000  1.378942e+04        0.000000   \n",
       "25%       NaN            2.000000  3.734683e+04        1.000000   \n",
       "50%       NaN            2.000000  6.333290e+04        3.000000   \n",
       "75%       NaN            2.000000  1.375449e+05        6.000000   \n",
       "max       NaN            8.000000  1.632004e+07        7.000000   \n",
       "\n",
       "        logons_6_month  \n",
       "count     70595.000000  \n",
       "unique             NaN  \n",
       "top                NaN  \n",
       "freq               NaN  \n",
       "mean          5.566740  \n",
       "std           2.353286  \n",
       "min           1.000000  \n",
       "25%           4.000000  \n",
       "50%           5.000000  \n",
       "75%           7.000000  \n",
       "max           9.000000  "
      ]
     },
     "metadata": {},
     "output_type": "display_data"
    },
    {
     "name": "stdout",
     "output_type": "stream",
     "text": [
      "experiment:\n",
      "experiment - Head:\n"
     ]
    },
    {
     "data": {
      "text/html": [
       "<div>\n",
       "<style scoped>\n",
       "    .dataframe tbody tr th:only-of-type {\n",
       "        vertical-align: middle;\n",
       "    }\n",
       "\n",
       "    .dataframe tbody tr th {\n",
       "        vertical-align: top;\n",
       "    }\n",
       "\n",
       "    .dataframe thead th {\n",
       "        text-align: right;\n",
       "    }\n",
       "</style>\n",
       "<table border=\"1\" class=\"dataframe\">\n",
       "  <thead>\n",
       "    <tr style=\"text-align: right;\">\n",
       "      <th></th>\n",
       "      <th>client_id</th>\n",
       "      <th>variation</th>\n",
       "    </tr>\n",
       "  </thead>\n",
       "  <tbody>\n",
       "    <tr>\n",
       "      <th>0</th>\n",
       "      <td>9988021</td>\n",
       "      <td>Test</td>\n",
       "    </tr>\n",
       "    <tr>\n",
       "      <th>1</th>\n",
       "      <td>8320017</td>\n",
       "      <td>Test</td>\n",
       "    </tr>\n",
       "    <tr>\n",
       "      <th>2</th>\n",
       "      <td>4033851</td>\n",
       "      <td>Control</td>\n",
       "    </tr>\n",
       "    <tr>\n",
       "      <th>3</th>\n",
       "      <td>1982004</td>\n",
       "      <td>Test</td>\n",
       "    </tr>\n",
       "    <tr>\n",
       "      <th>4</th>\n",
       "      <td>9294070</td>\n",
       "      <td>Control</td>\n",
       "    </tr>\n",
       "  </tbody>\n",
       "</table>\n",
       "</div>"
      ],
      "text/plain": [
       "   client_id variation\n",
       "0    9988021      Test\n",
       "1    8320017      Test\n",
       "2    4033851   Control\n",
       "3    1982004      Test\n",
       "4    9294070   Control"
      ]
     },
     "metadata": {},
     "output_type": "display_data"
    },
    {
     "name": "stdout",
     "output_type": "stream",
     "text": [
      "experiment - Shape:\n"
     ]
    },
    {
     "data": {
      "text/plain": [
       "(70609, 2)"
      ]
     },
     "metadata": {},
     "output_type": "display_data"
    },
    {
     "name": "stdout",
     "output_type": "stream",
     "text": [
      "experiment - Describe:\n"
     ]
    },
    {
     "data": {
      "text/html": [
       "<div>\n",
       "<style scoped>\n",
       "    .dataframe tbody tr th:only-of-type {\n",
       "        vertical-align: middle;\n",
       "    }\n",
       "\n",
       "    .dataframe tbody tr th {\n",
       "        vertical-align: top;\n",
       "    }\n",
       "\n",
       "    .dataframe thead th {\n",
       "        text-align: right;\n",
       "    }\n",
       "</style>\n",
       "<table border=\"1\" class=\"dataframe\">\n",
       "  <thead>\n",
       "    <tr style=\"text-align: right;\">\n",
       "      <th></th>\n",
       "      <th>client_id</th>\n",
       "      <th>variation</th>\n",
       "    </tr>\n",
       "  </thead>\n",
       "  <tbody>\n",
       "    <tr>\n",
       "      <th>count</th>\n",
       "      <td>7.060900e+04</td>\n",
       "      <td>50500</td>\n",
       "    </tr>\n",
       "    <tr>\n",
       "      <th>unique</th>\n",
       "      <td>NaN</td>\n",
       "      <td>2</td>\n",
       "    </tr>\n",
       "    <tr>\n",
       "      <th>top</th>\n",
       "      <td>NaN</td>\n",
       "      <td>Test</td>\n",
       "    </tr>\n",
       "    <tr>\n",
       "      <th>freq</th>\n",
       "      <td>NaN</td>\n",
       "      <td>26968</td>\n",
       "    </tr>\n",
       "    <tr>\n",
       "      <th>mean</th>\n",
       "      <td>5.004992e+06</td>\n",
       "      <td>NaN</td>\n",
       "    </tr>\n",
       "    <tr>\n",
       "      <th>std</th>\n",
       "      <td>2.877278e+06</td>\n",
       "      <td>NaN</td>\n",
       "    </tr>\n",
       "    <tr>\n",
       "      <th>min</th>\n",
       "      <td>1.690000e+02</td>\n",
       "      <td>NaN</td>\n",
       "    </tr>\n",
       "    <tr>\n",
       "      <th>25%</th>\n",
       "      <td>2.519329e+06</td>\n",
       "      <td>NaN</td>\n",
       "    </tr>\n",
       "    <tr>\n",
       "      <th>50%</th>\n",
       "      <td>5.016978e+06</td>\n",
       "      <td>NaN</td>\n",
       "    </tr>\n",
       "    <tr>\n",
       "      <th>75%</th>\n",
       "      <td>7.483085e+06</td>\n",
       "      <td>NaN</td>\n",
       "    </tr>\n",
       "    <tr>\n",
       "      <th>max</th>\n",
       "      <td>9.999839e+06</td>\n",
       "      <td>NaN</td>\n",
       "    </tr>\n",
       "  </tbody>\n",
       "</table>\n",
       "</div>"
      ],
      "text/plain": [
       "           client_id variation\n",
       "count   7.060900e+04     50500\n",
       "unique           NaN         2\n",
       "top              NaN      Test\n",
       "freq             NaN     26968\n",
       "mean    5.004992e+06       NaN\n",
       "std     2.877278e+06       NaN\n",
       "min     1.690000e+02       NaN\n",
       "25%     2.519329e+06       NaN\n",
       "50%     5.016978e+06       NaN\n",
       "75%     7.483085e+06       NaN\n",
       "max     9.999839e+06       NaN"
      ]
     },
     "metadata": {},
     "output_type": "display_data"
    },
    {
     "name": "stdout",
     "output_type": "stream",
     "text": [
      "visits:\n",
      "visits - Head:\n"
     ]
    },
    {
     "data": {
      "text/html": [
       "<div>\n",
       "<style scoped>\n",
       "    .dataframe tbody tr th:only-of-type {\n",
       "        vertical-align: middle;\n",
       "    }\n",
       "\n",
       "    .dataframe tbody tr th {\n",
       "        vertical-align: top;\n",
       "    }\n",
       "\n",
       "    .dataframe thead th {\n",
       "        text-align: right;\n",
       "    }\n",
       "</style>\n",
       "<table border=\"1\" class=\"dataframe\">\n",
       "  <thead>\n",
       "    <tr style=\"text-align: right;\">\n",
       "      <th></th>\n",
       "      <th>client_id</th>\n",
       "      <th>visitor_id</th>\n",
       "      <th>visit_id</th>\n",
       "      <th>process_step</th>\n",
       "      <th>date_time</th>\n",
       "    </tr>\n",
       "  </thead>\n",
       "  <tbody>\n",
       "    <tr>\n",
       "      <th>0</th>\n",
       "      <td>9988021</td>\n",
       "      <td>580560515_7732621733</td>\n",
       "      <td>781255054_21935453173_531117</td>\n",
       "      <td>step_3</td>\n",
       "      <td>2017-04-17 15:27:07</td>\n",
       "    </tr>\n",
       "    <tr>\n",
       "      <th>1</th>\n",
       "      <td>9988021</td>\n",
       "      <td>580560515_7732621733</td>\n",
       "      <td>781255054_21935453173_531117</td>\n",
       "      <td>step_2</td>\n",
       "      <td>2017-04-17 15:26:51</td>\n",
       "    </tr>\n",
       "    <tr>\n",
       "      <th>2</th>\n",
       "      <td>9988021</td>\n",
       "      <td>580560515_7732621733</td>\n",
       "      <td>781255054_21935453173_531117</td>\n",
       "      <td>step_3</td>\n",
       "      <td>2017-04-17 15:19:22</td>\n",
       "    </tr>\n",
       "    <tr>\n",
       "      <th>3</th>\n",
       "      <td>9988021</td>\n",
       "      <td>580560515_7732621733</td>\n",
       "      <td>781255054_21935453173_531117</td>\n",
       "      <td>step_2</td>\n",
       "      <td>2017-04-17 15:19:13</td>\n",
       "    </tr>\n",
       "    <tr>\n",
       "      <th>4</th>\n",
       "      <td>9988021</td>\n",
       "      <td>580560515_7732621733</td>\n",
       "      <td>781255054_21935453173_531117</td>\n",
       "      <td>step_3</td>\n",
       "      <td>2017-04-17 15:18:04</td>\n",
       "    </tr>\n",
       "  </tbody>\n",
       "</table>\n",
       "</div>"
      ],
      "text/plain": [
       "   client_id            visitor_id                      visit_id process_step  \\\n",
       "0    9988021  580560515_7732621733  781255054_21935453173_531117       step_3   \n",
       "1    9988021  580560515_7732621733  781255054_21935453173_531117       step_2   \n",
       "2    9988021  580560515_7732621733  781255054_21935453173_531117       step_3   \n",
       "3    9988021  580560515_7732621733  781255054_21935453173_531117       step_2   \n",
       "4    9988021  580560515_7732621733  781255054_21935453173_531117       step_3   \n",
       "\n",
       "             date_time  \n",
       "0  2017-04-17 15:27:07  \n",
       "1  2017-04-17 15:26:51  \n",
       "2  2017-04-17 15:19:22  \n",
       "3  2017-04-17 15:19:13  \n",
       "4  2017-04-17 15:18:04  "
      ]
     },
     "metadata": {},
     "output_type": "display_data"
    },
    {
     "name": "stdout",
     "output_type": "stream",
     "text": [
      "visits - Shape:\n"
     ]
    },
    {
     "data": {
      "text/plain": [
       "(755405, 5)"
      ]
     },
     "metadata": {},
     "output_type": "display_data"
    },
    {
     "name": "stdout",
     "output_type": "stream",
     "text": [
      "visits - Describe:\n"
     ]
    },
    {
     "data": {
      "text/html": [
       "<div>\n",
       "<style scoped>\n",
       "    .dataframe tbody tr th:only-of-type {\n",
       "        vertical-align: middle;\n",
       "    }\n",
       "\n",
       "    .dataframe tbody tr th {\n",
       "        vertical-align: top;\n",
       "    }\n",
       "\n",
       "    .dataframe thead th {\n",
       "        text-align: right;\n",
       "    }\n",
       "</style>\n",
       "<table border=\"1\" class=\"dataframe\">\n",
       "  <thead>\n",
       "    <tr style=\"text-align: right;\">\n",
       "      <th></th>\n",
       "      <th>client_id</th>\n",
       "      <th>visitor_id</th>\n",
       "      <th>visit_id</th>\n",
       "      <th>process_step</th>\n",
       "      <th>date_time</th>\n",
       "    </tr>\n",
       "  </thead>\n",
       "  <tbody>\n",
       "    <tr>\n",
       "      <th>count</th>\n",
       "      <td>7.554050e+05</td>\n",
       "      <td>755405</td>\n",
       "      <td>755405</td>\n",
       "      <td>755405</td>\n",
       "      <td>755405</td>\n",
       "    </tr>\n",
       "    <tr>\n",
       "      <th>unique</th>\n",
       "      <td>NaN</td>\n",
       "      <td>130236</td>\n",
       "      <td>158095</td>\n",
       "      <td>5</td>\n",
       "      <td>629363</td>\n",
       "    </tr>\n",
       "    <tr>\n",
       "      <th>top</th>\n",
       "      <td>NaN</td>\n",
       "      <td>722943003_3441581446</td>\n",
       "      <td>875138661_34710212496_881092</td>\n",
       "      <td>start</td>\n",
       "      <td>2017-05-02 10:07:41</td>\n",
       "    </tr>\n",
       "    <tr>\n",
       "      <th>freq</th>\n",
       "      <td>NaN</td>\n",
       "      <td>104</td>\n",
       "      <td>104</td>\n",
       "      <td>243945</td>\n",
       "      <td>24</td>\n",
       "    </tr>\n",
       "    <tr>\n",
       "      <th>mean</th>\n",
       "      <td>5.013632e+06</td>\n",
       "      <td>NaN</td>\n",
       "      <td>NaN</td>\n",
       "      <td>NaN</td>\n",
       "      <td>NaN</td>\n",
       "    </tr>\n",
       "    <tr>\n",
       "      <th>std</th>\n",
       "      <td>2.879152e+06</td>\n",
       "      <td>NaN</td>\n",
       "      <td>NaN</td>\n",
       "      <td>NaN</td>\n",
       "      <td>NaN</td>\n",
       "    </tr>\n",
       "    <tr>\n",
       "      <th>min</th>\n",
       "      <td>1.690000e+02</td>\n",
       "      <td>NaN</td>\n",
       "      <td>NaN</td>\n",
       "      <td>NaN</td>\n",
       "      <td>NaN</td>\n",
       "    </tr>\n",
       "    <tr>\n",
       "      <th>25%</th>\n",
       "      <td>2.519882e+06</td>\n",
       "      <td>NaN</td>\n",
       "      <td>NaN</td>\n",
       "      <td>NaN</td>\n",
       "      <td>NaN</td>\n",
       "    </tr>\n",
       "    <tr>\n",
       "      <th>50%</th>\n",
       "      <td>5.033441e+06</td>\n",
       "      <td>NaN</td>\n",
       "      <td>NaN</td>\n",
       "      <td>NaN</td>\n",
       "      <td>NaN</td>\n",
       "    </tr>\n",
       "    <tr>\n",
       "      <th>75%</th>\n",
       "      <td>7.496063e+06</td>\n",
       "      <td>NaN</td>\n",
       "      <td>NaN</td>\n",
       "      <td>NaN</td>\n",
       "      <td>NaN</td>\n",
       "    </tr>\n",
       "    <tr>\n",
       "      <th>max</th>\n",
       "      <td>9.999875e+06</td>\n",
       "      <td>NaN</td>\n",
       "      <td>NaN</td>\n",
       "      <td>NaN</td>\n",
       "      <td>NaN</td>\n",
       "    </tr>\n",
       "  </tbody>\n",
       "</table>\n",
       "</div>"
      ],
      "text/plain": [
       "           client_id            visitor_id                      visit_id  \\\n",
       "count   7.554050e+05                755405                        755405   \n",
       "unique           NaN                130236                        158095   \n",
       "top              NaN  722943003_3441581446  875138661_34710212496_881092   \n",
       "freq             NaN                   104                           104   \n",
       "mean    5.013632e+06                   NaN                           NaN   \n",
       "std     2.879152e+06                   NaN                           NaN   \n",
       "min     1.690000e+02                   NaN                           NaN   \n",
       "25%     2.519882e+06                   NaN                           NaN   \n",
       "50%     5.033441e+06                   NaN                           NaN   \n",
       "75%     7.496063e+06                   NaN                           NaN   \n",
       "max     9.999875e+06                   NaN                           NaN   \n",
       "\n",
       "       process_step            date_time  \n",
       "count        755405               755405  \n",
       "unique            5               629363  \n",
       "top           start  2017-05-02 10:07:41  \n",
       "freq         243945                   24  \n",
       "mean            NaN                  NaN  \n",
       "std             NaN                  NaN  \n",
       "min             NaN                  NaN  \n",
       "25%             NaN                  NaN  \n",
       "50%             NaN                  NaN  \n",
       "75%             NaN                  NaN  \n",
       "max             NaN                  NaN  "
      ]
     },
     "metadata": {},
     "output_type": "display_data"
    }
   ],
   "source": [
    "display_dataFrames(dataframes,'head','shape','describe')"
   ]
  },
  {
   "cell_type": "markdown",
   "metadata": {},
   "source": [
    "### Separation"
   ]
  },
  {
   "cell_type": "code",
   "execution_count": 84,
   "metadata": {},
   "outputs": [
    {
     "data": {
      "text/html": [
       "<div>\n",
       "<style scoped>\n",
       "    .dataframe tbody tr th:only-of-type {\n",
       "        vertical-align: middle;\n",
       "    }\n",
       "\n",
       "    .dataframe tbody tr th {\n",
       "        vertical-align: top;\n",
       "    }\n",
       "\n",
       "    .dataframe thead th {\n",
       "        text-align: right;\n",
       "    }\n",
       "</style>\n",
       "<table border=\"1\" class=\"dataframe\">\n",
       "  <thead>\n",
       "    <tr style=\"text-align: right;\">\n",
       "      <th></th>\n",
       "      <th>client_id</th>\n",
       "      <th>client_since_month</th>\n",
       "      <th>client_since_year</th>\n",
       "      <th>client_age</th>\n",
       "      <th>gender</th>\n",
       "      <th>number_of_accounts</th>\n",
       "      <th>balance</th>\n",
       "      <th>calls_6_months</th>\n",
       "      <th>logons_6_month</th>\n",
       "    </tr>\n",
       "  </thead>\n",
       "  <tbody>\n",
       "    <tr>\n",
       "      <th>0</th>\n",
       "      <td>836976</td>\n",
       "      <td>73.0</td>\n",
       "      <td>6.0</td>\n",
       "      <td>60.5</td>\n",
       "      <td>U</td>\n",
       "      <td>2.0</td>\n",
       "      <td>45105.30</td>\n",
       "      <td>6.0</td>\n",
       "      <td>9.0</td>\n",
       "    </tr>\n",
       "    <tr>\n",
       "      <th>1</th>\n",
       "      <td>2304905</td>\n",
       "      <td>94.0</td>\n",
       "      <td>7.0</td>\n",
       "      <td>58.0</td>\n",
       "      <td>U</td>\n",
       "      <td>2.0</td>\n",
       "      <td>110860.30</td>\n",
       "      <td>6.0</td>\n",
       "      <td>9.0</td>\n",
       "    </tr>\n",
       "    <tr>\n",
       "      <th>2</th>\n",
       "      <td>1439522</td>\n",
       "      <td>64.0</td>\n",
       "      <td>5.0</td>\n",
       "      <td>32.0</td>\n",
       "      <td>U</td>\n",
       "      <td>2.0</td>\n",
       "      <td>52467.79</td>\n",
       "      <td>6.0</td>\n",
       "      <td>9.0</td>\n",
       "    </tr>\n",
       "    <tr>\n",
       "      <th>3</th>\n",
       "      <td>1562045</td>\n",
       "      <td>198.0</td>\n",
       "      <td>16.0</td>\n",
       "      <td>49.0</td>\n",
       "      <td>M</td>\n",
       "      <td>2.0</td>\n",
       "      <td>67454.65</td>\n",
       "      <td>3.0</td>\n",
       "      <td>6.0</td>\n",
       "    </tr>\n",
       "    <tr>\n",
       "      <th>4</th>\n",
       "      <td>5126305</td>\n",
       "      <td>145.0</td>\n",
       "      <td>12.0</td>\n",
       "      <td>33.0</td>\n",
       "      <td>F</td>\n",
       "      <td>2.0</td>\n",
       "      <td>103671.75</td>\n",
       "      <td>0.0</td>\n",
       "      <td>3.0</td>\n",
       "    </tr>\n",
       "    <tr>\n",
       "      <th>...</th>\n",
       "      <td>...</td>\n",
       "      <td>...</td>\n",
       "      <td>...</td>\n",
       "      <td>...</td>\n",
       "      <td>...</td>\n",
       "      <td>...</td>\n",
       "      <td>...</td>\n",
       "      <td>...</td>\n",
       "      <td>...</td>\n",
       "    </tr>\n",
       "    <tr>\n",
       "      <th>70604</th>\n",
       "      <td>7993686</td>\n",
       "      <td>56.0</td>\n",
       "      <td>4.0</td>\n",
       "      <td>38.5</td>\n",
       "      <td>U</td>\n",
       "      <td>3.0</td>\n",
       "      <td>1411062.68</td>\n",
       "      <td>5.0</td>\n",
       "      <td>5.0</td>\n",
       "    </tr>\n",
       "    <tr>\n",
       "      <th>70605</th>\n",
       "      <td>8981690</td>\n",
       "      <td>148.0</td>\n",
       "      <td>12.0</td>\n",
       "      <td>31.0</td>\n",
       "      <td>M</td>\n",
       "      <td>2.0</td>\n",
       "      <td>101867.07</td>\n",
       "      <td>6.0</td>\n",
       "      <td>6.0</td>\n",
       "    </tr>\n",
       "    <tr>\n",
       "      <th>70606</th>\n",
       "      <td>333913</td>\n",
       "      <td>198.0</td>\n",
       "      <td>16.0</td>\n",
       "      <td>61.5</td>\n",
       "      <td>F</td>\n",
       "      <td>2.0</td>\n",
       "      <td>40745.00</td>\n",
       "      <td>3.0</td>\n",
       "      <td>3.0</td>\n",
       "    </tr>\n",
       "    <tr>\n",
       "      <th>70607</th>\n",
       "      <td>1573142</td>\n",
       "      <td>255.0</td>\n",
       "      <td>21.0</td>\n",
       "      <td>68.0</td>\n",
       "      <td>M</td>\n",
       "      <td>3.0</td>\n",
       "      <td>475114.69</td>\n",
       "      <td>4.0</td>\n",
       "      <td>4.0</td>\n",
       "    </tr>\n",
       "    <tr>\n",
       "      <th>70608</th>\n",
       "      <td>5602139</td>\n",
       "      <td>254.0</td>\n",
       "      <td>21.0</td>\n",
       "      <td>59.5</td>\n",
       "      <td>F</td>\n",
       "      <td>3.0</td>\n",
       "      <td>157498.73</td>\n",
       "      <td>7.0</td>\n",
       "      <td>7.0</td>\n",
       "    </tr>\n",
       "  </tbody>\n",
       "</table>\n",
       "<p>70609 rows × 9 columns</p>\n",
       "</div>"
      ],
      "text/plain": [
       "       client_id  client_since_month  client_since_year  client_age gender  \\\n",
       "0         836976                73.0                6.0        60.5      U   \n",
       "1        2304905                94.0                7.0        58.0      U   \n",
       "2        1439522                64.0                5.0        32.0      U   \n",
       "3        1562045               198.0               16.0        49.0      M   \n",
       "4        5126305               145.0               12.0        33.0      F   \n",
       "...          ...                 ...                ...         ...    ...   \n",
       "70604    7993686                56.0                4.0        38.5      U   \n",
       "70605    8981690               148.0               12.0        31.0      M   \n",
       "70606     333913               198.0               16.0        61.5      F   \n",
       "70607    1573142               255.0               21.0        68.0      M   \n",
       "70608    5602139               254.0               21.0        59.5      F   \n",
       "\n",
       "       number_of_accounts     balance  calls_6_months  logons_6_month  \n",
       "0                     2.0    45105.30             6.0             9.0  \n",
       "1                     2.0   110860.30             6.0             9.0  \n",
       "2                     2.0    52467.79             6.0             9.0  \n",
       "3                     2.0    67454.65             3.0             6.0  \n",
       "4                     2.0   103671.75             0.0             3.0  \n",
       "...                   ...         ...             ...             ...  \n",
       "70604                 3.0  1411062.68             5.0             5.0  \n",
       "70605                 2.0   101867.07             6.0             6.0  \n",
       "70606                 2.0    40745.00             3.0             3.0  \n",
       "70607                 3.0   475114.69             4.0             4.0  \n",
       "70608                 3.0   157498.73             7.0             7.0  \n",
       "\n",
       "[70609 rows x 9 columns]"
      ]
     },
     "metadata": {},
     "output_type": "display_data"
    },
    {
     "data": {
      "text/html": [
       "<div>\n",
       "<style scoped>\n",
       "    .dataframe tbody tr th:only-of-type {\n",
       "        vertical-align: middle;\n",
       "    }\n",
       "\n",
       "    .dataframe tbody tr th {\n",
       "        vertical-align: top;\n",
       "    }\n",
       "\n",
       "    .dataframe thead th {\n",
       "        text-align: right;\n",
       "    }\n",
       "</style>\n",
       "<table border=\"1\" class=\"dataframe\">\n",
       "  <thead>\n",
       "    <tr style=\"text-align: right;\">\n",
       "      <th></th>\n",
       "      <th>client_id</th>\n",
       "      <th>variation</th>\n",
       "    </tr>\n",
       "  </thead>\n",
       "  <tbody>\n",
       "    <tr>\n",
       "      <th>0</th>\n",
       "      <td>9988021</td>\n",
       "      <td>Test</td>\n",
       "    </tr>\n",
       "    <tr>\n",
       "      <th>1</th>\n",
       "      <td>8320017</td>\n",
       "      <td>Test</td>\n",
       "    </tr>\n",
       "    <tr>\n",
       "      <th>2</th>\n",
       "      <td>4033851</td>\n",
       "      <td>Control</td>\n",
       "    </tr>\n",
       "    <tr>\n",
       "      <th>3</th>\n",
       "      <td>1982004</td>\n",
       "      <td>Test</td>\n",
       "    </tr>\n",
       "    <tr>\n",
       "      <th>4</th>\n",
       "      <td>9294070</td>\n",
       "      <td>Control</td>\n",
       "    </tr>\n",
       "    <tr>\n",
       "      <th>...</th>\n",
       "      <td>...</td>\n",
       "      <td>...</td>\n",
       "    </tr>\n",
       "    <tr>\n",
       "      <th>70604</th>\n",
       "      <td>2443347</td>\n",
       "      <td>NaN</td>\n",
       "    </tr>\n",
       "    <tr>\n",
       "      <th>70605</th>\n",
       "      <td>8788427</td>\n",
       "      <td>NaN</td>\n",
       "    </tr>\n",
       "    <tr>\n",
       "      <th>70606</th>\n",
       "      <td>266828</td>\n",
       "      <td>NaN</td>\n",
       "    </tr>\n",
       "    <tr>\n",
       "      <th>70607</th>\n",
       "      <td>1266421</td>\n",
       "      <td>NaN</td>\n",
       "    </tr>\n",
       "    <tr>\n",
       "      <th>70608</th>\n",
       "      <td>9895983</td>\n",
       "      <td>NaN</td>\n",
       "    </tr>\n",
       "  </tbody>\n",
       "</table>\n",
       "<p>70609 rows × 2 columns</p>\n",
       "</div>"
      ],
      "text/plain": [
       "       client_id variation\n",
       "0        9988021      Test\n",
       "1        8320017      Test\n",
       "2        4033851   Control\n",
       "3        1982004      Test\n",
       "4        9294070   Control\n",
       "...          ...       ...\n",
       "70604    2443347       NaN\n",
       "70605    8788427       NaN\n",
       "70606     266828       NaN\n",
       "70607    1266421       NaN\n",
       "70608    9895983       NaN\n",
       "\n",
       "[70609 rows x 2 columns]"
      ]
     },
     "metadata": {},
     "output_type": "display_data"
    },
    {
     "data": {
      "text/html": [
       "<div>\n",
       "<style scoped>\n",
       "    .dataframe tbody tr th:only-of-type {\n",
       "        vertical-align: middle;\n",
       "    }\n",
       "\n",
       "    .dataframe tbody tr th {\n",
       "        vertical-align: top;\n",
       "    }\n",
       "\n",
       "    .dataframe thead th {\n",
       "        text-align: right;\n",
       "    }\n",
       "</style>\n",
       "<table border=\"1\" class=\"dataframe\">\n",
       "  <thead>\n",
       "    <tr style=\"text-align: right;\">\n",
       "      <th></th>\n",
       "      <th>client_id</th>\n",
       "      <th>visitor_id</th>\n",
       "      <th>visit_id</th>\n",
       "      <th>process_step</th>\n",
       "      <th>date_time</th>\n",
       "    </tr>\n",
       "  </thead>\n",
       "  <tbody>\n",
       "    <tr>\n",
       "      <th>0</th>\n",
       "      <td>9988021</td>\n",
       "      <td>580560515_7732621733</td>\n",
       "      <td>781255054_21935453173_531117</td>\n",
       "      <td>step_3</td>\n",
       "      <td>2017-04-17 15:27:07</td>\n",
       "    </tr>\n",
       "    <tr>\n",
       "      <th>1</th>\n",
       "      <td>9988021</td>\n",
       "      <td>580560515_7732621733</td>\n",
       "      <td>781255054_21935453173_531117</td>\n",
       "      <td>step_2</td>\n",
       "      <td>2017-04-17 15:26:51</td>\n",
       "    </tr>\n",
       "    <tr>\n",
       "      <th>2</th>\n",
       "      <td>9988021</td>\n",
       "      <td>580560515_7732621733</td>\n",
       "      <td>781255054_21935453173_531117</td>\n",
       "      <td>step_3</td>\n",
       "      <td>2017-04-17 15:19:22</td>\n",
       "    </tr>\n",
       "    <tr>\n",
       "      <th>3</th>\n",
       "      <td>9988021</td>\n",
       "      <td>580560515_7732621733</td>\n",
       "      <td>781255054_21935453173_531117</td>\n",
       "      <td>step_2</td>\n",
       "      <td>2017-04-17 15:19:13</td>\n",
       "    </tr>\n",
       "    <tr>\n",
       "      <th>4</th>\n",
       "      <td>9988021</td>\n",
       "      <td>580560515_7732621733</td>\n",
       "      <td>781255054_21935453173_531117</td>\n",
       "      <td>step_3</td>\n",
       "      <td>2017-04-17 15:18:04</td>\n",
       "    </tr>\n",
       "    <tr>\n",
       "      <th>...</th>\n",
       "      <td>...</td>\n",
       "      <td>...</td>\n",
       "      <td>...</td>\n",
       "      <td>...</td>\n",
       "      <td>...</td>\n",
       "    </tr>\n",
       "    <tr>\n",
       "      <th>755400</th>\n",
       "      <td>9668240</td>\n",
       "      <td>388766751_9038881013</td>\n",
       "      <td>922267647_3096648104_968866</td>\n",
       "      <td>start</td>\n",
       "      <td>2017-05-24 18:46:10</td>\n",
       "    </tr>\n",
       "    <tr>\n",
       "      <th>755401</th>\n",
       "      <td>9668240</td>\n",
       "      <td>388766751_9038881013</td>\n",
       "      <td>922267647_3096648104_968866</td>\n",
       "      <td>start</td>\n",
       "      <td>2017-05-24 18:45:29</td>\n",
       "    </tr>\n",
       "    <tr>\n",
       "      <th>755402</th>\n",
       "      <td>9668240</td>\n",
       "      <td>388766751_9038881013</td>\n",
       "      <td>922267647_3096648104_968866</td>\n",
       "      <td>step_1</td>\n",
       "      <td>2017-05-24 18:44:51</td>\n",
       "    </tr>\n",
       "    <tr>\n",
       "      <th>755403</th>\n",
       "      <td>9668240</td>\n",
       "      <td>388766751_9038881013</td>\n",
       "      <td>922267647_3096648104_968866</td>\n",
       "      <td>start</td>\n",
       "      <td>2017-05-24 18:44:34</td>\n",
       "    </tr>\n",
       "    <tr>\n",
       "      <th>755404</th>\n",
       "      <td>674799</td>\n",
       "      <td>947159805_81558194550</td>\n",
       "      <td>86152093_47511127657_716022</td>\n",
       "      <td>start</td>\n",
       "      <td>2017-06-03 12:17:09</td>\n",
       "    </tr>\n",
       "  </tbody>\n",
       "</table>\n",
       "<p>755405 rows × 5 columns</p>\n",
       "</div>"
      ],
      "text/plain": [
       "        client_id             visitor_id                      visit_id  \\\n",
       "0         9988021   580560515_7732621733  781255054_21935453173_531117   \n",
       "1         9988021   580560515_7732621733  781255054_21935453173_531117   \n",
       "2         9988021   580560515_7732621733  781255054_21935453173_531117   \n",
       "3         9988021   580560515_7732621733  781255054_21935453173_531117   \n",
       "4         9988021   580560515_7732621733  781255054_21935453173_531117   \n",
       "...           ...                    ...                           ...   \n",
       "755400    9668240   388766751_9038881013   922267647_3096648104_968866   \n",
       "755401    9668240   388766751_9038881013   922267647_3096648104_968866   \n",
       "755402    9668240   388766751_9038881013   922267647_3096648104_968866   \n",
       "755403    9668240   388766751_9038881013   922267647_3096648104_968866   \n",
       "755404     674799  947159805_81558194550   86152093_47511127657_716022   \n",
       "\n",
       "       process_step            date_time  \n",
       "0            step_3  2017-04-17 15:27:07  \n",
       "1            step_2  2017-04-17 15:26:51  \n",
       "2            step_3  2017-04-17 15:19:22  \n",
       "3            step_2  2017-04-17 15:19:13  \n",
       "4            step_3  2017-04-17 15:18:04  \n",
       "...             ...                  ...  \n",
       "755400        start  2017-05-24 18:46:10  \n",
       "755401        start  2017-05-24 18:45:29  \n",
       "755402       step_1  2017-05-24 18:44:51  \n",
       "755403        start  2017-05-24 18:44:34  \n",
       "755404        start  2017-06-03 12:17:09  \n",
       "\n",
       "[755405 rows x 5 columns]"
      ]
     },
     "metadata": {},
     "output_type": "display_data"
    }
   ],
   "source": [
    "client_df = dataframes['clients']\n",
    "experiment_df = dataframes['experiment']\n",
    "visits_df = dataframes['visits']\n",
    "display (client_df, experiment_df, visits_df)"
   ]
  },
  {
   "cell_type": "code",
   "execution_count": 85,
   "metadata": {},
   "outputs": [
    {
     "data": {
      "text/html": [
       "<div>\n",
       "<style scoped>\n",
       "    .dataframe tbody tr th:only-of-type {\n",
       "        vertical-align: middle;\n",
       "    }\n",
       "\n",
       "    .dataframe tbody tr th {\n",
       "        vertical-align: top;\n",
       "    }\n",
       "\n",
       "    .dataframe thead th {\n",
       "        text-align: right;\n",
       "    }\n",
       "</style>\n",
       "<table border=\"1\" class=\"dataframe\">\n",
       "  <thead>\n",
       "    <tr style=\"text-align: right;\">\n",
       "      <th></th>\n",
       "      <th>client_id</th>\n",
       "      <th>visitor_id</th>\n",
       "      <th>visit_id</th>\n",
       "      <th>process_step</th>\n",
       "      <th>date_time</th>\n",
       "    </tr>\n",
       "  </thead>\n",
       "  <tbody>\n",
       "    <tr>\n",
       "      <th>count</th>\n",
       "      <td>7.554050e+05</td>\n",
       "      <td>755405</td>\n",
       "      <td>755405</td>\n",
       "      <td>755405</td>\n",
       "      <td>755405</td>\n",
       "    </tr>\n",
       "    <tr>\n",
       "      <th>unique</th>\n",
       "      <td>NaN</td>\n",
       "      <td>130236</td>\n",
       "      <td>158095</td>\n",
       "      <td>5</td>\n",
       "      <td>629363</td>\n",
       "    </tr>\n",
       "    <tr>\n",
       "      <th>top</th>\n",
       "      <td>NaN</td>\n",
       "      <td>722943003_3441581446</td>\n",
       "      <td>875138661_34710212496_881092</td>\n",
       "      <td>start</td>\n",
       "      <td>2017-05-02 10:07:41</td>\n",
       "    </tr>\n",
       "    <tr>\n",
       "      <th>freq</th>\n",
       "      <td>NaN</td>\n",
       "      <td>104</td>\n",
       "      <td>104</td>\n",
       "      <td>243945</td>\n",
       "      <td>24</td>\n",
       "    </tr>\n",
       "    <tr>\n",
       "      <th>mean</th>\n",
       "      <td>5.013632e+06</td>\n",
       "      <td>NaN</td>\n",
       "      <td>NaN</td>\n",
       "      <td>NaN</td>\n",
       "      <td>NaN</td>\n",
       "    </tr>\n",
       "    <tr>\n",
       "      <th>std</th>\n",
       "      <td>2.879152e+06</td>\n",
       "      <td>NaN</td>\n",
       "      <td>NaN</td>\n",
       "      <td>NaN</td>\n",
       "      <td>NaN</td>\n",
       "    </tr>\n",
       "    <tr>\n",
       "      <th>min</th>\n",
       "      <td>1.690000e+02</td>\n",
       "      <td>NaN</td>\n",
       "      <td>NaN</td>\n",
       "      <td>NaN</td>\n",
       "      <td>NaN</td>\n",
       "    </tr>\n",
       "    <tr>\n",
       "      <th>25%</th>\n",
       "      <td>2.519882e+06</td>\n",
       "      <td>NaN</td>\n",
       "      <td>NaN</td>\n",
       "      <td>NaN</td>\n",
       "      <td>NaN</td>\n",
       "    </tr>\n",
       "    <tr>\n",
       "      <th>50%</th>\n",
       "      <td>5.033441e+06</td>\n",
       "      <td>NaN</td>\n",
       "      <td>NaN</td>\n",
       "      <td>NaN</td>\n",
       "      <td>NaN</td>\n",
       "    </tr>\n",
       "    <tr>\n",
       "      <th>75%</th>\n",
       "      <td>7.496063e+06</td>\n",
       "      <td>NaN</td>\n",
       "      <td>NaN</td>\n",
       "      <td>NaN</td>\n",
       "      <td>NaN</td>\n",
       "    </tr>\n",
       "    <tr>\n",
       "      <th>max</th>\n",
       "      <td>9.999875e+06</td>\n",
       "      <td>NaN</td>\n",
       "      <td>NaN</td>\n",
       "      <td>NaN</td>\n",
       "      <td>NaN</td>\n",
       "    </tr>\n",
       "  </tbody>\n",
       "</table>\n",
       "</div>"
      ],
      "text/plain": [
       "           client_id            visitor_id                      visit_id  \\\n",
       "count   7.554050e+05                755405                        755405   \n",
       "unique           NaN                130236                        158095   \n",
       "top              NaN  722943003_3441581446  875138661_34710212496_881092   \n",
       "freq             NaN                   104                           104   \n",
       "mean    5.013632e+06                   NaN                           NaN   \n",
       "std     2.879152e+06                   NaN                           NaN   \n",
       "min     1.690000e+02                   NaN                           NaN   \n",
       "25%     2.519882e+06                   NaN                           NaN   \n",
       "50%     5.033441e+06                   NaN                           NaN   \n",
       "75%     7.496063e+06                   NaN                           NaN   \n",
       "max     9.999875e+06                   NaN                           NaN   \n",
       "\n",
       "       process_step            date_time  \n",
       "count        755405               755405  \n",
       "unique            5               629363  \n",
       "top           start  2017-05-02 10:07:41  \n",
       "freq         243945                   24  \n",
       "mean            NaN                  NaN  \n",
       "std             NaN                  NaN  \n",
       "min             NaN                  NaN  \n",
       "25%             NaN                  NaN  \n",
       "50%             NaN                  NaN  \n",
       "75%             NaN                  NaN  \n",
       "max             NaN                  NaN  "
      ]
     },
     "metadata": {},
     "output_type": "display_data"
    }
   ],
   "source": [
    "display(visits_df.describe(include='all'))"
   ]
  },
  {
   "cell_type": "code",
   "execution_count": 86,
   "metadata": {},
   "outputs": [
    {
     "data": {
      "text/plain": [
       "[{'step': 'Raw data', 'count': 120157}]"
      ]
     },
     "metadata": {},
     "output_type": "display_data"
    }
   ],
   "source": [
    "cleaning = [{\"step\" : \"Raw data\", \"count\" : visits_df['client_id'].nunique()}]\n",
    "\n",
    "display(cleaning)"
   ]
  },
  {
   "cell_type": "code",
   "execution_count": 87,
   "metadata": {},
   "outputs": [
    {
     "data": {
      "text/plain": [
       "4164     7402828\n",
       "8316      355337\n",
       "8677     8412164\n",
       "9583     4666211\n",
       "13444    2222915\n",
       "18066    4876926\n",
       "25961    5277910\n",
       "28432    7616759\n",
       "35323    8191345\n",
       "43518    1227228\n",
       "46076    8611797\n",
       "47189    5144725\n",
       "49846    1037867\n",
       "63701    1618749\n",
       "66219    6021001\n",
       "Name: client_id, dtype: int64"
      ]
     },
     "execution_count": 87,
     "metadata": {},
     "output_type": "execute_result"
    }
   ],
   "source": [
    "# drop the nulls from clients, but keep the list of the drops\n",
    "\n",
    "nulls_client_id = client_df[client_df.isna().any(axis=1)]['client_id']\n",
    "nulls_client_id"
   ]
  },
  {
   "cell_type": "code",
   "execution_count": 88,
   "metadata": {},
   "outputs": [
    {
     "data": {
      "text/html": [
       "<div>\n",
       "<style scoped>\n",
       "    .dataframe tbody tr th:only-of-type {\n",
       "        vertical-align: middle;\n",
       "    }\n",
       "\n",
       "    .dataframe tbody tr th {\n",
       "        vertical-align: top;\n",
       "    }\n",
       "\n",
       "    .dataframe thead th {\n",
       "        text-align: right;\n",
       "    }\n",
       "</style>\n",
       "<table border=\"1\" class=\"dataframe\">\n",
       "  <thead>\n",
       "    <tr style=\"text-align: right;\">\n",
       "      <th></th>\n",
       "      <th>client_id</th>\n",
       "      <th>client_since_month</th>\n",
       "      <th>client_since_year</th>\n",
       "      <th>client_age</th>\n",
       "      <th>gender</th>\n",
       "      <th>number_of_accounts</th>\n",
       "      <th>balance</th>\n",
       "      <th>calls_6_months</th>\n",
       "      <th>logons_6_month</th>\n",
       "    </tr>\n",
       "  </thead>\n",
       "  <tbody>\n",
       "    <tr>\n",
       "      <th>0</th>\n",
       "      <td>836976</td>\n",
       "      <td>73.0</td>\n",
       "      <td>6.0</td>\n",
       "      <td>60.5</td>\n",
       "      <td>U</td>\n",
       "      <td>2.0</td>\n",
       "      <td>45105.30</td>\n",
       "      <td>6.0</td>\n",
       "      <td>9.0</td>\n",
       "    </tr>\n",
       "    <tr>\n",
       "      <th>1</th>\n",
       "      <td>2304905</td>\n",
       "      <td>94.0</td>\n",
       "      <td>7.0</td>\n",
       "      <td>58.0</td>\n",
       "      <td>U</td>\n",
       "      <td>2.0</td>\n",
       "      <td>110860.30</td>\n",
       "      <td>6.0</td>\n",
       "      <td>9.0</td>\n",
       "    </tr>\n",
       "    <tr>\n",
       "      <th>2</th>\n",
       "      <td>1439522</td>\n",
       "      <td>64.0</td>\n",
       "      <td>5.0</td>\n",
       "      <td>32.0</td>\n",
       "      <td>U</td>\n",
       "      <td>2.0</td>\n",
       "      <td>52467.79</td>\n",
       "      <td>6.0</td>\n",
       "      <td>9.0</td>\n",
       "    </tr>\n",
       "    <tr>\n",
       "      <th>3</th>\n",
       "      <td>1562045</td>\n",
       "      <td>198.0</td>\n",
       "      <td>16.0</td>\n",
       "      <td>49.0</td>\n",
       "      <td>M</td>\n",
       "      <td>2.0</td>\n",
       "      <td>67454.65</td>\n",
       "      <td>3.0</td>\n",
       "      <td>6.0</td>\n",
       "    </tr>\n",
       "    <tr>\n",
       "      <th>4</th>\n",
       "      <td>5126305</td>\n",
       "      <td>145.0</td>\n",
       "      <td>12.0</td>\n",
       "      <td>33.0</td>\n",
       "      <td>F</td>\n",
       "      <td>2.0</td>\n",
       "      <td>103671.75</td>\n",
       "      <td>0.0</td>\n",
       "      <td>3.0</td>\n",
       "    </tr>\n",
       "    <tr>\n",
       "      <th>...</th>\n",
       "      <td>...</td>\n",
       "      <td>...</td>\n",
       "      <td>...</td>\n",
       "      <td>...</td>\n",
       "      <td>...</td>\n",
       "      <td>...</td>\n",
       "      <td>...</td>\n",
       "      <td>...</td>\n",
       "      <td>...</td>\n",
       "    </tr>\n",
       "    <tr>\n",
       "      <th>70604</th>\n",
       "      <td>7993686</td>\n",
       "      <td>56.0</td>\n",
       "      <td>4.0</td>\n",
       "      <td>38.5</td>\n",
       "      <td>U</td>\n",
       "      <td>3.0</td>\n",
       "      <td>1411062.68</td>\n",
       "      <td>5.0</td>\n",
       "      <td>5.0</td>\n",
       "    </tr>\n",
       "    <tr>\n",
       "      <th>70605</th>\n",
       "      <td>8981690</td>\n",
       "      <td>148.0</td>\n",
       "      <td>12.0</td>\n",
       "      <td>31.0</td>\n",
       "      <td>M</td>\n",
       "      <td>2.0</td>\n",
       "      <td>101867.07</td>\n",
       "      <td>6.0</td>\n",
       "      <td>6.0</td>\n",
       "    </tr>\n",
       "    <tr>\n",
       "      <th>70606</th>\n",
       "      <td>333913</td>\n",
       "      <td>198.0</td>\n",
       "      <td>16.0</td>\n",
       "      <td>61.5</td>\n",
       "      <td>F</td>\n",
       "      <td>2.0</td>\n",
       "      <td>40745.00</td>\n",
       "      <td>3.0</td>\n",
       "      <td>3.0</td>\n",
       "    </tr>\n",
       "    <tr>\n",
       "      <th>70607</th>\n",
       "      <td>1573142</td>\n",
       "      <td>255.0</td>\n",
       "      <td>21.0</td>\n",
       "      <td>68.0</td>\n",
       "      <td>M</td>\n",
       "      <td>3.0</td>\n",
       "      <td>475114.69</td>\n",
       "      <td>4.0</td>\n",
       "      <td>4.0</td>\n",
       "    </tr>\n",
       "    <tr>\n",
       "      <th>70608</th>\n",
       "      <td>5602139</td>\n",
       "      <td>254.0</td>\n",
       "      <td>21.0</td>\n",
       "      <td>59.5</td>\n",
       "      <td>F</td>\n",
       "      <td>3.0</td>\n",
       "      <td>157498.73</td>\n",
       "      <td>7.0</td>\n",
       "      <td>7.0</td>\n",
       "    </tr>\n",
       "  </tbody>\n",
       "</table>\n",
       "<p>70594 rows × 9 columns</p>\n",
       "</div>"
      ],
      "text/plain": [
       "       client_id  client_since_month  client_since_year  client_age gender  \\\n",
       "0         836976                73.0                6.0        60.5      U   \n",
       "1        2304905                94.0                7.0        58.0      U   \n",
       "2        1439522                64.0                5.0        32.0      U   \n",
       "3        1562045               198.0               16.0        49.0      M   \n",
       "4        5126305               145.0               12.0        33.0      F   \n",
       "...          ...                 ...                ...         ...    ...   \n",
       "70604    7993686                56.0                4.0        38.5      U   \n",
       "70605    8981690               148.0               12.0        31.0      M   \n",
       "70606     333913               198.0               16.0        61.5      F   \n",
       "70607    1573142               255.0               21.0        68.0      M   \n",
       "70608    5602139               254.0               21.0        59.5      F   \n",
       "\n",
       "       number_of_accounts     balance  calls_6_months  logons_6_month  \n",
       "0                     2.0    45105.30             6.0             9.0  \n",
       "1                     2.0   110860.30             6.0             9.0  \n",
       "2                     2.0    52467.79             6.0             9.0  \n",
       "3                     2.0    67454.65             3.0             6.0  \n",
       "4                     2.0   103671.75             0.0             3.0  \n",
       "...                   ...         ...             ...             ...  \n",
       "70604                 3.0  1411062.68             5.0             5.0  \n",
       "70605                 2.0   101867.07             6.0             6.0  \n",
       "70606                 2.0    40745.00             3.0             3.0  \n",
       "70607                 3.0   475114.69             4.0             4.0  \n",
       "70608                 3.0   157498.73             7.0             7.0  \n",
       "\n",
       "[70594 rows x 9 columns]"
      ]
     },
     "execution_count": 88,
     "metadata": {},
     "output_type": "execute_result"
    }
   ],
   "source": [
    "client_df = client_df.dropna(axis=0)\n",
    "client_df"
   ]
  },
  {
   "cell_type": "code",
   "execution_count": 89,
   "metadata": {},
   "outputs": [
    {
     "data": {
      "text/plain": [
       "variation\n",
       "Test       26968\n",
       "Control    23532\n",
       "NaN        20109\n",
       "Name: count, dtype: int64"
      ]
     },
     "metadata": {},
     "output_type": "display_data"
    }
   ],
   "source": [
    "display(experiment_df['variation'].value_counts(dropna = False))\n",
    "# keep NaN for general analysis of clients, but drop them from everywhere for test analysis"
   ]
  },
  {
   "cell_type": "code",
   "execution_count": 90,
   "metadata": {},
   "outputs": [
    {
     "data": {
      "text/plain": [
       "50500    5459747\n",
       "50501    8031000\n",
       "50502    1847030\n",
       "50503    9713157\n",
       "50504    7775828\n",
       "          ...   \n",
       "70604    2443347\n",
       "70605    8788427\n",
       "70606     266828\n",
       "70607    1266421\n",
       "70608    9895983\n",
       "Name: client_id, Length: 20109, dtype: int64"
      ]
     },
     "execution_count": 90,
     "metadata": {},
     "output_type": "execute_result"
    }
   ],
   "source": [
    "# client_df, experiment_df, visit_df -> for general analysis\n",
    "# new_client_df, new_experiment_df, new_visit_dfn -> for test/control analysis   experiment_df_null = \n",
    "nulls_in_experiment = experiment_df[experiment_df.isna().any(axis=1)]['client_id']\n",
    "nulls_in_experiment"
   ]
  },
  {
   "cell_type": "code",
   "execution_count": 91,
   "metadata": {},
   "outputs": [
    {
     "data": {
      "text/plain": [
       "client_id    70609\n",
       "variation    50500\n",
       "dtype: int64"
      ]
     },
     "metadata": {},
     "output_type": "display_data"
    },
    {
     "data": {
      "text/plain": [
       "client_id    50500\n",
       "variation    50500\n",
       "dtype: int64"
      ]
     },
     "metadata": {},
     "output_type": "display_data"
    },
    {
     "data": {
      "text/plain": [
       "client_id    50487\n",
       "variation    50487\n",
       "dtype: int64"
      ]
     },
     "metadata": {},
     "output_type": "display_data"
    },
    {
     "data": {
      "text/plain": [
       "client_id    0\n",
       "variation    0\n",
       "dtype: int64"
      ]
     },
     "metadata": {},
     "output_type": "display_data"
    }
   ],
   "source": [
    "# new df removing client ID that are null in experiment\n",
    "\n",
    "display(experiment_df.count())\n",
    "new_experiment_df = experiment_df[~experiment_df['client_id'].isin(nulls_in_experiment)]\n",
    "display(new_experiment_df.count())\n",
    "\n",
    "new_experiment_df = new_experiment_df[~new_experiment_df['client_id'].isin(nulls_client_id)]\n",
    "display(new_experiment_df.count())\n",
    "display(new_experiment_df.isna().sum())\n",
    "\n"
   ]
  },
  {
   "cell_type": "code",
   "execution_count": 92,
   "metadata": {},
   "outputs": [
    {
     "data": {
      "text/html": [
       "<div>\n",
       "<style scoped>\n",
       "    .dataframe tbody tr th:only-of-type {\n",
       "        vertical-align: middle;\n",
       "    }\n",
       "\n",
       "    .dataframe tbody tr th {\n",
       "        vertical-align: top;\n",
       "    }\n",
       "\n",
       "    .dataframe thead th {\n",
       "        text-align: right;\n",
       "    }\n",
       "</style>\n",
       "<table border=\"1\" class=\"dataframe\">\n",
       "  <thead>\n",
       "    <tr style=\"text-align: right;\">\n",
       "      <th></th>\n",
       "      <th>client_id</th>\n",
       "      <th>visitor_id</th>\n",
       "      <th>visit_id</th>\n",
       "      <th>process_step</th>\n",
       "      <th>date_time</th>\n",
       "    </tr>\n",
       "  </thead>\n",
       "  <tbody>\n",
       "    <tr>\n",
       "      <th>0</th>\n",
       "      <td>9988021</td>\n",
       "      <td>580560515_7732621733</td>\n",
       "      <td>781255054_21935453173_531117</td>\n",
       "      <td>step_3</td>\n",
       "      <td>2017-04-17 15:27:07</td>\n",
       "    </tr>\n",
       "    <tr>\n",
       "      <th>1</th>\n",
       "      <td>9988021</td>\n",
       "      <td>580560515_7732621733</td>\n",
       "      <td>781255054_21935453173_531117</td>\n",
       "      <td>step_2</td>\n",
       "      <td>2017-04-17 15:26:51</td>\n",
       "    </tr>\n",
       "    <tr>\n",
       "      <th>2</th>\n",
       "      <td>9988021</td>\n",
       "      <td>580560515_7732621733</td>\n",
       "      <td>781255054_21935453173_531117</td>\n",
       "      <td>step_3</td>\n",
       "      <td>2017-04-17 15:19:22</td>\n",
       "    </tr>\n",
       "    <tr>\n",
       "      <th>3</th>\n",
       "      <td>9988021</td>\n",
       "      <td>580560515_7732621733</td>\n",
       "      <td>781255054_21935453173_531117</td>\n",
       "      <td>step_2</td>\n",
       "      <td>2017-04-17 15:19:13</td>\n",
       "    </tr>\n",
       "    <tr>\n",
       "      <th>4</th>\n",
       "      <td>9988021</td>\n",
       "      <td>580560515_7732621733</td>\n",
       "      <td>781255054_21935453173_531117</td>\n",
       "      <td>step_3</td>\n",
       "      <td>2017-04-17 15:18:04</td>\n",
       "    </tr>\n",
       "    <tr>\n",
       "      <th>...</th>\n",
       "      <td>...</td>\n",
       "      <td>...</td>\n",
       "      <td>...</td>\n",
       "      <td>...</td>\n",
       "      <td>...</td>\n",
       "    </tr>\n",
       "    <tr>\n",
       "      <th>755400</th>\n",
       "      <td>9668240</td>\n",
       "      <td>388766751_9038881013</td>\n",
       "      <td>922267647_3096648104_968866</td>\n",
       "      <td>start</td>\n",
       "      <td>2017-05-24 18:46:10</td>\n",
       "    </tr>\n",
       "    <tr>\n",
       "      <th>755401</th>\n",
       "      <td>9668240</td>\n",
       "      <td>388766751_9038881013</td>\n",
       "      <td>922267647_3096648104_968866</td>\n",
       "      <td>start</td>\n",
       "      <td>2017-05-24 18:45:29</td>\n",
       "    </tr>\n",
       "    <tr>\n",
       "      <th>755402</th>\n",
       "      <td>9668240</td>\n",
       "      <td>388766751_9038881013</td>\n",
       "      <td>922267647_3096648104_968866</td>\n",
       "      <td>step_1</td>\n",
       "      <td>2017-05-24 18:44:51</td>\n",
       "    </tr>\n",
       "    <tr>\n",
       "      <th>755403</th>\n",
       "      <td>9668240</td>\n",
       "      <td>388766751_9038881013</td>\n",
       "      <td>922267647_3096648104_968866</td>\n",
       "      <td>start</td>\n",
       "      <td>2017-05-24 18:44:34</td>\n",
       "    </tr>\n",
       "    <tr>\n",
       "      <th>755404</th>\n",
       "      <td>674799</td>\n",
       "      <td>947159805_81558194550</td>\n",
       "      <td>86152093_47511127657_716022</td>\n",
       "      <td>start</td>\n",
       "      <td>2017-06-03 12:17:09</td>\n",
       "    </tr>\n",
       "  </tbody>\n",
       "</table>\n",
       "<p>755405 rows × 5 columns</p>\n",
       "</div>"
      ],
      "text/plain": [
       "        client_id             visitor_id                      visit_id  \\\n",
       "0         9988021   580560515_7732621733  781255054_21935453173_531117   \n",
       "1         9988021   580560515_7732621733  781255054_21935453173_531117   \n",
       "2         9988021   580560515_7732621733  781255054_21935453173_531117   \n",
       "3         9988021   580560515_7732621733  781255054_21935453173_531117   \n",
       "4         9988021   580560515_7732621733  781255054_21935453173_531117   \n",
       "...           ...                    ...                           ...   \n",
       "755400    9668240   388766751_9038881013   922267647_3096648104_968866   \n",
       "755401    9668240   388766751_9038881013   922267647_3096648104_968866   \n",
       "755402    9668240   388766751_9038881013   922267647_3096648104_968866   \n",
       "755403    9668240   388766751_9038881013   922267647_3096648104_968866   \n",
       "755404     674799  947159805_81558194550   86152093_47511127657_716022   \n",
       "\n",
       "       process_step            date_time  \n",
       "0            step_3  2017-04-17 15:27:07  \n",
       "1            step_2  2017-04-17 15:26:51  \n",
       "2            step_3  2017-04-17 15:19:22  \n",
       "3            step_2  2017-04-17 15:19:13  \n",
       "4            step_3  2017-04-17 15:18:04  \n",
       "...             ...                  ...  \n",
       "755400        start  2017-05-24 18:46:10  \n",
       "755401        start  2017-05-24 18:45:29  \n",
       "755402       step_1  2017-05-24 18:44:51  \n",
       "755403        start  2017-05-24 18:44:34  \n",
       "755404        start  2017-06-03 12:17:09  \n",
       "\n",
       "[755405 rows x 5 columns]"
      ]
     },
     "metadata": {},
     "output_type": "display_data"
    },
    {
     "data": {
      "text/html": [
       "<div>\n",
       "<style scoped>\n",
       "    .dataframe tbody tr th:only-of-type {\n",
       "        vertical-align: middle;\n",
       "    }\n",
       "\n",
       "    .dataframe tbody tr th {\n",
       "        vertical-align: top;\n",
       "    }\n",
       "\n",
       "    .dataframe thead th {\n",
       "        text-align: right;\n",
       "    }\n",
       "</style>\n",
       "<table border=\"1\" class=\"dataframe\">\n",
       "  <thead>\n",
       "    <tr style=\"text-align: right;\">\n",
       "      <th></th>\n",
       "      <th>client_id</th>\n",
       "      <th>visitor_id</th>\n",
       "      <th>visit_id</th>\n",
       "      <th>process_step</th>\n",
       "      <th>date_time</th>\n",
       "    </tr>\n",
       "  </thead>\n",
       "  <tbody>\n",
       "    <tr>\n",
       "      <th>0</th>\n",
       "      <td>9988021</td>\n",
       "      <td>580560515_7732621733</td>\n",
       "      <td>781255054_21935453173_531117</td>\n",
       "      <td>step_3</td>\n",
       "      <td>2017-04-17 15:27:07</td>\n",
       "    </tr>\n",
       "    <tr>\n",
       "      <th>1</th>\n",
       "      <td>9988021</td>\n",
       "      <td>580560515_7732621733</td>\n",
       "      <td>781255054_21935453173_531117</td>\n",
       "      <td>step_2</td>\n",
       "      <td>2017-04-17 15:26:51</td>\n",
       "    </tr>\n",
       "    <tr>\n",
       "      <th>2</th>\n",
       "      <td>9988021</td>\n",
       "      <td>580560515_7732621733</td>\n",
       "      <td>781255054_21935453173_531117</td>\n",
       "      <td>step_3</td>\n",
       "      <td>2017-04-17 15:19:22</td>\n",
       "    </tr>\n",
       "    <tr>\n",
       "      <th>3</th>\n",
       "      <td>9988021</td>\n",
       "      <td>580560515_7732621733</td>\n",
       "      <td>781255054_21935453173_531117</td>\n",
       "      <td>step_2</td>\n",
       "      <td>2017-04-17 15:19:13</td>\n",
       "    </tr>\n",
       "    <tr>\n",
       "      <th>4</th>\n",
       "      <td>9988021</td>\n",
       "      <td>580560515_7732621733</td>\n",
       "      <td>781255054_21935453173_531117</td>\n",
       "      <td>step_3</td>\n",
       "      <td>2017-04-17 15:18:04</td>\n",
       "    </tr>\n",
       "    <tr>\n",
       "      <th>...</th>\n",
       "      <td>...</td>\n",
       "      <td>...</td>\n",
       "      <td>...</td>\n",
       "      <td>...</td>\n",
       "      <td>...</td>\n",
       "    </tr>\n",
       "    <tr>\n",
       "      <th>755400</th>\n",
       "      <td>9668240</td>\n",
       "      <td>388766751_9038881013</td>\n",
       "      <td>922267647_3096648104_968866</td>\n",
       "      <td>start</td>\n",
       "      <td>2017-05-24 18:46:10</td>\n",
       "    </tr>\n",
       "    <tr>\n",
       "      <th>755401</th>\n",
       "      <td>9668240</td>\n",
       "      <td>388766751_9038881013</td>\n",
       "      <td>922267647_3096648104_968866</td>\n",
       "      <td>start</td>\n",
       "      <td>2017-05-24 18:45:29</td>\n",
       "    </tr>\n",
       "    <tr>\n",
       "      <th>755402</th>\n",
       "      <td>9668240</td>\n",
       "      <td>388766751_9038881013</td>\n",
       "      <td>922267647_3096648104_968866</td>\n",
       "      <td>step_1</td>\n",
       "      <td>2017-05-24 18:44:51</td>\n",
       "    </tr>\n",
       "    <tr>\n",
       "      <th>755403</th>\n",
       "      <td>9668240</td>\n",
       "      <td>388766751_9038881013</td>\n",
       "      <td>922267647_3096648104_968866</td>\n",
       "      <td>start</td>\n",
       "      <td>2017-05-24 18:44:34</td>\n",
       "    </tr>\n",
       "    <tr>\n",
       "      <th>755404</th>\n",
       "      <td>674799</td>\n",
       "      <td>947159805_81558194550</td>\n",
       "      <td>86152093_47511127657_716022</td>\n",
       "      <td>start</td>\n",
       "      <td>2017-06-03 12:17:09</td>\n",
       "    </tr>\n",
       "  </tbody>\n",
       "</table>\n",
       "<p>626883 rows × 5 columns</p>\n",
       "</div>"
      ],
      "text/plain": [
       "        client_id             visitor_id                      visit_id  \\\n",
       "0         9988021   580560515_7732621733  781255054_21935453173_531117   \n",
       "1         9988021   580560515_7732621733  781255054_21935453173_531117   \n",
       "2         9988021   580560515_7732621733  781255054_21935453173_531117   \n",
       "3         9988021   580560515_7732621733  781255054_21935453173_531117   \n",
       "4         9988021   580560515_7732621733  781255054_21935453173_531117   \n",
       "...           ...                    ...                           ...   \n",
       "755400    9668240   388766751_9038881013   922267647_3096648104_968866   \n",
       "755401    9668240   388766751_9038881013   922267647_3096648104_968866   \n",
       "755402    9668240   388766751_9038881013   922267647_3096648104_968866   \n",
       "755403    9668240   388766751_9038881013   922267647_3096648104_968866   \n",
       "755404     674799  947159805_81558194550   86152093_47511127657_716022   \n",
       "\n",
       "       process_step            date_time  \n",
       "0            step_3  2017-04-17 15:27:07  \n",
       "1            step_2  2017-04-17 15:26:51  \n",
       "2            step_3  2017-04-17 15:19:22  \n",
       "3            step_2  2017-04-17 15:19:13  \n",
       "4            step_3  2017-04-17 15:18:04  \n",
       "...             ...                  ...  \n",
       "755400        start  2017-05-24 18:46:10  \n",
       "755401        start  2017-05-24 18:45:29  \n",
       "755402       step_1  2017-05-24 18:44:51  \n",
       "755403        start  2017-05-24 18:44:34  \n",
       "755404        start  2017-06-03 12:17:09  \n",
       "\n",
       "[626883 rows x 5 columns]"
      ]
     },
     "metadata": {},
     "output_type": "display_data"
    },
    {
     "data": {
      "text/plain": [
       "client_id       0\n",
       "visitor_id      0\n",
       "visit_id        0\n",
       "process_step    0\n",
       "date_time       0\n",
       "dtype: int64"
      ]
     },
     "metadata": {},
     "output_type": "display_data"
    }
   ],
   "source": [
    "display(visits_df)\n",
    "new_visits_df = visits_df[~visits_df['client_id'].isin(nulls_in_experiment)]\n",
    "display(new_visits_df)\n",
    "display(new_visits_df.isna().sum())"
   ]
  },
  {
   "cell_type": "code",
   "execution_count": 93,
   "metadata": {},
   "outputs": [
    {
     "data": {
      "text/plain": [
       "[{'step': 'Raw data', 'count': 120157},\n",
       " {'step': 'Drop nulls', 'count': 100048}]"
      ]
     },
     "metadata": {},
     "output_type": "display_data"
    }
   ],
   "source": [
    "cleaning.append({\"step\" : \"Drop nulls\", \"count\" : new_visits_df['client_id'].nunique()})\n",
    "display(cleaning)"
   ]
  },
  {
   "cell_type": "code",
   "execution_count": 94,
   "metadata": {},
   "outputs": [
    {
     "data": {
      "text/html": [
       "<div>\n",
       "<style scoped>\n",
       "    .dataframe tbody tr th:only-of-type {\n",
       "        vertical-align: middle;\n",
       "    }\n",
       "\n",
       "    .dataframe tbody tr th {\n",
       "        vertical-align: top;\n",
       "    }\n",
       "\n",
       "    .dataframe thead th {\n",
       "        text-align: right;\n",
       "    }\n",
       "</style>\n",
       "<table border=\"1\" class=\"dataframe\">\n",
       "  <thead>\n",
       "    <tr style=\"text-align: right;\">\n",
       "      <th></th>\n",
       "      <th>client_id</th>\n",
       "      <th>client_since_month</th>\n",
       "      <th>client_since_year</th>\n",
       "      <th>client_age</th>\n",
       "      <th>gender</th>\n",
       "      <th>number_of_accounts</th>\n",
       "      <th>balance</th>\n",
       "      <th>calls_6_months</th>\n",
       "      <th>logons_6_month</th>\n",
       "    </tr>\n",
       "  </thead>\n",
       "  <tbody>\n",
       "    <tr>\n",
       "      <th>0</th>\n",
       "      <td>836976</td>\n",
       "      <td>73.0</td>\n",
       "      <td>6.0</td>\n",
       "      <td>60.5</td>\n",
       "      <td>U</td>\n",
       "      <td>2.0</td>\n",
       "      <td>45105.30</td>\n",
       "      <td>6.0</td>\n",
       "      <td>9.0</td>\n",
       "    </tr>\n",
       "    <tr>\n",
       "      <th>1</th>\n",
       "      <td>2304905</td>\n",
       "      <td>94.0</td>\n",
       "      <td>7.0</td>\n",
       "      <td>58.0</td>\n",
       "      <td>U</td>\n",
       "      <td>2.0</td>\n",
       "      <td>110860.30</td>\n",
       "      <td>6.0</td>\n",
       "      <td>9.0</td>\n",
       "    </tr>\n",
       "    <tr>\n",
       "      <th>2</th>\n",
       "      <td>1439522</td>\n",
       "      <td>64.0</td>\n",
       "      <td>5.0</td>\n",
       "      <td>32.0</td>\n",
       "      <td>U</td>\n",
       "      <td>2.0</td>\n",
       "      <td>52467.79</td>\n",
       "      <td>6.0</td>\n",
       "      <td>9.0</td>\n",
       "    </tr>\n",
       "    <tr>\n",
       "      <th>3</th>\n",
       "      <td>1562045</td>\n",
       "      <td>198.0</td>\n",
       "      <td>16.0</td>\n",
       "      <td>49.0</td>\n",
       "      <td>M</td>\n",
       "      <td>2.0</td>\n",
       "      <td>67454.65</td>\n",
       "      <td>3.0</td>\n",
       "      <td>6.0</td>\n",
       "    </tr>\n",
       "    <tr>\n",
       "      <th>4</th>\n",
       "      <td>5126305</td>\n",
       "      <td>145.0</td>\n",
       "      <td>12.0</td>\n",
       "      <td>33.0</td>\n",
       "      <td>F</td>\n",
       "      <td>2.0</td>\n",
       "      <td>103671.75</td>\n",
       "      <td>0.0</td>\n",
       "      <td>3.0</td>\n",
       "    </tr>\n",
       "    <tr>\n",
       "      <th>...</th>\n",
       "      <td>...</td>\n",
       "      <td>...</td>\n",
       "      <td>...</td>\n",
       "      <td>...</td>\n",
       "      <td>...</td>\n",
       "      <td>...</td>\n",
       "      <td>...</td>\n",
       "      <td>...</td>\n",
       "      <td>...</td>\n",
       "    </tr>\n",
       "    <tr>\n",
       "      <th>70604</th>\n",
       "      <td>7993686</td>\n",
       "      <td>56.0</td>\n",
       "      <td>4.0</td>\n",
       "      <td>38.5</td>\n",
       "      <td>U</td>\n",
       "      <td>3.0</td>\n",
       "      <td>1411062.68</td>\n",
       "      <td>5.0</td>\n",
       "      <td>5.0</td>\n",
       "    </tr>\n",
       "    <tr>\n",
       "      <th>70605</th>\n",
       "      <td>8981690</td>\n",
       "      <td>148.0</td>\n",
       "      <td>12.0</td>\n",
       "      <td>31.0</td>\n",
       "      <td>M</td>\n",
       "      <td>2.0</td>\n",
       "      <td>101867.07</td>\n",
       "      <td>6.0</td>\n",
       "      <td>6.0</td>\n",
       "    </tr>\n",
       "    <tr>\n",
       "      <th>70606</th>\n",
       "      <td>333913</td>\n",
       "      <td>198.0</td>\n",
       "      <td>16.0</td>\n",
       "      <td>61.5</td>\n",
       "      <td>F</td>\n",
       "      <td>2.0</td>\n",
       "      <td>40745.00</td>\n",
       "      <td>3.0</td>\n",
       "      <td>3.0</td>\n",
       "    </tr>\n",
       "    <tr>\n",
       "      <th>70607</th>\n",
       "      <td>1573142</td>\n",
       "      <td>255.0</td>\n",
       "      <td>21.0</td>\n",
       "      <td>68.0</td>\n",
       "      <td>M</td>\n",
       "      <td>3.0</td>\n",
       "      <td>475114.69</td>\n",
       "      <td>4.0</td>\n",
       "      <td>4.0</td>\n",
       "    </tr>\n",
       "    <tr>\n",
       "      <th>70608</th>\n",
       "      <td>5602139</td>\n",
       "      <td>254.0</td>\n",
       "      <td>21.0</td>\n",
       "      <td>59.5</td>\n",
       "      <td>F</td>\n",
       "      <td>3.0</td>\n",
       "      <td>157498.73</td>\n",
       "      <td>7.0</td>\n",
       "      <td>7.0</td>\n",
       "    </tr>\n",
       "  </tbody>\n",
       "</table>\n",
       "<p>70594 rows × 9 columns</p>\n",
       "</div>"
      ],
      "text/plain": [
       "       client_id  client_since_month  client_since_year  client_age gender  \\\n",
       "0         836976                73.0                6.0        60.5      U   \n",
       "1        2304905                94.0                7.0        58.0      U   \n",
       "2        1439522                64.0                5.0        32.0      U   \n",
       "3        1562045               198.0               16.0        49.0      M   \n",
       "4        5126305               145.0               12.0        33.0      F   \n",
       "...          ...                 ...                ...         ...    ...   \n",
       "70604    7993686                56.0                4.0        38.5      U   \n",
       "70605    8981690               148.0               12.0        31.0      M   \n",
       "70606     333913               198.0               16.0        61.5      F   \n",
       "70607    1573142               255.0               21.0        68.0      M   \n",
       "70608    5602139               254.0               21.0        59.5      F   \n",
       "\n",
       "       number_of_accounts     balance  calls_6_months  logons_6_month  \n",
       "0                     2.0    45105.30             6.0             9.0  \n",
       "1                     2.0   110860.30             6.0             9.0  \n",
       "2                     2.0    52467.79             6.0             9.0  \n",
       "3                     2.0    67454.65             3.0             6.0  \n",
       "4                     2.0   103671.75             0.0             3.0  \n",
       "...                   ...         ...             ...             ...  \n",
       "70604                 3.0  1411062.68             5.0             5.0  \n",
       "70605                 2.0   101867.07             6.0             6.0  \n",
       "70606                 2.0    40745.00             3.0             3.0  \n",
       "70607                 3.0   475114.69             4.0             4.0  \n",
       "70608                 3.0   157498.73             7.0             7.0  \n",
       "\n",
       "[70594 rows x 9 columns]"
      ]
     },
     "metadata": {},
     "output_type": "display_data"
    },
    {
     "data": {
      "text/html": [
       "<div>\n",
       "<style scoped>\n",
       "    .dataframe tbody tr th:only-of-type {\n",
       "        vertical-align: middle;\n",
       "    }\n",
       "\n",
       "    .dataframe tbody tr th {\n",
       "        vertical-align: top;\n",
       "    }\n",
       "\n",
       "    .dataframe thead th {\n",
       "        text-align: right;\n",
       "    }\n",
       "</style>\n",
       "<table border=\"1\" class=\"dataframe\">\n",
       "  <thead>\n",
       "    <tr style=\"text-align: right;\">\n",
       "      <th></th>\n",
       "      <th>client_id</th>\n",
       "      <th>client_since_month</th>\n",
       "      <th>client_since_year</th>\n",
       "      <th>client_age</th>\n",
       "      <th>gender</th>\n",
       "      <th>number_of_accounts</th>\n",
       "      <th>balance</th>\n",
       "      <th>calls_6_months</th>\n",
       "      <th>logons_6_month</th>\n",
       "    </tr>\n",
       "  </thead>\n",
       "  <tbody>\n",
       "    <tr>\n",
       "      <th>0</th>\n",
       "      <td>836976</td>\n",
       "      <td>73.0</td>\n",
       "      <td>6.0</td>\n",
       "      <td>60.5</td>\n",
       "      <td>U</td>\n",
       "      <td>2.0</td>\n",
       "      <td>45105.30</td>\n",
       "      <td>6.0</td>\n",
       "      <td>9.0</td>\n",
       "    </tr>\n",
       "    <tr>\n",
       "      <th>1</th>\n",
       "      <td>2304905</td>\n",
       "      <td>94.0</td>\n",
       "      <td>7.0</td>\n",
       "      <td>58.0</td>\n",
       "      <td>U</td>\n",
       "      <td>2.0</td>\n",
       "      <td>110860.30</td>\n",
       "      <td>6.0</td>\n",
       "      <td>9.0</td>\n",
       "    </tr>\n",
       "    <tr>\n",
       "      <th>2</th>\n",
       "      <td>1439522</td>\n",
       "      <td>64.0</td>\n",
       "      <td>5.0</td>\n",
       "      <td>32.0</td>\n",
       "      <td>U</td>\n",
       "      <td>2.0</td>\n",
       "      <td>52467.79</td>\n",
       "      <td>6.0</td>\n",
       "      <td>9.0</td>\n",
       "    </tr>\n",
       "    <tr>\n",
       "      <th>3</th>\n",
       "      <td>1562045</td>\n",
       "      <td>198.0</td>\n",
       "      <td>16.0</td>\n",
       "      <td>49.0</td>\n",
       "      <td>M</td>\n",
       "      <td>2.0</td>\n",
       "      <td>67454.65</td>\n",
       "      <td>3.0</td>\n",
       "      <td>6.0</td>\n",
       "    </tr>\n",
       "    <tr>\n",
       "      <th>4</th>\n",
       "      <td>5126305</td>\n",
       "      <td>145.0</td>\n",
       "      <td>12.0</td>\n",
       "      <td>33.0</td>\n",
       "      <td>F</td>\n",
       "      <td>2.0</td>\n",
       "      <td>103671.75</td>\n",
       "      <td>0.0</td>\n",
       "      <td>3.0</td>\n",
       "    </tr>\n",
       "    <tr>\n",
       "      <th>...</th>\n",
       "      <td>...</td>\n",
       "      <td>...</td>\n",
       "      <td>...</td>\n",
       "      <td>...</td>\n",
       "      <td>...</td>\n",
       "      <td>...</td>\n",
       "      <td>...</td>\n",
       "      <td>...</td>\n",
       "      <td>...</td>\n",
       "    </tr>\n",
       "    <tr>\n",
       "      <th>50495</th>\n",
       "      <td>1780858</td>\n",
       "      <td>262.0</td>\n",
       "      <td>21.0</td>\n",
       "      <td>68.5</td>\n",
       "      <td>M</td>\n",
       "      <td>3.0</td>\n",
       "      <td>372100.59</td>\n",
       "      <td>6.0</td>\n",
       "      <td>9.0</td>\n",
       "    </tr>\n",
       "    <tr>\n",
       "      <th>50496</th>\n",
       "      <td>6967120</td>\n",
       "      <td>260.0</td>\n",
       "      <td>21.0</td>\n",
       "      <td>68.5</td>\n",
       "      <td>M</td>\n",
       "      <td>3.0</td>\n",
       "      <td>4279873.38</td>\n",
       "      <td>6.0</td>\n",
       "      <td>9.0</td>\n",
       "    </tr>\n",
       "    <tr>\n",
       "      <th>50497</th>\n",
       "      <td>5826160</td>\n",
       "      <td>249.0</td>\n",
       "      <td>20.0</td>\n",
       "      <td>56.5</td>\n",
       "      <td>F</td>\n",
       "      <td>2.0</td>\n",
       "      <td>44837.16</td>\n",
       "      <td>2.0</td>\n",
       "      <td>5.0</td>\n",
       "    </tr>\n",
       "    <tr>\n",
       "      <th>50498</th>\n",
       "      <td>8739285</td>\n",
       "      <td>229.0</td>\n",
       "      <td>19.0</td>\n",
       "      <td>69.5</td>\n",
       "      <td>F</td>\n",
       "      <td>2.0</td>\n",
       "      <td>44994.24</td>\n",
       "      <td>1.0</td>\n",
       "      <td>4.0</td>\n",
       "    </tr>\n",
       "    <tr>\n",
       "      <th>50499</th>\n",
       "      <td>7468138</td>\n",
       "      <td>222.0</td>\n",
       "      <td>18.0</td>\n",
       "      <td>61.0</td>\n",
       "      <td>F</td>\n",
       "      <td>3.0</td>\n",
       "      <td>209278.15</td>\n",
       "      <td>0.0</td>\n",
       "      <td>3.0</td>\n",
       "    </tr>\n",
       "  </tbody>\n",
       "</table>\n",
       "<p>50487 rows × 9 columns</p>\n",
       "</div>"
      ],
      "text/plain": [
       "       client_id  client_since_month  client_since_year  client_age gender  \\\n",
       "0         836976                73.0                6.0        60.5      U   \n",
       "1        2304905                94.0                7.0        58.0      U   \n",
       "2        1439522                64.0                5.0        32.0      U   \n",
       "3        1562045               198.0               16.0        49.0      M   \n",
       "4        5126305               145.0               12.0        33.0      F   \n",
       "...          ...                 ...                ...         ...    ...   \n",
       "50495    1780858               262.0               21.0        68.5      M   \n",
       "50496    6967120               260.0               21.0        68.5      M   \n",
       "50497    5826160               249.0               20.0        56.5      F   \n",
       "50498    8739285               229.0               19.0        69.5      F   \n",
       "50499    7468138               222.0               18.0        61.0      F   \n",
       "\n",
       "       number_of_accounts     balance  calls_6_months  logons_6_month  \n",
       "0                     2.0    45105.30             6.0             9.0  \n",
       "1                     2.0   110860.30             6.0             9.0  \n",
       "2                     2.0    52467.79             6.0             9.0  \n",
       "3                     2.0    67454.65             3.0             6.0  \n",
       "4                     2.0   103671.75             0.0             3.0  \n",
       "...                   ...         ...             ...             ...  \n",
       "50495                 3.0   372100.59             6.0             9.0  \n",
       "50496                 3.0  4279873.38             6.0             9.0  \n",
       "50497                 2.0    44837.16             2.0             5.0  \n",
       "50498                 2.0    44994.24             1.0             4.0  \n",
       "50499                 3.0   209278.15             0.0             3.0  \n",
       "\n",
       "[50487 rows x 9 columns]"
      ]
     },
     "metadata": {},
     "output_type": "display_data"
    }
   ],
   "source": [
    "display(client_df)\n",
    "new_client_df = client_df[~client_df['client_id'].isin(nulls_in_experiment)]\n",
    "display(new_client_df)"
   ]
  },
  {
   "cell_type": "markdown",
   "metadata": {},
   "source": [
    "### End separation"
   ]
  },
  {
   "cell_type": "code",
   "execution_count": 95,
   "metadata": {},
   "outputs": [],
   "source": [
    "dataframes['clients'] = new_client_df.copy()\n",
    "dataframes['experiment'] = new_experiment_df.copy()\n",
    "dataframes['visits'] = new_visits_df.copy()"
   ]
  },
  {
   "cell_type": "code",
   "execution_count": 96,
   "metadata": {},
   "outputs": [],
   "source": [
    "# Data Categorizing\n",
    "dataframes = clean_categorical_data(dataframes, config)"
   ]
  },
  {
   "cell_type": "code",
   "execution_count": 97,
   "metadata": {},
   "outputs": [],
   "source": [
    "#Convert types\n",
    "dataframes = convert_types(dataframes, config)"
   ]
  },
  {
   "cell_type": "code",
   "execution_count": 98,
   "metadata": {},
   "outputs": [
    {
     "name": "stdout",
     "output_type": "stream",
     "text": [
      "clients:\n",
      "clients - Head:\n"
     ]
    },
    {
     "data": {
      "text/html": [
       "<div>\n",
       "<style scoped>\n",
       "    .dataframe tbody tr th:only-of-type {\n",
       "        vertical-align: middle;\n",
       "    }\n",
       "\n",
       "    .dataframe tbody tr th {\n",
       "        vertical-align: top;\n",
       "    }\n",
       "\n",
       "    .dataframe thead th {\n",
       "        text-align: right;\n",
       "    }\n",
       "</style>\n",
       "<table border=\"1\" class=\"dataframe\">\n",
       "  <thead>\n",
       "    <tr style=\"text-align: right;\">\n",
       "      <th></th>\n",
       "      <th>client_id</th>\n",
       "      <th>client_since_month</th>\n",
       "      <th>client_since_year</th>\n",
       "      <th>client_age</th>\n",
       "      <th>gender</th>\n",
       "      <th>number_of_accounts</th>\n",
       "      <th>balance</th>\n",
       "      <th>calls_6_months</th>\n",
       "      <th>logons_6_month</th>\n",
       "    </tr>\n",
       "  </thead>\n",
       "  <tbody>\n",
       "    <tr>\n",
       "      <th>0</th>\n",
       "      <td>836976</td>\n",
       "      <td>73</td>\n",
       "      <td>6</td>\n",
       "      <td>60</td>\n",
       "      <td>U</td>\n",
       "      <td>2</td>\n",
       "      <td>45105.30</td>\n",
       "      <td>6</td>\n",
       "      <td>9</td>\n",
       "    </tr>\n",
       "    <tr>\n",
       "      <th>1</th>\n",
       "      <td>2304905</td>\n",
       "      <td>94</td>\n",
       "      <td>7</td>\n",
       "      <td>58</td>\n",
       "      <td>U</td>\n",
       "      <td>2</td>\n",
       "      <td>110860.30</td>\n",
       "      <td>6</td>\n",
       "      <td>9</td>\n",
       "    </tr>\n",
       "    <tr>\n",
       "      <th>2</th>\n",
       "      <td>1439522</td>\n",
       "      <td>64</td>\n",
       "      <td>5</td>\n",
       "      <td>32</td>\n",
       "      <td>U</td>\n",
       "      <td>2</td>\n",
       "      <td>52467.79</td>\n",
       "      <td>6</td>\n",
       "      <td>9</td>\n",
       "    </tr>\n",
       "    <tr>\n",
       "      <th>3</th>\n",
       "      <td>1562045</td>\n",
       "      <td>198</td>\n",
       "      <td>16</td>\n",
       "      <td>49</td>\n",
       "      <td>M</td>\n",
       "      <td>2</td>\n",
       "      <td>67454.65</td>\n",
       "      <td>3</td>\n",
       "      <td>6</td>\n",
       "    </tr>\n",
       "    <tr>\n",
       "      <th>4</th>\n",
       "      <td>5126305</td>\n",
       "      <td>145</td>\n",
       "      <td>12</td>\n",
       "      <td>33</td>\n",
       "      <td>F</td>\n",
       "      <td>2</td>\n",
       "      <td>103671.75</td>\n",
       "      <td>0</td>\n",
       "      <td>3</td>\n",
       "    </tr>\n",
       "  </tbody>\n",
       "</table>\n",
       "</div>"
      ],
      "text/plain": [
       "   client_id  client_since_month  client_since_year  client_age gender  \\\n",
       "0     836976                  73                  6          60      U   \n",
       "1    2304905                  94                  7          58      U   \n",
       "2    1439522                  64                  5          32      U   \n",
       "3    1562045                 198                 16          49      M   \n",
       "4    5126305                 145                 12          33      F   \n",
       "\n",
       "   number_of_accounts    balance  calls_6_months  logons_6_month  \n",
       "0                   2   45105.30               6               9  \n",
       "1                   2  110860.30               6               9  \n",
       "2                   2   52467.79               6               9  \n",
       "3                   2   67454.65               3               6  \n",
       "4                   2  103671.75               0               3  "
      ]
     },
     "metadata": {},
     "output_type": "display_data"
    },
    {
     "name": "stdout",
     "output_type": "stream",
     "text": [
      "clients - Shape:\n"
     ]
    },
    {
     "data": {
      "text/plain": [
       "(50487, 9)"
      ]
     },
     "metadata": {},
     "output_type": "display_data"
    },
    {
     "name": "stdout",
     "output_type": "stream",
     "text": [
      "clients - Cat_count:\n"
     ]
    },
    {
     "data": {
      "text/html": [
       "<div>\n",
       "<style scoped>\n",
       "    .dataframe tbody tr th:only-of-type {\n",
       "        vertical-align: middle;\n",
       "    }\n",
       "\n",
       "    .dataframe tbody tr th {\n",
       "        vertical-align: top;\n",
       "    }\n",
       "\n",
       "    .dataframe thead th {\n",
       "        text-align: right;\n",
       "    }\n",
       "</style>\n",
       "<table border=\"1\" class=\"dataframe\">\n",
       "  <thead>\n",
       "    <tr style=\"text-align: right;\">\n",
       "      <th></th>\n",
       "      <th>gender</th>\n",
       "    </tr>\n",
       "    <tr>\n",
       "      <th>gender</th>\n",
       "      <th></th>\n",
       "    </tr>\n",
       "  </thead>\n",
       "  <tbody>\n",
       "    <tr>\n",
       "      <th>U</th>\n",
       "      <td>17282</td>\n",
       "    </tr>\n",
       "    <tr>\n",
       "      <th>M</th>\n",
       "      <td>16947</td>\n",
       "    </tr>\n",
       "    <tr>\n",
       "      <th>F</th>\n",
       "      <td>16258</td>\n",
       "    </tr>\n",
       "  </tbody>\n",
       "</table>\n",
       "</div>"
      ],
      "text/plain": [
       "        gender\n",
       "gender        \n",
       "U        17282\n",
       "M        16947\n",
       "F        16258"
      ]
     },
     "metadata": {},
     "output_type": "display_data"
    },
    {
     "name": "stdout",
     "output_type": "stream",
     "text": [
      "experiment:\n",
      "experiment - Head:\n"
     ]
    },
    {
     "data": {
      "text/html": [
       "<div>\n",
       "<style scoped>\n",
       "    .dataframe tbody tr th:only-of-type {\n",
       "        vertical-align: middle;\n",
       "    }\n",
       "\n",
       "    .dataframe tbody tr th {\n",
       "        vertical-align: top;\n",
       "    }\n",
       "\n",
       "    .dataframe thead th {\n",
       "        text-align: right;\n",
       "    }\n",
       "</style>\n",
       "<table border=\"1\" class=\"dataframe\">\n",
       "  <thead>\n",
       "    <tr style=\"text-align: right;\">\n",
       "      <th></th>\n",
       "      <th>client_id</th>\n",
       "      <th>variation</th>\n",
       "    </tr>\n",
       "  </thead>\n",
       "  <tbody>\n",
       "    <tr>\n",
       "      <th>0</th>\n",
       "      <td>9988021</td>\n",
       "      <td>Test</td>\n",
       "    </tr>\n",
       "    <tr>\n",
       "      <th>1</th>\n",
       "      <td>8320017</td>\n",
       "      <td>Test</td>\n",
       "    </tr>\n",
       "    <tr>\n",
       "      <th>2</th>\n",
       "      <td>4033851</td>\n",
       "      <td>Control</td>\n",
       "    </tr>\n",
       "    <tr>\n",
       "      <th>3</th>\n",
       "      <td>1982004</td>\n",
       "      <td>Test</td>\n",
       "    </tr>\n",
       "    <tr>\n",
       "      <th>4</th>\n",
       "      <td>9294070</td>\n",
       "      <td>Control</td>\n",
       "    </tr>\n",
       "  </tbody>\n",
       "</table>\n",
       "</div>"
      ],
      "text/plain": [
       "   client_id variation\n",
       "0    9988021      Test\n",
       "1    8320017      Test\n",
       "2    4033851   Control\n",
       "3    1982004      Test\n",
       "4    9294070   Control"
      ]
     },
     "metadata": {},
     "output_type": "display_data"
    },
    {
     "name": "stdout",
     "output_type": "stream",
     "text": [
      "experiment - Shape:\n"
     ]
    },
    {
     "data": {
      "text/plain": [
       "(50487, 2)"
      ]
     },
     "metadata": {},
     "output_type": "display_data"
    },
    {
     "name": "stdout",
     "output_type": "stream",
     "text": [
      "experiment - Cat_count:\n"
     ]
    },
    {
     "data": {
      "text/html": [
       "<div>\n",
       "<style scoped>\n",
       "    .dataframe tbody tr th:only-of-type {\n",
       "        vertical-align: middle;\n",
       "    }\n",
       "\n",
       "    .dataframe tbody tr th {\n",
       "        vertical-align: top;\n",
       "    }\n",
       "\n",
       "    .dataframe thead th {\n",
       "        text-align: right;\n",
       "    }\n",
       "</style>\n",
       "<table border=\"1\" class=\"dataframe\">\n",
       "  <thead>\n",
       "    <tr style=\"text-align: right;\">\n",
       "      <th></th>\n",
       "      <th>variation</th>\n",
       "    </tr>\n",
       "    <tr>\n",
       "      <th>variation</th>\n",
       "      <th></th>\n",
       "    </tr>\n",
       "  </thead>\n",
       "  <tbody>\n",
       "    <tr>\n",
       "      <th>Test</th>\n",
       "      <td>26961</td>\n",
       "    </tr>\n",
       "    <tr>\n",
       "      <th>Control</th>\n",
       "      <td>23526</td>\n",
       "    </tr>\n",
       "  </tbody>\n",
       "</table>\n",
       "</div>"
      ],
      "text/plain": [
       "           variation\n",
       "variation           \n",
       "Test           26961\n",
       "Control        23526"
      ]
     },
     "metadata": {},
     "output_type": "display_data"
    },
    {
     "name": "stdout",
     "output_type": "stream",
     "text": [
      "visits:\n",
      "visits - Head:\n"
     ]
    },
    {
     "data": {
      "text/html": [
       "<div>\n",
       "<style scoped>\n",
       "    .dataframe tbody tr th:only-of-type {\n",
       "        vertical-align: middle;\n",
       "    }\n",
       "\n",
       "    .dataframe tbody tr th {\n",
       "        vertical-align: top;\n",
       "    }\n",
       "\n",
       "    .dataframe thead th {\n",
       "        text-align: right;\n",
       "    }\n",
       "</style>\n",
       "<table border=\"1\" class=\"dataframe\">\n",
       "  <thead>\n",
       "    <tr style=\"text-align: right;\">\n",
       "      <th></th>\n",
       "      <th>client_id</th>\n",
       "      <th>visitor_id</th>\n",
       "      <th>visit_id</th>\n",
       "      <th>process_step</th>\n",
       "      <th>date_time</th>\n",
       "    </tr>\n",
       "  </thead>\n",
       "  <tbody>\n",
       "    <tr>\n",
       "      <th>0</th>\n",
       "      <td>9988021</td>\n",
       "      <td>580560515_7732621733</td>\n",
       "      <td>781255054_21935453173_531117</td>\n",
       "      <td>step_3</td>\n",
       "      <td>2017-04-17 15:27:07</td>\n",
       "    </tr>\n",
       "    <tr>\n",
       "      <th>1</th>\n",
       "      <td>9988021</td>\n",
       "      <td>580560515_7732621733</td>\n",
       "      <td>781255054_21935453173_531117</td>\n",
       "      <td>step_2</td>\n",
       "      <td>2017-04-17 15:26:51</td>\n",
       "    </tr>\n",
       "    <tr>\n",
       "      <th>2</th>\n",
       "      <td>9988021</td>\n",
       "      <td>580560515_7732621733</td>\n",
       "      <td>781255054_21935453173_531117</td>\n",
       "      <td>step_3</td>\n",
       "      <td>2017-04-17 15:19:22</td>\n",
       "    </tr>\n",
       "    <tr>\n",
       "      <th>3</th>\n",
       "      <td>9988021</td>\n",
       "      <td>580560515_7732621733</td>\n",
       "      <td>781255054_21935453173_531117</td>\n",
       "      <td>step_2</td>\n",
       "      <td>2017-04-17 15:19:13</td>\n",
       "    </tr>\n",
       "    <tr>\n",
       "      <th>4</th>\n",
       "      <td>9988021</td>\n",
       "      <td>580560515_7732621733</td>\n",
       "      <td>781255054_21935453173_531117</td>\n",
       "      <td>step_3</td>\n",
       "      <td>2017-04-17 15:18:04</td>\n",
       "    </tr>\n",
       "  </tbody>\n",
       "</table>\n",
       "</div>"
      ],
      "text/plain": [
       "   client_id            visitor_id                      visit_id process_step  \\\n",
       "0    9988021  580560515_7732621733  781255054_21935453173_531117       step_3   \n",
       "1    9988021  580560515_7732621733  781255054_21935453173_531117       step_2   \n",
       "2    9988021  580560515_7732621733  781255054_21935453173_531117       step_3   \n",
       "3    9988021  580560515_7732621733  781255054_21935453173_531117       step_2   \n",
       "4    9988021  580560515_7732621733  781255054_21935453173_531117       step_3   \n",
       "\n",
       "            date_time  \n",
       "0 2017-04-17 15:27:07  \n",
       "1 2017-04-17 15:26:51  \n",
       "2 2017-04-17 15:19:22  \n",
       "3 2017-04-17 15:19:13  \n",
       "4 2017-04-17 15:18:04  "
      ]
     },
     "metadata": {},
     "output_type": "display_data"
    },
    {
     "name": "stdout",
     "output_type": "stream",
     "text": [
      "visits - Shape:\n"
     ]
    },
    {
     "data": {
      "text/plain": [
       "(626883, 5)"
      ]
     },
     "metadata": {},
     "output_type": "display_data"
    },
    {
     "name": "stdout",
     "output_type": "stream",
     "text": [
      "visits - Cat_count:\n"
     ]
    },
    {
     "data": {
      "text/html": [
       "<div>\n",
       "<style scoped>\n",
       "    .dataframe tbody tr th:only-of-type {\n",
       "        vertical-align: middle;\n",
       "    }\n",
       "\n",
       "    .dataframe tbody tr th {\n",
       "        vertical-align: top;\n",
       "    }\n",
       "\n",
       "    .dataframe thead th {\n",
       "        text-align: right;\n",
       "    }\n",
       "</style>\n",
       "<table border=\"1\" class=\"dataframe\">\n",
       "  <thead>\n",
       "    <tr style=\"text-align: right;\">\n",
       "      <th></th>\n",
       "      <th>process_step</th>\n",
       "    </tr>\n",
       "    <tr>\n",
       "      <th>process_step</th>\n",
       "      <th></th>\n",
       "    </tr>\n",
       "  </thead>\n",
       "  <tbody>\n",
       "    <tr>\n",
       "      <th>start</th>\n",
       "      <td>202439</td>\n",
       "    </tr>\n",
       "    <tr>\n",
       "      <th>step_1</th>\n",
       "      <td>135733</td>\n",
       "    </tr>\n",
       "    <tr>\n",
       "      <th>step_2</th>\n",
       "      <td>110366</td>\n",
       "    </tr>\n",
       "    <tr>\n",
       "      <th>step_3</th>\n",
       "      <td>92714</td>\n",
       "    </tr>\n",
       "    <tr>\n",
       "      <th>confirm</th>\n",
       "      <td>85631</td>\n",
       "    </tr>\n",
       "  </tbody>\n",
       "</table>\n",
       "</div>"
      ],
      "text/plain": [
       "              process_step\n",
       "process_step              \n",
       "start               202439\n",
       "step_1              135733\n",
       "step_2              110366\n",
       "step_3               92714\n",
       "confirm              85631"
      ]
     },
     "metadata": {},
     "output_type": "display_data"
    }
   ],
   "source": [
    "display_dataFrames(dataframes, 'head', 'shape', 'cat_count')"
   ]
  },
  {
   "cell_type": "code",
   "execution_count": 99,
   "metadata": {},
   "outputs": [],
   "source": [
    "client_df = dataframes['clients']\n",
    "experiment_df = dataframes['experiment']\n",
    "visits_df = dataframes['visits']"
   ]
  },
  {
   "cell_type": "code",
   "execution_count": 100,
   "metadata": {},
   "outputs": [
    {
     "data": {
      "text/html": [
       "<div>\n",
       "<style scoped>\n",
       "    .dataframe tbody tr th:only-of-type {\n",
       "        vertical-align: middle;\n",
       "    }\n",
       "\n",
       "    .dataframe tbody tr th {\n",
       "        vertical-align: top;\n",
       "    }\n",
       "\n",
       "    .dataframe thead th {\n",
       "        text-align: right;\n",
       "    }\n",
       "</style>\n",
       "<table border=\"1\" class=\"dataframe\">\n",
       "  <thead>\n",
       "    <tr style=\"text-align: right;\">\n",
       "      <th></th>\n",
       "      <th>client_id</th>\n",
       "      <th>client_since_month</th>\n",
       "      <th>client_since_year</th>\n",
       "      <th>client_age</th>\n",
       "      <th>gender</th>\n",
       "      <th>number_of_accounts</th>\n",
       "      <th>balance</th>\n",
       "      <th>calls_6_months</th>\n",
       "      <th>logons_6_month</th>\n",
       "    </tr>\n",
       "  </thead>\n",
       "  <tbody>\n",
       "    <tr>\n",
       "      <th>count</th>\n",
       "      <td>5.048700e+04</td>\n",
       "      <td>50487.000000</td>\n",
       "      <td>50487.000000</td>\n",
       "      <td>50487.000000</td>\n",
       "      <td>50487</td>\n",
       "      <td>50487.000000</td>\n",
       "      <td>5.048700e+04</td>\n",
       "      <td>50487.000000</td>\n",
       "      <td>50487.000000</td>\n",
       "    </tr>\n",
       "    <tr>\n",
       "      <th>unique</th>\n",
       "      <td>NaN</td>\n",
       "      <td>NaN</td>\n",
       "      <td>NaN</td>\n",
       "      <td>NaN</td>\n",
       "      <td>3</td>\n",
       "      <td>NaN</td>\n",
       "      <td>NaN</td>\n",
       "      <td>NaN</td>\n",
       "      <td>NaN</td>\n",
       "    </tr>\n",
       "    <tr>\n",
       "      <th>top</th>\n",
       "      <td>NaN</td>\n",
       "      <td>NaN</td>\n",
       "      <td>NaN</td>\n",
       "      <td>NaN</td>\n",
       "      <td>U</td>\n",
       "      <td>NaN</td>\n",
       "      <td>NaN</td>\n",
       "      <td>NaN</td>\n",
       "      <td>NaN</td>\n",
       "    </tr>\n",
       "    <tr>\n",
       "      <th>freq</th>\n",
       "      <td>NaN</td>\n",
       "      <td>NaN</td>\n",
       "      <td>NaN</td>\n",
       "      <td>NaN</td>\n",
       "      <td>17282</td>\n",
       "      <td>NaN</td>\n",
       "      <td>NaN</td>\n",
       "      <td>NaN</td>\n",
       "      <td>NaN</td>\n",
       "    </tr>\n",
       "    <tr>\n",
       "      <th>mean</th>\n",
       "      <td>5.006180e+06</td>\n",
       "      <td>150.416365</td>\n",
       "      <td>12.031810</td>\n",
       "      <td>47.058451</td>\n",
       "      <td>NaN</td>\n",
       "      <td>2.254580</td>\n",
       "      <td>1.495168e+05</td>\n",
       "      <td>3.093272</td>\n",
       "      <td>6.131856</td>\n",
       "    </tr>\n",
       "    <tr>\n",
       "      <th>std</th>\n",
       "      <td>2.877445e+06</td>\n",
       "      <td>81.945403</td>\n",
       "      <td>6.860326</td>\n",
       "      <td>15.528092</td>\n",
       "      <td>NaN</td>\n",
       "      <td>0.533675</td>\n",
       "      <td>3.020390e+05</td>\n",
       "      <td>2.188009</td>\n",
       "      <td>2.175441</td>\n",
       "    </tr>\n",
       "    <tr>\n",
       "      <th>min</th>\n",
       "      <td>5.550000e+02</td>\n",
       "      <td>33.000000</td>\n",
       "      <td>2.000000</td>\n",
       "      <td>17.000000</td>\n",
       "      <td>NaN</td>\n",
       "      <td>1.000000</td>\n",
       "      <td>2.378944e+04</td>\n",
       "      <td>0.000000</td>\n",
       "      <td>3.000000</td>\n",
       "    </tr>\n",
       "    <tr>\n",
       "      <th>25%</th>\n",
       "      <td>2.515688e+06</td>\n",
       "      <td>82.000000</td>\n",
       "      <td>6.000000</td>\n",
       "      <td>33.000000</td>\n",
       "      <td>NaN</td>\n",
       "      <td>2.000000</td>\n",
       "      <td>3.987718e+04</td>\n",
       "      <td>1.000000</td>\n",
       "      <td>4.000000</td>\n",
       "    </tr>\n",
       "    <tr>\n",
       "      <th>50%</th>\n",
       "      <td>5.025043e+06</td>\n",
       "      <td>136.000000</td>\n",
       "      <td>11.000000</td>\n",
       "      <td>48.000000</td>\n",
       "      <td>NaN</td>\n",
       "      <td>2.000000</td>\n",
       "      <td>6.573433e+04</td>\n",
       "      <td>3.000000</td>\n",
       "      <td>6.000000</td>\n",
       "    </tr>\n",
       "    <tr>\n",
       "      <th>75%</th>\n",
       "      <td>7.477922e+06</td>\n",
       "      <td>192.000000</td>\n",
       "      <td>16.000000</td>\n",
       "      <td>59.000000</td>\n",
       "      <td>NaN</td>\n",
       "      <td>2.000000</td>\n",
       "      <td>1.399583e+05</td>\n",
       "      <td>5.000000</td>\n",
       "      <td>8.000000</td>\n",
       "    </tr>\n",
       "    <tr>\n",
       "      <th>max</th>\n",
       "      <td>9.999832e+06</td>\n",
       "      <td>669.000000</td>\n",
       "      <td>55.000000</td>\n",
       "      <td>96.000000</td>\n",
       "      <td>NaN</td>\n",
       "      <td>7.000000</td>\n",
       "      <td>1.632004e+07</td>\n",
       "      <td>6.000000</td>\n",
       "      <td>9.000000</td>\n",
       "    </tr>\n",
       "  </tbody>\n",
       "</table>\n",
       "</div>"
      ],
      "text/plain": [
       "           client_id  client_since_month  client_since_year    client_age  \\\n",
       "count   5.048700e+04        50487.000000       50487.000000  50487.000000   \n",
       "unique           NaN                 NaN                NaN           NaN   \n",
       "top              NaN                 NaN                NaN           NaN   \n",
       "freq             NaN                 NaN                NaN           NaN   \n",
       "mean    5.006180e+06          150.416365          12.031810     47.058451   \n",
       "std     2.877445e+06           81.945403           6.860326     15.528092   \n",
       "min     5.550000e+02           33.000000           2.000000     17.000000   \n",
       "25%     2.515688e+06           82.000000           6.000000     33.000000   \n",
       "50%     5.025043e+06          136.000000          11.000000     48.000000   \n",
       "75%     7.477922e+06          192.000000          16.000000     59.000000   \n",
       "max     9.999832e+06          669.000000          55.000000     96.000000   \n",
       "\n",
       "       gender  number_of_accounts       balance  calls_6_months  \\\n",
       "count   50487        50487.000000  5.048700e+04    50487.000000   \n",
       "unique      3                 NaN           NaN             NaN   \n",
       "top         U                 NaN           NaN             NaN   \n",
       "freq    17282                 NaN           NaN             NaN   \n",
       "mean      NaN            2.254580  1.495168e+05        3.093272   \n",
       "std       NaN            0.533675  3.020390e+05        2.188009   \n",
       "min       NaN            1.000000  2.378944e+04        0.000000   \n",
       "25%       NaN            2.000000  3.987718e+04        1.000000   \n",
       "50%       NaN            2.000000  6.573433e+04        3.000000   \n",
       "75%       NaN            2.000000  1.399583e+05        5.000000   \n",
       "max       NaN            7.000000  1.632004e+07        6.000000   \n",
       "\n",
       "        logons_6_month  \n",
       "count     50487.000000  \n",
       "unique             NaN  \n",
       "top                NaN  \n",
       "freq               NaN  \n",
       "mean          6.131856  \n",
       "std           2.175441  \n",
       "min           3.000000  \n",
       "25%           4.000000  \n",
       "50%           6.000000  \n",
       "75%           8.000000  \n",
       "max           9.000000  "
      ]
     },
     "metadata": {},
     "output_type": "display_data"
    },
    {
     "data": {
      "text/plain": [
       "client_id                int64\n",
       "client_since_month       int64\n",
       "client_since_year        int64\n",
       "client_age               int64\n",
       "gender                category\n",
       "number_of_accounts       int64\n",
       "balance                float64\n",
       "calls_6_months           int64\n",
       "logons_6_month           int64\n",
       "dtype: object"
      ]
     },
     "metadata": {},
     "output_type": "display_data"
    }
   ],
   "source": [
    "display(client_df.describe(include='all'))\n",
    "display(client_df.dtypes)"
   ]
  },
  {
   "cell_type": "markdown",
   "metadata": {},
   "source": [
    "### SQL EXPORT"
   ]
  },
  {
   "cell_type": "code",
   "execution_count": 101,
   "metadata": {},
   "outputs": [],
   "source": [
    "if config['refresh_db']:\n",
    "\n",
    "    db_password = os.getenv('SQL_PASSWORD')\n",
    "\n",
    "    # Create database if it doesn't exist\n",
    "    engine = create_db(db_password, config)\n",
    "\n",
    "    # Export tables to database if refresh is set to true\n",
    "    export_dataframes_to_sql(engine, dataframes)\n",
    "\n",
    "    # Import data from database\n",
    "    dataframes = import_all_tables_from_sql(engine)"
   ]
  },
  {
   "cell_type": "markdown",
   "metadata": {},
   "source": [
    "### Local Caching"
   ]
  },
  {
   "cell_type": "code",
   "execution_count": 102,
   "metadata": {},
   "outputs": [
    {
     "data": {
      "text/plain": [
       "' # Save files locally in an untracked folder\\nexport_dataframes_to_csv(dataframes) '"
      ]
     },
     "execution_count": 102,
     "metadata": {},
     "output_type": "execute_result"
    }
   ],
   "source": [
    "\"\"\" # Save files locally in an untracked folder\n",
    "export_dataframes_to_csv(dataframes) \"\"\""
   ]
  },
  {
   "cell_type": "code",
   "execution_count": 103,
   "metadata": {},
   "outputs": [
    {
     "data": {
      "text/plain": [
       "\" clients_df = pd.read_csv('data/cleaned/clients.csv')\\nexperiment_df = pd.read_csv('data/cleaned/experiment.csv')\\nvisits_df = pd.read_csv('data/cleaned/visits.csv') \""
      ]
     },
     "execution_count": 103,
     "metadata": {},
     "output_type": "execute_result"
    }
   ],
   "source": [
    "#TODO CAREFUL DATA WONT BE PROPERLY CATEGORIZED / TYPED run after : convert_types(dataframes, config)\n",
    "\"\"\" clients_df = pd.read_csv('data/cleaned/clients.csv')\n",
    "experiment_df = pd.read_csv('data/cleaned/experiment.csv')\n",
    "visits_df = pd.read_csv('data/cleaned/visits.csv') \"\"\""
   ]
  },
  {
   "cell_type": "markdown",
   "metadata": {},
   "source": [
    "## CLEAN FRAMES"
   ]
  },
  {
   "cell_type": "code",
   "execution_count": 104,
   "metadata": {},
   "outputs": [
    {
     "data": {
      "text/plain": [
       "'clients :'"
      ]
     },
     "metadata": {},
     "output_type": "display_data"
    },
    {
     "data": {
      "text/html": [
       "<div>\n",
       "<style scoped>\n",
       "    .dataframe tbody tr th:only-of-type {\n",
       "        vertical-align: middle;\n",
       "    }\n",
       "\n",
       "    .dataframe tbody tr th {\n",
       "        vertical-align: top;\n",
       "    }\n",
       "\n",
       "    .dataframe thead th {\n",
       "        text-align: right;\n",
       "    }\n",
       "</style>\n",
       "<table border=\"1\" class=\"dataframe\">\n",
       "  <thead>\n",
       "    <tr style=\"text-align: right;\">\n",
       "      <th></th>\n",
       "      <th>client_id</th>\n",
       "      <th>client_since_month</th>\n",
       "      <th>client_since_year</th>\n",
       "      <th>client_age</th>\n",
       "      <th>gender</th>\n",
       "      <th>number_of_accounts</th>\n",
       "      <th>balance</th>\n",
       "      <th>calls_6_months</th>\n",
       "      <th>logons_6_month</th>\n",
       "    </tr>\n",
       "  </thead>\n",
       "  <tbody>\n",
       "    <tr>\n",
       "      <th>0</th>\n",
       "      <td>836976</td>\n",
       "      <td>73</td>\n",
       "      <td>6</td>\n",
       "      <td>60</td>\n",
       "      <td>U</td>\n",
       "      <td>2</td>\n",
       "      <td>45105.30</td>\n",
       "      <td>6</td>\n",
       "      <td>9</td>\n",
       "    </tr>\n",
       "    <tr>\n",
       "      <th>1</th>\n",
       "      <td>2304905</td>\n",
       "      <td>94</td>\n",
       "      <td>7</td>\n",
       "      <td>58</td>\n",
       "      <td>U</td>\n",
       "      <td>2</td>\n",
       "      <td>110860.30</td>\n",
       "      <td>6</td>\n",
       "      <td>9</td>\n",
       "    </tr>\n",
       "    <tr>\n",
       "      <th>2</th>\n",
       "      <td>1439522</td>\n",
       "      <td>64</td>\n",
       "      <td>5</td>\n",
       "      <td>32</td>\n",
       "      <td>U</td>\n",
       "      <td>2</td>\n",
       "      <td>52467.79</td>\n",
       "      <td>6</td>\n",
       "      <td>9</td>\n",
       "    </tr>\n",
       "    <tr>\n",
       "      <th>3</th>\n",
       "      <td>1562045</td>\n",
       "      <td>198</td>\n",
       "      <td>16</td>\n",
       "      <td>49</td>\n",
       "      <td>M</td>\n",
       "      <td>2</td>\n",
       "      <td>67454.65</td>\n",
       "      <td>3</td>\n",
       "      <td>6</td>\n",
       "    </tr>\n",
       "    <tr>\n",
       "      <th>4</th>\n",
       "      <td>5126305</td>\n",
       "      <td>145</td>\n",
       "      <td>12</td>\n",
       "      <td>33</td>\n",
       "      <td>F</td>\n",
       "      <td>2</td>\n",
       "      <td>103671.75</td>\n",
       "      <td>0</td>\n",
       "      <td>3</td>\n",
       "    </tr>\n",
       "    <tr>\n",
       "      <th>...</th>\n",
       "      <td>...</td>\n",
       "      <td>...</td>\n",
       "      <td>...</td>\n",
       "      <td>...</td>\n",
       "      <td>...</td>\n",
       "      <td>...</td>\n",
       "      <td>...</td>\n",
       "      <td>...</td>\n",
       "      <td>...</td>\n",
       "    </tr>\n",
       "    <tr>\n",
       "      <th>50495</th>\n",
       "      <td>1780858</td>\n",
       "      <td>262</td>\n",
       "      <td>21</td>\n",
       "      <td>68</td>\n",
       "      <td>M</td>\n",
       "      <td>3</td>\n",
       "      <td>372100.59</td>\n",
       "      <td>6</td>\n",
       "      <td>9</td>\n",
       "    </tr>\n",
       "    <tr>\n",
       "      <th>50496</th>\n",
       "      <td>6967120</td>\n",
       "      <td>260</td>\n",
       "      <td>21</td>\n",
       "      <td>68</td>\n",
       "      <td>M</td>\n",
       "      <td>3</td>\n",
       "      <td>4279873.38</td>\n",
       "      <td>6</td>\n",
       "      <td>9</td>\n",
       "    </tr>\n",
       "    <tr>\n",
       "      <th>50497</th>\n",
       "      <td>5826160</td>\n",
       "      <td>249</td>\n",
       "      <td>20</td>\n",
       "      <td>56</td>\n",
       "      <td>F</td>\n",
       "      <td>2</td>\n",
       "      <td>44837.16</td>\n",
       "      <td>2</td>\n",
       "      <td>5</td>\n",
       "    </tr>\n",
       "    <tr>\n",
       "      <th>50498</th>\n",
       "      <td>8739285</td>\n",
       "      <td>229</td>\n",
       "      <td>19</td>\n",
       "      <td>69</td>\n",
       "      <td>F</td>\n",
       "      <td>2</td>\n",
       "      <td>44994.24</td>\n",
       "      <td>1</td>\n",
       "      <td>4</td>\n",
       "    </tr>\n",
       "    <tr>\n",
       "      <th>50499</th>\n",
       "      <td>7468138</td>\n",
       "      <td>222</td>\n",
       "      <td>18</td>\n",
       "      <td>61</td>\n",
       "      <td>F</td>\n",
       "      <td>3</td>\n",
       "      <td>209278.15</td>\n",
       "      <td>0</td>\n",
       "      <td>3</td>\n",
       "    </tr>\n",
       "  </tbody>\n",
       "</table>\n",
       "<p>50487 rows × 9 columns</p>\n",
       "</div>"
      ],
      "text/plain": [
       "       client_id  client_since_month  client_since_year  client_age gender  \\\n",
       "0         836976                  73                  6          60      U   \n",
       "1        2304905                  94                  7          58      U   \n",
       "2        1439522                  64                  5          32      U   \n",
       "3        1562045                 198                 16          49      M   \n",
       "4        5126305                 145                 12          33      F   \n",
       "...          ...                 ...                ...         ...    ...   \n",
       "50495    1780858                 262                 21          68      M   \n",
       "50496    6967120                 260                 21          68      M   \n",
       "50497    5826160                 249                 20          56      F   \n",
       "50498    8739285                 229                 19          69      F   \n",
       "50499    7468138                 222                 18          61      F   \n",
       "\n",
       "       number_of_accounts     balance  calls_6_months  logons_6_month  \n",
       "0                       2    45105.30               6               9  \n",
       "1                       2   110860.30               6               9  \n",
       "2                       2    52467.79               6               9  \n",
       "3                       2    67454.65               3               6  \n",
       "4                       2   103671.75               0               3  \n",
       "...                   ...         ...             ...             ...  \n",
       "50495                   3   372100.59               6               9  \n",
       "50496                   3  4279873.38               6               9  \n",
       "50497                   2    44837.16               2               5  \n",
       "50498                   2    44994.24               1               4  \n",
       "50499                   3   209278.15               0               3  \n",
       "\n",
       "[50487 rows x 9 columns]"
      ]
     },
     "metadata": {},
     "output_type": "display_data"
    },
    {
     "data": {
      "text/plain": [
       "'experiment :'"
      ]
     },
     "metadata": {},
     "output_type": "display_data"
    },
    {
     "data": {
      "text/html": [
       "<div>\n",
       "<style scoped>\n",
       "    .dataframe tbody tr th:only-of-type {\n",
       "        vertical-align: middle;\n",
       "    }\n",
       "\n",
       "    .dataframe tbody tr th {\n",
       "        vertical-align: top;\n",
       "    }\n",
       "\n",
       "    .dataframe thead th {\n",
       "        text-align: right;\n",
       "    }\n",
       "</style>\n",
       "<table border=\"1\" class=\"dataframe\">\n",
       "  <thead>\n",
       "    <tr style=\"text-align: right;\">\n",
       "      <th></th>\n",
       "      <th>client_id</th>\n",
       "      <th>variation</th>\n",
       "    </tr>\n",
       "  </thead>\n",
       "  <tbody>\n",
       "    <tr>\n",
       "      <th>0</th>\n",
       "      <td>9988021</td>\n",
       "      <td>Test</td>\n",
       "    </tr>\n",
       "    <tr>\n",
       "      <th>1</th>\n",
       "      <td>8320017</td>\n",
       "      <td>Test</td>\n",
       "    </tr>\n",
       "    <tr>\n",
       "      <th>2</th>\n",
       "      <td>4033851</td>\n",
       "      <td>Control</td>\n",
       "    </tr>\n",
       "    <tr>\n",
       "      <th>3</th>\n",
       "      <td>1982004</td>\n",
       "      <td>Test</td>\n",
       "    </tr>\n",
       "    <tr>\n",
       "      <th>4</th>\n",
       "      <td>9294070</td>\n",
       "      <td>Control</td>\n",
       "    </tr>\n",
       "    <tr>\n",
       "      <th>...</th>\n",
       "      <td>...</td>\n",
       "      <td>...</td>\n",
       "    </tr>\n",
       "    <tr>\n",
       "      <th>50495</th>\n",
       "      <td>393005</td>\n",
       "      <td>Control</td>\n",
       "    </tr>\n",
       "    <tr>\n",
       "      <th>50496</th>\n",
       "      <td>2908510</td>\n",
       "      <td>Control</td>\n",
       "    </tr>\n",
       "    <tr>\n",
       "      <th>50497</th>\n",
       "      <td>7230446</td>\n",
       "      <td>Test</td>\n",
       "    </tr>\n",
       "    <tr>\n",
       "      <th>50498</th>\n",
       "      <td>5230357</td>\n",
       "      <td>Test</td>\n",
       "    </tr>\n",
       "    <tr>\n",
       "      <th>50499</th>\n",
       "      <td>6334360</td>\n",
       "      <td>Test</td>\n",
       "    </tr>\n",
       "  </tbody>\n",
       "</table>\n",
       "<p>50487 rows × 2 columns</p>\n",
       "</div>"
      ],
      "text/plain": [
       "       client_id variation\n",
       "0        9988021      Test\n",
       "1        8320017      Test\n",
       "2        4033851   Control\n",
       "3        1982004      Test\n",
       "4        9294070   Control\n",
       "...          ...       ...\n",
       "50495     393005   Control\n",
       "50496    2908510   Control\n",
       "50497    7230446      Test\n",
       "50498    5230357      Test\n",
       "50499    6334360      Test\n",
       "\n",
       "[50487 rows x 2 columns]"
      ]
     },
     "metadata": {},
     "output_type": "display_data"
    },
    {
     "data": {
      "text/plain": [
       "'visits :'"
      ]
     },
     "metadata": {},
     "output_type": "display_data"
    },
    {
     "data": {
      "text/html": [
       "<div>\n",
       "<style scoped>\n",
       "    .dataframe tbody tr th:only-of-type {\n",
       "        vertical-align: middle;\n",
       "    }\n",
       "\n",
       "    .dataframe tbody tr th {\n",
       "        vertical-align: top;\n",
       "    }\n",
       "\n",
       "    .dataframe thead th {\n",
       "        text-align: right;\n",
       "    }\n",
       "</style>\n",
       "<table border=\"1\" class=\"dataframe\">\n",
       "  <thead>\n",
       "    <tr style=\"text-align: right;\">\n",
       "      <th></th>\n",
       "      <th>client_id</th>\n",
       "      <th>visitor_id</th>\n",
       "      <th>visit_id</th>\n",
       "      <th>process_step</th>\n",
       "      <th>date_time</th>\n",
       "    </tr>\n",
       "  </thead>\n",
       "  <tbody>\n",
       "    <tr>\n",
       "      <th>0</th>\n",
       "      <td>9988021</td>\n",
       "      <td>580560515_7732621733</td>\n",
       "      <td>781255054_21935453173_531117</td>\n",
       "      <td>step_3</td>\n",
       "      <td>2017-04-17 15:27:07</td>\n",
       "    </tr>\n",
       "    <tr>\n",
       "      <th>1</th>\n",
       "      <td>9988021</td>\n",
       "      <td>580560515_7732621733</td>\n",
       "      <td>781255054_21935453173_531117</td>\n",
       "      <td>step_2</td>\n",
       "      <td>2017-04-17 15:26:51</td>\n",
       "    </tr>\n",
       "    <tr>\n",
       "      <th>2</th>\n",
       "      <td>9988021</td>\n",
       "      <td>580560515_7732621733</td>\n",
       "      <td>781255054_21935453173_531117</td>\n",
       "      <td>step_3</td>\n",
       "      <td>2017-04-17 15:19:22</td>\n",
       "    </tr>\n",
       "    <tr>\n",
       "      <th>3</th>\n",
       "      <td>9988021</td>\n",
       "      <td>580560515_7732621733</td>\n",
       "      <td>781255054_21935453173_531117</td>\n",
       "      <td>step_2</td>\n",
       "      <td>2017-04-17 15:19:13</td>\n",
       "    </tr>\n",
       "    <tr>\n",
       "      <th>4</th>\n",
       "      <td>9988021</td>\n",
       "      <td>580560515_7732621733</td>\n",
       "      <td>781255054_21935453173_531117</td>\n",
       "      <td>step_3</td>\n",
       "      <td>2017-04-17 15:18:04</td>\n",
       "    </tr>\n",
       "    <tr>\n",
       "      <th>...</th>\n",
       "      <td>...</td>\n",
       "      <td>...</td>\n",
       "      <td>...</td>\n",
       "      <td>...</td>\n",
       "      <td>...</td>\n",
       "    </tr>\n",
       "    <tr>\n",
       "      <th>755400</th>\n",
       "      <td>9668240</td>\n",
       "      <td>388766751_9038881013</td>\n",
       "      <td>922267647_3096648104_968866</td>\n",
       "      <td>start</td>\n",
       "      <td>2017-05-24 18:46:10</td>\n",
       "    </tr>\n",
       "    <tr>\n",
       "      <th>755401</th>\n",
       "      <td>9668240</td>\n",
       "      <td>388766751_9038881013</td>\n",
       "      <td>922267647_3096648104_968866</td>\n",
       "      <td>start</td>\n",
       "      <td>2017-05-24 18:45:29</td>\n",
       "    </tr>\n",
       "    <tr>\n",
       "      <th>755402</th>\n",
       "      <td>9668240</td>\n",
       "      <td>388766751_9038881013</td>\n",
       "      <td>922267647_3096648104_968866</td>\n",
       "      <td>step_1</td>\n",
       "      <td>2017-05-24 18:44:51</td>\n",
       "    </tr>\n",
       "    <tr>\n",
       "      <th>755403</th>\n",
       "      <td>9668240</td>\n",
       "      <td>388766751_9038881013</td>\n",
       "      <td>922267647_3096648104_968866</td>\n",
       "      <td>start</td>\n",
       "      <td>2017-05-24 18:44:34</td>\n",
       "    </tr>\n",
       "    <tr>\n",
       "      <th>755404</th>\n",
       "      <td>674799</td>\n",
       "      <td>947159805_81558194550</td>\n",
       "      <td>86152093_47511127657_716022</td>\n",
       "      <td>start</td>\n",
       "      <td>2017-06-03 12:17:09</td>\n",
       "    </tr>\n",
       "  </tbody>\n",
       "</table>\n",
       "<p>626883 rows × 5 columns</p>\n",
       "</div>"
      ],
      "text/plain": [
       "        client_id             visitor_id                      visit_id  \\\n",
       "0         9988021   580560515_7732621733  781255054_21935453173_531117   \n",
       "1         9988021   580560515_7732621733  781255054_21935453173_531117   \n",
       "2         9988021   580560515_7732621733  781255054_21935453173_531117   \n",
       "3         9988021   580560515_7732621733  781255054_21935453173_531117   \n",
       "4         9988021   580560515_7732621733  781255054_21935453173_531117   \n",
       "...           ...                    ...                           ...   \n",
       "755400    9668240   388766751_9038881013   922267647_3096648104_968866   \n",
       "755401    9668240   388766751_9038881013   922267647_3096648104_968866   \n",
       "755402    9668240   388766751_9038881013   922267647_3096648104_968866   \n",
       "755403    9668240   388766751_9038881013   922267647_3096648104_968866   \n",
       "755404     674799  947159805_81558194550   86152093_47511127657_716022   \n",
       "\n",
       "       process_step           date_time  \n",
       "0            step_3 2017-04-17 15:27:07  \n",
       "1            step_2 2017-04-17 15:26:51  \n",
       "2            step_3 2017-04-17 15:19:22  \n",
       "3            step_2 2017-04-17 15:19:13  \n",
       "4            step_3 2017-04-17 15:18:04  \n",
       "...             ...                 ...  \n",
       "755400        start 2017-05-24 18:46:10  \n",
       "755401        start 2017-05-24 18:45:29  \n",
       "755402       step_1 2017-05-24 18:44:51  \n",
       "755403        start 2017-05-24 18:44:34  \n",
       "755404        start 2017-06-03 12:17:09  \n",
       "\n",
       "[626883 rows x 5 columns]"
      ]
     },
     "metadata": {},
     "output_type": "display_data"
    },
    {
     "data": {
      "text/plain": [
       "'clients :'"
      ]
     },
     "metadata": {},
     "output_type": "display_data"
    },
    {
     "data": {
      "text/html": [
       "<div>\n",
       "<style scoped>\n",
       "    .dataframe tbody tr th:only-of-type {\n",
       "        vertical-align: middle;\n",
       "    }\n",
       "\n",
       "    .dataframe tbody tr th {\n",
       "        vertical-align: top;\n",
       "    }\n",
       "\n",
       "    .dataframe thead th {\n",
       "        text-align: right;\n",
       "    }\n",
       "</style>\n",
       "<table border=\"1\" class=\"dataframe\">\n",
       "  <thead>\n",
       "    <tr style=\"text-align: right;\">\n",
       "      <th></th>\n",
       "      <th>client_id</th>\n",
       "      <th>client_since_month</th>\n",
       "      <th>client_since_year</th>\n",
       "      <th>client_age</th>\n",
       "      <th>gender</th>\n",
       "      <th>number_of_accounts</th>\n",
       "      <th>balance</th>\n",
       "      <th>calls_6_months</th>\n",
       "      <th>logons_6_month</th>\n",
       "    </tr>\n",
       "  </thead>\n",
       "  <tbody>\n",
       "    <tr>\n",
       "      <th>count</th>\n",
       "      <td>5.048700e+04</td>\n",
       "      <td>50487.000000</td>\n",
       "      <td>50487.000000</td>\n",
       "      <td>50487.000000</td>\n",
       "      <td>50487</td>\n",
       "      <td>50487.000000</td>\n",
       "      <td>5.048700e+04</td>\n",
       "      <td>50487.000000</td>\n",
       "      <td>50487.000000</td>\n",
       "    </tr>\n",
       "    <tr>\n",
       "      <th>unique</th>\n",
       "      <td>NaN</td>\n",
       "      <td>NaN</td>\n",
       "      <td>NaN</td>\n",
       "      <td>NaN</td>\n",
       "      <td>3</td>\n",
       "      <td>NaN</td>\n",
       "      <td>NaN</td>\n",
       "      <td>NaN</td>\n",
       "      <td>NaN</td>\n",
       "    </tr>\n",
       "    <tr>\n",
       "      <th>top</th>\n",
       "      <td>NaN</td>\n",
       "      <td>NaN</td>\n",
       "      <td>NaN</td>\n",
       "      <td>NaN</td>\n",
       "      <td>U</td>\n",
       "      <td>NaN</td>\n",
       "      <td>NaN</td>\n",
       "      <td>NaN</td>\n",
       "      <td>NaN</td>\n",
       "    </tr>\n",
       "    <tr>\n",
       "      <th>freq</th>\n",
       "      <td>NaN</td>\n",
       "      <td>NaN</td>\n",
       "      <td>NaN</td>\n",
       "      <td>NaN</td>\n",
       "      <td>17282</td>\n",
       "      <td>NaN</td>\n",
       "      <td>NaN</td>\n",
       "      <td>NaN</td>\n",
       "      <td>NaN</td>\n",
       "    </tr>\n",
       "    <tr>\n",
       "      <th>mean</th>\n",
       "      <td>5.006180e+06</td>\n",
       "      <td>150.416365</td>\n",
       "      <td>12.031810</td>\n",
       "      <td>47.058451</td>\n",
       "      <td>NaN</td>\n",
       "      <td>2.254580</td>\n",
       "      <td>1.495168e+05</td>\n",
       "      <td>3.093272</td>\n",
       "      <td>6.131856</td>\n",
       "    </tr>\n",
       "    <tr>\n",
       "      <th>std</th>\n",
       "      <td>2.877445e+06</td>\n",
       "      <td>81.945403</td>\n",
       "      <td>6.860326</td>\n",
       "      <td>15.528092</td>\n",
       "      <td>NaN</td>\n",
       "      <td>0.533675</td>\n",
       "      <td>3.020390e+05</td>\n",
       "      <td>2.188009</td>\n",
       "      <td>2.175441</td>\n",
       "    </tr>\n",
       "    <tr>\n",
       "      <th>min</th>\n",
       "      <td>5.550000e+02</td>\n",
       "      <td>33.000000</td>\n",
       "      <td>2.000000</td>\n",
       "      <td>17.000000</td>\n",
       "      <td>NaN</td>\n",
       "      <td>1.000000</td>\n",
       "      <td>2.378944e+04</td>\n",
       "      <td>0.000000</td>\n",
       "      <td>3.000000</td>\n",
       "    </tr>\n",
       "    <tr>\n",
       "      <th>25%</th>\n",
       "      <td>2.515688e+06</td>\n",
       "      <td>82.000000</td>\n",
       "      <td>6.000000</td>\n",
       "      <td>33.000000</td>\n",
       "      <td>NaN</td>\n",
       "      <td>2.000000</td>\n",
       "      <td>3.987718e+04</td>\n",
       "      <td>1.000000</td>\n",
       "      <td>4.000000</td>\n",
       "    </tr>\n",
       "    <tr>\n",
       "      <th>50%</th>\n",
       "      <td>5.025043e+06</td>\n",
       "      <td>136.000000</td>\n",
       "      <td>11.000000</td>\n",
       "      <td>48.000000</td>\n",
       "      <td>NaN</td>\n",
       "      <td>2.000000</td>\n",
       "      <td>6.573433e+04</td>\n",
       "      <td>3.000000</td>\n",
       "      <td>6.000000</td>\n",
       "    </tr>\n",
       "    <tr>\n",
       "      <th>75%</th>\n",
       "      <td>7.477922e+06</td>\n",
       "      <td>192.000000</td>\n",
       "      <td>16.000000</td>\n",
       "      <td>59.000000</td>\n",
       "      <td>NaN</td>\n",
       "      <td>2.000000</td>\n",
       "      <td>1.399583e+05</td>\n",
       "      <td>5.000000</td>\n",
       "      <td>8.000000</td>\n",
       "    </tr>\n",
       "    <tr>\n",
       "      <th>max</th>\n",
       "      <td>9.999832e+06</td>\n",
       "      <td>669.000000</td>\n",
       "      <td>55.000000</td>\n",
       "      <td>96.000000</td>\n",
       "      <td>NaN</td>\n",
       "      <td>7.000000</td>\n",
       "      <td>1.632004e+07</td>\n",
       "      <td>6.000000</td>\n",
       "      <td>9.000000</td>\n",
       "    </tr>\n",
       "  </tbody>\n",
       "</table>\n",
       "</div>"
      ],
      "text/plain": [
       "           client_id  client_since_month  client_since_year    client_age  \\\n",
       "count   5.048700e+04        50487.000000       50487.000000  50487.000000   \n",
       "unique           NaN                 NaN                NaN           NaN   \n",
       "top              NaN                 NaN                NaN           NaN   \n",
       "freq             NaN                 NaN                NaN           NaN   \n",
       "mean    5.006180e+06          150.416365          12.031810     47.058451   \n",
       "std     2.877445e+06           81.945403           6.860326     15.528092   \n",
       "min     5.550000e+02           33.000000           2.000000     17.000000   \n",
       "25%     2.515688e+06           82.000000           6.000000     33.000000   \n",
       "50%     5.025043e+06          136.000000          11.000000     48.000000   \n",
       "75%     7.477922e+06          192.000000          16.000000     59.000000   \n",
       "max     9.999832e+06          669.000000          55.000000     96.000000   \n",
       "\n",
       "       gender  number_of_accounts       balance  calls_6_months  \\\n",
       "count   50487        50487.000000  5.048700e+04    50487.000000   \n",
       "unique      3                 NaN           NaN             NaN   \n",
       "top         U                 NaN           NaN             NaN   \n",
       "freq    17282                 NaN           NaN             NaN   \n",
       "mean      NaN            2.254580  1.495168e+05        3.093272   \n",
       "std       NaN            0.533675  3.020390e+05        2.188009   \n",
       "min       NaN            1.000000  2.378944e+04        0.000000   \n",
       "25%       NaN            2.000000  3.987718e+04        1.000000   \n",
       "50%       NaN            2.000000  6.573433e+04        3.000000   \n",
       "75%       NaN            2.000000  1.399583e+05        5.000000   \n",
       "max       NaN            7.000000  1.632004e+07        6.000000   \n",
       "\n",
       "        logons_6_month  \n",
       "count     50487.000000  \n",
       "unique             NaN  \n",
       "top                NaN  \n",
       "freq               NaN  \n",
       "mean          6.131856  \n",
       "std           2.175441  \n",
       "min           3.000000  \n",
       "25%           4.000000  \n",
       "50%           6.000000  \n",
       "75%           8.000000  \n",
       "max           9.000000  "
      ]
     },
     "metadata": {},
     "output_type": "display_data"
    },
    {
     "data": {
      "text/plain": [
       "'experiment :'"
      ]
     },
     "metadata": {},
     "output_type": "display_data"
    },
    {
     "data": {
      "text/html": [
       "<div>\n",
       "<style scoped>\n",
       "    .dataframe tbody tr th:only-of-type {\n",
       "        vertical-align: middle;\n",
       "    }\n",
       "\n",
       "    .dataframe tbody tr th {\n",
       "        vertical-align: top;\n",
       "    }\n",
       "\n",
       "    .dataframe thead th {\n",
       "        text-align: right;\n",
       "    }\n",
       "</style>\n",
       "<table border=\"1\" class=\"dataframe\">\n",
       "  <thead>\n",
       "    <tr style=\"text-align: right;\">\n",
       "      <th></th>\n",
       "      <th>client_id</th>\n",
       "      <th>variation</th>\n",
       "    </tr>\n",
       "  </thead>\n",
       "  <tbody>\n",
       "    <tr>\n",
       "      <th>count</th>\n",
       "      <td>5.048700e+04</td>\n",
       "      <td>50487</td>\n",
       "    </tr>\n",
       "    <tr>\n",
       "      <th>unique</th>\n",
       "      <td>NaN</td>\n",
       "      <td>2</td>\n",
       "    </tr>\n",
       "    <tr>\n",
       "      <th>top</th>\n",
       "      <td>NaN</td>\n",
       "      <td>Test</td>\n",
       "    </tr>\n",
       "    <tr>\n",
       "      <th>freq</th>\n",
       "      <td>NaN</td>\n",
       "      <td>26961</td>\n",
       "    </tr>\n",
       "    <tr>\n",
       "      <th>mean</th>\n",
       "      <td>5.006180e+06</td>\n",
       "      <td>NaN</td>\n",
       "    </tr>\n",
       "    <tr>\n",
       "      <th>std</th>\n",
       "      <td>2.877445e+06</td>\n",
       "      <td>NaN</td>\n",
       "    </tr>\n",
       "    <tr>\n",
       "      <th>min</th>\n",
       "      <td>5.550000e+02</td>\n",
       "      <td>NaN</td>\n",
       "    </tr>\n",
       "    <tr>\n",
       "      <th>25%</th>\n",
       "      <td>2.515688e+06</td>\n",
       "      <td>NaN</td>\n",
       "    </tr>\n",
       "    <tr>\n",
       "      <th>50%</th>\n",
       "      <td>5.025043e+06</td>\n",
       "      <td>NaN</td>\n",
       "    </tr>\n",
       "    <tr>\n",
       "      <th>75%</th>\n",
       "      <td>7.477922e+06</td>\n",
       "      <td>NaN</td>\n",
       "    </tr>\n",
       "    <tr>\n",
       "      <th>max</th>\n",
       "      <td>9.999832e+06</td>\n",
       "      <td>NaN</td>\n",
       "    </tr>\n",
       "  </tbody>\n",
       "</table>\n",
       "</div>"
      ],
      "text/plain": [
       "           client_id variation\n",
       "count   5.048700e+04     50487\n",
       "unique           NaN         2\n",
       "top              NaN      Test\n",
       "freq             NaN     26961\n",
       "mean    5.006180e+06       NaN\n",
       "std     2.877445e+06       NaN\n",
       "min     5.550000e+02       NaN\n",
       "25%     2.515688e+06       NaN\n",
       "50%     5.025043e+06       NaN\n",
       "75%     7.477922e+06       NaN\n",
       "max     9.999832e+06       NaN"
      ]
     },
     "metadata": {},
     "output_type": "display_data"
    },
    {
     "data": {
      "text/plain": [
       "'visits :'"
      ]
     },
     "metadata": {},
     "output_type": "display_data"
    },
    {
     "data": {
      "text/html": [
       "<div>\n",
       "<style scoped>\n",
       "    .dataframe tbody tr th:only-of-type {\n",
       "        vertical-align: middle;\n",
       "    }\n",
       "\n",
       "    .dataframe tbody tr th {\n",
       "        vertical-align: top;\n",
       "    }\n",
       "\n",
       "    .dataframe thead th {\n",
       "        text-align: right;\n",
       "    }\n",
       "</style>\n",
       "<table border=\"1\" class=\"dataframe\">\n",
       "  <thead>\n",
       "    <tr style=\"text-align: right;\">\n",
       "      <th></th>\n",
       "      <th>client_id</th>\n",
       "      <th>visitor_id</th>\n",
       "      <th>visit_id</th>\n",
       "      <th>process_step</th>\n",
       "      <th>date_time</th>\n",
       "    </tr>\n",
       "  </thead>\n",
       "  <tbody>\n",
       "    <tr>\n",
       "      <th>count</th>\n",
       "      <td>6.268830e+05</td>\n",
       "      <td>626883</td>\n",
       "      <td>626883</td>\n",
       "      <td>626883</td>\n",
       "      <td>626883</td>\n",
       "    </tr>\n",
       "    <tr>\n",
       "      <th>unique</th>\n",
       "      <td>NaN</td>\n",
       "      <td>108216</td>\n",
       "      <td>130607</td>\n",
       "      <td>5</td>\n",
       "      <td>NaN</td>\n",
       "    </tr>\n",
       "    <tr>\n",
       "      <th>top</th>\n",
       "      <td>NaN</td>\n",
       "      <td>857376424_12378092455</td>\n",
       "      <td>518285126_8572733997_709761</td>\n",
       "      <td>start</td>\n",
       "      <td>NaN</td>\n",
       "    </tr>\n",
       "    <tr>\n",
       "      <th>freq</th>\n",
       "      <td>NaN</td>\n",
       "      <td>90</td>\n",
       "      <td>88</td>\n",
       "      <td>202439</td>\n",
       "      <td>NaN</td>\n",
       "    </tr>\n",
       "    <tr>\n",
       "      <th>mean</th>\n",
       "      <td>5.019375e+06</td>\n",
       "      <td>NaN</td>\n",
       "      <td>NaN</td>\n",
       "      <td>NaN</td>\n",
       "      <td>2017-05-11 13:31:09.304526080</td>\n",
       "    </tr>\n",
       "    <tr>\n",
       "      <th>min</th>\n",
       "      <td>3.360000e+02</td>\n",
       "      <td>NaN</td>\n",
       "      <td>NaN</td>\n",
       "      <td>NaN</td>\n",
       "      <td>2017-03-15 00:19:28</td>\n",
       "    </tr>\n",
       "    <tr>\n",
       "      <th>25%</th>\n",
       "      <td>2.520436e+06</td>\n",
       "      <td>NaN</td>\n",
       "      <td>NaN</td>\n",
       "      <td>NaN</td>\n",
       "      <td>2017-04-12 11:21:16</td>\n",
       "    </tr>\n",
       "    <tr>\n",
       "      <th>50%</th>\n",
       "      <td>5.048509e+06</td>\n",
       "      <td>NaN</td>\n",
       "      <td>NaN</td>\n",
       "      <td>NaN</td>\n",
       "      <td>2017-05-24 12:42:27</td>\n",
       "    </tr>\n",
       "    <tr>\n",
       "      <th>75%</th>\n",
       "      <td>7.500857e+06</td>\n",
       "      <td>NaN</td>\n",
       "      <td>NaN</td>\n",
       "      <td>NaN</td>\n",
       "      <td>2017-06-04 22:13:12.500000</td>\n",
       "    </tr>\n",
       "    <tr>\n",
       "      <th>max</th>\n",
       "      <td>9.999875e+06</td>\n",
       "      <td>NaN</td>\n",
       "      <td>NaN</td>\n",
       "      <td>NaN</td>\n",
       "      <td>2017-06-20 23:59:57</td>\n",
       "    </tr>\n",
       "    <tr>\n",
       "      <th>std</th>\n",
       "      <td>2.880181e+06</td>\n",
       "      <td>NaN</td>\n",
       "      <td>NaN</td>\n",
       "      <td>NaN</td>\n",
       "      <td>NaN</td>\n",
       "    </tr>\n",
       "  </tbody>\n",
       "</table>\n",
       "</div>"
      ],
      "text/plain": [
       "           client_id             visitor_id                     visit_id  \\\n",
       "count   6.268830e+05                 626883                       626883   \n",
       "unique           NaN                 108216                       130607   \n",
       "top              NaN  857376424_12378092455  518285126_8572733997_709761   \n",
       "freq             NaN                     90                           88   \n",
       "mean    5.019375e+06                    NaN                          NaN   \n",
       "min     3.360000e+02                    NaN                          NaN   \n",
       "25%     2.520436e+06                    NaN                          NaN   \n",
       "50%     5.048509e+06                    NaN                          NaN   \n",
       "75%     7.500857e+06                    NaN                          NaN   \n",
       "max     9.999875e+06                    NaN                          NaN   \n",
       "std     2.880181e+06                    NaN                          NaN   \n",
       "\n",
       "       process_step                      date_time  \n",
       "count        626883                         626883  \n",
       "unique            5                            NaN  \n",
       "top           start                            NaN  \n",
       "freq         202439                            NaN  \n",
       "mean            NaN  2017-05-11 13:31:09.304526080  \n",
       "min             NaN            2017-03-15 00:19:28  \n",
       "25%             NaN            2017-04-12 11:21:16  \n",
       "50%             NaN            2017-05-24 12:42:27  \n",
       "75%             NaN     2017-06-04 22:13:12.500000  \n",
       "max             NaN            2017-06-20 23:59:57  \n",
       "std             NaN                            NaN  "
      ]
     },
     "metadata": {},
     "output_type": "display_data"
    },
    {
     "data": {
      "text/plain": [
       "'clients :'"
      ]
     },
     "metadata": {},
     "output_type": "display_data"
    },
    {
     "data": {
      "text/plain": [
       "client_id                int64\n",
       "client_since_month       int64\n",
       "client_since_year        int64\n",
       "client_age               int64\n",
       "gender                category\n",
       "number_of_accounts       int64\n",
       "balance                float64\n",
       "calls_6_months           int64\n",
       "logons_6_month           int64\n",
       "dtype: object"
      ]
     },
     "metadata": {},
     "output_type": "display_data"
    },
    {
     "data": {
      "text/plain": [
       "'experiment :'"
      ]
     },
     "metadata": {},
     "output_type": "display_data"
    },
    {
     "data": {
      "text/plain": [
       "client_id       int64\n",
       "variation    category\n",
       "dtype: object"
      ]
     },
     "metadata": {},
     "output_type": "display_data"
    },
    {
     "data": {
      "text/plain": [
       "'visits :'"
      ]
     },
     "metadata": {},
     "output_type": "display_data"
    },
    {
     "data": {
      "text/plain": [
       "client_id                int64\n",
       "visitor_id              object\n",
       "visit_id                object\n",
       "process_step          category\n",
       "date_time       datetime64[ns]\n",
       "dtype: object"
      ]
     },
     "metadata": {},
     "output_type": "display_data"
    },
    {
     "data": {
      "text/plain": [
       "variation\n",
       "Test       26961\n",
       "Control    23526\n",
       "Name: count, dtype: int64"
      ]
     },
     "execution_count": 104,
     "metadata": {},
     "output_type": "execute_result"
    }
   ],
   "source": [
    "display('clients :',client_df, 'experiment :',experiment_df, 'visits :',visits_df)\n",
    "display('clients :',client_df.describe(include='all'), 'experiment :',experiment_df.describe(include='all'), 'visits :',visits_df.describe(include='all'))\n",
    "display('clients :',client_df.dtypes, 'experiment :',experiment_df.dtypes, 'visits :',visits_df.dtypes)\n",
    "\n",
    "experiment_df['variation'].value_counts()\n"
   ]
  },
  {
   "cell_type": "markdown",
   "metadata": {},
   "source": [
    "## Data Exploration"
   ]
  },
  {
   "cell_type": "markdown",
   "metadata": {},
   "source": [
    "### Merge frames"
   ]
  },
  {
   "cell_type": "code",
   "execution_count": 105,
   "metadata": {},
   "outputs": [
    {
     "data": {
      "text/html": [
       "<div>\n",
       "<style scoped>\n",
       "    .dataframe tbody tr th:only-of-type {\n",
       "        vertical-align: middle;\n",
       "    }\n",
       "\n",
       "    .dataframe tbody tr th {\n",
       "        vertical-align: top;\n",
       "    }\n",
       "\n",
       "    .dataframe thead th {\n",
       "        text-align: right;\n",
       "    }\n",
       "</style>\n",
       "<table border=\"1\" class=\"dataframe\">\n",
       "  <thead>\n",
       "    <tr style=\"text-align: right;\">\n",
       "      <th></th>\n",
       "      <th>client_id</th>\n",
       "      <th>visitor_id</th>\n",
       "      <th>visit_id</th>\n",
       "      <th>process_step</th>\n",
       "      <th>date_time</th>\n",
       "      <th>variation</th>\n",
       "    </tr>\n",
       "  </thead>\n",
       "  <tbody>\n",
       "    <tr>\n",
       "      <th>0</th>\n",
       "      <td>9988021</td>\n",
       "      <td>580560515_7732621733</td>\n",
       "      <td>781255054_21935453173_531117</td>\n",
       "      <td>step_3</td>\n",
       "      <td>2017-04-17 15:27:07</td>\n",
       "      <td>Test</td>\n",
       "    </tr>\n",
       "    <tr>\n",
       "      <th>1</th>\n",
       "      <td>9988021</td>\n",
       "      <td>580560515_7732621733</td>\n",
       "      <td>781255054_21935453173_531117</td>\n",
       "      <td>step_2</td>\n",
       "      <td>2017-04-17 15:26:51</td>\n",
       "      <td>Test</td>\n",
       "    </tr>\n",
       "    <tr>\n",
       "      <th>2</th>\n",
       "      <td>9988021</td>\n",
       "      <td>580560515_7732621733</td>\n",
       "      <td>781255054_21935453173_531117</td>\n",
       "      <td>step_3</td>\n",
       "      <td>2017-04-17 15:19:22</td>\n",
       "      <td>Test</td>\n",
       "    </tr>\n",
       "    <tr>\n",
       "      <th>3</th>\n",
       "      <td>9988021</td>\n",
       "      <td>580560515_7732621733</td>\n",
       "      <td>781255054_21935453173_531117</td>\n",
       "      <td>step_2</td>\n",
       "      <td>2017-04-17 15:19:13</td>\n",
       "      <td>Test</td>\n",
       "    </tr>\n",
       "    <tr>\n",
       "      <th>4</th>\n",
       "      <td>9988021</td>\n",
       "      <td>580560515_7732621733</td>\n",
       "      <td>781255054_21935453173_531117</td>\n",
       "      <td>step_3</td>\n",
       "      <td>2017-04-17 15:18:04</td>\n",
       "      <td>Test</td>\n",
       "    </tr>\n",
       "    <tr>\n",
       "      <th>...</th>\n",
       "      <td>...</td>\n",
       "      <td>...</td>\n",
       "      <td>...</td>\n",
       "      <td>...</td>\n",
       "      <td>...</td>\n",
       "      <td>...</td>\n",
       "    </tr>\n",
       "    <tr>\n",
       "      <th>321190</th>\n",
       "      <td>1574008</td>\n",
       "      <td>117364417_77840596075</td>\n",
       "      <td>528720790_71583064618_169151</td>\n",
       "      <td>start</td>\n",
       "      <td>2017-05-06 23:43:27</td>\n",
       "      <td>Test</td>\n",
       "    </tr>\n",
       "    <tr>\n",
       "      <th>321191</th>\n",
       "      <td>2908510</td>\n",
       "      <td>814969699_90652851448</td>\n",
       "      <td>562606085_36368381773_92090</td>\n",
       "      <td>start</td>\n",
       "      <td>2017-05-10 22:57:17</td>\n",
       "      <td>Control</td>\n",
       "    </tr>\n",
       "    <tr>\n",
       "      <th>321192</th>\n",
       "      <td>2908510</td>\n",
       "      <td>814969699_90652851448</td>\n",
       "      <td>562606085_36368381773_92090</td>\n",
       "      <td>step_2</td>\n",
       "      <td>2017-05-10 22:56:31</td>\n",
       "      <td>Control</td>\n",
       "    </tr>\n",
       "    <tr>\n",
       "      <th>321193</th>\n",
       "      <td>2908510</td>\n",
       "      <td>814969699_90652851448</td>\n",
       "      <td>562606085_36368381773_92090</td>\n",
       "      <td>step_1</td>\n",
       "      <td>2017-05-10 22:56:23</td>\n",
       "      <td>Control</td>\n",
       "    </tr>\n",
       "    <tr>\n",
       "      <th>321194</th>\n",
       "      <td>2908510</td>\n",
       "      <td>814969699_90652851448</td>\n",
       "      <td>562606085_36368381773_92090</td>\n",
       "      <td>start</td>\n",
       "      <td>2017-05-10 22:56:20</td>\n",
       "      <td>Control</td>\n",
       "    </tr>\n",
       "  </tbody>\n",
       "</table>\n",
       "<p>321195 rows × 6 columns</p>\n",
       "</div>"
      ],
      "text/plain": [
       "        client_id             visitor_id                      visit_id  \\\n",
       "0         9988021   580560515_7732621733  781255054_21935453173_531117   \n",
       "1         9988021   580560515_7732621733  781255054_21935453173_531117   \n",
       "2         9988021   580560515_7732621733  781255054_21935453173_531117   \n",
       "3         9988021   580560515_7732621733  781255054_21935453173_531117   \n",
       "4         9988021   580560515_7732621733  781255054_21935453173_531117   \n",
       "...           ...                    ...                           ...   \n",
       "321190    1574008  117364417_77840596075  528720790_71583064618_169151   \n",
       "321191    2908510  814969699_90652851448   562606085_36368381773_92090   \n",
       "321192    2908510  814969699_90652851448   562606085_36368381773_92090   \n",
       "321193    2908510  814969699_90652851448   562606085_36368381773_92090   \n",
       "321194    2908510  814969699_90652851448   562606085_36368381773_92090   \n",
       "\n",
       "       process_step           date_time variation  \n",
       "0            step_3 2017-04-17 15:27:07      Test  \n",
       "1            step_2 2017-04-17 15:26:51      Test  \n",
       "2            step_3 2017-04-17 15:19:22      Test  \n",
       "3            step_2 2017-04-17 15:19:13      Test  \n",
       "4            step_3 2017-04-17 15:18:04      Test  \n",
       "...             ...                 ...       ...  \n",
       "321190        start 2017-05-06 23:43:27      Test  \n",
       "321191        start 2017-05-10 22:57:17   Control  \n",
       "321192       step_2 2017-05-10 22:56:31   Control  \n",
       "321193       step_1 2017-05-10 22:56:23   Control  \n",
       "321194        start 2017-05-10 22:56:20   Control  \n",
       "\n",
       "[321195 rows x 6 columns]"
      ]
     },
     "metadata": {},
     "output_type": "display_data"
    },
    {
     "data": {
      "text/plain": [
       "client_id                int64\n",
       "visitor_id              object\n",
       "visit_id                object\n",
       "process_step          category\n",
       "date_time       datetime64[ns]\n",
       "variation             category\n",
       "dtype: object"
      ]
     },
     "metadata": {},
     "output_type": "display_data"
    }
   ],
   "source": [
    "# Added variation column to visits for easier analysis\n",
    "visits_variations = visits_df.merge(experiment_df, on='client_id', how='inner')\n",
    "display(visits_variations)\n",
    "display(visits_variations.dtypes)"
   ]
  },
  {
   "cell_type": "code",
   "execution_count": 106,
   "metadata": {},
   "outputs": [
    {
     "data": {
      "text/html": [
       "<div>\n",
       "<style scoped>\n",
       "    .dataframe tbody tr th:only-of-type {\n",
       "        vertical-align: middle;\n",
       "    }\n",
       "\n",
       "    .dataframe tbody tr th {\n",
       "        vertical-align: top;\n",
       "    }\n",
       "\n",
       "    .dataframe thead th {\n",
       "        text-align: right;\n",
       "    }\n",
       "</style>\n",
       "<table border=\"1\" class=\"dataframe\">\n",
       "  <thead>\n",
       "    <tr style=\"text-align: right;\">\n",
       "      <th></th>\n",
       "      <th>client_id</th>\n",
       "      <th>visitor_id</th>\n",
       "      <th>visit_id</th>\n",
       "      <th>process_step</th>\n",
       "      <th>date_time</th>\n",
       "      <th>variation</th>\n",
       "      <th>client_since_month</th>\n",
       "      <th>client_since_year</th>\n",
       "      <th>client_age</th>\n",
       "      <th>gender</th>\n",
       "      <th>number_of_accounts</th>\n",
       "      <th>balance</th>\n",
       "      <th>calls_6_months</th>\n",
       "      <th>logons_6_month</th>\n",
       "    </tr>\n",
       "  </thead>\n",
       "  <tbody>\n",
       "    <tr>\n",
       "      <th>0</th>\n",
       "      <td>9988021</td>\n",
       "      <td>580560515_7732621733</td>\n",
       "      <td>781255054_21935453173_531117</td>\n",
       "      <td>step_3</td>\n",
       "      <td>2017-04-17 15:27:07</td>\n",
       "      <td>Test</td>\n",
       "      <td>64</td>\n",
       "      <td>5</td>\n",
       "      <td>79</td>\n",
       "      <td>U</td>\n",
       "      <td>2</td>\n",
       "      <td>189023.86</td>\n",
       "      <td>1</td>\n",
       "      <td>4</td>\n",
       "    </tr>\n",
       "    <tr>\n",
       "      <th>1</th>\n",
       "      <td>9988021</td>\n",
       "      <td>580560515_7732621733</td>\n",
       "      <td>781255054_21935453173_531117</td>\n",
       "      <td>step_2</td>\n",
       "      <td>2017-04-17 15:26:51</td>\n",
       "      <td>Test</td>\n",
       "      <td>64</td>\n",
       "      <td>5</td>\n",
       "      <td>79</td>\n",
       "      <td>U</td>\n",
       "      <td>2</td>\n",
       "      <td>189023.86</td>\n",
       "      <td>1</td>\n",
       "      <td>4</td>\n",
       "    </tr>\n",
       "    <tr>\n",
       "      <th>2</th>\n",
       "      <td>9988021</td>\n",
       "      <td>580560515_7732621733</td>\n",
       "      <td>781255054_21935453173_531117</td>\n",
       "      <td>step_3</td>\n",
       "      <td>2017-04-17 15:19:22</td>\n",
       "      <td>Test</td>\n",
       "      <td>64</td>\n",
       "      <td>5</td>\n",
       "      <td>79</td>\n",
       "      <td>U</td>\n",
       "      <td>2</td>\n",
       "      <td>189023.86</td>\n",
       "      <td>1</td>\n",
       "      <td>4</td>\n",
       "    </tr>\n",
       "    <tr>\n",
       "      <th>3</th>\n",
       "      <td>9988021</td>\n",
       "      <td>580560515_7732621733</td>\n",
       "      <td>781255054_21935453173_531117</td>\n",
       "      <td>step_2</td>\n",
       "      <td>2017-04-17 15:19:13</td>\n",
       "      <td>Test</td>\n",
       "      <td>64</td>\n",
       "      <td>5</td>\n",
       "      <td>79</td>\n",
       "      <td>U</td>\n",
       "      <td>2</td>\n",
       "      <td>189023.86</td>\n",
       "      <td>1</td>\n",
       "      <td>4</td>\n",
       "    </tr>\n",
       "    <tr>\n",
       "      <th>4</th>\n",
       "      <td>9988021</td>\n",
       "      <td>580560515_7732621733</td>\n",
       "      <td>781255054_21935453173_531117</td>\n",
       "      <td>step_3</td>\n",
       "      <td>2017-04-17 15:18:04</td>\n",
       "      <td>Test</td>\n",
       "      <td>64</td>\n",
       "      <td>5</td>\n",
       "      <td>79</td>\n",
       "      <td>U</td>\n",
       "      <td>2</td>\n",
       "      <td>189023.86</td>\n",
       "      <td>1</td>\n",
       "      <td>4</td>\n",
       "    </tr>\n",
       "    <tr>\n",
       "      <th>...</th>\n",
       "      <td>...</td>\n",
       "      <td>...</td>\n",
       "      <td>...</td>\n",
       "      <td>...</td>\n",
       "      <td>...</td>\n",
       "      <td>...</td>\n",
       "      <td>...</td>\n",
       "      <td>...</td>\n",
       "      <td>...</td>\n",
       "      <td>...</td>\n",
       "      <td>...</td>\n",
       "      <td>...</td>\n",
       "      <td>...</td>\n",
       "      <td>...</td>\n",
       "    </tr>\n",
       "    <tr>\n",
       "      <th>321190</th>\n",
       "      <td>1574008</td>\n",
       "      <td>117364417_77840596075</td>\n",
       "      <td>528720790_71583064618_169151</td>\n",
       "      <td>start</td>\n",
       "      <td>2017-05-06 23:43:27</td>\n",
       "      <td>Test</td>\n",
       "      <td>121</td>\n",
       "      <td>10</td>\n",
       "      <td>55</td>\n",
       "      <td>U</td>\n",
       "      <td>2</td>\n",
       "      <td>153238.83</td>\n",
       "      <td>3</td>\n",
       "      <td>6</td>\n",
       "    </tr>\n",
       "    <tr>\n",
       "      <th>321191</th>\n",
       "      <td>2908510</td>\n",
       "      <td>814969699_90652851448</td>\n",
       "      <td>562606085_36368381773_92090</td>\n",
       "      <td>start</td>\n",
       "      <td>2017-05-10 22:57:17</td>\n",
       "      <td>Control</td>\n",
       "      <td>252</td>\n",
       "      <td>21</td>\n",
       "      <td>34</td>\n",
       "      <td>M</td>\n",
       "      <td>3</td>\n",
       "      <td>141808.05</td>\n",
       "      <td>6</td>\n",
       "      <td>9</td>\n",
       "    </tr>\n",
       "    <tr>\n",
       "      <th>321192</th>\n",
       "      <td>2908510</td>\n",
       "      <td>814969699_90652851448</td>\n",
       "      <td>562606085_36368381773_92090</td>\n",
       "      <td>step_2</td>\n",
       "      <td>2017-05-10 22:56:31</td>\n",
       "      <td>Control</td>\n",
       "      <td>252</td>\n",
       "      <td>21</td>\n",
       "      <td>34</td>\n",
       "      <td>M</td>\n",
       "      <td>3</td>\n",
       "      <td>141808.05</td>\n",
       "      <td>6</td>\n",
       "      <td>9</td>\n",
       "    </tr>\n",
       "    <tr>\n",
       "      <th>321193</th>\n",
       "      <td>2908510</td>\n",
       "      <td>814969699_90652851448</td>\n",
       "      <td>562606085_36368381773_92090</td>\n",
       "      <td>step_1</td>\n",
       "      <td>2017-05-10 22:56:23</td>\n",
       "      <td>Control</td>\n",
       "      <td>252</td>\n",
       "      <td>21</td>\n",
       "      <td>34</td>\n",
       "      <td>M</td>\n",
       "      <td>3</td>\n",
       "      <td>141808.05</td>\n",
       "      <td>6</td>\n",
       "      <td>9</td>\n",
       "    </tr>\n",
       "    <tr>\n",
       "      <th>321194</th>\n",
       "      <td>2908510</td>\n",
       "      <td>814969699_90652851448</td>\n",
       "      <td>562606085_36368381773_92090</td>\n",
       "      <td>start</td>\n",
       "      <td>2017-05-10 22:56:20</td>\n",
       "      <td>Control</td>\n",
       "      <td>252</td>\n",
       "      <td>21</td>\n",
       "      <td>34</td>\n",
       "      <td>M</td>\n",
       "      <td>3</td>\n",
       "      <td>141808.05</td>\n",
       "      <td>6</td>\n",
       "      <td>9</td>\n",
       "    </tr>\n",
       "  </tbody>\n",
       "</table>\n",
       "<p>321195 rows × 14 columns</p>\n",
       "</div>"
      ],
      "text/plain": [
       "        client_id             visitor_id                      visit_id  \\\n",
       "0         9988021   580560515_7732621733  781255054_21935453173_531117   \n",
       "1         9988021   580560515_7732621733  781255054_21935453173_531117   \n",
       "2         9988021   580560515_7732621733  781255054_21935453173_531117   \n",
       "3         9988021   580560515_7732621733  781255054_21935453173_531117   \n",
       "4         9988021   580560515_7732621733  781255054_21935453173_531117   \n",
       "...           ...                    ...                           ...   \n",
       "321190    1574008  117364417_77840596075  528720790_71583064618_169151   \n",
       "321191    2908510  814969699_90652851448   562606085_36368381773_92090   \n",
       "321192    2908510  814969699_90652851448   562606085_36368381773_92090   \n",
       "321193    2908510  814969699_90652851448   562606085_36368381773_92090   \n",
       "321194    2908510  814969699_90652851448   562606085_36368381773_92090   \n",
       "\n",
       "       process_step           date_time variation  client_since_month  \\\n",
       "0            step_3 2017-04-17 15:27:07      Test                  64   \n",
       "1            step_2 2017-04-17 15:26:51      Test                  64   \n",
       "2            step_3 2017-04-17 15:19:22      Test                  64   \n",
       "3            step_2 2017-04-17 15:19:13      Test                  64   \n",
       "4            step_3 2017-04-17 15:18:04      Test                  64   \n",
       "...             ...                 ...       ...                 ...   \n",
       "321190        start 2017-05-06 23:43:27      Test                 121   \n",
       "321191        start 2017-05-10 22:57:17   Control                 252   \n",
       "321192       step_2 2017-05-10 22:56:31   Control                 252   \n",
       "321193       step_1 2017-05-10 22:56:23   Control                 252   \n",
       "321194        start 2017-05-10 22:56:20   Control                 252   \n",
       "\n",
       "        client_since_year  client_age gender  number_of_accounts    balance  \\\n",
       "0                       5          79      U                   2  189023.86   \n",
       "1                       5          79      U                   2  189023.86   \n",
       "2                       5          79      U                   2  189023.86   \n",
       "3                       5          79      U                   2  189023.86   \n",
       "4                       5          79      U                   2  189023.86   \n",
       "...                   ...         ...    ...                 ...        ...   \n",
       "321190                 10          55      U                   2  153238.83   \n",
       "321191                 21          34      M                   3  141808.05   \n",
       "321192                 21          34      M                   3  141808.05   \n",
       "321193                 21          34      M                   3  141808.05   \n",
       "321194                 21          34      M                   3  141808.05   \n",
       "\n",
       "        calls_6_months  logons_6_month  \n",
       "0                    1               4  \n",
       "1                    1               4  \n",
       "2                    1               4  \n",
       "3                    1               4  \n",
       "4                    1               4  \n",
       "...                ...             ...  \n",
       "321190               3               6  \n",
       "321191               6               9  \n",
       "321192               6               9  \n",
       "321193               6               9  \n",
       "321194               6               9  \n",
       "\n",
       "[321195 rows x 14 columns]"
      ]
     },
     "metadata": {},
     "output_type": "display_data"
    },
    {
     "data": {
      "text/plain": [
       "client_id                      int64\n",
       "visitor_id                    object\n",
       "visit_id                      object\n",
       "process_step                category\n",
       "date_time             datetime64[ns]\n",
       "variation                   category\n",
       "client_since_month             int64\n",
       "client_since_year              int64\n",
       "client_age                     int64\n",
       "gender                      category\n",
       "number_of_accounts             int64\n",
       "balance                      float64\n",
       "calls_6_months                 int64\n",
       "logons_6_month                 int64\n",
       "dtype: object"
      ]
     },
     "metadata": {},
     "output_type": "display_data"
    }
   ],
   "source": [
    "# Merge clients and visits for demographic analysis\n",
    "visits_variations = visits_variations.merge(client_df, on='client_id', how='inner')\n",
    "display(visits_variations)\n",
    "display(visits_variations.dtypes)\n"
   ]
  },
  {
   "cell_type": "code",
   "execution_count": 107,
   "metadata": {},
   "outputs": [],
   "source": [
    "cleaning.append({\"step\" : \"Remove unknown variation\", \"count\" : visits_variations['client_id'].nunique()})"
   ]
  },
  {
   "cell_type": "markdown",
   "metadata": {},
   "source": [
    "### Sort visits by time"
   ]
  },
  {
   "cell_type": "code",
   "execution_count": 108,
   "metadata": {},
   "outputs": [
    {
     "data": {
      "text/html": [
       "<div>\n",
       "<style scoped>\n",
       "    .dataframe tbody tr th:only-of-type {\n",
       "        vertical-align: middle;\n",
       "    }\n",
       "\n",
       "    .dataframe tbody tr th {\n",
       "        vertical-align: top;\n",
       "    }\n",
       "\n",
       "    .dataframe thead th {\n",
       "        text-align: right;\n",
       "    }\n",
       "</style>\n",
       "<table border=\"1\" class=\"dataframe\">\n",
       "  <thead>\n",
       "    <tr style=\"text-align: right;\">\n",
       "      <th></th>\n",
       "      <th>client_id</th>\n",
       "      <th>visitor_id</th>\n",
       "      <th>visit_id</th>\n",
       "      <th>process_step</th>\n",
       "      <th>date_time</th>\n",
       "      <th>variation</th>\n",
       "      <th>client_since_month</th>\n",
       "      <th>client_since_year</th>\n",
       "      <th>client_age</th>\n",
       "      <th>gender</th>\n",
       "      <th>number_of_accounts</th>\n",
       "      <th>balance</th>\n",
       "      <th>calls_6_months</th>\n",
       "      <th>logons_6_month</th>\n",
       "    </tr>\n",
       "  </thead>\n",
       "  <tbody>\n",
       "    <tr>\n",
       "      <th>106827</th>\n",
       "      <td>3561384</td>\n",
       "      <td>451664975_1722933822</td>\n",
       "      <td>100012776_37918976071_457913</td>\n",
       "      <td>confirm</td>\n",
       "      <td>2017-04-26 13:22:17</td>\n",
       "      <td>Test</td>\n",
       "      <td>56</td>\n",
       "      <td>4</td>\n",
       "      <td>59</td>\n",
       "      <td>U</td>\n",
       "      <td>2</td>\n",
       "      <td>63130.44</td>\n",
       "      <td>6</td>\n",
       "      <td>9</td>\n",
       "    </tr>\n",
       "    <tr>\n",
       "      <th>106826</th>\n",
       "      <td>3561384</td>\n",
       "      <td>451664975_1722933822</td>\n",
       "      <td>100012776_37918976071_457913</td>\n",
       "      <td>confirm</td>\n",
       "      <td>2017-04-26 13:23:09</td>\n",
       "      <td>Test</td>\n",
       "      <td>56</td>\n",
       "      <td>4</td>\n",
       "      <td>59</td>\n",
       "      <td>U</td>\n",
       "      <td>2</td>\n",
       "      <td>63130.44</td>\n",
       "      <td>6</td>\n",
       "      <td>9</td>\n",
       "    </tr>\n",
       "    <tr>\n",
       "      <th>236490</th>\n",
       "      <td>7338123</td>\n",
       "      <td>612065484_94198474375</td>\n",
       "      <td>100019538_17884295066_43909</td>\n",
       "      <td>start</td>\n",
       "      <td>2017-04-09 16:20:56</td>\n",
       "      <td>Test</td>\n",
       "      <td>88</td>\n",
       "      <td>7</td>\n",
       "      <td>23</td>\n",
       "      <td>M</td>\n",
       "      <td>2</td>\n",
       "      <td>26436.73</td>\n",
       "      <td>6</td>\n",
       "      <td>9</td>\n",
       "    </tr>\n",
       "    <tr>\n",
       "      <th>236489</th>\n",
       "      <td>7338123</td>\n",
       "      <td>612065484_94198474375</td>\n",
       "      <td>100019538_17884295066_43909</td>\n",
       "      <td>step_1</td>\n",
       "      <td>2017-04-09 16:21:12</td>\n",
       "      <td>Test</td>\n",
       "      <td>88</td>\n",
       "      <td>7</td>\n",
       "      <td>23</td>\n",
       "      <td>M</td>\n",
       "      <td>2</td>\n",
       "      <td>26436.73</td>\n",
       "      <td>6</td>\n",
       "      <td>9</td>\n",
       "    </tr>\n",
       "    <tr>\n",
       "      <th>236488</th>\n",
       "      <td>7338123</td>\n",
       "      <td>612065484_94198474375</td>\n",
       "      <td>100019538_17884295066_43909</td>\n",
       "      <td>step_2</td>\n",
       "      <td>2017-04-09 16:21:21</td>\n",
       "      <td>Test</td>\n",
       "      <td>88</td>\n",
       "      <td>7</td>\n",
       "      <td>23</td>\n",
       "      <td>M</td>\n",
       "      <td>2</td>\n",
       "      <td>26436.73</td>\n",
       "      <td>6</td>\n",
       "      <td>9</td>\n",
       "    </tr>\n",
       "    <tr>\n",
       "      <th>...</th>\n",
       "      <td>...</td>\n",
       "      <td>...</td>\n",
       "      <td>...</td>\n",
       "      <td>...</td>\n",
       "      <td>...</td>\n",
       "      <td>...</td>\n",
       "      <td>...</td>\n",
       "      <td>...</td>\n",
       "      <td>...</td>\n",
       "      <td>...</td>\n",
       "      <td>...</td>\n",
       "      <td>...</td>\n",
       "      <td>...</td>\n",
       "      <td>...</td>\n",
       "    </tr>\n",
       "    <tr>\n",
       "      <th>95624</th>\n",
       "      <td>6627522</td>\n",
       "      <td>730634087_44272418812</td>\n",
       "      <td>999988789_76411676596_272843</td>\n",
       "      <td>start</td>\n",
       "      <td>2017-04-21 23:49:11</td>\n",
       "      <td>Test</td>\n",
       "      <td>227</td>\n",
       "      <td>18</td>\n",
       "      <td>58</td>\n",
       "      <td>F</td>\n",
       "      <td>2</td>\n",
       "      <td>1056775.54</td>\n",
       "      <td>6</td>\n",
       "      <td>9</td>\n",
       "    </tr>\n",
       "    <tr>\n",
       "      <th>95623</th>\n",
       "      <td>6627522</td>\n",
       "      <td>730634087_44272418812</td>\n",
       "      <td>999988789_76411676596_272843</td>\n",
       "      <td>step_1</td>\n",
       "      <td>2017-04-21 23:49:22</td>\n",
       "      <td>Test</td>\n",
       "      <td>227</td>\n",
       "      <td>18</td>\n",
       "      <td>58</td>\n",
       "      <td>F</td>\n",
       "      <td>2</td>\n",
       "      <td>1056775.54</td>\n",
       "      <td>6</td>\n",
       "      <td>9</td>\n",
       "    </tr>\n",
       "    <tr>\n",
       "      <th>95622</th>\n",
       "      <td>6627522</td>\n",
       "      <td>730634087_44272418812</td>\n",
       "      <td>999988789_76411676596_272843</td>\n",
       "      <td>step_2</td>\n",
       "      <td>2017-04-21 23:50:16</td>\n",
       "      <td>Test</td>\n",
       "      <td>227</td>\n",
       "      <td>18</td>\n",
       "      <td>58</td>\n",
       "      <td>F</td>\n",
       "      <td>2</td>\n",
       "      <td>1056775.54</td>\n",
       "      <td>6</td>\n",
       "      <td>9</td>\n",
       "    </tr>\n",
       "    <tr>\n",
       "      <th>95621</th>\n",
       "      <td>6627522</td>\n",
       "      <td>730634087_44272418812</td>\n",
       "      <td>999988789_76411676596_272843</td>\n",
       "      <td>step_1</td>\n",
       "      <td>2017-04-21 23:51:00</td>\n",
       "      <td>Test</td>\n",
       "      <td>227</td>\n",
       "      <td>18</td>\n",
       "      <td>58</td>\n",
       "      <td>F</td>\n",
       "      <td>2</td>\n",
       "      <td>1056775.54</td>\n",
       "      <td>6</td>\n",
       "      <td>9</td>\n",
       "    </tr>\n",
       "    <tr>\n",
       "      <th>95620</th>\n",
       "      <td>6627522</td>\n",
       "      <td>730634087_44272418812</td>\n",
       "      <td>999988789_76411676596_272843</td>\n",
       "      <td>start</td>\n",
       "      <td>2017-04-21 23:51:09</td>\n",
       "      <td>Test</td>\n",
       "      <td>227</td>\n",
       "      <td>18</td>\n",
       "      <td>58</td>\n",
       "      <td>F</td>\n",
       "      <td>2</td>\n",
       "      <td>1056775.54</td>\n",
       "      <td>6</td>\n",
       "      <td>9</td>\n",
       "    </tr>\n",
       "  </tbody>\n",
       "</table>\n",
       "<p>321195 rows × 14 columns</p>\n",
       "</div>"
      ],
      "text/plain": [
       "        client_id             visitor_id                      visit_id  \\\n",
       "106827    3561384   451664975_1722933822  100012776_37918976071_457913   \n",
       "106826    3561384   451664975_1722933822  100012776_37918976071_457913   \n",
       "236490    7338123  612065484_94198474375   100019538_17884295066_43909   \n",
       "236489    7338123  612065484_94198474375   100019538_17884295066_43909   \n",
       "236488    7338123  612065484_94198474375   100019538_17884295066_43909   \n",
       "...           ...                    ...                           ...   \n",
       "95624     6627522  730634087_44272418812  999988789_76411676596_272843   \n",
       "95623     6627522  730634087_44272418812  999988789_76411676596_272843   \n",
       "95622     6627522  730634087_44272418812  999988789_76411676596_272843   \n",
       "95621     6627522  730634087_44272418812  999988789_76411676596_272843   \n",
       "95620     6627522  730634087_44272418812  999988789_76411676596_272843   \n",
       "\n",
       "       process_step           date_time variation  client_since_month  \\\n",
       "106827      confirm 2017-04-26 13:22:17      Test                  56   \n",
       "106826      confirm 2017-04-26 13:23:09      Test                  56   \n",
       "236490        start 2017-04-09 16:20:56      Test                  88   \n",
       "236489       step_1 2017-04-09 16:21:12      Test                  88   \n",
       "236488       step_2 2017-04-09 16:21:21      Test                  88   \n",
       "...             ...                 ...       ...                 ...   \n",
       "95624         start 2017-04-21 23:49:11      Test                 227   \n",
       "95623        step_1 2017-04-21 23:49:22      Test                 227   \n",
       "95622        step_2 2017-04-21 23:50:16      Test                 227   \n",
       "95621        step_1 2017-04-21 23:51:00      Test                 227   \n",
       "95620         start 2017-04-21 23:51:09      Test                 227   \n",
       "\n",
       "        client_since_year  client_age gender  number_of_accounts     balance  \\\n",
       "106827                  4          59      U                   2    63130.44   \n",
       "106826                  4          59      U                   2    63130.44   \n",
       "236490                  7          23      M                   2    26436.73   \n",
       "236489                  7          23      M                   2    26436.73   \n",
       "236488                  7          23      M                   2    26436.73   \n",
       "...                   ...         ...    ...                 ...         ...   \n",
       "95624                  18          58      F                   2  1056775.54   \n",
       "95623                  18          58      F                   2  1056775.54   \n",
       "95622                  18          58      F                   2  1056775.54   \n",
       "95621                  18          58      F                   2  1056775.54   \n",
       "95620                  18          58      F                   2  1056775.54   \n",
       "\n",
       "        calls_6_months  logons_6_month  \n",
       "106827               6               9  \n",
       "106826               6               9  \n",
       "236490               6               9  \n",
       "236489               6               9  \n",
       "236488               6               9  \n",
       "...                ...             ...  \n",
       "95624                6               9  \n",
       "95623                6               9  \n",
       "95622                6               9  \n",
       "95621                6               9  \n",
       "95620                6               9  \n",
       "\n",
       "[321195 rows x 14 columns]"
      ]
     },
     "metadata": {},
     "output_type": "display_data"
    }
   ],
   "source": [
    "# sort by visit_id and date_time to see the process steps in order\n",
    "visits_variations = visits_variations.sort_values(by=['visit_id', 'date_time'], ascending=[True, True])\n",
    "display(visits_variations)\n"
   ]
  },
  {
   "cell_type": "markdown",
   "metadata": {},
   "source": [
    "### Remove repeat and shared visits\n"
   ]
  },
  {
   "cell_type": "code",
   "execution_count": 109,
   "metadata": {},
   "outputs": [
    {
     "data": {
      "text/html": [
       "<div>\n",
       "<style scoped>\n",
       "    .dataframe tbody tr th:only-of-type {\n",
       "        vertical-align: middle;\n",
       "    }\n",
       "\n",
       "    .dataframe tbody tr th {\n",
       "        vertical-align: top;\n",
       "    }\n",
       "\n",
       "    .dataframe thead th {\n",
       "        text-align: right;\n",
       "    }\n",
       "</style>\n",
       "<table border=\"1\" class=\"dataframe\">\n",
       "  <thead>\n",
       "    <tr style=\"text-align: right;\">\n",
       "      <th></th>\n",
       "      <th>client_id</th>\n",
       "      <th>visitor_id</th>\n",
       "      <th>visit_id</th>\n",
       "      <th>process_step</th>\n",
       "      <th>date_time</th>\n",
       "      <th>variation</th>\n",
       "      <th>client_since_month</th>\n",
       "      <th>client_since_year</th>\n",
       "      <th>client_age</th>\n",
       "      <th>gender</th>\n",
       "      <th>number_of_accounts</th>\n",
       "      <th>balance</th>\n",
       "      <th>calls_6_months</th>\n",
       "      <th>logons_6_month</th>\n",
       "    </tr>\n",
       "  </thead>\n",
       "  <tbody>\n",
       "    <tr>\n",
       "      <th>106827</th>\n",
       "      <td>3561384</td>\n",
       "      <td>451664975_1722933822</td>\n",
       "      <td>100012776_37918976071_457913</td>\n",
       "      <td>confirm</td>\n",
       "      <td>2017-04-26 13:22:17</td>\n",
       "      <td>Test</td>\n",
       "      <td>56</td>\n",
       "      <td>4</td>\n",
       "      <td>59</td>\n",
       "      <td>U</td>\n",
       "      <td>2</td>\n",
       "      <td>63130.44</td>\n",
       "      <td>6</td>\n",
       "      <td>9</td>\n",
       "    </tr>\n",
       "    <tr>\n",
       "      <th>236490</th>\n",
       "      <td>7338123</td>\n",
       "      <td>612065484_94198474375</td>\n",
       "      <td>100019538_17884295066_43909</td>\n",
       "      <td>start</td>\n",
       "      <td>2017-04-09 16:20:56</td>\n",
       "      <td>Test</td>\n",
       "      <td>88</td>\n",
       "      <td>7</td>\n",
       "      <td>23</td>\n",
       "      <td>M</td>\n",
       "      <td>2</td>\n",
       "      <td>26436.73</td>\n",
       "      <td>6</td>\n",
       "      <td>9</td>\n",
       "    </tr>\n",
       "    <tr>\n",
       "      <th>243695</th>\n",
       "      <td>2478628</td>\n",
       "      <td>754122351_18568832435</td>\n",
       "      <td>100022086_87870757897_149620</td>\n",
       "      <td>start</td>\n",
       "      <td>2017-05-23 20:44:01</td>\n",
       "      <td>Test</td>\n",
       "      <td>198</td>\n",
       "      <td>16</td>\n",
       "      <td>47</td>\n",
       "      <td>F</td>\n",
       "      <td>2</td>\n",
       "      <td>32456.28</td>\n",
       "      <td>2</td>\n",
       "      <td>5</td>\n",
       "    </tr>\n",
       "    <tr>\n",
       "      <th>235338</th>\n",
       "      <td>105007</td>\n",
       "      <td>676020267_36602664238</td>\n",
       "      <td>100030127_47967100085_936361</td>\n",
       "      <td>start</td>\n",
       "      <td>2017-03-22 11:07:49</td>\n",
       "      <td>Control</td>\n",
       "      <td>118</td>\n",
       "      <td>9</td>\n",
       "      <td>35</td>\n",
       "      <td>F</td>\n",
       "      <td>2</td>\n",
       "      <td>34897.47</td>\n",
       "      <td>3</td>\n",
       "      <td>6</td>\n",
       "    </tr>\n",
       "    <tr>\n",
       "      <th>27085</th>\n",
       "      <td>5623007</td>\n",
       "      <td>700426174_33289797318</td>\n",
       "      <td>100037962_47432393712_705583</td>\n",
       "      <td>start</td>\n",
       "      <td>2017-04-14 16:41:51</td>\n",
       "      <td>Control</td>\n",
       "      <td>202</td>\n",
       "      <td>16</td>\n",
       "      <td>78</td>\n",
       "      <td>M</td>\n",
       "      <td>2</td>\n",
       "      <td>146827.14</td>\n",
       "      <td>5</td>\n",
       "      <td>8</td>\n",
       "    </tr>\n",
       "    <tr>\n",
       "      <th>...</th>\n",
       "      <td>...</td>\n",
       "      <td>...</td>\n",
       "      <td>...</td>\n",
       "      <td>...</td>\n",
       "      <td>...</td>\n",
       "      <td>...</td>\n",
       "      <td>...</td>\n",
       "      <td>...</td>\n",
       "      <td>...</td>\n",
       "      <td>...</td>\n",
       "      <td>...</td>\n",
       "      <td>...</td>\n",
       "      <td>...</td>\n",
       "      <td>...</td>\n",
       "    </tr>\n",
       "    <tr>\n",
       "      <th>181050</th>\n",
       "      <td>9498187</td>\n",
       "      <td>599653496_46358190244</td>\n",
       "      <td>999954858_74676709104_879685</td>\n",
       "      <td>start</td>\n",
       "      <td>2017-04-05 11:13:34</td>\n",
       "      <td>Test</td>\n",
       "      <td>60</td>\n",
       "      <td>5</td>\n",
       "      <td>21</td>\n",
       "      <td>U</td>\n",
       "      <td>2</td>\n",
       "      <td>31295.49</td>\n",
       "      <td>6</td>\n",
       "      <td>9</td>\n",
       "    </tr>\n",
       "    <tr>\n",
       "      <th>73134</th>\n",
       "      <td>8971313</td>\n",
       "      <td>520929316_99288864740</td>\n",
       "      <td>999958344_67534252886_39917</td>\n",
       "      <td>start</td>\n",
       "      <td>2017-04-15 00:34:32</td>\n",
       "      <td>Test</td>\n",
       "      <td>95</td>\n",
       "      <td>7</td>\n",
       "      <td>25</td>\n",
       "      <td>U</td>\n",
       "      <td>2</td>\n",
       "      <td>46555.07</td>\n",
       "      <td>6</td>\n",
       "      <td>9</td>\n",
       "    </tr>\n",
       "    <tr>\n",
       "      <th>8441</th>\n",
       "      <td>2979920</td>\n",
       "      <td>830229399_73416253406</td>\n",
       "      <td>999971096_28827267783_236076</td>\n",
       "      <td>start</td>\n",
       "      <td>2017-04-13 10:31:49</td>\n",
       "      <td>Test</td>\n",
       "      <td>138</td>\n",
       "      <td>11</td>\n",
       "      <td>28</td>\n",
       "      <td>F</td>\n",
       "      <td>2</td>\n",
       "      <td>83799.17</td>\n",
       "      <td>1</td>\n",
       "      <td>4</td>\n",
       "    </tr>\n",
       "    <tr>\n",
       "      <th>209404</th>\n",
       "      <td>4449968</td>\n",
       "      <td>842902495_57580498240</td>\n",
       "      <td>999976049_95772503197_182554</td>\n",
       "      <td>start</td>\n",
       "      <td>2017-04-04 12:50:10</td>\n",
       "      <td>Test</td>\n",
       "      <td>252</td>\n",
       "      <td>21</td>\n",
       "      <td>53</td>\n",
       "      <td>F</td>\n",
       "      <td>4</td>\n",
       "      <td>124701.46</td>\n",
       "      <td>2</td>\n",
       "      <td>5</td>\n",
       "    </tr>\n",
       "    <tr>\n",
       "      <th>90971</th>\n",
       "      <td>4064969</td>\n",
       "      <td>110735946_42614968419</td>\n",
       "      <td>999985675_64610694964_443659</td>\n",
       "      <td>start</td>\n",
       "      <td>2017-04-20 09:45:18</td>\n",
       "      <td>Control</td>\n",
       "      <td>75</td>\n",
       "      <td>6</td>\n",
       "      <td>64</td>\n",
       "      <td>U</td>\n",
       "      <td>2</td>\n",
       "      <td>74783.76</td>\n",
       "      <td>5</td>\n",
       "      <td>8</td>\n",
       "    </tr>\n",
       "  </tbody>\n",
       "</table>\n",
       "<p>50109 rows × 14 columns</p>\n",
       "</div>"
      ],
      "text/plain": [
       "        client_id             visitor_id                      visit_id  \\\n",
       "106827    3561384   451664975_1722933822  100012776_37918976071_457913   \n",
       "236490    7338123  612065484_94198474375   100019538_17884295066_43909   \n",
       "243695    2478628  754122351_18568832435  100022086_87870757897_149620   \n",
       "235338     105007  676020267_36602664238  100030127_47967100085_936361   \n",
       "27085     5623007  700426174_33289797318  100037962_47432393712_705583   \n",
       "...           ...                    ...                           ...   \n",
       "181050    9498187  599653496_46358190244  999954858_74676709104_879685   \n",
       "73134     8971313  520929316_99288864740   999958344_67534252886_39917   \n",
       "8441      2979920  830229399_73416253406  999971096_28827267783_236076   \n",
       "209404    4449968  842902495_57580498240  999976049_95772503197_182554   \n",
       "90971     4064969  110735946_42614968419  999985675_64610694964_443659   \n",
       "\n",
       "       process_step           date_time variation  client_since_month  \\\n",
       "106827      confirm 2017-04-26 13:22:17      Test                  56   \n",
       "236490        start 2017-04-09 16:20:56      Test                  88   \n",
       "243695        start 2017-05-23 20:44:01      Test                 198   \n",
       "235338        start 2017-03-22 11:07:49   Control                 118   \n",
       "27085         start 2017-04-14 16:41:51   Control                 202   \n",
       "...             ...                 ...       ...                 ...   \n",
       "181050        start 2017-04-05 11:13:34      Test                  60   \n",
       "73134         start 2017-04-15 00:34:32      Test                  95   \n",
       "8441          start 2017-04-13 10:31:49      Test                 138   \n",
       "209404        start 2017-04-04 12:50:10      Test                 252   \n",
       "90971         start 2017-04-20 09:45:18   Control                  75   \n",
       "\n",
       "        client_since_year  client_age gender  number_of_accounts    balance  \\\n",
       "106827                  4          59      U                   2   63130.44   \n",
       "236490                  7          23      M                   2   26436.73   \n",
       "243695                 16          47      F                   2   32456.28   \n",
       "235338                  9          35      F                   2   34897.47   \n",
       "27085                  16          78      M                   2  146827.14   \n",
       "...                   ...         ...    ...                 ...        ...   \n",
       "181050                  5          21      U                   2   31295.49   \n",
       "73134                   7          25      U                   2   46555.07   \n",
       "8441                   11          28      F                   2   83799.17   \n",
       "209404                 21          53      F                   4  124701.46   \n",
       "90971                   6          64      U                   2   74783.76   \n",
       "\n",
       "        calls_6_months  logons_6_month  \n",
       "106827               6               9  \n",
       "236490               6               9  \n",
       "243695               2               5  \n",
       "235338               3               6  \n",
       "27085                5               8  \n",
       "...                ...             ...  \n",
       "181050               6               9  \n",
       "73134                6               9  \n",
       "8441                 1               4  \n",
       "209404               2               5  \n",
       "90971                5               8  \n",
       "\n",
       "[50109 rows x 14 columns]"
      ]
     },
     "metadata": {},
     "output_type": "display_data"
    },
    {
     "data": {
      "text/html": [
       "<div>\n",
       "<style scoped>\n",
       "    .dataframe tbody tr th:only-of-type {\n",
       "        vertical-align: middle;\n",
       "    }\n",
       "\n",
       "    .dataframe tbody tr th {\n",
       "        vertical-align: top;\n",
       "    }\n",
       "\n",
       "    .dataframe thead th {\n",
       "        text-align: right;\n",
       "    }\n",
       "</style>\n",
       "<table border=\"1\" class=\"dataframe\">\n",
       "  <thead>\n",
       "    <tr style=\"text-align: right;\">\n",
       "      <th></th>\n",
       "      <th>client_id</th>\n",
       "      <th>visitor_id</th>\n",
       "      <th>visit_id</th>\n",
       "      <th>process_step</th>\n",
       "      <th>date_time</th>\n",
       "      <th>variation</th>\n",
       "      <th>client_since_month</th>\n",
       "      <th>client_since_year</th>\n",
       "      <th>client_age</th>\n",
       "      <th>gender</th>\n",
       "      <th>number_of_accounts</th>\n",
       "      <th>balance</th>\n",
       "      <th>calls_6_months</th>\n",
       "      <th>logons_6_month</th>\n",
       "    </tr>\n",
       "  </thead>\n",
       "  <tbody>\n",
       "    <tr>\n",
       "      <th>106827</th>\n",
       "      <td>3561384</td>\n",
       "      <td>451664975_1722933822</td>\n",
       "      <td>100012776_37918976071_457913</td>\n",
       "      <td>confirm</td>\n",
       "      <td>2017-04-26 13:22:17</td>\n",
       "      <td>Test</td>\n",
       "      <td>56</td>\n",
       "      <td>4</td>\n",
       "      <td>59</td>\n",
       "      <td>U</td>\n",
       "      <td>2</td>\n",
       "      <td>63130.44</td>\n",
       "      <td>6</td>\n",
       "      <td>9</td>\n",
       "    </tr>\n",
       "    <tr>\n",
       "      <th>106826</th>\n",
       "      <td>3561384</td>\n",
       "      <td>451664975_1722933822</td>\n",
       "      <td>100012776_37918976071_457913</td>\n",
       "      <td>confirm</td>\n",
       "      <td>2017-04-26 13:23:09</td>\n",
       "      <td>Test</td>\n",
       "      <td>56</td>\n",
       "      <td>4</td>\n",
       "      <td>59</td>\n",
       "      <td>U</td>\n",
       "      <td>2</td>\n",
       "      <td>63130.44</td>\n",
       "      <td>6</td>\n",
       "      <td>9</td>\n",
       "    </tr>\n",
       "    <tr>\n",
       "      <th>236490</th>\n",
       "      <td>7338123</td>\n",
       "      <td>612065484_94198474375</td>\n",
       "      <td>100019538_17884295066_43909</td>\n",
       "      <td>start</td>\n",
       "      <td>2017-04-09 16:20:56</td>\n",
       "      <td>Test</td>\n",
       "      <td>88</td>\n",
       "      <td>7</td>\n",
       "      <td>23</td>\n",
       "      <td>M</td>\n",
       "      <td>2</td>\n",
       "      <td>26436.73</td>\n",
       "      <td>6</td>\n",
       "      <td>9</td>\n",
       "    </tr>\n",
       "    <tr>\n",
       "      <th>236489</th>\n",
       "      <td>7338123</td>\n",
       "      <td>612065484_94198474375</td>\n",
       "      <td>100019538_17884295066_43909</td>\n",
       "      <td>step_1</td>\n",
       "      <td>2017-04-09 16:21:12</td>\n",
       "      <td>Test</td>\n",
       "      <td>88</td>\n",
       "      <td>7</td>\n",
       "      <td>23</td>\n",
       "      <td>M</td>\n",
       "      <td>2</td>\n",
       "      <td>26436.73</td>\n",
       "      <td>6</td>\n",
       "      <td>9</td>\n",
       "    </tr>\n",
       "    <tr>\n",
       "      <th>236488</th>\n",
       "      <td>7338123</td>\n",
       "      <td>612065484_94198474375</td>\n",
       "      <td>100019538_17884295066_43909</td>\n",
       "      <td>step_2</td>\n",
       "      <td>2017-04-09 16:21:21</td>\n",
       "      <td>Test</td>\n",
       "      <td>88</td>\n",
       "      <td>7</td>\n",
       "      <td>23</td>\n",
       "      <td>M</td>\n",
       "      <td>2</td>\n",
       "      <td>26436.73</td>\n",
       "      <td>6</td>\n",
       "      <td>9</td>\n",
       "    </tr>\n",
       "    <tr>\n",
       "      <th>...</th>\n",
       "      <td>...</td>\n",
       "      <td>...</td>\n",
       "      <td>...</td>\n",
       "      <td>...</td>\n",
       "      <td>...</td>\n",
       "      <td>...</td>\n",
       "      <td>...</td>\n",
       "      <td>...</td>\n",
       "      <td>...</td>\n",
       "      <td>...</td>\n",
       "      <td>...</td>\n",
       "      <td>...</td>\n",
       "      <td>...</td>\n",
       "      <td>...</td>\n",
       "    </tr>\n",
       "    <tr>\n",
       "      <th>90971</th>\n",
       "      <td>4064969</td>\n",
       "      <td>110735946_42614968419</td>\n",
       "      <td>999985675_64610694964_443659</td>\n",
       "      <td>start</td>\n",
       "      <td>2017-04-20 09:45:18</td>\n",
       "      <td>Control</td>\n",
       "      <td>75</td>\n",
       "      <td>6</td>\n",
       "      <td>64</td>\n",
       "      <td>U</td>\n",
       "      <td>2</td>\n",
       "      <td>74783.76</td>\n",
       "      <td>5</td>\n",
       "      <td>8</td>\n",
       "    </tr>\n",
       "    <tr>\n",
       "      <th>90970</th>\n",
       "      <td>4064969</td>\n",
       "      <td>110735946_42614968419</td>\n",
       "      <td>999985675_64610694964_443659</td>\n",
       "      <td>step_1</td>\n",
       "      <td>2017-04-20 09:46:26</td>\n",
       "      <td>Control</td>\n",
       "      <td>75</td>\n",
       "      <td>6</td>\n",
       "      <td>64</td>\n",
       "      <td>U</td>\n",
       "      <td>2</td>\n",
       "      <td>74783.76</td>\n",
       "      <td>5</td>\n",
       "      <td>8</td>\n",
       "    </tr>\n",
       "    <tr>\n",
       "      <th>90969</th>\n",
       "      <td>4064969</td>\n",
       "      <td>110735946_42614968419</td>\n",
       "      <td>999985675_64610694964_443659</td>\n",
       "      <td>step_2</td>\n",
       "      <td>2017-04-20 09:47:04</td>\n",
       "      <td>Control</td>\n",
       "      <td>75</td>\n",
       "      <td>6</td>\n",
       "      <td>64</td>\n",
       "      <td>U</td>\n",
       "      <td>2</td>\n",
       "      <td>74783.76</td>\n",
       "      <td>5</td>\n",
       "      <td>8</td>\n",
       "    </tr>\n",
       "    <tr>\n",
       "      <th>90968</th>\n",
       "      <td>4064969</td>\n",
       "      <td>110735946_42614968419</td>\n",
       "      <td>999985675_64610694964_443659</td>\n",
       "      <td>step_3</td>\n",
       "      <td>2017-04-20 09:48:45</td>\n",
       "      <td>Control</td>\n",
       "      <td>75</td>\n",
       "      <td>6</td>\n",
       "      <td>64</td>\n",
       "      <td>U</td>\n",
       "      <td>2</td>\n",
       "      <td>74783.76</td>\n",
       "      <td>5</td>\n",
       "      <td>8</td>\n",
       "    </tr>\n",
       "    <tr>\n",
       "      <th>90967</th>\n",
       "      <td>4064969</td>\n",
       "      <td>110735946_42614968419</td>\n",
       "      <td>999985675_64610694964_443659</td>\n",
       "      <td>confirm</td>\n",
       "      <td>2017-04-20 10:02:48</td>\n",
       "      <td>Control</td>\n",
       "      <td>75</td>\n",
       "      <td>6</td>\n",
       "      <td>64</td>\n",
       "      <td>U</td>\n",
       "      <td>2</td>\n",
       "      <td>74783.76</td>\n",
       "      <td>5</td>\n",
       "      <td>8</td>\n",
       "    </tr>\n",
       "  </tbody>\n",
       "</table>\n",
       "<p>245088 rows × 14 columns</p>\n",
       "</div>"
      ],
      "text/plain": [
       "        client_id             visitor_id                      visit_id  \\\n",
       "106827    3561384   451664975_1722933822  100012776_37918976071_457913   \n",
       "106826    3561384   451664975_1722933822  100012776_37918976071_457913   \n",
       "236490    7338123  612065484_94198474375   100019538_17884295066_43909   \n",
       "236489    7338123  612065484_94198474375   100019538_17884295066_43909   \n",
       "236488    7338123  612065484_94198474375   100019538_17884295066_43909   \n",
       "...           ...                    ...                           ...   \n",
       "90971     4064969  110735946_42614968419  999985675_64610694964_443659   \n",
       "90970     4064969  110735946_42614968419  999985675_64610694964_443659   \n",
       "90969     4064969  110735946_42614968419  999985675_64610694964_443659   \n",
       "90968     4064969  110735946_42614968419  999985675_64610694964_443659   \n",
       "90967     4064969  110735946_42614968419  999985675_64610694964_443659   \n",
       "\n",
       "       process_step           date_time variation  client_since_month  \\\n",
       "106827      confirm 2017-04-26 13:22:17      Test                  56   \n",
       "106826      confirm 2017-04-26 13:23:09      Test                  56   \n",
       "236490        start 2017-04-09 16:20:56      Test                  88   \n",
       "236489       step_1 2017-04-09 16:21:12      Test                  88   \n",
       "236488       step_2 2017-04-09 16:21:21      Test                  88   \n",
       "...             ...                 ...       ...                 ...   \n",
       "90971         start 2017-04-20 09:45:18   Control                  75   \n",
       "90970        step_1 2017-04-20 09:46:26   Control                  75   \n",
       "90969        step_2 2017-04-20 09:47:04   Control                  75   \n",
       "90968        step_3 2017-04-20 09:48:45   Control                  75   \n",
       "90967       confirm 2017-04-20 10:02:48   Control                  75   \n",
       "\n",
       "        client_since_year  client_age gender  number_of_accounts   balance  \\\n",
       "106827                  4          59      U                   2  63130.44   \n",
       "106826                  4          59      U                   2  63130.44   \n",
       "236490                  7          23      M                   2  26436.73   \n",
       "236489                  7          23      M                   2  26436.73   \n",
       "236488                  7          23      M                   2  26436.73   \n",
       "...                   ...         ...    ...                 ...       ...   \n",
       "90971                   6          64      U                   2  74783.76   \n",
       "90970                   6          64      U                   2  74783.76   \n",
       "90969                   6          64      U                   2  74783.76   \n",
       "90968                   6          64      U                   2  74783.76   \n",
       "90967                   6          64      U                   2  74783.76   \n",
       "\n",
       "        calls_6_months  logons_6_month  \n",
       "106827               6               9  \n",
       "106826               6               9  \n",
       "236490               6               9  \n",
       "236489               6               9  \n",
       "236488               6               9  \n",
       "...                ...             ...  \n",
       "90971                5               8  \n",
       "90970                5               8  \n",
       "90969                5               8  \n",
       "90968                5               8  \n",
       "90967                5               8  \n",
       "\n",
       "[245088 rows x 14 columns]"
      ]
     },
     "metadata": {},
     "output_type": "display_data"
    }
   ],
   "source": [
    "first_visit = visits_variations.drop_duplicates(subset='client_id', keep='first')\n",
    "first_visit = first_visit.drop_duplicates(subset='visit_id', keep=False)\n",
    "selected_visits = first_visit['visit_id']\n",
    "display(first_visit)\n",
    "\n",
    "visits_variations = visits_variations[visits_variations['visit_id'].isin(selected_visits)]\n",
    "display(visits_variations)"
   ]
  },
  {
   "cell_type": "code",
   "execution_count": 110,
   "metadata": {},
   "outputs": [],
   "source": [
    "cleaning.append({\"step\" : \"Remove repeat and shared visits\", \"count\" : visits_variations['client_id'].nunique()})"
   ]
  },
  {
   "cell_type": "markdown",
   "metadata": {},
   "source": [
    "### Remove non-starters"
   ]
  },
  {
   "cell_type": "code",
   "execution_count": 111,
   "metadata": {},
   "outputs": [
    {
     "data": {
      "text/html": [
       "<div>\n",
       "<style scoped>\n",
       "    .dataframe tbody tr th:only-of-type {\n",
       "        vertical-align: middle;\n",
       "    }\n",
       "\n",
       "    .dataframe tbody tr th {\n",
       "        vertical-align: top;\n",
       "    }\n",
       "\n",
       "    .dataframe thead th {\n",
       "        text-align: right;\n",
       "    }\n",
       "</style>\n",
       "<table border=\"1\" class=\"dataframe\">\n",
       "  <thead>\n",
       "    <tr style=\"text-align: right;\">\n",
       "      <th></th>\n",
       "      <th>client_id</th>\n",
       "      <th>visitor_id</th>\n",
       "      <th>visit_id</th>\n",
       "      <th>process_step</th>\n",
       "      <th>date_time</th>\n",
       "      <th>variation</th>\n",
       "      <th>client_since_month</th>\n",
       "      <th>client_since_year</th>\n",
       "      <th>client_age</th>\n",
       "      <th>gender</th>\n",
       "      <th>number_of_accounts</th>\n",
       "      <th>balance</th>\n",
       "      <th>calls_6_months</th>\n",
       "      <th>logons_6_month</th>\n",
       "    </tr>\n",
       "  </thead>\n",
       "  <tbody>\n",
       "    <tr>\n",
       "      <th>236490</th>\n",
       "      <td>7338123</td>\n",
       "      <td>612065484_94198474375</td>\n",
       "      <td>100019538_17884295066_43909</td>\n",
       "      <td>start</td>\n",
       "      <td>2017-04-09 16:20:56</td>\n",
       "      <td>Test</td>\n",
       "      <td>88</td>\n",
       "      <td>7</td>\n",
       "      <td>23</td>\n",
       "      <td>M</td>\n",
       "      <td>2</td>\n",
       "      <td>26436.73</td>\n",
       "      <td>6</td>\n",
       "      <td>9</td>\n",
       "    </tr>\n",
       "    <tr>\n",
       "      <th>236489</th>\n",
       "      <td>7338123</td>\n",
       "      <td>612065484_94198474375</td>\n",
       "      <td>100019538_17884295066_43909</td>\n",
       "      <td>step_1</td>\n",
       "      <td>2017-04-09 16:21:12</td>\n",
       "      <td>Test</td>\n",
       "      <td>88</td>\n",
       "      <td>7</td>\n",
       "      <td>23</td>\n",
       "      <td>M</td>\n",
       "      <td>2</td>\n",
       "      <td>26436.73</td>\n",
       "      <td>6</td>\n",
       "      <td>9</td>\n",
       "    </tr>\n",
       "    <tr>\n",
       "      <th>236488</th>\n",
       "      <td>7338123</td>\n",
       "      <td>612065484_94198474375</td>\n",
       "      <td>100019538_17884295066_43909</td>\n",
       "      <td>step_2</td>\n",
       "      <td>2017-04-09 16:21:21</td>\n",
       "      <td>Test</td>\n",
       "      <td>88</td>\n",
       "      <td>7</td>\n",
       "      <td>23</td>\n",
       "      <td>M</td>\n",
       "      <td>2</td>\n",
       "      <td>26436.73</td>\n",
       "      <td>6</td>\n",
       "      <td>9</td>\n",
       "    </tr>\n",
       "    <tr>\n",
       "      <th>236487</th>\n",
       "      <td>7338123</td>\n",
       "      <td>612065484_94198474375</td>\n",
       "      <td>100019538_17884295066_43909</td>\n",
       "      <td>step_1</td>\n",
       "      <td>2017-04-09 16:21:35</td>\n",
       "      <td>Test</td>\n",
       "      <td>88</td>\n",
       "      <td>7</td>\n",
       "      <td>23</td>\n",
       "      <td>M</td>\n",
       "      <td>2</td>\n",
       "      <td>26436.73</td>\n",
       "      <td>6</td>\n",
       "      <td>9</td>\n",
       "    </tr>\n",
       "    <tr>\n",
       "      <th>236486</th>\n",
       "      <td>7338123</td>\n",
       "      <td>612065484_94198474375</td>\n",
       "      <td>100019538_17884295066_43909</td>\n",
       "      <td>step_1</td>\n",
       "      <td>2017-04-09 16:21:41</td>\n",
       "      <td>Test</td>\n",
       "      <td>88</td>\n",
       "      <td>7</td>\n",
       "      <td>23</td>\n",
       "      <td>M</td>\n",
       "      <td>2</td>\n",
       "      <td>26436.73</td>\n",
       "      <td>6</td>\n",
       "      <td>9</td>\n",
       "    </tr>\n",
       "    <tr>\n",
       "      <th>...</th>\n",
       "      <td>...</td>\n",
       "      <td>...</td>\n",
       "      <td>...</td>\n",
       "      <td>...</td>\n",
       "      <td>...</td>\n",
       "      <td>...</td>\n",
       "      <td>...</td>\n",
       "      <td>...</td>\n",
       "      <td>...</td>\n",
       "      <td>...</td>\n",
       "      <td>...</td>\n",
       "      <td>...</td>\n",
       "      <td>...</td>\n",
       "      <td>...</td>\n",
       "    </tr>\n",
       "    <tr>\n",
       "      <th>90971</th>\n",
       "      <td>4064969</td>\n",
       "      <td>110735946_42614968419</td>\n",
       "      <td>999985675_64610694964_443659</td>\n",
       "      <td>start</td>\n",
       "      <td>2017-04-20 09:45:18</td>\n",
       "      <td>Control</td>\n",
       "      <td>75</td>\n",
       "      <td>6</td>\n",
       "      <td>64</td>\n",
       "      <td>U</td>\n",
       "      <td>2</td>\n",
       "      <td>74783.76</td>\n",
       "      <td>5</td>\n",
       "      <td>8</td>\n",
       "    </tr>\n",
       "    <tr>\n",
       "      <th>90970</th>\n",
       "      <td>4064969</td>\n",
       "      <td>110735946_42614968419</td>\n",
       "      <td>999985675_64610694964_443659</td>\n",
       "      <td>step_1</td>\n",
       "      <td>2017-04-20 09:46:26</td>\n",
       "      <td>Control</td>\n",
       "      <td>75</td>\n",
       "      <td>6</td>\n",
       "      <td>64</td>\n",
       "      <td>U</td>\n",
       "      <td>2</td>\n",
       "      <td>74783.76</td>\n",
       "      <td>5</td>\n",
       "      <td>8</td>\n",
       "    </tr>\n",
       "    <tr>\n",
       "      <th>90969</th>\n",
       "      <td>4064969</td>\n",
       "      <td>110735946_42614968419</td>\n",
       "      <td>999985675_64610694964_443659</td>\n",
       "      <td>step_2</td>\n",
       "      <td>2017-04-20 09:47:04</td>\n",
       "      <td>Control</td>\n",
       "      <td>75</td>\n",
       "      <td>6</td>\n",
       "      <td>64</td>\n",
       "      <td>U</td>\n",
       "      <td>2</td>\n",
       "      <td>74783.76</td>\n",
       "      <td>5</td>\n",
       "      <td>8</td>\n",
       "    </tr>\n",
       "    <tr>\n",
       "      <th>90968</th>\n",
       "      <td>4064969</td>\n",
       "      <td>110735946_42614968419</td>\n",
       "      <td>999985675_64610694964_443659</td>\n",
       "      <td>step_3</td>\n",
       "      <td>2017-04-20 09:48:45</td>\n",
       "      <td>Control</td>\n",
       "      <td>75</td>\n",
       "      <td>6</td>\n",
       "      <td>64</td>\n",
       "      <td>U</td>\n",
       "      <td>2</td>\n",
       "      <td>74783.76</td>\n",
       "      <td>5</td>\n",
       "      <td>8</td>\n",
       "    </tr>\n",
       "    <tr>\n",
       "      <th>90967</th>\n",
       "      <td>4064969</td>\n",
       "      <td>110735946_42614968419</td>\n",
       "      <td>999985675_64610694964_443659</td>\n",
       "      <td>confirm</td>\n",
       "      <td>2017-04-20 10:02:48</td>\n",
       "      <td>Control</td>\n",
       "      <td>75</td>\n",
       "      <td>6</td>\n",
       "      <td>64</td>\n",
       "      <td>U</td>\n",
       "      <td>2</td>\n",
       "      <td>74783.76</td>\n",
       "      <td>5</td>\n",
       "      <td>8</td>\n",
       "    </tr>\n",
       "  </tbody>\n",
       "</table>\n",
       "<p>240540 rows × 14 columns</p>\n",
       "</div>"
      ],
      "text/plain": [
       "        client_id             visitor_id                      visit_id  \\\n",
       "236490    7338123  612065484_94198474375   100019538_17884295066_43909   \n",
       "236489    7338123  612065484_94198474375   100019538_17884295066_43909   \n",
       "236488    7338123  612065484_94198474375   100019538_17884295066_43909   \n",
       "236487    7338123  612065484_94198474375   100019538_17884295066_43909   \n",
       "236486    7338123  612065484_94198474375   100019538_17884295066_43909   \n",
       "...           ...                    ...                           ...   \n",
       "90971     4064969  110735946_42614968419  999985675_64610694964_443659   \n",
       "90970     4064969  110735946_42614968419  999985675_64610694964_443659   \n",
       "90969     4064969  110735946_42614968419  999985675_64610694964_443659   \n",
       "90968     4064969  110735946_42614968419  999985675_64610694964_443659   \n",
       "90967     4064969  110735946_42614968419  999985675_64610694964_443659   \n",
       "\n",
       "       process_step           date_time variation  client_since_month  \\\n",
       "236490        start 2017-04-09 16:20:56      Test                  88   \n",
       "236489       step_1 2017-04-09 16:21:12      Test                  88   \n",
       "236488       step_2 2017-04-09 16:21:21      Test                  88   \n",
       "236487       step_1 2017-04-09 16:21:35      Test                  88   \n",
       "236486       step_1 2017-04-09 16:21:41      Test                  88   \n",
       "...             ...                 ...       ...                 ...   \n",
       "90971         start 2017-04-20 09:45:18   Control                  75   \n",
       "90970        step_1 2017-04-20 09:46:26   Control                  75   \n",
       "90969        step_2 2017-04-20 09:47:04   Control                  75   \n",
       "90968        step_3 2017-04-20 09:48:45   Control                  75   \n",
       "90967       confirm 2017-04-20 10:02:48   Control                  75   \n",
       "\n",
       "        client_since_year  client_age gender  number_of_accounts   balance  \\\n",
       "236490                  7          23      M                   2  26436.73   \n",
       "236489                  7          23      M                   2  26436.73   \n",
       "236488                  7          23      M                   2  26436.73   \n",
       "236487                  7          23      M                   2  26436.73   \n",
       "236486                  7          23      M                   2  26436.73   \n",
       "...                   ...         ...    ...                 ...       ...   \n",
       "90971                   6          64      U                   2  74783.76   \n",
       "90970                   6          64      U                   2  74783.76   \n",
       "90969                   6          64      U                   2  74783.76   \n",
       "90968                   6          64      U                   2  74783.76   \n",
       "90967                   6          64      U                   2  74783.76   \n",
       "\n",
       "        calls_6_months  logons_6_month  \n",
       "236490               6               9  \n",
       "236489               6               9  \n",
       "236488               6               9  \n",
       "236487               6               9  \n",
       "236486               6               9  \n",
       "...                ...             ...  \n",
       "90971                5               8  \n",
       "90970                5               8  \n",
       "90969                5               8  \n",
       "90968                5               8  \n",
       "90967                5               8  \n",
       "\n",
       "[240540 rows x 14 columns]"
      ]
     },
     "metadata": {},
     "output_type": "display_data"
    }
   ],
   "source": [
    "first_visit = visits_variations.drop_duplicates(subset='client_id', keep='first')\n",
    "non_starters =  first_visit[first_visit['process_step'] != 'start']['client_id']\n",
    "visits_variations = visits_variations[~visits_variations['client_id'].isin(non_starters)]\n",
    "\n",
    "display(visits_variations)"
   ]
  },
  {
   "cell_type": "code",
   "execution_count": 112,
   "metadata": {},
   "outputs": [],
   "source": [
    "cleaning.append({\"step\" : \"Remove non-starters\", \"count\" : visits_variations['client_id'].nunique()})"
   ]
  },
  {
   "cell_type": "markdown",
   "metadata": {},
   "source": [
    "## OUTLIERS"
   ]
  },
  {
   "cell_type": "markdown",
   "metadata": {},
   "source": [
    "### Time taken"
   ]
  },
  {
   "cell_type": "code",
   "execution_count": 113,
   "metadata": {},
   "outputs": [
    {
     "data": {
      "text/html": [
       "<div>\n",
       "<style scoped>\n",
       "    .dataframe tbody tr th:only-of-type {\n",
       "        vertical-align: middle;\n",
       "    }\n",
       "\n",
       "    .dataframe tbody tr th {\n",
       "        vertical-align: top;\n",
       "    }\n",
       "\n",
       "    .dataframe thead th {\n",
       "        text-align: right;\n",
       "    }\n",
       "</style>\n",
       "<table border=\"1\" class=\"dataframe\">\n",
       "  <thead>\n",
       "    <tr style=\"text-align: right;\">\n",
       "      <th></th>\n",
       "      <th>client_id</th>\n",
       "      <th>visitor_id</th>\n",
       "      <th>visit_id</th>\n",
       "      <th>process_step</th>\n",
       "      <th>date_time</th>\n",
       "      <th>variation</th>\n",
       "      <th>client_since_month</th>\n",
       "      <th>client_since_year</th>\n",
       "      <th>client_age</th>\n",
       "      <th>gender</th>\n",
       "      <th>number_of_accounts</th>\n",
       "      <th>balance</th>\n",
       "      <th>calls_6_months</th>\n",
       "      <th>logons_6_month</th>\n",
       "      <th>time_taken</th>\n",
       "    </tr>\n",
       "  </thead>\n",
       "  <tbody>\n",
       "    <tr>\n",
       "      <th>236490</th>\n",
       "      <td>7338123</td>\n",
       "      <td>612065484_94198474375</td>\n",
       "      <td>100019538_17884295066_43909</td>\n",
       "      <td>start</td>\n",
       "      <td>2017-04-09 16:20:56</td>\n",
       "      <td>Test</td>\n",
       "      <td>88</td>\n",
       "      <td>7</td>\n",
       "      <td>23</td>\n",
       "      <td>M</td>\n",
       "      <td>2</td>\n",
       "      <td>26436.73</td>\n",
       "      <td>6</td>\n",
       "      <td>9</td>\n",
       "      <td>0.0</td>\n",
       "    </tr>\n",
       "    <tr>\n",
       "      <th>236489</th>\n",
       "      <td>7338123</td>\n",
       "      <td>612065484_94198474375</td>\n",
       "      <td>100019538_17884295066_43909</td>\n",
       "      <td>step_1</td>\n",
       "      <td>2017-04-09 16:21:12</td>\n",
       "      <td>Test</td>\n",
       "      <td>88</td>\n",
       "      <td>7</td>\n",
       "      <td>23</td>\n",
       "      <td>M</td>\n",
       "      <td>2</td>\n",
       "      <td>26436.73</td>\n",
       "      <td>6</td>\n",
       "      <td>9</td>\n",
       "      <td>16.0</td>\n",
       "    </tr>\n",
       "    <tr>\n",
       "      <th>236488</th>\n",
       "      <td>7338123</td>\n",
       "      <td>612065484_94198474375</td>\n",
       "      <td>100019538_17884295066_43909</td>\n",
       "      <td>step_2</td>\n",
       "      <td>2017-04-09 16:21:21</td>\n",
       "      <td>Test</td>\n",
       "      <td>88</td>\n",
       "      <td>7</td>\n",
       "      <td>23</td>\n",
       "      <td>M</td>\n",
       "      <td>2</td>\n",
       "      <td>26436.73</td>\n",
       "      <td>6</td>\n",
       "      <td>9</td>\n",
       "      <td>9.0</td>\n",
       "    </tr>\n",
       "    <tr>\n",
       "      <th>236487</th>\n",
       "      <td>7338123</td>\n",
       "      <td>612065484_94198474375</td>\n",
       "      <td>100019538_17884295066_43909</td>\n",
       "      <td>step_1</td>\n",
       "      <td>2017-04-09 16:21:35</td>\n",
       "      <td>Test</td>\n",
       "      <td>88</td>\n",
       "      <td>7</td>\n",
       "      <td>23</td>\n",
       "      <td>M</td>\n",
       "      <td>2</td>\n",
       "      <td>26436.73</td>\n",
       "      <td>6</td>\n",
       "      <td>9</td>\n",
       "      <td>14.0</td>\n",
       "    </tr>\n",
       "    <tr>\n",
       "      <th>236486</th>\n",
       "      <td>7338123</td>\n",
       "      <td>612065484_94198474375</td>\n",
       "      <td>100019538_17884295066_43909</td>\n",
       "      <td>step_1</td>\n",
       "      <td>2017-04-09 16:21:41</td>\n",
       "      <td>Test</td>\n",
       "      <td>88</td>\n",
       "      <td>7</td>\n",
       "      <td>23</td>\n",
       "      <td>M</td>\n",
       "      <td>2</td>\n",
       "      <td>26436.73</td>\n",
       "      <td>6</td>\n",
       "      <td>9</td>\n",
       "      <td>6.0</td>\n",
       "    </tr>\n",
       "    <tr>\n",
       "      <th>...</th>\n",
       "      <td>...</td>\n",
       "      <td>...</td>\n",
       "      <td>...</td>\n",
       "      <td>...</td>\n",
       "      <td>...</td>\n",
       "      <td>...</td>\n",
       "      <td>...</td>\n",
       "      <td>...</td>\n",
       "      <td>...</td>\n",
       "      <td>...</td>\n",
       "      <td>...</td>\n",
       "      <td>...</td>\n",
       "      <td>...</td>\n",
       "      <td>...</td>\n",
       "      <td>...</td>\n",
       "    </tr>\n",
       "    <tr>\n",
       "      <th>90971</th>\n",
       "      <td>4064969</td>\n",
       "      <td>110735946_42614968419</td>\n",
       "      <td>999985675_64610694964_443659</td>\n",
       "      <td>start</td>\n",
       "      <td>2017-04-20 09:45:18</td>\n",
       "      <td>Control</td>\n",
       "      <td>75</td>\n",
       "      <td>6</td>\n",
       "      <td>64</td>\n",
       "      <td>U</td>\n",
       "      <td>2</td>\n",
       "      <td>74783.76</td>\n",
       "      <td>5</td>\n",
       "      <td>8</td>\n",
       "      <td>0.0</td>\n",
       "    </tr>\n",
       "    <tr>\n",
       "      <th>90970</th>\n",
       "      <td>4064969</td>\n",
       "      <td>110735946_42614968419</td>\n",
       "      <td>999985675_64610694964_443659</td>\n",
       "      <td>step_1</td>\n",
       "      <td>2017-04-20 09:46:26</td>\n",
       "      <td>Control</td>\n",
       "      <td>75</td>\n",
       "      <td>6</td>\n",
       "      <td>64</td>\n",
       "      <td>U</td>\n",
       "      <td>2</td>\n",
       "      <td>74783.76</td>\n",
       "      <td>5</td>\n",
       "      <td>8</td>\n",
       "      <td>68.0</td>\n",
       "    </tr>\n",
       "    <tr>\n",
       "      <th>90969</th>\n",
       "      <td>4064969</td>\n",
       "      <td>110735946_42614968419</td>\n",
       "      <td>999985675_64610694964_443659</td>\n",
       "      <td>step_2</td>\n",
       "      <td>2017-04-20 09:47:04</td>\n",
       "      <td>Control</td>\n",
       "      <td>75</td>\n",
       "      <td>6</td>\n",
       "      <td>64</td>\n",
       "      <td>U</td>\n",
       "      <td>2</td>\n",
       "      <td>74783.76</td>\n",
       "      <td>5</td>\n",
       "      <td>8</td>\n",
       "      <td>38.0</td>\n",
       "    </tr>\n",
       "    <tr>\n",
       "      <th>90968</th>\n",
       "      <td>4064969</td>\n",
       "      <td>110735946_42614968419</td>\n",
       "      <td>999985675_64610694964_443659</td>\n",
       "      <td>step_3</td>\n",
       "      <td>2017-04-20 09:48:45</td>\n",
       "      <td>Control</td>\n",
       "      <td>75</td>\n",
       "      <td>6</td>\n",
       "      <td>64</td>\n",
       "      <td>U</td>\n",
       "      <td>2</td>\n",
       "      <td>74783.76</td>\n",
       "      <td>5</td>\n",
       "      <td>8</td>\n",
       "      <td>101.0</td>\n",
       "    </tr>\n",
       "    <tr>\n",
       "      <th>90967</th>\n",
       "      <td>4064969</td>\n",
       "      <td>110735946_42614968419</td>\n",
       "      <td>999985675_64610694964_443659</td>\n",
       "      <td>confirm</td>\n",
       "      <td>2017-04-20 10:02:48</td>\n",
       "      <td>Control</td>\n",
       "      <td>75</td>\n",
       "      <td>6</td>\n",
       "      <td>64</td>\n",
       "      <td>U</td>\n",
       "      <td>2</td>\n",
       "      <td>74783.76</td>\n",
       "      <td>5</td>\n",
       "      <td>8</td>\n",
       "      <td>843.0</td>\n",
       "    </tr>\n",
       "  </tbody>\n",
       "</table>\n",
       "<p>240540 rows × 15 columns</p>\n",
       "</div>"
      ],
      "text/plain": [
       "        client_id             visitor_id                      visit_id  \\\n",
       "236490    7338123  612065484_94198474375   100019538_17884295066_43909   \n",
       "236489    7338123  612065484_94198474375   100019538_17884295066_43909   \n",
       "236488    7338123  612065484_94198474375   100019538_17884295066_43909   \n",
       "236487    7338123  612065484_94198474375   100019538_17884295066_43909   \n",
       "236486    7338123  612065484_94198474375   100019538_17884295066_43909   \n",
       "...           ...                    ...                           ...   \n",
       "90971     4064969  110735946_42614968419  999985675_64610694964_443659   \n",
       "90970     4064969  110735946_42614968419  999985675_64610694964_443659   \n",
       "90969     4064969  110735946_42614968419  999985675_64610694964_443659   \n",
       "90968     4064969  110735946_42614968419  999985675_64610694964_443659   \n",
       "90967     4064969  110735946_42614968419  999985675_64610694964_443659   \n",
       "\n",
       "       process_step           date_time variation  client_since_month  \\\n",
       "236490        start 2017-04-09 16:20:56      Test                  88   \n",
       "236489       step_1 2017-04-09 16:21:12      Test                  88   \n",
       "236488       step_2 2017-04-09 16:21:21      Test                  88   \n",
       "236487       step_1 2017-04-09 16:21:35      Test                  88   \n",
       "236486       step_1 2017-04-09 16:21:41      Test                  88   \n",
       "...             ...                 ...       ...                 ...   \n",
       "90971         start 2017-04-20 09:45:18   Control                  75   \n",
       "90970        step_1 2017-04-20 09:46:26   Control                  75   \n",
       "90969        step_2 2017-04-20 09:47:04   Control                  75   \n",
       "90968        step_3 2017-04-20 09:48:45   Control                  75   \n",
       "90967       confirm 2017-04-20 10:02:48   Control                  75   \n",
       "\n",
       "        client_since_year  client_age gender  number_of_accounts   balance  \\\n",
       "236490                  7          23      M                   2  26436.73   \n",
       "236489                  7          23      M                   2  26436.73   \n",
       "236488                  7          23      M                   2  26436.73   \n",
       "236487                  7          23      M                   2  26436.73   \n",
       "236486                  7          23      M                   2  26436.73   \n",
       "...                   ...         ...    ...                 ...       ...   \n",
       "90971                   6          64      U                   2  74783.76   \n",
       "90970                   6          64      U                   2  74783.76   \n",
       "90969                   6          64      U                   2  74783.76   \n",
       "90968                   6          64      U                   2  74783.76   \n",
       "90967                   6          64      U                   2  74783.76   \n",
       "\n",
       "        calls_6_months  logons_6_month  time_taken  \n",
       "236490               6               9         0.0  \n",
       "236489               6               9        16.0  \n",
       "236488               6               9         9.0  \n",
       "236487               6               9        14.0  \n",
       "236486               6               9         6.0  \n",
       "...                ...             ...         ...  \n",
       "90971                5               8         0.0  \n",
       "90970                5               8        68.0  \n",
       "90969                5               8        38.0  \n",
       "90968                5               8       101.0  \n",
       "90967                5               8       843.0  \n",
       "\n",
       "[240540 rows x 15 columns]"
      ]
     },
     "metadata": {},
     "output_type": "display_data"
    }
   ],
   "source": [
    "visits_variations['time_taken'] = visits_variations.groupby('visit_id')['date_time'].diff().dt.total_seconds()\n",
    "visits_variations['time_taken'] = visits_variations['time_taken'].fillna(0)\n",
    "\n",
    "display(visits_variations)"
   ]
  },
  {
   "cell_type": "code",
   "execution_count": 114,
   "metadata": {},
   "outputs": [
    {
     "data": {
      "text/html": [
       "<div>\n",
       "<style scoped>\n",
       "    .dataframe tbody tr th:only-of-type {\n",
       "        vertical-align: middle;\n",
       "    }\n",
       "\n",
       "    .dataframe tbody tr th {\n",
       "        vertical-align: top;\n",
       "    }\n",
       "\n",
       "    .dataframe thead th {\n",
       "        text-align: right;\n",
       "    }\n",
       "</style>\n",
       "<table border=\"1\" class=\"dataframe\">\n",
       "  <thead>\n",
       "    <tr style=\"text-align: right;\">\n",
       "      <th></th>\n",
       "      <th>client_id</th>\n",
       "      <th>visitor_id</th>\n",
       "      <th>visit_id</th>\n",
       "      <th>process_step</th>\n",
       "      <th>date_time</th>\n",
       "      <th>variation</th>\n",
       "      <th>client_since_month</th>\n",
       "      <th>client_since_year</th>\n",
       "      <th>client_age</th>\n",
       "      <th>gender</th>\n",
       "      <th>number_of_accounts</th>\n",
       "      <th>balance</th>\n",
       "      <th>calls_6_months</th>\n",
       "      <th>logons_6_month</th>\n",
       "      <th>time_taken</th>\n",
       "      <th>total_time_taken</th>\n",
       "    </tr>\n",
       "  </thead>\n",
       "  <tbody>\n",
       "    <tr>\n",
       "      <th>236490</th>\n",
       "      <td>7338123</td>\n",
       "      <td>612065484_94198474375</td>\n",
       "      <td>100019538_17884295066_43909</td>\n",
       "      <td>start</td>\n",
       "      <td>2017-04-09 16:20:56</td>\n",
       "      <td>Test</td>\n",
       "      <td>88</td>\n",
       "      <td>7</td>\n",
       "      <td>23</td>\n",
       "      <td>M</td>\n",
       "      <td>2</td>\n",
       "      <td>26436.73</td>\n",
       "      <td>6</td>\n",
       "      <td>9</td>\n",
       "      <td>0.0</td>\n",
       "      <td>242.0</td>\n",
       "    </tr>\n",
       "    <tr>\n",
       "      <th>236489</th>\n",
       "      <td>7338123</td>\n",
       "      <td>612065484_94198474375</td>\n",
       "      <td>100019538_17884295066_43909</td>\n",
       "      <td>step_1</td>\n",
       "      <td>2017-04-09 16:21:12</td>\n",
       "      <td>Test</td>\n",
       "      <td>88</td>\n",
       "      <td>7</td>\n",
       "      <td>23</td>\n",
       "      <td>M</td>\n",
       "      <td>2</td>\n",
       "      <td>26436.73</td>\n",
       "      <td>6</td>\n",
       "      <td>9</td>\n",
       "      <td>16.0</td>\n",
       "      <td>242.0</td>\n",
       "    </tr>\n",
       "    <tr>\n",
       "      <th>236488</th>\n",
       "      <td>7338123</td>\n",
       "      <td>612065484_94198474375</td>\n",
       "      <td>100019538_17884295066_43909</td>\n",
       "      <td>step_2</td>\n",
       "      <td>2017-04-09 16:21:21</td>\n",
       "      <td>Test</td>\n",
       "      <td>88</td>\n",
       "      <td>7</td>\n",
       "      <td>23</td>\n",
       "      <td>M</td>\n",
       "      <td>2</td>\n",
       "      <td>26436.73</td>\n",
       "      <td>6</td>\n",
       "      <td>9</td>\n",
       "      <td>9.0</td>\n",
       "      <td>242.0</td>\n",
       "    </tr>\n",
       "    <tr>\n",
       "      <th>236487</th>\n",
       "      <td>7338123</td>\n",
       "      <td>612065484_94198474375</td>\n",
       "      <td>100019538_17884295066_43909</td>\n",
       "      <td>step_1</td>\n",
       "      <td>2017-04-09 16:21:35</td>\n",
       "      <td>Test</td>\n",
       "      <td>88</td>\n",
       "      <td>7</td>\n",
       "      <td>23</td>\n",
       "      <td>M</td>\n",
       "      <td>2</td>\n",
       "      <td>26436.73</td>\n",
       "      <td>6</td>\n",
       "      <td>9</td>\n",
       "      <td>14.0</td>\n",
       "      <td>242.0</td>\n",
       "    </tr>\n",
       "    <tr>\n",
       "      <th>236486</th>\n",
       "      <td>7338123</td>\n",
       "      <td>612065484_94198474375</td>\n",
       "      <td>100019538_17884295066_43909</td>\n",
       "      <td>step_1</td>\n",
       "      <td>2017-04-09 16:21:41</td>\n",
       "      <td>Test</td>\n",
       "      <td>88</td>\n",
       "      <td>7</td>\n",
       "      <td>23</td>\n",
       "      <td>M</td>\n",
       "      <td>2</td>\n",
       "      <td>26436.73</td>\n",
       "      <td>6</td>\n",
       "      <td>9</td>\n",
       "      <td>6.0</td>\n",
       "      <td>242.0</td>\n",
       "    </tr>\n",
       "    <tr>\n",
       "      <th>...</th>\n",
       "      <td>...</td>\n",
       "      <td>...</td>\n",
       "      <td>...</td>\n",
       "      <td>...</td>\n",
       "      <td>...</td>\n",
       "      <td>...</td>\n",
       "      <td>...</td>\n",
       "      <td>...</td>\n",
       "      <td>...</td>\n",
       "      <td>...</td>\n",
       "      <td>...</td>\n",
       "      <td>...</td>\n",
       "      <td>...</td>\n",
       "      <td>...</td>\n",
       "      <td>...</td>\n",
       "      <td>...</td>\n",
       "    </tr>\n",
       "    <tr>\n",
       "      <th>90971</th>\n",
       "      <td>4064969</td>\n",
       "      <td>110735946_42614968419</td>\n",
       "      <td>999985675_64610694964_443659</td>\n",
       "      <td>start</td>\n",
       "      <td>2017-04-20 09:45:18</td>\n",
       "      <td>Control</td>\n",
       "      <td>75</td>\n",
       "      <td>6</td>\n",
       "      <td>64</td>\n",
       "      <td>U</td>\n",
       "      <td>2</td>\n",
       "      <td>74783.76</td>\n",
       "      <td>5</td>\n",
       "      <td>8</td>\n",
       "      <td>0.0</td>\n",
       "      <td>1050.0</td>\n",
       "    </tr>\n",
       "    <tr>\n",
       "      <th>90970</th>\n",
       "      <td>4064969</td>\n",
       "      <td>110735946_42614968419</td>\n",
       "      <td>999985675_64610694964_443659</td>\n",
       "      <td>step_1</td>\n",
       "      <td>2017-04-20 09:46:26</td>\n",
       "      <td>Control</td>\n",
       "      <td>75</td>\n",
       "      <td>6</td>\n",
       "      <td>64</td>\n",
       "      <td>U</td>\n",
       "      <td>2</td>\n",
       "      <td>74783.76</td>\n",
       "      <td>5</td>\n",
       "      <td>8</td>\n",
       "      <td>68.0</td>\n",
       "      <td>1050.0</td>\n",
       "    </tr>\n",
       "    <tr>\n",
       "      <th>90969</th>\n",
       "      <td>4064969</td>\n",
       "      <td>110735946_42614968419</td>\n",
       "      <td>999985675_64610694964_443659</td>\n",
       "      <td>step_2</td>\n",
       "      <td>2017-04-20 09:47:04</td>\n",
       "      <td>Control</td>\n",
       "      <td>75</td>\n",
       "      <td>6</td>\n",
       "      <td>64</td>\n",
       "      <td>U</td>\n",
       "      <td>2</td>\n",
       "      <td>74783.76</td>\n",
       "      <td>5</td>\n",
       "      <td>8</td>\n",
       "      <td>38.0</td>\n",
       "      <td>1050.0</td>\n",
       "    </tr>\n",
       "    <tr>\n",
       "      <th>90968</th>\n",
       "      <td>4064969</td>\n",
       "      <td>110735946_42614968419</td>\n",
       "      <td>999985675_64610694964_443659</td>\n",
       "      <td>step_3</td>\n",
       "      <td>2017-04-20 09:48:45</td>\n",
       "      <td>Control</td>\n",
       "      <td>75</td>\n",
       "      <td>6</td>\n",
       "      <td>64</td>\n",
       "      <td>U</td>\n",
       "      <td>2</td>\n",
       "      <td>74783.76</td>\n",
       "      <td>5</td>\n",
       "      <td>8</td>\n",
       "      <td>101.0</td>\n",
       "      <td>1050.0</td>\n",
       "    </tr>\n",
       "    <tr>\n",
       "      <th>90967</th>\n",
       "      <td>4064969</td>\n",
       "      <td>110735946_42614968419</td>\n",
       "      <td>999985675_64610694964_443659</td>\n",
       "      <td>confirm</td>\n",
       "      <td>2017-04-20 10:02:48</td>\n",
       "      <td>Control</td>\n",
       "      <td>75</td>\n",
       "      <td>6</td>\n",
       "      <td>64</td>\n",
       "      <td>U</td>\n",
       "      <td>2</td>\n",
       "      <td>74783.76</td>\n",
       "      <td>5</td>\n",
       "      <td>8</td>\n",
       "      <td>843.0</td>\n",
       "      <td>1050.0</td>\n",
       "    </tr>\n",
       "  </tbody>\n",
       "</table>\n",
       "<p>240540 rows × 16 columns</p>\n",
       "</div>"
      ],
      "text/plain": [
       "        client_id             visitor_id                      visit_id  \\\n",
       "236490    7338123  612065484_94198474375   100019538_17884295066_43909   \n",
       "236489    7338123  612065484_94198474375   100019538_17884295066_43909   \n",
       "236488    7338123  612065484_94198474375   100019538_17884295066_43909   \n",
       "236487    7338123  612065484_94198474375   100019538_17884295066_43909   \n",
       "236486    7338123  612065484_94198474375   100019538_17884295066_43909   \n",
       "...           ...                    ...                           ...   \n",
       "90971     4064969  110735946_42614968419  999985675_64610694964_443659   \n",
       "90970     4064969  110735946_42614968419  999985675_64610694964_443659   \n",
       "90969     4064969  110735946_42614968419  999985675_64610694964_443659   \n",
       "90968     4064969  110735946_42614968419  999985675_64610694964_443659   \n",
       "90967     4064969  110735946_42614968419  999985675_64610694964_443659   \n",
       "\n",
       "       process_step           date_time variation  client_since_month  \\\n",
       "236490        start 2017-04-09 16:20:56      Test                  88   \n",
       "236489       step_1 2017-04-09 16:21:12      Test                  88   \n",
       "236488       step_2 2017-04-09 16:21:21      Test                  88   \n",
       "236487       step_1 2017-04-09 16:21:35      Test                  88   \n",
       "236486       step_1 2017-04-09 16:21:41      Test                  88   \n",
       "...             ...                 ...       ...                 ...   \n",
       "90971         start 2017-04-20 09:45:18   Control                  75   \n",
       "90970        step_1 2017-04-20 09:46:26   Control                  75   \n",
       "90969        step_2 2017-04-20 09:47:04   Control                  75   \n",
       "90968        step_3 2017-04-20 09:48:45   Control                  75   \n",
       "90967       confirm 2017-04-20 10:02:48   Control                  75   \n",
       "\n",
       "        client_since_year  client_age gender  number_of_accounts   balance  \\\n",
       "236490                  7          23      M                   2  26436.73   \n",
       "236489                  7          23      M                   2  26436.73   \n",
       "236488                  7          23      M                   2  26436.73   \n",
       "236487                  7          23      M                   2  26436.73   \n",
       "236486                  7          23      M                   2  26436.73   \n",
       "...                   ...         ...    ...                 ...       ...   \n",
       "90971                   6          64      U                   2  74783.76   \n",
       "90970                   6          64      U                   2  74783.76   \n",
       "90969                   6          64      U                   2  74783.76   \n",
       "90968                   6          64      U                   2  74783.76   \n",
       "90967                   6          64      U                   2  74783.76   \n",
       "\n",
       "        calls_6_months  logons_6_month  time_taken  total_time_taken  \n",
       "236490               6               9         0.0             242.0  \n",
       "236489               6               9        16.0             242.0  \n",
       "236488               6               9         9.0             242.0  \n",
       "236487               6               9        14.0             242.0  \n",
       "236486               6               9         6.0             242.0  \n",
       "...                ...             ...         ...               ...  \n",
       "90971                5               8         0.0            1050.0  \n",
       "90970                5               8        68.0            1050.0  \n",
       "90969                5               8        38.0            1050.0  \n",
       "90968                5               8       101.0            1050.0  \n",
       "90967                5               8       843.0            1050.0  \n",
       "\n",
       "[240540 rows x 16 columns]"
      ]
     },
     "metadata": {},
     "output_type": "display_data"
    }
   ],
   "source": [
    "# add a column to show the total time taken for each visit_id\n",
    "visits_variations['total_time_taken'] = visits_variations.groupby('visit_id')['time_taken'].transform('sum')\n",
    "display(visits_variations)"
   ]
  },
  {
   "cell_type": "code",
   "execution_count": 115,
   "metadata": {},
   "outputs": [
    {
     "data": {
      "image/png": "[encoded data removed]",
      "text/plain": [
       "<Figure size 1000x600 with 1 Axes>"
      ]
     },
     "metadata": {},
     "output_type": "display_data"
    }
   ],
   "source": [
    "plt.figure(figsize=(10, 6))\n",
    "sns.boxplot(x='variation', y='total_time_taken', data=visits_variations)\n",
    "plt.xlabel('Variation')\n",
    "plt.ylabel('Total Time Taken (seconds)')\n",
    "plt.show()"
   ]
  },
  {
   "cell_type": "code",
   "execution_count": 116,
   "metadata": {},
   "outputs": [
    {
     "data": {
      "image/png": "[encoded data removed]",
      "text/plain": [
       "<Figure size 1000x600 with 1 Axes>"
      ]
     },
     "metadata": {},
     "output_type": "display_data"
    }
   ],
   "source": [
    "plt.figure(figsize=(10, 6))\n",
    "sns.histplot(data=visits_variations, x='total_time_taken', kde=True, bins=300)\n",
    "plt.xlabel('Total Time Taken (seconds)')\n",
    "plt.ylabel('Frequency')\n",
    "plt.show()"
   ]
  },
  {
   "cell_type": "code",
   "execution_count": 117,
   "metadata": {},
   "outputs": [
    {
     "data": {
      "text/plain": [
       "275609    1183.0\n",
       "275608    1183.0\n",
       "275607    1183.0\n",
       "275606    1183.0\n",
       "275605    1183.0\n",
       "           ...  \n",
       "72154     2128.0\n",
       "72153     2128.0\n",
       "72152     2128.0\n",
       "72151     2128.0\n",
       "72150     2128.0\n",
       "Name: total_time_taken, Length: 21313, dtype: float64"
      ]
     },
     "metadata": {},
     "output_type": "display_data"
    },
    {
     "data": {
      "text/plain": [
       "count    21313.000000\n",
       "mean      2005.956083\n",
       "std       1441.675624\n",
       "min       1064.000000\n",
       "25%       1247.000000\n",
       "50%       1539.000000\n",
       "75%       2168.000000\n",
       "max      22895.000000\n",
       "Name: total_time_taken, dtype: float64"
      ]
     },
     "metadata": {},
     "output_type": "display_data"
    },
    {
     "data": {
      "text/html": [
       "<div>\n",
       "<style scoped>\n",
       "    .dataframe tbody tr th:only-of-type {\n",
       "        vertical-align: middle;\n",
       "    }\n",
       "\n",
       "    .dataframe tbody tr th {\n",
       "        vertical-align: top;\n",
       "    }\n",
       "\n",
       "    .dataframe thead th {\n",
       "        text-align: right;\n",
       "    }\n",
       "</style>\n",
       "<table border=\"1\" class=\"dataframe\">\n",
       "  <thead>\n",
       "    <tr style=\"text-align: right;\">\n",
       "      <th></th>\n",
       "      <th>client_id</th>\n",
       "      <th>visitor_id</th>\n",
       "      <th>visit_id</th>\n",
       "      <th>process_step</th>\n",
       "      <th>date_time</th>\n",
       "      <th>variation</th>\n",
       "      <th>client_since_month</th>\n",
       "      <th>client_since_year</th>\n",
       "      <th>client_age</th>\n",
       "      <th>gender</th>\n",
       "      <th>number_of_accounts</th>\n",
       "      <th>balance</th>\n",
       "      <th>calls_6_months</th>\n",
       "      <th>logons_6_month</th>\n",
       "      <th>time_taken</th>\n",
       "      <th>total_time_taken</th>\n",
       "    </tr>\n",
       "  </thead>\n",
       "  <tbody>\n",
       "    <tr>\n",
       "      <th>236490</th>\n",
       "      <td>7338123</td>\n",
       "      <td>612065484_94198474375</td>\n",
       "      <td>100019538_17884295066_43909</td>\n",
       "      <td>start</td>\n",
       "      <td>2017-04-09 16:20:56</td>\n",
       "      <td>Test</td>\n",
       "      <td>88</td>\n",
       "      <td>7</td>\n",
       "      <td>23</td>\n",
       "      <td>M</td>\n",
       "      <td>2</td>\n",
       "      <td>26436.73</td>\n",
       "      <td>6</td>\n",
       "      <td>9</td>\n",
       "      <td>0.0</td>\n",
       "      <td>242.0</td>\n",
       "    </tr>\n",
       "    <tr>\n",
       "      <th>236489</th>\n",
       "      <td>7338123</td>\n",
       "      <td>612065484_94198474375</td>\n",
       "      <td>100019538_17884295066_43909</td>\n",
       "      <td>step_1</td>\n",
       "      <td>2017-04-09 16:21:12</td>\n",
       "      <td>Test</td>\n",
       "      <td>88</td>\n",
       "      <td>7</td>\n",
       "      <td>23</td>\n",
       "      <td>M</td>\n",
       "      <td>2</td>\n",
       "      <td>26436.73</td>\n",
       "      <td>6</td>\n",
       "      <td>9</td>\n",
       "      <td>16.0</td>\n",
       "      <td>242.0</td>\n",
       "    </tr>\n",
       "    <tr>\n",
       "      <th>236488</th>\n",
       "      <td>7338123</td>\n",
       "      <td>612065484_94198474375</td>\n",
       "      <td>100019538_17884295066_43909</td>\n",
       "      <td>step_2</td>\n",
       "      <td>2017-04-09 16:21:21</td>\n",
       "      <td>Test</td>\n",
       "      <td>88</td>\n",
       "      <td>7</td>\n",
       "      <td>23</td>\n",
       "      <td>M</td>\n",
       "      <td>2</td>\n",
       "      <td>26436.73</td>\n",
       "      <td>6</td>\n",
       "      <td>9</td>\n",
       "      <td>9.0</td>\n",
       "      <td>242.0</td>\n",
       "    </tr>\n",
       "    <tr>\n",
       "      <th>236487</th>\n",
       "      <td>7338123</td>\n",
       "      <td>612065484_94198474375</td>\n",
       "      <td>100019538_17884295066_43909</td>\n",
       "      <td>step_1</td>\n",
       "      <td>2017-04-09 16:21:35</td>\n",
       "      <td>Test</td>\n",
       "      <td>88</td>\n",
       "      <td>7</td>\n",
       "      <td>23</td>\n",
       "      <td>M</td>\n",
       "      <td>2</td>\n",
       "      <td>26436.73</td>\n",
       "      <td>6</td>\n",
       "      <td>9</td>\n",
       "      <td>14.0</td>\n",
       "      <td>242.0</td>\n",
       "    </tr>\n",
       "    <tr>\n",
       "      <th>236486</th>\n",
       "      <td>7338123</td>\n",
       "      <td>612065484_94198474375</td>\n",
       "      <td>100019538_17884295066_43909</td>\n",
       "      <td>step_1</td>\n",
       "      <td>2017-04-09 16:21:41</td>\n",
       "      <td>Test</td>\n",
       "      <td>88</td>\n",
       "      <td>7</td>\n",
       "      <td>23</td>\n",
       "      <td>M</td>\n",
       "      <td>2</td>\n",
       "      <td>26436.73</td>\n",
       "      <td>6</td>\n",
       "      <td>9</td>\n",
       "      <td>6.0</td>\n",
       "      <td>242.0</td>\n",
       "    </tr>\n",
       "    <tr>\n",
       "      <th>...</th>\n",
       "      <td>...</td>\n",
       "      <td>...</td>\n",
       "      <td>...</td>\n",
       "      <td>...</td>\n",
       "      <td>...</td>\n",
       "      <td>...</td>\n",
       "      <td>...</td>\n",
       "      <td>...</td>\n",
       "      <td>...</td>\n",
       "      <td>...</td>\n",
       "      <td>...</td>\n",
       "      <td>...</td>\n",
       "      <td>...</td>\n",
       "      <td>...</td>\n",
       "      <td>...</td>\n",
       "      <td>...</td>\n",
       "    </tr>\n",
       "    <tr>\n",
       "      <th>90971</th>\n",
       "      <td>4064969</td>\n",
       "      <td>110735946_42614968419</td>\n",
       "      <td>999985675_64610694964_443659</td>\n",
       "      <td>start</td>\n",
       "      <td>2017-04-20 09:45:18</td>\n",
       "      <td>Control</td>\n",
       "      <td>75</td>\n",
       "      <td>6</td>\n",
       "      <td>64</td>\n",
       "      <td>U</td>\n",
       "      <td>2</td>\n",
       "      <td>74783.76</td>\n",
       "      <td>5</td>\n",
       "      <td>8</td>\n",
       "      <td>0.0</td>\n",
       "      <td>1050.0</td>\n",
       "    </tr>\n",
       "    <tr>\n",
       "      <th>90970</th>\n",
       "      <td>4064969</td>\n",
       "      <td>110735946_42614968419</td>\n",
       "      <td>999985675_64610694964_443659</td>\n",
       "      <td>step_1</td>\n",
       "      <td>2017-04-20 09:46:26</td>\n",
       "      <td>Control</td>\n",
       "      <td>75</td>\n",
       "      <td>6</td>\n",
       "      <td>64</td>\n",
       "      <td>U</td>\n",
       "      <td>2</td>\n",
       "      <td>74783.76</td>\n",
       "      <td>5</td>\n",
       "      <td>8</td>\n",
       "      <td>68.0</td>\n",
       "      <td>1050.0</td>\n",
       "    </tr>\n",
       "    <tr>\n",
       "      <th>90969</th>\n",
       "      <td>4064969</td>\n",
       "      <td>110735946_42614968419</td>\n",
       "      <td>999985675_64610694964_443659</td>\n",
       "      <td>step_2</td>\n",
       "      <td>2017-04-20 09:47:04</td>\n",
       "      <td>Control</td>\n",
       "      <td>75</td>\n",
       "      <td>6</td>\n",
       "      <td>64</td>\n",
       "      <td>U</td>\n",
       "      <td>2</td>\n",
       "      <td>74783.76</td>\n",
       "      <td>5</td>\n",
       "      <td>8</td>\n",
       "      <td>38.0</td>\n",
       "      <td>1050.0</td>\n",
       "    </tr>\n",
       "    <tr>\n",
       "      <th>90968</th>\n",
       "      <td>4064969</td>\n",
       "      <td>110735946_42614968419</td>\n",
       "      <td>999985675_64610694964_443659</td>\n",
       "      <td>step_3</td>\n",
       "      <td>2017-04-20 09:48:45</td>\n",
       "      <td>Control</td>\n",
       "      <td>75</td>\n",
       "      <td>6</td>\n",
       "      <td>64</td>\n",
       "      <td>U</td>\n",
       "      <td>2</td>\n",
       "      <td>74783.76</td>\n",
       "      <td>5</td>\n",
       "      <td>8</td>\n",
       "      <td>101.0</td>\n",
       "      <td>1050.0</td>\n",
       "    </tr>\n",
       "    <tr>\n",
       "      <th>90967</th>\n",
       "      <td>4064969</td>\n",
       "      <td>110735946_42614968419</td>\n",
       "      <td>999985675_64610694964_443659</td>\n",
       "      <td>confirm</td>\n",
       "      <td>2017-04-20 10:02:48</td>\n",
       "      <td>Control</td>\n",
       "      <td>75</td>\n",
       "      <td>6</td>\n",
       "      <td>64</td>\n",
       "      <td>U</td>\n",
       "      <td>2</td>\n",
       "      <td>74783.76</td>\n",
       "      <td>5</td>\n",
       "      <td>8</td>\n",
       "      <td>843.0</td>\n",
       "      <td>1050.0</td>\n",
       "    </tr>\n",
       "  </tbody>\n",
       "</table>\n",
       "<p>219227 rows × 16 columns</p>\n",
       "</div>"
      ],
      "text/plain": [
       "        client_id             visitor_id                      visit_id  \\\n",
       "236490    7338123  612065484_94198474375   100019538_17884295066_43909   \n",
       "236489    7338123  612065484_94198474375   100019538_17884295066_43909   \n",
       "236488    7338123  612065484_94198474375   100019538_17884295066_43909   \n",
       "236487    7338123  612065484_94198474375   100019538_17884295066_43909   \n",
       "236486    7338123  612065484_94198474375   100019538_17884295066_43909   \n",
       "...           ...                    ...                           ...   \n",
       "90971     4064969  110735946_42614968419  999985675_64610694964_443659   \n",
       "90970     4064969  110735946_42614968419  999985675_64610694964_443659   \n",
       "90969     4064969  110735946_42614968419  999985675_64610694964_443659   \n",
       "90968     4064969  110735946_42614968419  999985675_64610694964_443659   \n",
       "90967     4064969  110735946_42614968419  999985675_64610694964_443659   \n",
       "\n",
       "       process_step           date_time variation  client_since_month  \\\n",
       "236490        start 2017-04-09 16:20:56      Test                  88   \n",
       "236489       step_1 2017-04-09 16:21:12      Test                  88   \n",
       "236488       step_2 2017-04-09 16:21:21      Test                  88   \n",
       "236487       step_1 2017-04-09 16:21:35      Test                  88   \n",
       "236486       step_1 2017-04-09 16:21:41      Test                  88   \n",
       "...             ...                 ...       ...                 ...   \n",
       "90971         start 2017-04-20 09:45:18   Control                  75   \n",
       "90970        step_1 2017-04-20 09:46:26   Control                  75   \n",
       "90969        step_2 2017-04-20 09:47:04   Control                  75   \n",
       "90968        step_3 2017-04-20 09:48:45   Control                  75   \n",
       "90967       confirm 2017-04-20 10:02:48   Control                  75   \n",
       "\n",
       "        client_since_year  client_age gender  number_of_accounts   balance  \\\n",
       "236490                  7          23      M                   2  26436.73   \n",
       "236489                  7          23      M                   2  26436.73   \n",
       "236488                  7          23      M                   2  26436.73   \n",
       "236487                  7          23      M                   2  26436.73   \n",
       "236486                  7          23      M                   2  26436.73   \n",
       "...                   ...         ...    ...                 ...       ...   \n",
       "90971                   6          64      U                   2  74783.76   \n",
       "90970                   6          64      U                   2  74783.76   \n",
       "90969                   6          64      U                   2  74783.76   \n",
       "90968                   6          64      U                   2  74783.76   \n",
       "90967                   6          64      U                   2  74783.76   \n",
       "\n",
       "        calls_6_months  logons_6_month  time_taken  total_time_taken  \n",
       "236490               6               9         0.0             242.0  \n",
       "236489               6               9        16.0             242.0  \n",
       "236488               6               9         9.0             242.0  \n",
       "236487               6               9        14.0             242.0  \n",
       "236486               6               9         6.0             242.0  \n",
       "...                ...             ...         ...               ...  \n",
       "90971                5               8         0.0            1050.0  \n",
       "90970                5               8        68.0            1050.0  \n",
       "90969                5               8        38.0            1050.0  \n",
       "90968                5               8       101.0            1050.0  \n",
       "90967                5               8       843.0            1050.0  \n",
       "\n",
       "[219227 rows x 16 columns]"
      ]
     },
     "metadata": {},
     "output_type": "display_data"
    },
    {
     "data": {
      "text/html": [
       "<div>\n",
       "<style scoped>\n",
       "    .dataframe tbody tr th:only-of-type {\n",
       "        vertical-align: middle;\n",
       "    }\n",
       "\n",
       "    .dataframe tbody tr th {\n",
       "        vertical-align: top;\n",
       "    }\n",
       "\n",
       "    .dataframe thead th {\n",
       "        text-align: right;\n",
       "    }\n",
       "</style>\n",
       "<table border=\"1\" class=\"dataframe\">\n",
       "  <thead>\n",
       "    <tr style=\"text-align: right;\">\n",
       "      <th></th>\n",
       "      <th>client_id</th>\n",
       "      <th>visitor_id</th>\n",
       "      <th>visit_id</th>\n",
       "      <th>process_step</th>\n",
       "      <th>date_time</th>\n",
       "      <th>variation</th>\n",
       "      <th>client_since_month</th>\n",
       "      <th>client_since_year</th>\n",
       "      <th>client_age</th>\n",
       "      <th>gender</th>\n",
       "      <th>number_of_accounts</th>\n",
       "      <th>balance</th>\n",
       "      <th>calls_6_months</th>\n",
       "      <th>logons_6_month</th>\n",
       "      <th>time_taken</th>\n",
       "      <th>total_time_taken</th>\n",
       "    </tr>\n",
       "  </thead>\n",
       "  <tbody>\n",
       "    <tr>\n",
       "      <th>count</th>\n",
       "      <td>2.192270e+05</td>\n",
       "      <td>219227</td>\n",
       "      <td>219227</td>\n",
       "      <td>219227</td>\n",
       "      <td>219227</td>\n",
       "      <td>219227</td>\n",
       "      <td>219227.000000</td>\n",
       "      <td>219227.000000</td>\n",
       "      <td>219227.000000</td>\n",
       "      <td>219227</td>\n",
       "      <td>219227.000000</td>\n",
       "      <td>2.192270e+05</td>\n",
       "      <td>219227.000000</td>\n",
       "      <td>219227.000000</td>\n",
       "      <td>219227.000000</td>\n",
       "      <td>219227.000000</td>\n",
       "    </tr>\n",
       "    <tr>\n",
       "      <th>unique</th>\n",
       "      <td>NaN</td>\n",
       "      <td>45439</td>\n",
       "      <td>45541</td>\n",
       "      <td>5</td>\n",
       "      <td>NaN</td>\n",
       "      <td>2</td>\n",
       "      <td>NaN</td>\n",
       "      <td>NaN</td>\n",
       "      <td>NaN</td>\n",
       "      <td>3</td>\n",
       "      <td>NaN</td>\n",
       "      <td>NaN</td>\n",
       "      <td>NaN</td>\n",
       "      <td>NaN</td>\n",
       "      <td>NaN</td>\n",
       "      <td>NaN</td>\n",
       "    </tr>\n",
       "    <tr>\n",
       "      <th>top</th>\n",
       "      <td>NaN</td>\n",
       "      <td>857376424_12378092455</td>\n",
       "      <td>518285126_8572733997_709761</td>\n",
       "      <td>start</td>\n",
       "      <td>NaN</td>\n",
       "      <td>Test</td>\n",
       "      <td>NaN</td>\n",
       "      <td>NaN</td>\n",
       "      <td>NaN</td>\n",
       "      <td>U</td>\n",
       "      <td>NaN</td>\n",
       "      <td>NaN</td>\n",
       "      <td>NaN</td>\n",
       "      <td>NaN</td>\n",
       "      <td>NaN</td>\n",
       "      <td>NaN</td>\n",
       "    </tr>\n",
       "    <tr>\n",
       "      <th>freq</th>\n",
       "      <td>NaN</td>\n",
       "      <td>88</td>\n",
       "      <td>88</td>\n",
       "      <td>68308</td>\n",
       "      <td>NaN</td>\n",
       "      <td>119871</td>\n",
       "      <td>NaN</td>\n",
       "      <td>NaN</td>\n",
       "      <td>NaN</td>\n",
       "      <td>76971</td>\n",
       "      <td>NaN</td>\n",
       "      <td>NaN</td>\n",
       "      <td>NaN</td>\n",
       "      <td>NaN</td>\n",
       "      <td>NaN</td>\n",
       "      <td>NaN</td>\n",
       "    </tr>\n",
       "    <tr>\n",
       "      <th>mean</th>\n",
       "      <td>5.006738e+06</td>\n",
       "      <td>NaN</td>\n",
       "      <td>NaN</td>\n",
       "      <td>NaN</td>\n",
       "      <td>2017-04-19 16:13:51.755568384</td>\n",
       "      <td>NaN</td>\n",
       "      <td>148.476657</td>\n",
       "      <td>11.871407</td>\n",
       "      <td>46.582825</td>\n",
       "      <td>NaN</td>\n",
       "      <td>2.250156</td>\n",
       "      <td>1.467244e+05</td>\n",
       "      <td>3.078617</td>\n",
       "      <td>6.115164</td>\n",
       "      <td>49.218522</td>\n",
       "      <td>308.841995</td>\n",
       "    </tr>\n",
       "    <tr>\n",
       "      <th>min</th>\n",
       "      <td>5.550000e+02</td>\n",
       "      <td>NaN</td>\n",
       "      <td>NaN</td>\n",
       "      <td>NaN</td>\n",
       "      <td>2017-03-15 00:19:28</td>\n",
       "      <td>NaN</td>\n",
       "      <td>33.000000</td>\n",
       "      <td>2.000000</td>\n",
       "      <td>17.000000</td>\n",
       "      <td>NaN</td>\n",
       "      <td>1.000000</td>\n",
       "      <td>2.378944e+04</td>\n",
       "      <td>0.000000</td>\n",
       "      <td>3.000000</td>\n",
       "      <td>0.000000</td>\n",
       "      <td>0.000000</td>\n",
       "    </tr>\n",
       "    <tr>\n",
       "      <th>25%</th>\n",
       "      <td>2.515274e+06</td>\n",
       "      <td>NaN</td>\n",
       "      <td>NaN</td>\n",
       "      <td>NaN</td>\n",
       "      <td>2017-04-03 21:11:31.500000</td>\n",
       "      <td>NaN</td>\n",
       "      <td>81.000000</td>\n",
       "      <td>6.000000</td>\n",
       "      <td>33.000000</td>\n",
       "      <td>NaN</td>\n",
       "      <td>2.000000</td>\n",
       "      <td>3.950238e+04</td>\n",
       "      <td>1.000000</td>\n",
       "      <td>4.000000</td>\n",
       "      <td>4.000000</td>\n",
       "      <td>139.000000</td>\n",
       "    </tr>\n",
       "    <tr>\n",
       "      <th>50%</th>\n",
       "      <td>5.042117e+06</td>\n",
       "      <td>NaN</td>\n",
       "      <td>NaN</td>\n",
       "      <td>NaN</td>\n",
       "      <td>2017-04-12 11:59:49</td>\n",
       "      <td>NaN</td>\n",
       "      <td>132.000000</td>\n",
       "      <td>11.000000</td>\n",
       "      <td>47.000000</td>\n",
       "      <td>NaN</td>\n",
       "      <td>2.000000</td>\n",
       "      <td>6.459520e+04</td>\n",
       "      <td>3.000000</td>\n",
       "      <td>6.000000</td>\n",
       "      <td>21.000000</td>\n",
       "      <td>244.000000</td>\n",
       "    </tr>\n",
       "    <tr>\n",
       "      <th>75%</th>\n",
       "      <td>7.465118e+06</td>\n",
       "      <td>NaN</td>\n",
       "      <td>NaN</td>\n",
       "      <td>NaN</td>\n",
       "      <td>2017-04-28 10:44:16</td>\n",
       "      <td>NaN</td>\n",
       "      <td>190.000000</td>\n",
       "      <td>15.000000</td>\n",
       "      <td>59.000000</td>\n",
       "      <td>NaN</td>\n",
       "      <td>2.000000</td>\n",
       "      <td>1.365374e+05</td>\n",
       "      <td>5.000000</td>\n",
       "      <td>8.000000</td>\n",
       "      <td>60.000000</td>\n",
       "      <td>420.000000</td>\n",
       "    </tr>\n",
       "    <tr>\n",
       "      <th>max</th>\n",
       "      <td>9.999832e+06</td>\n",
       "      <td>NaN</td>\n",
       "      <td>NaN</td>\n",
       "      <td>NaN</td>\n",
       "      <td>2017-06-20 23:26:00</td>\n",
       "      <td>NaN</td>\n",
       "      <td>669.000000</td>\n",
       "      <td>55.000000</td>\n",
       "      <td>96.000000</td>\n",
       "      <td>NaN</td>\n",
       "      <td>7.000000</td>\n",
       "      <td>8.986420e+06</td>\n",
       "      <td>6.000000</td>\n",
       "      <td>9.000000</td>\n",
       "      <td>1044.000000</td>\n",
       "      <td>1063.000000</td>\n",
       "    </tr>\n",
       "    <tr>\n",
       "      <th>std</th>\n",
       "      <td>2.870169e+06</td>\n",
       "      <td>NaN</td>\n",
       "      <td>NaN</td>\n",
       "      <td>NaN</td>\n",
       "      <td>NaN</td>\n",
       "      <td>NaN</td>\n",
       "      <td>80.946937</td>\n",
       "      <td>6.776560</td>\n",
       "      <td>15.424587</td>\n",
       "      <td>NaN</td>\n",
       "      <td>0.525677</td>\n",
       "      <td>2.999503e+05</td>\n",
       "      <td>2.178573</td>\n",
       "      <td>2.166763</td>\n",
       "      <td>81.939516</td>\n",
       "      <td>235.216060</td>\n",
       "    </tr>\n",
       "  </tbody>\n",
       "</table>\n",
       "</div>"
      ],
      "text/plain": [
       "           client_id             visitor_id                     visit_id  \\\n",
       "count   2.192270e+05                 219227                       219227   \n",
       "unique           NaN                  45439                        45541   \n",
       "top              NaN  857376424_12378092455  518285126_8572733997_709761   \n",
       "freq             NaN                     88                           88   \n",
       "mean    5.006738e+06                    NaN                          NaN   \n",
       "min     5.550000e+02                    NaN                          NaN   \n",
       "25%     2.515274e+06                    NaN                          NaN   \n",
       "50%     5.042117e+06                    NaN                          NaN   \n",
       "75%     7.465118e+06                    NaN                          NaN   \n",
       "max     9.999832e+06                    NaN                          NaN   \n",
       "std     2.870169e+06                    NaN                          NaN   \n",
       "\n",
       "       process_step                      date_time variation  \\\n",
       "count        219227                         219227    219227   \n",
       "unique            5                            NaN         2   \n",
       "top           start                            NaN      Test   \n",
       "freq          68308                            NaN    119871   \n",
       "mean            NaN  2017-04-19 16:13:51.755568384       NaN   \n",
       "min             NaN            2017-03-15 00:19:28       NaN   \n",
       "25%             NaN     2017-04-03 21:11:31.500000       NaN   \n",
       "50%             NaN            2017-04-12 11:59:49       NaN   \n",
       "75%             NaN            2017-04-28 10:44:16       NaN   \n",
       "max             NaN            2017-06-20 23:26:00       NaN   \n",
       "std             NaN                            NaN       NaN   \n",
       "\n",
       "        client_since_month  client_since_year     client_age  gender  \\\n",
       "count        219227.000000      219227.000000  219227.000000  219227   \n",
       "unique                 NaN                NaN            NaN       3   \n",
       "top                    NaN                NaN            NaN       U   \n",
       "freq                   NaN                NaN            NaN   76971   \n",
       "mean            148.476657          11.871407      46.582825     NaN   \n",
       "min              33.000000           2.000000      17.000000     NaN   \n",
       "25%              81.000000           6.000000      33.000000     NaN   \n",
       "50%             132.000000          11.000000      47.000000     NaN   \n",
       "75%             190.000000          15.000000      59.000000     NaN   \n",
       "max             669.000000          55.000000      96.000000     NaN   \n",
       "std              80.946937           6.776560      15.424587     NaN   \n",
       "\n",
       "        number_of_accounts       balance  calls_6_months  logons_6_month  \\\n",
       "count        219227.000000  2.192270e+05   219227.000000   219227.000000   \n",
       "unique                 NaN           NaN             NaN             NaN   \n",
       "top                    NaN           NaN             NaN             NaN   \n",
       "freq                   NaN           NaN             NaN             NaN   \n",
       "mean              2.250156  1.467244e+05        3.078617        6.115164   \n",
       "min               1.000000  2.378944e+04        0.000000        3.000000   \n",
       "25%               2.000000  3.950238e+04        1.000000        4.000000   \n",
       "50%               2.000000  6.459520e+04        3.000000        6.000000   \n",
       "75%               2.000000  1.365374e+05        5.000000        8.000000   \n",
       "max               7.000000  8.986420e+06        6.000000        9.000000   \n",
       "std               0.525677  2.999503e+05        2.178573        2.166763   \n",
       "\n",
       "           time_taken  total_time_taken  \n",
       "count   219227.000000     219227.000000  \n",
       "unique            NaN               NaN  \n",
       "top               NaN               NaN  \n",
       "freq              NaN               NaN  \n",
       "mean        49.218522        308.841995  \n",
       "min          0.000000          0.000000  \n",
       "25%          4.000000        139.000000  \n",
       "50%         21.000000        244.000000  \n",
       "75%         60.000000        420.000000  \n",
       "max       1044.000000       1063.000000  \n",
       "std         81.939516        235.216060  "
      ]
     },
     "metadata": {},
     "output_type": "display_data"
    },
    {
     "data": {
      "text/plain": [
       "client_id                      int64\n",
       "visitor_id                    object\n",
       "visit_id                      object\n",
       "process_step                category\n",
       "date_time             datetime64[ns]\n",
       "variation                   category\n",
       "client_since_month             int64\n",
       "client_since_year              int64\n",
       "client_age                     int64\n",
       "gender                      category\n",
       "number_of_accounts             int64\n",
       "balance                      float64\n",
       "calls_6_months                 int64\n",
       "logons_6_month                 int64\n",
       "time_taken                   float64\n",
       "total_time_taken             float64\n",
       "dtype: object"
      ]
     },
     "metadata": {},
     "output_type": "display_data"
    }
   ],
   "source": [
    "variations_outliers = tukeys_test_outliers(visits_variations['total_time_taken'], method=\"show\")\n",
    "display(variations_outliers)\n",
    "display(variations_outliers.describe())\n",
    "\n",
    "visits_variations = visits_variations[~visits_variations['total_time_taken'].isin(variations_outliers)]\n",
    "display(visits_variations)\n",
    "display(visits_variations.describe(include='all'))\n",
    "display(visits_variations.dtypes)\n"
   ]
  },
  {
   "cell_type": "code",
   "execution_count": 118,
   "metadata": {},
   "outputs": [
    {
     "data": {
      "image/png": "[encoded data removed]",
      "text/plain": [
       "<Figure size 1000x600 with 1 Axes>"
      ]
     },
     "metadata": {},
     "output_type": "display_data"
    }
   ],
   "source": [
    "plt.figure(figsize=(10, 6))\n",
    "sns.histplot(data=visits_variations, x='total_time_taken', kde=True, bins=50)\n",
    "plt.xlabel('Total Time Taken (seconds)')\n",
    "plt.ylabel('Frequency')\n",
    "plt.show()"
   ]
  },
  {
   "cell_type": "code",
   "execution_count": 119,
   "metadata": {},
   "outputs": [
    {
     "data": {
      "image/png": "[encoded data removed]",
      "text/plain": [
       "<Figure size 1000x600 with 1 Axes>"
      ]
     },
     "metadata": {},
     "output_type": "display_data"
    },
    {
     "data": {
      "text/plain": [
       "count    219227.000000\n",
       "mean        308.841995\n",
       "std         235.216060\n",
       "min           0.000000\n",
       "25%         139.000000\n",
       "50%         244.000000\n",
       "75%         420.000000\n",
       "max        1063.000000\n",
       "Name: total_time_taken, dtype: float64"
      ]
     },
     "execution_count": 119,
     "metadata": {},
     "output_type": "execute_result"
    }
   ],
   "source": [
    "plt.figure(figsize=(10, 6))\n",
    "sns.boxplot(x='variation', y='total_time_taken', data=visits_variations)\n",
    "plt.xlabel('Variation')\n",
    "plt.ylabel('Total Time Taken (seconds)')\n",
    "plt.show()\n",
    "\n",
    "visits_variations['total_time_taken'].describe()"
   ]
  },
  {
   "cell_type": "code",
   "execution_count": 120,
   "metadata": {},
   "outputs": [
    {
     "data": {
      "text/plain": [
       "[{'step': 'Raw data', 'count': 120157},\n",
       " {'step': 'Drop nulls', 'count': 100048},\n",
       " {'step': 'Remove unknown variation', 'count': 50487},\n",
       " {'step': 'Remove repeat and shared visits', 'count': 50109},\n",
       " {'step': 'Remove non-starters', 'count': 47914},\n",
       " {'step': 'Remove outliers', 'count': 45541}]"
      ]
     },
     "metadata": {},
     "output_type": "display_data"
    }
   ],
   "source": [
    "cleaning.append({\"step\" : \"Remove outliers\", \"count\" : visits_variations['client_id'].nunique()})\n",
    "display(cleaning)"
   ]
  },
  {
   "cell_type": "markdown",
   "metadata": {},
   "source": [
    "### Correlation matrix"
   ]
  },
  {
   "cell_type": "code",
   "execution_count": 121,
   "metadata": {},
   "outputs": [
    {
     "data": {
      "text/html": [
       "<div>\n",
       "<style scoped>\n",
       "    .dataframe tbody tr th:only-of-type {\n",
       "        vertical-align: middle;\n",
       "    }\n",
       "\n",
       "    .dataframe tbody tr th {\n",
       "        vertical-align: top;\n",
       "    }\n",
       "\n",
       "    .dataframe thead th {\n",
       "        text-align: right;\n",
       "    }\n",
       "</style>\n",
       "<table border=\"1\" class=\"dataframe\">\n",
       "  <thead>\n",
       "    <tr style=\"text-align: right;\">\n",
       "      <th></th>\n",
       "      <th>client_id</th>\n",
       "      <th>client_since_month</th>\n",
       "      <th>client_since_year</th>\n",
       "      <th>client_age</th>\n",
       "      <th>number_of_accounts</th>\n",
       "      <th>balance</th>\n",
       "      <th>calls_6_months</th>\n",
       "      <th>logons_6_month</th>\n",
       "      <th>time_taken</th>\n",
       "      <th>total_time_taken</th>\n",
       "    </tr>\n",
       "  </thead>\n",
       "  <tbody>\n",
       "    <tr>\n",
       "      <th>client_id</th>\n",
       "      <td>1.000000</td>\n",
       "      <td>0.006450</td>\n",
       "      <td>0.006616</td>\n",
       "      <td>-0.001127</td>\n",
       "      <td>-0.003384</td>\n",
       "      <td>-0.001807</td>\n",
       "      <td>-0.006098</td>\n",
       "      <td>-0.006139</td>\n",
       "      <td>0.002472</td>\n",
       "      <td>-0.000016</td>\n",
       "    </tr>\n",
       "    <tr>\n",
       "      <th>client_since_month</th>\n",
       "      <td>0.006450</td>\n",
       "      <td>1.000000</td>\n",
       "      <td>0.998916</td>\n",
       "      <td>0.307362</td>\n",
       "      <td>0.141323</td>\n",
       "      <td>0.202971</td>\n",
       "      <td>0.041712</td>\n",
       "      <td>0.046240</td>\n",
       "      <td>-0.003811</td>\n",
       "      <td>0.021543</td>\n",
       "    </tr>\n",
       "    <tr>\n",
       "      <th>client_since_year</th>\n",
       "      <td>0.006616</td>\n",
       "      <td>0.998916</td>\n",
       "      <td>1.000000</td>\n",
       "      <td>0.307066</td>\n",
       "      <td>0.141573</td>\n",
       "      <td>0.203726</td>\n",
       "      <td>0.043762</td>\n",
       "      <td>0.048325</td>\n",
       "      <td>-0.004052</td>\n",
       "      <td>0.021416</td>\n",
       "    </tr>\n",
       "    <tr>\n",
       "      <th>client_age</th>\n",
       "      <td>-0.001127</td>\n",
       "      <td>0.307362</td>\n",
       "      <td>0.307066</td>\n",
       "      <td>1.000000</td>\n",
       "      <td>-0.032729</td>\n",
       "      <td>0.207751</td>\n",
       "      <td>0.046172</td>\n",
       "      <td>0.054290</td>\n",
       "      <td>0.002021</td>\n",
       "      <td>0.122528</td>\n",
       "    </tr>\n",
       "    <tr>\n",
       "      <th>number_of_accounts</th>\n",
       "      <td>-0.003384</td>\n",
       "      <td>0.141323</td>\n",
       "      <td>0.141573</td>\n",
       "      <td>-0.032729</td>\n",
       "      <td>1.000000</td>\n",
       "      <td>0.260501</td>\n",
       "      <td>0.232742</td>\n",
       "      <td>0.236783</td>\n",
       "      <td>-0.004222</td>\n",
       "      <td>-0.027510</td>\n",
       "    </tr>\n",
       "    <tr>\n",
       "      <th>balance</th>\n",
       "      <td>-0.001807</td>\n",
       "      <td>0.202971</td>\n",
       "      <td>0.203726</td>\n",
       "      <td>0.207751</td>\n",
       "      <td>0.260501</td>\n",
       "      <td>1.000000</td>\n",
       "      <td>0.168945</td>\n",
       "      <td>0.175584</td>\n",
       "      <td>-0.004699</td>\n",
       "      <td>0.023122</td>\n",
       "    </tr>\n",
       "    <tr>\n",
       "      <th>calls_6_months</th>\n",
       "      <td>-0.006098</td>\n",
       "      <td>0.041712</td>\n",
       "      <td>0.043762</td>\n",
       "      <td>0.046172</td>\n",
       "      <td>0.232742</td>\n",
       "      <td>0.168945</td>\n",
       "      <td>1.000000</td>\n",
       "      <td>0.994836</td>\n",
       "      <td>0.004178</td>\n",
       "      <td>-0.039454</td>\n",
       "    </tr>\n",
       "    <tr>\n",
       "      <th>logons_6_month</th>\n",
       "      <td>-0.006139</td>\n",
       "      <td>0.046240</td>\n",
       "      <td>0.048325</td>\n",
       "      <td>0.054290</td>\n",
       "      <td>0.236783</td>\n",
       "      <td>0.175584</td>\n",
       "      <td>0.994836</td>\n",
       "      <td>1.000000</td>\n",
       "      <td>0.003959</td>\n",
       "      <td>-0.038028</td>\n",
       "    </tr>\n",
       "    <tr>\n",
       "      <th>time_taken</th>\n",
       "      <td>0.002472</td>\n",
       "      <td>-0.003811</td>\n",
       "      <td>-0.004052</td>\n",
       "      <td>0.002021</td>\n",
       "      <td>-0.004222</td>\n",
       "      <td>-0.004699</td>\n",
       "      <td>0.004178</td>\n",
       "      <td>0.003959</td>\n",
       "      <td>1.000000</td>\n",
       "      <td>0.035539</td>\n",
       "    </tr>\n",
       "    <tr>\n",
       "      <th>total_time_taken</th>\n",
       "      <td>-0.000016</td>\n",
       "      <td>0.021543</td>\n",
       "      <td>0.021416</td>\n",
       "      <td>0.122528</td>\n",
       "      <td>-0.027510</td>\n",
       "      <td>0.023122</td>\n",
       "      <td>-0.039454</td>\n",
       "      <td>-0.038028</td>\n",
       "      <td>0.035539</td>\n",
       "      <td>1.000000</td>\n",
       "    </tr>\n",
       "  </tbody>\n",
       "</table>\n",
       "</div>"
      ],
      "text/plain": [
       "                    client_id  client_since_month  client_since_year  \\\n",
       "client_id            1.000000            0.006450           0.006616   \n",
       "client_since_month   0.006450            1.000000           0.998916   \n",
       "client_since_year    0.006616            0.998916           1.000000   \n",
       "client_age          -0.001127            0.307362           0.307066   \n",
       "number_of_accounts  -0.003384            0.141323           0.141573   \n",
       "balance             -0.001807            0.202971           0.203726   \n",
       "calls_6_months      -0.006098            0.041712           0.043762   \n",
       "logons_6_month      -0.006139            0.046240           0.048325   \n",
       "time_taken           0.002472           -0.003811          -0.004052   \n",
       "total_time_taken    -0.000016            0.021543           0.021416   \n",
       "\n",
       "                    client_age  number_of_accounts   balance  calls_6_months  \\\n",
       "client_id            -0.001127           -0.003384 -0.001807       -0.006098   \n",
       "client_since_month    0.307362            0.141323  0.202971        0.041712   \n",
       "client_since_year     0.307066            0.141573  0.203726        0.043762   \n",
       "client_age            1.000000           -0.032729  0.207751        0.046172   \n",
       "number_of_accounts   -0.032729            1.000000  0.260501        0.232742   \n",
       "balance               0.207751            0.260501  1.000000        0.168945   \n",
       "calls_6_months        0.046172            0.232742  0.168945        1.000000   \n",
       "logons_6_month        0.054290            0.236783  0.175584        0.994836   \n",
       "time_taken            0.002021           -0.004222 -0.004699        0.004178   \n",
       "total_time_taken      0.122528           -0.027510  0.023122       -0.039454   \n",
       "\n",
       "                    logons_6_month  time_taken  total_time_taken  \n",
       "client_id                -0.006139    0.002472         -0.000016  \n",
       "client_since_month        0.046240   -0.003811          0.021543  \n",
       "client_since_year         0.048325   -0.004052          0.021416  \n",
       "client_age                0.054290    0.002021          0.122528  \n",
       "number_of_accounts        0.236783   -0.004222         -0.027510  \n",
       "balance                   0.175584   -0.004699          0.023122  \n",
       "calls_6_months            0.994836    0.004178         -0.039454  \n",
       "logons_6_month            1.000000    0.003959         -0.038028  \n",
       "time_taken                0.003959    1.000000          0.035539  \n",
       "total_time_taken         -0.038028    0.035539          1.000000  "
      ]
     },
     "metadata": {},
     "output_type": "display_data"
    },
    {
     "data": {
      "image/png": "[encoded data removed]",
      "text/plain": [
       "<Figure size 1000x800 with 2 Axes>"
      ]
     },
     "metadata": {},
     "output_type": "display_data"
    }
   ],
   "source": [
    "# select all clients\n",
    "visits_by_client_ids = visits_variations.drop_duplicates(subset='client_id', keep='first')\n",
    "\n",
    "# Select numerical columns\n",
    "numerical_data = visits_by_client_ids.select_dtypes(include=['float64', 'int64'])\n",
    "\n",
    "# Compute the correlation matrix\n",
    "correlation_matrix = numerical_data.corr()\n",
    "\n",
    "# Display the correlation matrix\n",
    "display(correlation_matrix)\n",
    "\n",
    "# Plot the correlation matrix\n",
    "plt.figure(figsize=(10, 8))\n",
    "sns.heatmap(correlation_matrix, annot=True, cmap='coolwarm', fmt='.2f')\n",
    "plt.title('Correlation Matrix')\n",
    "plt.show()"
   ]
  },
  {
   "cell_type": "markdown",
   "metadata": {},
   "source": [
    "### Count visits"
   ]
  },
  {
   "cell_type": "code",
   "execution_count": 122,
   "metadata": {},
   "outputs": [
    {
     "data": {
      "text/plain": [
       "variation\n",
       "Test       23756\n",
       "Control    21793\n",
       "Name: visit_id, dtype: int64"
      ]
     },
     "metadata": {},
     "output_type": "display_data"
    }
   ],
   "source": [
    "# Total number of visits per variation to calculate the success rate later\n",
    "number_of_visits = visits_variations.groupby('variation', observed=False)['visit_id'].nunique()\n",
    "display(number_of_visits)\n"
   ]
  },
  {
   "cell_type": "markdown",
   "metadata": {},
   "source": [
    "### Time taken"
   ]
  },
  {
   "cell_type": "code",
   "execution_count": 123,
   "metadata": {},
   "outputs": [
    {
     "data": {
      "text/plain": [
       "variation\n",
       "Test       310.752092\n",
       "Control    306.537502\n",
       "Name: total_time_taken, dtype: float64"
      ]
     },
     "metadata": {},
     "output_type": "display_data"
    }
   ],
   "source": [
    "# Average total time taken per variation\n",
    "average_total_time_ = visits_variations.groupby('variation', observed=False)['total_time_taken'].mean()\n",
    "display(average_total_time_)"
   ]
  },
  {
   "cell_type": "markdown",
   "metadata": {},
   "source": [
    "## Happy Path"
   ]
  },
  {
   "cell_type": "code",
   "execution_count": 124,
   "metadata": {},
   "outputs": [],
   "source": [
    "# function to filter visits with our happy path\n",
    "def filter_visits_with_happy_path(df):\n",
    "    def check_sequence(group):\n",
    "        steps = list(group['process_step'])\n",
    "        return steps == ['start', 'step_1', 'step_2', 'step_3', 'confirm']\n",
    "\n",
    "    df_filtered = df.groupby('visit_id').filter(check_sequence)\n",
    "    return df_filtered\n"
   ]
  },
  {
   "cell_type": "code",
   "execution_count": 125,
   "metadata": {},
   "outputs": [
    {
     "data": {
      "text/html": [
       "<div>\n",
       "<style scoped>\n",
       "    .dataframe tbody tr th:only-of-type {\n",
       "        vertical-align: middle;\n",
       "    }\n",
       "\n",
       "    .dataframe tbody tr th {\n",
       "        vertical-align: top;\n",
       "    }\n",
       "\n",
       "    .dataframe thead th {\n",
       "        text-align: right;\n",
       "    }\n",
       "</style>\n",
       "<table border=\"1\" class=\"dataframe\">\n",
       "  <thead>\n",
       "    <tr style=\"text-align: right;\">\n",
       "      <th></th>\n",
       "      <th>client_id</th>\n",
       "      <th>visitor_id</th>\n",
       "      <th>visit_id</th>\n",
       "      <th>process_step</th>\n",
       "      <th>date_time</th>\n",
       "      <th>variation</th>\n",
       "      <th>client_since_month</th>\n",
       "      <th>client_since_year</th>\n",
       "      <th>client_age</th>\n",
       "      <th>gender</th>\n",
       "      <th>number_of_accounts</th>\n",
       "      <th>balance</th>\n",
       "      <th>calls_6_months</th>\n",
       "      <th>logons_6_month</th>\n",
       "      <th>time_taken</th>\n",
       "      <th>total_time_taken</th>\n",
       "    </tr>\n",
       "  </thead>\n",
       "  <tbody>\n",
       "    <tr>\n",
       "      <th>243695</th>\n",
       "      <td>2478628</td>\n",
       "      <td>754122351_18568832435</td>\n",
       "      <td>100022086_87870757897_149620</td>\n",
       "      <td>start</td>\n",
       "      <td>2017-05-23 20:44:01</td>\n",
       "      <td>Test</td>\n",
       "      <td>198</td>\n",
       "      <td>16</td>\n",
       "      <td>47</td>\n",
       "      <td>F</td>\n",
       "      <td>2</td>\n",
       "      <td>32456.28</td>\n",
       "      <td>2</td>\n",
       "      <td>5</td>\n",
       "      <td>0.0</td>\n",
       "      <td>180.0</td>\n",
       "    </tr>\n",
       "    <tr>\n",
       "      <th>243694</th>\n",
       "      <td>2478628</td>\n",
       "      <td>754122351_18568832435</td>\n",
       "      <td>100022086_87870757897_149620</td>\n",
       "      <td>step_1</td>\n",
       "      <td>2017-05-23 20:44:23</td>\n",
       "      <td>Test</td>\n",
       "      <td>198</td>\n",
       "      <td>16</td>\n",
       "      <td>47</td>\n",
       "      <td>F</td>\n",
       "      <td>2</td>\n",
       "      <td>32456.28</td>\n",
       "      <td>2</td>\n",
       "      <td>5</td>\n",
       "      <td>22.0</td>\n",
       "      <td>180.0</td>\n",
       "    </tr>\n",
       "    <tr>\n",
       "      <th>243693</th>\n",
       "      <td>2478628</td>\n",
       "      <td>754122351_18568832435</td>\n",
       "      <td>100022086_87870757897_149620</td>\n",
       "      <td>step_2</td>\n",
       "      <td>2017-05-23 20:45:08</td>\n",
       "      <td>Test</td>\n",
       "      <td>198</td>\n",
       "      <td>16</td>\n",
       "      <td>47</td>\n",
       "      <td>F</td>\n",
       "      <td>2</td>\n",
       "      <td>32456.28</td>\n",
       "      <td>2</td>\n",
       "      <td>5</td>\n",
       "      <td>45.0</td>\n",
       "      <td>180.0</td>\n",
       "    </tr>\n",
       "    <tr>\n",
       "      <th>243692</th>\n",
       "      <td>2478628</td>\n",
       "      <td>754122351_18568832435</td>\n",
       "      <td>100022086_87870757897_149620</td>\n",
       "      <td>step_3</td>\n",
       "      <td>2017-05-23 20:46:01</td>\n",
       "      <td>Test</td>\n",
       "      <td>198</td>\n",
       "      <td>16</td>\n",
       "      <td>47</td>\n",
       "      <td>F</td>\n",
       "      <td>2</td>\n",
       "      <td>32456.28</td>\n",
       "      <td>2</td>\n",
       "      <td>5</td>\n",
       "      <td>53.0</td>\n",
       "      <td>180.0</td>\n",
       "    </tr>\n",
       "    <tr>\n",
       "      <th>243691</th>\n",
       "      <td>2478628</td>\n",
       "      <td>754122351_18568832435</td>\n",
       "      <td>100022086_87870757897_149620</td>\n",
       "      <td>confirm</td>\n",
       "      <td>2017-05-23 20:47:01</td>\n",
       "      <td>Test</td>\n",
       "      <td>198</td>\n",
       "      <td>16</td>\n",
       "      <td>47</td>\n",
       "      <td>F</td>\n",
       "      <td>2</td>\n",
       "      <td>32456.28</td>\n",
       "      <td>2</td>\n",
       "      <td>5</td>\n",
       "      <td>60.0</td>\n",
       "      <td>180.0</td>\n",
       "    </tr>\n",
       "    <tr>\n",
       "      <th>...</th>\n",
       "      <td>...</td>\n",
       "      <td>...</td>\n",
       "      <td>...</td>\n",
       "      <td>...</td>\n",
       "      <td>...</td>\n",
       "      <td>...</td>\n",
       "      <td>...</td>\n",
       "      <td>...</td>\n",
       "      <td>...</td>\n",
       "      <td>...</td>\n",
       "      <td>...</td>\n",
       "      <td>...</td>\n",
       "      <td>...</td>\n",
       "      <td>...</td>\n",
       "      <td>...</td>\n",
       "      <td>...</td>\n",
       "    </tr>\n",
       "    <tr>\n",
       "      <th>90971</th>\n",
       "      <td>4064969</td>\n",
       "      <td>110735946_42614968419</td>\n",
       "      <td>999985675_64610694964_443659</td>\n",
       "      <td>start</td>\n",
       "      <td>2017-04-20 09:45:18</td>\n",
       "      <td>Control</td>\n",
       "      <td>75</td>\n",
       "      <td>6</td>\n",
       "      <td>64</td>\n",
       "      <td>U</td>\n",
       "      <td>2</td>\n",
       "      <td>74783.76</td>\n",
       "      <td>5</td>\n",
       "      <td>8</td>\n",
       "      <td>0.0</td>\n",
       "      <td>1050.0</td>\n",
       "    </tr>\n",
       "    <tr>\n",
       "      <th>90970</th>\n",
       "      <td>4064969</td>\n",
       "      <td>110735946_42614968419</td>\n",
       "      <td>999985675_64610694964_443659</td>\n",
       "      <td>step_1</td>\n",
       "      <td>2017-04-20 09:46:26</td>\n",
       "      <td>Control</td>\n",
       "      <td>75</td>\n",
       "      <td>6</td>\n",
       "      <td>64</td>\n",
       "      <td>U</td>\n",
       "      <td>2</td>\n",
       "      <td>74783.76</td>\n",
       "      <td>5</td>\n",
       "      <td>8</td>\n",
       "      <td>68.0</td>\n",
       "      <td>1050.0</td>\n",
       "    </tr>\n",
       "    <tr>\n",
       "      <th>90969</th>\n",
       "      <td>4064969</td>\n",
       "      <td>110735946_42614968419</td>\n",
       "      <td>999985675_64610694964_443659</td>\n",
       "      <td>step_2</td>\n",
       "      <td>2017-04-20 09:47:04</td>\n",
       "      <td>Control</td>\n",
       "      <td>75</td>\n",
       "      <td>6</td>\n",
       "      <td>64</td>\n",
       "      <td>U</td>\n",
       "      <td>2</td>\n",
       "      <td>74783.76</td>\n",
       "      <td>5</td>\n",
       "      <td>8</td>\n",
       "      <td>38.0</td>\n",
       "      <td>1050.0</td>\n",
       "    </tr>\n",
       "    <tr>\n",
       "      <th>90968</th>\n",
       "      <td>4064969</td>\n",
       "      <td>110735946_42614968419</td>\n",
       "      <td>999985675_64610694964_443659</td>\n",
       "      <td>step_3</td>\n",
       "      <td>2017-04-20 09:48:45</td>\n",
       "      <td>Control</td>\n",
       "      <td>75</td>\n",
       "      <td>6</td>\n",
       "      <td>64</td>\n",
       "      <td>U</td>\n",
       "      <td>2</td>\n",
       "      <td>74783.76</td>\n",
       "      <td>5</td>\n",
       "      <td>8</td>\n",
       "      <td>101.0</td>\n",
       "      <td>1050.0</td>\n",
       "    </tr>\n",
       "    <tr>\n",
       "      <th>90967</th>\n",
       "      <td>4064969</td>\n",
       "      <td>110735946_42614968419</td>\n",
       "      <td>999985675_64610694964_443659</td>\n",
       "      <td>confirm</td>\n",
       "      <td>2017-04-20 10:02:48</td>\n",
       "      <td>Control</td>\n",
       "      <td>75</td>\n",
       "      <td>6</td>\n",
       "      <td>64</td>\n",
       "      <td>U</td>\n",
       "      <td>2</td>\n",
       "      <td>74783.76</td>\n",
       "      <td>5</td>\n",
       "      <td>8</td>\n",
       "      <td>843.0</td>\n",
       "      <td>1050.0</td>\n",
       "    </tr>\n",
       "  </tbody>\n",
       "</table>\n",
       "<p>83185 rows × 16 columns</p>\n",
       "</div>"
      ],
      "text/plain": [
       "        client_id             visitor_id                      visit_id  \\\n",
       "243695    2478628  754122351_18568832435  100022086_87870757897_149620   \n",
       "243694    2478628  754122351_18568832435  100022086_87870757897_149620   \n",
       "243693    2478628  754122351_18568832435  100022086_87870757897_149620   \n",
       "243692    2478628  754122351_18568832435  100022086_87870757897_149620   \n",
       "243691    2478628  754122351_18568832435  100022086_87870757897_149620   \n",
       "...           ...                    ...                           ...   \n",
       "90971     4064969  110735946_42614968419  999985675_64610694964_443659   \n",
       "90970     4064969  110735946_42614968419  999985675_64610694964_443659   \n",
       "90969     4064969  110735946_42614968419  999985675_64610694964_443659   \n",
       "90968     4064969  110735946_42614968419  999985675_64610694964_443659   \n",
       "90967     4064969  110735946_42614968419  999985675_64610694964_443659   \n",
       "\n",
       "       process_step           date_time variation  client_since_month  \\\n",
       "243695        start 2017-05-23 20:44:01      Test                 198   \n",
       "243694       step_1 2017-05-23 20:44:23      Test                 198   \n",
       "243693       step_2 2017-05-23 20:45:08      Test                 198   \n",
       "243692       step_3 2017-05-23 20:46:01      Test                 198   \n",
       "243691      confirm 2017-05-23 20:47:01      Test                 198   \n",
       "...             ...                 ...       ...                 ...   \n",
       "90971         start 2017-04-20 09:45:18   Control                  75   \n",
       "90970        step_1 2017-04-20 09:46:26   Control                  75   \n",
       "90969        step_2 2017-04-20 09:47:04   Control                  75   \n",
       "90968        step_3 2017-04-20 09:48:45   Control                  75   \n",
       "90967       confirm 2017-04-20 10:02:48   Control                  75   \n",
       "\n",
       "        client_since_year  client_age gender  number_of_accounts   balance  \\\n",
       "243695                 16          47      F                   2  32456.28   \n",
       "243694                 16          47      F                   2  32456.28   \n",
       "243693                 16          47      F                   2  32456.28   \n",
       "243692                 16          47      F                   2  32456.28   \n",
       "243691                 16          47      F                   2  32456.28   \n",
       "...                   ...         ...    ...                 ...       ...   \n",
       "90971                   6          64      U                   2  74783.76   \n",
       "90970                   6          64      U                   2  74783.76   \n",
       "90969                   6          64      U                   2  74783.76   \n",
       "90968                   6          64      U                   2  74783.76   \n",
       "90967                   6          64      U                   2  74783.76   \n",
       "\n",
       "        calls_6_months  logons_6_month  time_taken  total_time_taken  \n",
       "243695               2               5         0.0             180.0  \n",
       "243694               2               5        22.0             180.0  \n",
       "243693               2               5        45.0             180.0  \n",
       "243692               2               5        53.0             180.0  \n",
       "243691               2               5        60.0             180.0  \n",
       "...                ...             ...         ...               ...  \n",
       "90971                5               8         0.0            1050.0  \n",
       "90970                5               8        68.0            1050.0  \n",
       "90969                5               8        38.0            1050.0  \n",
       "90968                5               8       101.0            1050.0  \n",
       "90967                5               8       843.0            1050.0  \n",
       "\n",
       "[83185 rows x 16 columns]"
      ]
     },
     "metadata": {},
     "output_type": "display_data"
    }
   ],
   "source": [
    "happy_paths = filter_visits_with_happy_path(visits_variations)\n",
    "display(happy_paths)"
   ]
  },
  {
   "cell_type": "code",
   "execution_count": 126,
   "metadata": {},
   "outputs": [
    {
     "data": {
      "text/plain": [
       "variation\n",
       "Test       8950\n",
       "Control    7687\n",
       "Name: visit_id, dtype: int64"
      ]
     },
     "metadata": {},
     "output_type": "display_data"
    }
   ],
   "source": [
    "# Total number of success per variation\n",
    "number_of_successes = happy_paths.groupby('variation', observed=False)['visit_id'].nunique()\n",
    "display(number_of_successes)"
   ]
  },
  {
   "cell_type": "code",
   "execution_count": 127,
   "metadata": {},
   "outputs": [
    {
     "data": {
      "text/plain": [
       "variation\n",
       "Test       0.376747\n",
       "Control    0.352728\n",
       "Name: visit_id, dtype: float64"
      ]
     },
     "metadata": {},
     "output_type": "display_data"
    }
   ],
   "source": [
    "# calculate the success rate per variation\n",
    "success_rate = number_of_successes / number_of_visits\n",
    "display(success_rate)"
   ]
  },
  {
   "cell_type": "code",
   "execution_count": 128,
   "metadata": {},
   "outputs": [],
   "source": [
    "cleaning.append({\"step\" : \"Happy Path\", \"count\" : happy_paths['client_id'].nunique()})"
   ]
  },
  {
   "cell_type": "markdown",
   "metadata": {},
   "source": [
    "## Confused Path"
   ]
  },
  {
   "cell_type": "code",
   "execution_count": 129,
   "metadata": {},
   "outputs": [],
   "source": [
    "# function to filter out visits with start->confirm but no happy path in between them\n",
    "def filter_non_happy_path_visits(df):\n",
    "    def check_non_consecutive(group):\n",
    "        steps = list(group['process_step'])\n",
    "        if steps[0] == 'start' and steps[-1] == 'confirm':\n",
    "            if steps != ['start', 'step_1', 'step_2', 'step_3', 'confirm']:\n",
    "                return True\n",
    "        return False\n",
    "\n",
    "    df_filtered = df.groupby('visit_id').filter(check_non_consecutive)\n",
    "    return df_filtered"
   ]
  },
  {
   "cell_type": "code",
   "execution_count": 130,
   "metadata": {},
   "outputs": [
    {
     "data": {
      "text/html": [
       "<div>\n",
       "<style scoped>\n",
       "    .dataframe tbody tr th:only-of-type {\n",
       "        vertical-align: middle;\n",
       "    }\n",
       "\n",
       "    .dataframe tbody tr th {\n",
       "        vertical-align: top;\n",
       "    }\n",
       "\n",
       "    .dataframe thead th {\n",
       "        text-align: right;\n",
       "    }\n",
       "</style>\n",
       "<table border=\"1\" class=\"dataframe\">\n",
       "  <thead>\n",
       "    <tr style=\"text-align: right;\">\n",
       "      <th></th>\n",
       "      <th>client_id</th>\n",
       "      <th>visitor_id</th>\n",
       "      <th>visit_id</th>\n",
       "      <th>process_step</th>\n",
       "      <th>date_time</th>\n",
       "      <th>variation</th>\n",
       "      <th>client_since_month</th>\n",
       "      <th>client_since_year</th>\n",
       "      <th>client_age</th>\n",
       "      <th>gender</th>\n",
       "      <th>number_of_accounts</th>\n",
       "      <th>balance</th>\n",
       "      <th>calls_6_months</th>\n",
       "      <th>logons_6_month</th>\n",
       "      <th>time_taken</th>\n",
       "      <th>total_time_taken</th>\n",
       "    </tr>\n",
       "  </thead>\n",
       "  <tbody>\n",
       "    <tr>\n",
       "      <th>236490</th>\n",
       "      <td>7338123</td>\n",
       "      <td>612065484_94198474375</td>\n",
       "      <td>100019538_17884295066_43909</td>\n",
       "      <td>start</td>\n",
       "      <td>2017-04-09 16:20:56</td>\n",
       "      <td>Test</td>\n",
       "      <td>88</td>\n",
       "      <td>7</td>\n",
       "      <td>23</td>\n",
       "      <td>M</td>\n",
       "      <td>2</td>\n",
       "      <td>26436.73</td>\n",
       "      <td>6</td>\n",
       "      <td>9</td>\n",
       "      <td>0.0</td>\n",
       "      <td>242.0</td>\n",
       "    </tr>\n",
       "    <tr>\n",
       "      <th>236489</th>\n",
       "      <td>7338123</td>\n",
       "      <td>612065484_94198474375</td>\n",
       "      <td>100019538_17884295066_43909</td>\n",
       "      <td>step_1</td>\n",
       "      <td>2017-04-09 16:21:12</td>\n",
       "      <td>Test</td>\n",
       "      <td>88</td>\n",
       "      <td>7</td>\n",
       "      <td>23</td>\n",
       "      <td>M</td>\n",
       "      <td>2</td>\n",
       "      <td>26436.73</td>\n",
       "      <td>6</td>\n",
       "      <td>9</td>\n",
       "      <td>16.0</td>\n",
       "      <td>242.0</td>\n",
       "    </tr>\n",
       "    <tr>\n",
       "      <th>236488</th>\n",
       "      <td>7338123</td>\n",
       "      <td>612065484_94198474375</td>\n",
       "      <td>100019538_17884295066_43909</td>\n",
       "      <td>step_2</td>\n",
       "      <td>2017-04-09 16:21:21</td>\n",
       "      <td>Test</td>\n",
       "      <td>88</td>\n",
       "      <td>7</td>\n",
       "      <td>23</td>\n",
       "      <td>M</td>\n",
       "      <td>2</td>\n",
       "      <td>26436.73</td>\n",
       "      <td>6</td>\n",
       "      <td>9</td>\n",
       "      <td>9.0</td>\n",
       "      <td>242.0</td>\n",
       "    </tr>\n",
       "    <tr>\n",
       "      <th>236487</th>\n",
       "      <td>7338123</td>\n",
       "      <td>612065484_94198474375</td>\n",
       "      <td>100019538_17884295066_43909</td>\n",
       "      <td>step_1</td>\n",
       "      <td>2017-04-09 16:21:35</td>\n",
       "      <td>Test</td>\n",
       "      <td>88</td>\n",
       "      <td>7</td>\n",
       "      <td>23</td>\n",
       "      <td>M</td>\n",
       "      <td>2</td>\n",
       "      <td>26436.73</td>\n",
       "      <td>6</td>\n",
       "      <td>9</td>\n",
       "      <td>14.0</td>\n",
       "      <td>242.0</td>\n",
       "    </tr>\n",
       "    <tr>\n",
       "      <th>236486</th>\n",
       "      <td>7338123</td>\n",
       "      <td>612065484_94198474375</td>\n",
       "      <td>100019538_17884295066_43909</td>\n",
       "      <td>step_1</td>\n",
       "      <td>2017-04-09 16:21:41</td>\n",
       "      <td>Test</td>\n",
       "      <td>88</td>\n",
       "      <td>7</td>\n",
       "      <td>23</td>\n",
       "      <td>M</td>\n",
       "      <td>2</td>\n",
       "      <td>26436.73</td>\n",
       "      <td>6</td>\n",
       "      <td>9</td>\n",
       "      <td>6.0</td>\n",
       "      <td>242.0</td>\n",
       "    </tr>\n",
       "    <tr>\n",
       "      <th>...</th>\n",
       "      <td>...</td>\n",
       "      <td>...</td>\n",
       "      <td>...</td>\n",
       "      <td>...</td>\n",
       "      <td>...</td>\n",
       "      <td>...</td>\n",
       "      <td>...</td>\n",
       "      <td>...</td>\n",
       "      <td>...</td>\n",
       "      <td>...</td>\n",
       "      <td>...</td>\n",
       "      <td>...</td>\n",
       "      <td>...</td>\n",
       "      <td>...</td>\n",
       "      <td>...</td>\n",
       "      <td>...</td>\n",
       "    </tr>\n",
       "    <tr>\n",
       "      <th>209403</th>\n",
       "      <td>4449968</td>\n",
       "      <td>842902495_57580498240</td>\n",
       "      <td>999976049_95772503197_182554</td>\n",
       "      <td>step_1</td>\n",
       "      <td>2017-04-04 12:52:26</td>\n",
       "      <td>Test</td>\n",
       "      <td>252</td>\n",
       "      <td>21</td>\n",
       "      <td>53</td>\n",
       "      <td>F</td>\n",
       "      <td>4</td>\n",
       "      <td>124701.46</td>\n",
       "      <td>2</td>\n",
       "      <td>5</td>\n",
       "      <td>136.0</td>\n",
       "      <td>728.0</td>\n",
       "    </tr>\n",
       "    <tr>\n",
       "      <th>209402</th>\n",
       "      <td>4449968</td>\n",
       "      <td>842902495_57580498240</td>\n",
       "      <td>999976049_95772503197_182554</td>\n",
       "      <td>step_2</td>\n",
       "      <td>2017-04-04 12:53:01</td>\n",
       "      <td>Test</td>\n",
       "      <td>252</td>\n",
       "      <td>21</td>\n",
       "      <td>53</td>\n",
       "      <td>F</td>\n",
       "      <td>4</td>\n",
       "      <td>124701.46</td>\n",
       "      <td>2</td>\n",
       "      <td>5</td>\n",
       "      <td>35.0</td>\n",
       "      <td>728.0</td>\n",
       "    </tr>\n",
       "    <tr>\n",
       "      <th>209401</th>\n",
       "      <td>4449968</td>\n",
       "      <td>842902495_57580498240</td>\n",
       "      <td>999976049_95772503197_182554</td>\n",
       "      <td>step_3</td>\n",
       "      <td>2017-04-04 12:54:54</td>\n",
       "      <td>Test</td>\n",
       "      <td>252</td>\n",
       "      <td>21</td>\n",
       "      <td>53</td>\n",
       "      <td>F</td>\n",
       "      <td>4</td>\n",
       "      <td>124701.46</td>\n",
       "      <td>2</td>\n",
       "      <td>5</td>\n",
       "      <td>113.0</td>\n",
       "      <td>728.0</td>\n",
       "    </tr>\n",
       "    <tr>\n",
       "      <th>209400</th>\n",
       "      <td>4449968</td>\n",
       "      <td>842902495_57580498240</td>\n",
       "      <td>999976049_95772503197_182554</td>\n",
       "      <td>step_3</td>\n",
       "      <td>2017-04-04 12:59:35</td>\n",
       "      <td>Test</td>\n",
       "      <td>252</td>\n",
       "      <td>21</td>\n",
       "      <td>53</td>\n",
       "      <td>F</td>\n",
       "      <td>4</td>\n",
       "      <td>124701.46</td>\n",
       "      <td>2</td>\n",
       "      <td>5</td>\n",
       "      <td>281.0</td>\n",
       "      <td>728.0</td>\n",
       "    </tr>\n",
       "    <tr>\n",
       "      <th>209399</th>\n",
       "      <td>4449968</td>\n",
       "      <td>842902495_57580498240</td>\n",
       "      <td>999976049_95772503197_182554</td>\n",
       "      <td>confirm</td>\n",
       "      <td>2017-04-04 13:02:18</td>\n",
       "      <td>Test</td>\n",
       "      <td>252</td>\n",
       "      <td>21</td>\n",
       "      <td>53</td>\n",
       "      <td>F</td>\n",
       "      <td>4</td>\n",
       "      <td>124701.46</td>\n",
       "      <td>2</td>\n",
       "      <td>5</td>\n",
       "      <td>163.0</td>\n",
       "      <td>728.0</td>\n",
       "    </tr>\n",
       "  </tbody>\n",
       "</table>\n",
       "<p>66944 rows × 16 columns</p>\n",
       "</div>"
      ],
      "text/plain": [
       "        client_id             visitor_id                      visit_id  \\\n",
       "236490    7338123  612065484_94198474375   100019538_17884295066_43909   \n",
       "236489    7338123  612065484_94198474375   100019538_17884295066_43909   \n",
       "236488    7338123  612065484_94198474375   100019538_17884295066_43909   \n",
       "236487    7338123  612065484_94198474375   100019538_17884295066_43909   \n",
       "236486    7338123  612065484_94198474375   100019538_17884295066_43909   \n",
       "...           ...                    ...                           ...   \n",
       "209403    4449968  842902495_57580498240  999976049_95772503197_182554   \n",
       "209402    4449968  842902495_57580498240  999976049_95772503197_182554   \n",
       "209401    4449968  842902495_57580498240  999976049_95772503197_182554   \n",
       "209400    4449968  842902495_57580498240  999976049_95772503197_182554   \n",
       "209399    4449968  842902495_57580498240  999976049_95772503197_182554   \n",
       "\n",
       "       process_step           date_time variation  client_since_month  \\\n",
       "236490        start 2017-04-09 16:20:56      Test                  88   \n",
       "236489       step_1 2017-04-09 16:21:12      Test                  88   \n",
       "236488       step_2 2017-04-09 16:21:21      Test                  88   \n",
       "236487       step_1 2017-04-09 16:21:35      Test                  88   \n",
       "236486       step_1 2017-04-09 16:21:41      Test                  88   \n",
       "...             ...                 ...       ...                 ...   \n",
       "209403       step_1 2017-04-04 12:52:26      Test                 252   \n",
       "209402       step_2 2017-04-04 12:53:01      Test                 252   \n",
       "209401       step_3 2017-04-04 12:54:54      Test                 252   \n",
       "209400       step_3 2017-04-04 12:59:35      Test                 252   \n",
       "209399      confirm 2017-04-04 13:02:18      Test                 252   \n",
       "\n",
       "        client_since_year  client_age gender  number_of_accounts    balance  \\\n",
       "236490                  7          23      M                   2   26436.73   \n",
       "236489                  7          23      M                   2   26436.73   \n",
       "236488                  7          23      M                   2   26436.73   \n",
       "236487                  7          23      M                   2   26436.73   \n",
       "236486                  7          23      M                   2   26436.73   \n",
       "...                   ...         ...    ...                 ...        ...   \n",
       "209403                 21          53      F                   4  124701.46   \n",
       "209402                 21          53      F                   4  124701.46   \n",
       "209401                 21          53      F                   4  124701.46   \n",
       "209400                 21          53      F                   4  124701.46   \n",
       "209399                 21          53      F                   4  124701.46   \n",
       "\n",
       "        calls_6_months  logons_6_month  time_taken  total_time_taken  \n",
       "236490               6               9         0.0             242.0  \n",
       "236489               6               9        16.0             242.0  \n",
       "236488               6               9         9.0             242.0  \n",
       "236487               6               9        14.0             242.0  \n",
       "236486               6               9         6.0             242.0  \n",
       "...                ...             ...         ...               ...  \n",
       "209403               2               5       136.0             728.0  \n",
       "209402               2               5        35.0             728.0  \n",
       "209401               2               5       113.0             728.0  \n",
       "209400               2               5       281.0             728.0  \n",
       "209399               2               5       163.0             728.0  \n",
       "\n",
       "[66944 rows x 16 columns]"
      ]
     },
     "metadata": {},
     "output_type": "display_data"
    }
   ],
   "source": [
    "confused_paths = filter_non_happy_path_visits(visits_variations)\n",
    "display(confused_paths)"
   ]
  },
  {
   "cell_type": "code",
   "execution_count": 131,
   "metadata": {},
   "outputs": [
    {
     "data": {
      "text/plain": [
       "variation\n",
       "Test       5063\n",
       "Control    3757\n",
       "Name: visit_id, dtype: int64"
      ]
     },
     "metadata": {},
     "output_type": "display_data"
    }
   ],
   "source": [
    "number_of_visits_non_happy = confused_paths.groupby('variation', observed=False)['visit_id'].nunique()\n",
    "display(number_of_visits_non_happy)"
   ]
  },
  {
   "cell_type": "code",
   "execution_count": 132,
   "metadata": {},
   "outputs": [
    {
     "data": {
      "text/plain": [
       "variation\n",
       "Test       0.213125\n",
       "Control    0.172395\n",
       "Name: visit_id, dtype: float64"
      ]
     },
     "metadata": {},
     "output_type": "display_data"
    }
   ],
   "source": [
    "success_rate_non_happy = number_of_visits_non_happy / number_of_visits\n",
    "display(success_rate_non_happy)\n",
    "# proportion of lost people is greater in test group."
   ]
  },
  {
   "cell_type": "code",
   "execution_count": 133,
   "metadata": {},
   "outputs": [],
   "source": [
    "cleaning.append({\"step\" : \"Confused Path\", \"count\" : confused_paths['client_id'].nunique()})"
   ]
  },
  {
   "cell_type": "markdown",
   "metadata": {},
   "source": [
    "## Dropped Path"
   ]
  },
  {
   "cell_type": "code",
   "execution_count": 134,
   "metadata": {},
   "outputs": [
    {
     "data": {
      "text/html": [
       "<div>\n",
       "<style scoped>\n",
       "    .dataframe tbody tr th:only-of-type {\n",
       "        vertical-align: middle;\n",
       "    }\n",
       "\n",
       "    .dataframe tbody tr th {\n",
       "        vertical-align: top;\n",
       "    }\n",
       "\n",
       "    .dataframe thead th {\n",
       "        text-align: right;\n",
       "    }\n",
       "</style>\n",
       "<table border=\"1\" class=\"dataframe\">\n",
       "  <thead>\n",
       "    <tr style=\"text-align: right;\">\n",
       "      <th></th>\n",
       "      <th>client_id</th>\n",
       "      <th>visitor_id</th>\n",
       "      <th>visit_id</th>\n",
       "      <th>process_step</th>\n",
       "      <th>date_time</th>\n",
       "      <th>variation</th>\n",
       "      <th>client_since_month</th>\n",
       "      <th>client_since_year</th>\n",
       "      <th>client_age</th>\n",
       "      <th>gender</th>\n",
       "      <th>number_of_accounts</th>\n",
       "      <th>balance</th>\n",
       "      <th>calls_6_months</th>\n",
       "      <th>logons_6_month</th>\n",
       "      <th>time_taken</th>\n",
       "      <th>total_time_taken</th>\n",
       "    </tr>\n",
       "  </thead>\n",
       "  <tbody>\n",
       "    <tr>\n",
       "      <th>235338</th>\n",
       "      <td>105007</td>\n",
       "      <td>676020267_36602664238</td>\n",
       "      <td>100030127_47967100085_936361</td>\n",
       "      <td>start</td>\n",
       "      <td>2017-03-22 11:07:49</td>\n",
       "      <td>Control</td>\n",
       "      <td>118</td>\n",
       "      <td>9</td>\n",
       "      <td>35</td>\n",
       "      <td>F</td>\n",
       "      <td>2</td>\n",
       "      <td>34897.47</td>\n",
       "      <td>3</td>\n",
       "      <td>6</td>\n",
       "      <td>0.0</td>\n",
       "      <td>0.0</td>\n",
       "    </tr>\n",
       "    <tr>\n",
       "      <th>27085</th>\n",
       "      <td>5623007</td>\n",
       "      <td>700426174_33289797318</td>\n",
       "      <td>100037962_47432393712_705583</td>\n",
       "      <td>start</td>\n",
       "      <td>2017-04-14 16:41:51</td>\n",
       "      <td>Control</td>\n",
       "      <td>202</td>\n",
       "      <td>16</td>\n",
       "      <td>78</td>\n",
       "      <td>M</td>\n",
       "      <td>2</td>\n",
       "      <td>146827.14</td>\n",
       "      <td>5</td>\n",
       "      <td>8</td>\n",
       "      <td>0.0</td>\n",
       "      <td>132.0</td>\n",
       "    </tr>\n",
       "    <tr>\n",
       "      <th>27084</th>\n",
       "      <td>5623007</td>\n",
       "      <td>700426174_33289797318</td>\n",
       "      <td>100037962_47432393712_705583</td>\n",
       "      <td>start</td>\n",
       "      <td>2017-04-14 16:43:16</td>\n",
       "      <td>Control</td>\n",
       "      <td>202</td>\n",
       "      <td>16</td>\n",
       "      <td>78</td>\n",
       "      <td>M</td>\n",
       "      <td>2</td>\n",
       "      <td>146827.14</td>\n",
       "      <td>5</td>\n",
       "      <td>8</td>\n",
       "      <td>85.0</td>\n",
       "      <td>132.0</td>\n",
       "    </tr>\n",
       "    <tr>\n",
       "      <th>27083</th>\n",
       "      <td>5623007</td>\n",
       "      <td>700426174_33289797318</td>\n",
       "      <td>100037962_47432393712_705583</td>\n",
       "      <td>step_1</td>\n",
       "      <td>2017-04-14 16:43:55</td>\n",
       "      <td>Control</td>\n",
       "      <td>202</td>\n",
       "      <td>16</td>\n",
       "      <td>78</td>\n",
       "      <td>M</td>\n",
       "      <td>2</td>\n",
       "      <td>146827.14</td>\n",
       "      <td>5</td>\n",
       "      <td>8</td>\n",
       "      <td>39.0</td>\n",
       "      <td>132.0</td>\n",
       "    </tr>\n",
       "    <tr>\n",
       "      <th>27082</th>\n",
       "      <td>5623007</td>\n",
       "      <td>700426174_33289797318</td>\n",
       "      <td>100037962_47432393712_705583</td>\n",
       "      <td>start</td>\n",
       "      <td>2017-04-14 16:44:03</td>\n",
       "      <td>Control</td>\n",
       "      <td>202</td>\n",
       "      <td>16</td>\n",
       "      <td>78</td>\n",
       "      <td>M</td>\n",
       "      <td>2</td>\n",
       "      <td>146827.14</td>\n",
       "      <td>5</td>\n",
       "      <td>8</td>\n",
       "      <td>8.0</td>\n",
       "      <td>132.0</td>\n",
       "    </tr>\n",
       "    <tr>\n",
       "      <th>...</th>\n",
       "      <td>...</td>\n",
       "      <td>...</td>\n",
       "      <td>...</td>\n",
       "      <td>...</td>\n",
       "      <td>...</td>\n",
       "      <td>...</td>\n",
       "      <td>...</td>\n",
       "      <td>...</td>\n",
       "      <td>...</td>\n",
       "      <td>...</td>\n",
       "      <td>...</td>\n",
       "      <td>...</td>\n",
       "      <td>...</td>\n",
       "      <td>...</td>\n",
       "      <td>...</td>\n",
       "      <td>...</td>\n",
       "    </tr>\n",
       "    <tr>\n",
       "      <th>168370</th>\n",
       "      <td>2008582</td>\n",
       "      <td>921522470_94918863147</td>\n",
       "      <td>999892866_86068341010_555953</td>\n",
       "      <td>step_1</td>\n",
       "      <td>2017-04-05 11:13:31</td>\n",
       "      <td>Test</td>\n",
       "      <td>57</td>\n",
       "      <td>4</td>\n",
       "      <td>29</td>\n",
       "      <td>M</td>\n",
       "      <td>3</td>\n",
       "      <td>195326.48</td>\n",
       "      <td>6</td>\n",
       "      <td>9</td>\n",
       "      <td>6.0</td>\n",
       "      <td>204.0</td>\n",
       "    </tr>\n",
       "    <tr>\n",
       "      <th>168369</th>\n",
       "      <td>2008582</td>\n",
       "      <td>921522470_94918863147</td>\n",
       "      <td>999892866_86068341010_555953</td>\n",
       "      <td>step_2</td>\n",
       "      <td>2017-04-05 11:13:49</td>\n",
       "      <td>Test</td>\n",
       "      <td>57</td>\n",
       "      <td>4</td>\n",
       "      <td>29</td>\n",
       "      <td>M</td>\n",
       "      <td>3</td>\n",
       "      <td>195326.48</td>\n",
       "      <td>6</td>\n",
       "      <td>9</td>\n",
       "      <td>18.0</td>\n",
       "      <td>204.0</td>\n",
       "    </tr>\n",
       "    <tr>\n",
       "      <th>168368</th>\n",
       "      <td>2008582</td>\n",
       "      <td>921522470_94918863147</td>\n",
       "      <td>999892866_86068341010_555953</td>\n",
       "      <td>step_3</td>\n",
       "      <td>2017-04-05 11:14:41</td>\n",
       "      <td>Test</td>\n",
       "      <td>57</td>\n",
       "      <td>4</td>\n",
       "      <td>29</td>\n",
       "      <td>M</td>\n",
       "      <td>3</td>\n",
       "      <td>195326.48</td>\n",
       "      <td>6</td>\n",
       "      <td>9</td>\n",
       "      <td>52.0</td>\n",
       "      <td>204.0</td>\n",
       "    </tr>\n",
       "    <tr>\n",
       "      <th>117541</th>\n",
       "      <td>5169181</td>\n",
       "      <td>691607385_25408081395</td>\n",
       "      <td>999946542_2156804531_646216</td>\n",
       "      <td>start</td>\n",
       "      <td>2017-04-12 17:17:10</td>\n",
       "      <td>Test</td>\n",
       "      <td>82</td>\n",
       "      <td>6</td>\n",
       "      <td>43</td>\n",
       "      <td>U</td>\n",
       "      <td>2</td>\n",
       "      <td>44092.02</td>\n",
       "      <td>0</td>\n",
       "      <td>3</td>\n",
       "      <td>0.0</td>\n",
       "      <td>0.0</td>\n",
       "    </tr>\n",
       "    <tr>\n",
       "      <th>128484</th>\n",
       "      <td>9512888</td>\n",
       "      <td>735113752_39198257069</td>\n",
       "      <td>999951892_54774917180_163890</td>\n",
       "      <td>start</td>\n",
       "      <td>2017-04-07 11:21:01</td>\n",
       "      <td>Control</td>\n",
       "      <td>166</td>\n",
       "      <td>13</td>\n",
       "      <td>39</td>\n",
       "      <td>M</td>\n",
       "      <td>2</td>\n",
       "      <td>45730.25</td>\n",
       "      <td>2</td>\n",
       "      <td>5</td>\n",
       "      <td>0.0</td>\n",
       "      <td>0.0</td>\n",
       "    </tr>\n",
       "  </tbody>\n",
       "</table>\n",
       "<p>69098 rows × 16 columns</p>\n",
       "</div>"
      ],
      "text/plain": [
       "        client_id             visitor_id                      visit_id  \\\n",
       "235338     105007  676020267_36602664238  100030127_47967100085_936361   \n",
       "27085     5623007  700426174_33289797318  100037962_47432393712_705583   \n",
       "27084     5623007  700426174_33289797318  100037962_47432393712_705583   \n",
       "27083     5623007  700426174_33289797318  100037962_47432393712_705583   \n",
       "27082     5623007  700426174_33289797318  100037962_47432393712_705583   \n",
       "...           ...                    ...                           ...   \n",
       "168370    2008582  921522470_94918863147  999892866_86068341010_555953   \n",
       "168369    2008582  921522470_94918863147  999892866_86068341010_555953   \n",
       "168368    2008582  921522470_94918863147  999892866_86068341010_555953   \n",
       "117541    5169181  691607385_25408081395   999946542_2156804531_646216   \n",
       "128484    9512888  735113752_39198257069  999951892_54774917180_163890   \n",
       "\n",
       "       process_step           date_time variation  client_since_month  \\\n",
       "235338        start 2017-03-22 11:07:49   Control                 118   \n",
       "27085         start 2017-04-14 16:41:51   Control                 202   \n",
       "27084         start 2017-04-14 16:43:16   Control                 202   \n",
       "27083        step_1 2017-04-14 16:43:55   Control                 202   \n",
       "27082         start 2017-04-14 16:44:03   Control                 202   \n",
       "...             ...                 ...       ...                 ...   \n",
       "168370       step_1 2017-04-05 11:13:31      Test                  57   \n",
       "168369       step_2 2017-04-05 11:13:49      Test                  57   \n",
       "168368       step_3 2017-04-05 11:14:41      Test                  57   \n",
       "117541        start 2017-04-12 17:17:10      Test                  82   \n",
       "128484        start 2017-04-07 11:21:01   Control                 166   \n",
       "\n",
       "        client_since_year  client_age gender  number_of_accounts    balance  \\\n",
       "235338                  9          35      F                   2   34897.47   \n",
       "27085                  16          78      M                   2  146827.14   \n",
       "27084                  16          78      M                   2  146827.14   \n",
       "27083                  16          78      M                   2  146827.14   \n",
       "27082                  16          78      M                   2  146827.14   \n",
       "...                   ...         ...    ...                 ...        ...   \n",
       "168370                  4          29      M                   3  195326.48   \n",
       "168369                  4          29      M                   3  195326.48   \n",
       "168368                  4          29      M                   3  195326.48   \n",
       "117541                  6          43      U                   2   44092.02   \n",
       "128484                 13          39      M                   2   45730.25   \n",
       "\n",
       "        calls_6_months  logons_6_month  time_taken  total_time_taken  \n",
       "235338               3               6         0.0               0.0  \n",
       "27085                5               8         0.0             132.0  \n",
       "27084                5               8        85.0             132.0  \n",
       "27083                5               8        39.0             132.0  \n",
       "27082                5               8         8.0             132.0  \n",
       "...                ...             ...         ...               ...  \n",
       "168370               6               9         6.0             204.0  \n",
       "168369               6               9        18.0             204.0  \n",
       "168368               6               9        52.0             204.0  \n",
       "117541               0               3         0.0               0.0  \n",
       "128484               2               5         0.0               0.0  \n",
       "\n",
       "[69098 rows x 16 columns]"
      ]
     },
     "metadata": {},
     "output_type": "display_data"
    }
   ],
   "source": [
    "without_happy_path = visits_variations[~visits_variations['visit_id'].isin(happy_paths['visit_id'])]\n",
    "\n",
    "dropped_paths = without_happy_path[~without_happy_path['visit_id'].isin(confused_paths['visit_id'])]\n",
    "display(dropped_paths)"
   ]
  },
  {
   "cell_type": "code",
   "execution_count": 135,
   "metadata": {},
   "outputs": [
    {
     "data": {
      "text/plain": [
       "variation\n",
       "Test        9743\n",
       "Control    10349\n",
       "Name: visit_id, dtype: int64"
      ]
     },
     "metadata": {},
     "output_type": "display_data"
    }
   ],
   "source": [
    "number_of_visits_error_path = dropped_paths.groupby('variation', observed=False)['visit_id'].nunique()\n",
    "display(number_of_visits_error_path)"
   ]
  },
  {
   "cell_type": "code",
   "execution_count": 136,
   "metadata": {},
   "outputs": [
    {
     "data": {
      "text/plain": [
       "variation\n",
       "Test       0.410128\n",
       "Control    0.474877\n",
       "Name: visit_id, dtype: float64"
      ]
     },
     "metadata": {},
     "output_type": "display_data"
    }
   ],
   "source": [
    "success_rate_error_paths = number_of_visits_error_path / number_of_visits\n",
    "display(success_rate_error_paths)"
   ]
  },
  {
   "cell_type": "code",
   "execution_count": 137,
   "metadata": {},
   "outputs": [
    {
     "data": {
      "text/plain": [
       "[{'step': 'Raw data', 'count': 120157},\n",
       " {'step': 'Drop nulls', 'count': 100048},\n",
       " {'step': 'Remove unknown variation', 'count': 50487},\n",
       " {'step': 'Remove repeat and shared visits', 'count': 50109},\n",
       " {'step': 'Remove non-starters', 'count': 47914},\n",
       " {'step': 'Remove outliers', 'count': 45541},\n",
       " {'step': 'Happy Path', 'count': 16637},\n",
       " {'step': 'Confused Path', 'count': 8828},\n",
       " {'step': 'Dropped Path', 'count': 20090}]"
      ]
     },
     "metadata": {},
     "output_type": "display_data"
    }
   ],
   "source": [
    "cleaning.append({\"step\" : \"Dropped Path\", \"count\" : dropped_paths['client_id'].nunique()})\n",
    "display(cleaning)\n"
   ]
  },
  {
   "cell_type": "markdown",
   "metadata": {},
   "source": [
    "## EXPORT DATAFRAME FOR VISUALISATION"
   ]
  },
  {
   "cell_type": "markdown",
   "metadata": {},
   "source": [
    "### Select unique ids"
   ]
  },
  {
   "cell_type": "code",
   "execution_count": 138,
   "metadata": {},
   "outputs": [
    {
     "data": {
      "text/html": [
       "<div>\n",
       "<style scoped>\n",
       "    .dataframe tbody tr th:only-of-type {\n",
       "        vertical-align: middle;\n",
       "    }\n",
       "\n",
       "    .dataframe tbody tr th {\n",
       "        vertical-align: top;\n",
       "    }\n",
       "\n",
       "    .dataframe thead th {\n",
       "        text-align: right;\n",
       "    }\n",
       "</style>\n",
       "<table border=\"1\" class=\"dataframe\">\n",
       "  <thead>\n",
       "    <tr style=\"text-align: right;\">\n",
       "      <th></th>\n",
       "      <th>client_id</th>\n",
       "      <th>visitor_id</th>\n",
       "      <th>visit_id</th>\n",
       "      <th>process_step</th>\n",
       "      <th>date_time</th>\n",
       "      <th>variation</th>\n",
       "      <th>client_since_month</th>\n",
       "      <th>client_since_year</th>\n",
       "      <th>client_age</th>\n",
       "      <th>gender</th>\n",
       "      <th>number_of_accounts</th>\n",
       "      <th>balance</th>\n",
       "      <th>calls_6_months</th>\n",
       "      <th>logons_6_month</th>\n",
       "      <th>time_taken</th>\n",
       "      <th>total_time_taken</th>\n",
       "    </tr>\n",
       "  </thead>\n",
       "  <tbody>\n",
       "    <tr>\n",
       "      <th>236490</th>\n",
       "      <td>7338123</td>\n",
       "      <td>612065484_94198474375</td>\n",
       "      <td>100019538_17884295066_43909</td>\n",
       "      <td>start</td>\n",
       "      <td>2017-04-09 16:20:56</td>\n",
       "      <td>Test</td>\n",
       "      <td>88</td>\n",
       "      <td>7</td>\n",
       "      <td>23</td>\n",
       "      <td>M</td>\n",
       "      <td>2</td>\n",
       "      <td>26436.73</td>\n",
       "      <td>6</td>\n",
       "      <td>9</td>\n",
       "      <td>0.0</td>\n",
       "      <td>242.0</td>\n",
       "    </tr>\n",
       "    <tr>\n",
       "      <th>243695</th>\n",
       "      <td>2478628</td>\n",
       "      <td>754122351_18568832435</td>\n",
       "      <td>100022086_87870757897_149620</td>\n",
       "      <td>start</td>\n",
       "      <td>2017-05-23 20:44:01</td>\n",
       "      <td>Test</td>\n",
       "      <td>198</td>\n",
       "      <td>16</td>\n",
       "      <td>47</td>\n",
       "      <td>F</td>\n",
       "      <td>2</td>\n",
       "      <td>32456.28</td>\n",
       "      <td>2</td>\n",
       "      <td>5</td>\n",
       "      <td>0.0</td>\n",
       "      <td>180.0</td>\n",
       "    </tr>\n",
       "    <tr>\n",
       "      <th>235338</th>\n",
       "      <td>105007</td>\n",
       "      <td>676020267_36602664238</td>\n",
       "      <td>100030127_47967100085_936361</td>\n",
       "      <td>start</td>\n",
       "      <td>2017-03-22 11:07:49</td>\n",
       "      <td>Control</td>\n",
       "      <td>118</td>\n",
       "      <td>9</td>\n",
       "      <td>35</td>\n",
       "      <td>F</td>\n",
       "      <td>2</td>\n",
       "      <td>34897.47</td>\n",
       "      <td>3</td>\n",
       "      <td>6</td>\n",
       "      <td>0.0</td>\n",
       "      <td>0.0</td>\n",
       "    </tr>\n",
       "    <tr>\n",
       "      <th>27085</th>\n",
       "      <td>5623007</td>\n",
       "      <td>700426174_33289797318</td>\n",
       "      <td>100037962_47432393712_705583</td>\n",
       "      <td>start</td>\n",
       "      <td>2017-04-14 16:41:51</td>\n",
       "      <td>Control</td>\n",
       "      <td>202</td>\n",
       "      <td>16</td>\n",
       "      <td>78</td>\n",
       "      <td>M</td>\n",
       "      <td>2</td>\n",
       "      <td>146827.14</td>\n",
       "      <td>5</td>\n",
       "      <td>8</td>\n",
       "      <td>0.0</td>\n",
       "      <td>132.0</td>\n",
       "    </tr>\n",
       "    <tr>\n",
       "      <th>1594</th>\n",
       "      <td>4823947</td>\n",
       "      <td>611052344_43146965242</td>\n",
       "      <td>100057941_88477660212_944512</td>\n",
       "      <td>start</td>\n",
       "      <td>2017-04-09 11:30:10</td>\n",
       "      <td>Control</td>\n",
       "      <td>86</td>\n",
       "      <td>7</td>\n",
       "      <td>52</td>\n",
       "      <td>U</td>\n",
       "      <td>2</td>\n",
       "      <td>47340.11</td>\n",
       "      <td>5</td>\n",
       "      <td>8</td>\n",
       "      <td>0.0</td>\n",
       "      <td>254.0</td>\n",
       "    </tr>\n",
       "    <tr>\n",
       "      <th>...</th>\n",
       "      <td>...</td>\n",
       "      <td>...</td>\n",
       "      <td>...</td>\n",
       "      <td>...</td>\n",
       "      <td>...</td>\n",
       "      <td>...</td>\n",
       "      <td>...</td>\n",
       "      <td>...</td>\n",
       "      <td>...</td>\n",
       "      <td>...</td>\n",
       "      <td>...</td>\n",
       "      <td>...</td>\n",
       "      <td>...</td>\n",
       "      <td>...</td>\n",
       "      <td>...</td>\n",
       "      <td>...</td>\n",
       "    </tr>\n",
       "    <tr>\n",
       "      <th>181050</th>\n",
       "      <td>9498187</td>\n",
       "      <td>599653496_46358190244</td>\n",
       "      <td>999954858_74676709104_879685</td>\n",
       "      <td>start</td>\n",
       "      <td>2017-04-05 11:13:34</td>\n",
       "      <td>Test</td>\n",
       "      <td>60</td>\n",
       "      <td>5</td>\n",
       "      <td>21</td>\n",
       "      <td>U</td>\n",
       "      <td>2</td>\n",
       "      <td>31295.49</td>\n",
       "      <td>6</td>\n",
       "      <td>9</td>\n",
       "      <td>0.0</td>\n",
       "      <td>127.0</td>\n",
       "    </tr>\n",
       "    <tr>\n",
       "      <th>73134</th>\n",
       "      <td>8971313</td>\n",
       "      <td>520929316_99288864740</td>\n",
       "      <td>999958344_67534252886_39917</td>\n",
       "      <td>start</td>\n",
       "      <td>2017-04-15 00:34:32</td>\n",
       "      <td>Test</td>\n",
       "      <td>95</td>\n",
       "      <td>7</td>\n",
       "      <td>25</td>\n",
       "      <td>U</td>\n",
       "      <td>2</td>\n",
       "      <td>46555.07</td>\n",
       "      <td>6</td>\n",
       "      <td>9</td>\n",
       "      <td>0.0</td>\n",
       "      <td>147.0</td>\n",
       "    </tr>\n",
       "    <tr>\n",
       "      <th>8441</th>\n",
       "      <td>2979920</td>\n",
       "      <td>830229399_73416253406</td>\n",
       "      <td>999971096_28827267783_236076</td>\n",
       "      <td>start</td>\n",
       "      <td>2017-04-13 10:31:49</td>\n",
       "      <td>Test</td>\n",
       "      <td>138</td>\n",
       "      <td>11</td>\n",
       "      <td>28</td>\n",
       "      <td>F</td>\n",
       "      <td>2</td>\n",
       "      <td>83799.17</td>\n",
       "      <td>1</td>\n",
       "      <td>4</td>\n",
       "      <td>0.0</td>\n",
       "      <td>139.0</td>\n",
       "    </tr>\n",
       "    <tr>\n",
       "      <th>209404</th>\n",
       "      <td>4449968</td>\n",
       "      <td>842902495_57580498240</td>\n",
       "      <td>999976049_95772503197_182554</td>\n",
       "      <td>start</td>\n",
       "      <td>2017-04-04 12:50:10</td>\n",
       "      <td>Test</td>\n",
       "      <td>252</td>\n",
       "      <td>21</td>\n",
       "      <td>53</td>\n",
       "      <td>F</td>\n",
       "      <td>4</td>\n",
       "      <td>124701.46</td>\n",
       "      <td>2</td>\n",
       "      <td>5</td>\n",
       "      <td>0.0</td>\n",
       "      <td>728.0</td>\n",
       "    </tr>\n",
       "    <tr>\n",
       "      <th>90971</th>\n",
       "      <td>4064969</td>\n",
       "      <td>110735946_42614968419</td>\n",
       "      <td>999985675_64610694964_443659</td>\n",
       "      <td>start</td>\n",
       "      <td>2017-04-20 09:45:18</td>\n",
       "      <td>Control</td>\n",
       "      <td>75</td>\n",
       "      <td>6</td>\n",
       "      <td>64</td>\n",
       "      <td>U</td>\n",
       "      <td>2</td>\n",
       "      <td>74783.76</td>\n",
       "      <td>5</td>\n",
       "      <td>8</td>\n",
       "      <td>0.0</td>\n",
       "      <td>1050.0</td>\n",
       "    </tr>\n",
       "  </tbody>\n",
       "</table>\n",
       "<p>45541 rows × 16 columns</p>\n",
       "</div>"
      ],
      "text/plain": [
       "        client_id             visitor_id                      visit_id  \\\n",
       "236490    7338123  612065484_94198474375   100019538_17884295066_43909   \n",
       "243695    2478628  754122351_18568832435  100022086_87870757897_149620   \n",
       "235338     105007  676020267_36602664238  100030127_47967100085_936361   \n",
       "27085     5623007  700426174_33289797318  100037962_47432393712_705583   \n",
       "1594      4823947  611052344_43146965242  100057941_88477660212_944512   \n",
       "...           ...                    ...                           ...   \n",
       "181050    9498187  599653496_46358190244  999954858_74676709104_879685   \n",
       "73134     8971313  520929316_99288864740   999958344_67534252886_39917   \n",
       "8441      2979920  830229399_73416253406  999971096_28827267783_236076   \n",
       "209404    4449968  842902495_57580498240  999976049_95772503197_182554   \n",
       "90971     4064969  110735946_42614968419  999985675_64610694964_443659   \n",
       "\n",
       "       process_step           date_time variation  client_since_month  \\\n",
       "236490        start 2017-04-09 16:20:56      Test                  88   \n",
       "243695        start 2017-05-23 20:44:01      Test                 198   \n",
       "235338        start 2017-03-22 11:07:49   Control                 118   \n",
       "27085         start 2017-04-14 16:41:51   Control                 202   \n",
       "1594          start 2017-04-09 11:30:10   Control                  86   \n",
       "...             ...                 ...       ...                 ...   \n",
       "181050        start 2017-04-05 11:13:34      Test                  60   \n",
       "73134         start 2017-04-15 00:34:32      Test                  95   \n",
       "8441          start 2017-04-13 10:31:49      Test                 138   \n",
       "209404        start 2017-04-04 12:50:10      Test                 252   \n",
       "90971         start 2017-04-20 09:45:18   Control                  75   \n",
       "\n",
       "        client_since_year  client_age gender  number_of_accounts    balance  \\\n",
       "236490                  7          23      M                   2   26436.73   \n",
       "243695                 16          47      F                   2   32456.28   \n",
       "235338                  9          35      F                   2   34897.47   \n",
       "27085                  16          78      M                   2  146827.14   \n",
       "1594                    7          52      U                   2   47340.11   \n",
       "...                   ...         ...    ...                 ...        ...   \n",
       "181050                  5          21      U                   2   31295.49   \n",
       "73134                   7          25      U                   2   46555.07   \n",
       "8441                   11          28      F                   2   83799.17   \n",
       "209404                 21          53      F                   4  124701.46   \n",
       "90971                   6          64      U                   2   74783.76   \n",
       "\n",
       "        calls_6_months  logons_6_month  time_taken  total_time_taken  \n",
       "236490               6               9         0.0             242.0  \n",
       "243695               2               5         0.0             180.0  \n",
       "235338               3               6         0.0               0.0  \n",
       "27085                5               8         0.0             132.0  \n",
       "1594                 5               8         0.0             254.0  \n",
       "...                ...             ...         ...               ...  \n",
       "181050               6               9         0.0             127.0  \n",
       "73134                6               9         0.0             147.0  \n",
       "8441                 1               4         0.0             139.0  \n",
       "209404               2               5         0.0             728.0  \n",
       "90971                5               8         0.0            1050.0  \n",
       "\n",
       "[45541 rows x 16 columns]"
      ]
     },
     "metadata": {},
     "output_type": "display_data"
    }
   ],
   "source": [
    "unique_clients_visits = visits_variations.drop_duplicates(subset='client_id')\n",
    "display(unique_clients_visits)"
   ]
  },
  {
   "cell_type": "markdown",
   "metadata": {},
   "source": [
    "### Add path column"
   ]
  },
  {
   "cell_type": "code",
   "execution_count": 139,
   "metadata": {},
   "outputs": [
    {
     "name": "stderr",
     "output_type": "stream",
     "text": [
      "/var/folders/7w/s5bmwwgs2176bk3y33c2nv2m0000gn/T/ipykernel_59386/3334346322.py:2: SettingWithCopyWarning:\n",
      "\n",
      "\n",
      "A value is trying to be set on a copy of a slice from a DataFrame.\n",
      "Try using .loc[row_indexer,col_indexer] = value instead\n",
      "\n",
      "See the caveats in the documentation: https://pandas.pydata.org/pandas-docs/stable/user_guide/indexing.html#returning-a-view-versus-a-copy\n",
      "\n"
     ]
    },
    {
     "data": {
      "text/html": [
       "<div>\n",
       "<style scoped>\n",
       "    .dataframe tbody tr th:only-of-type {\n",
       "        vertical-align: middle;\n",
       "    }\n",
       "\n",
       "    .dataframe tbody tr th {\n",
       "        vertical-align: top;\n",
       "    }\n",
       "\n",
       "    .dataframe thead th {\n",
       "        text-align: right;\n",
       "    }\n",
       "</style>\n",
       "<table border=\"1\" class=\"dataframe\">\n",
       "  <thead>\n",
       "    <tr style=\"text-align: right;\">\n",
       "      <th></th>\n",
       "      <th>client_id</th>\n",
       "      <th>visitor_id</th>\n",
       "      <th>visit_id</th>\n",
       "      <th>process_step</th>\n",
       "      <th>date_time</th>\n",
       "      <th>variation</th>\n",
       "      <th>client_since_month</th>\n",
       "      <th>client_since_year</th>\n",
       "      <th>client_age</th>\n",
       "      <th>gender</th>\n",
       "      <th>number_of_accounts</th>\n",
       "      <th>balance</th>\n",
       "      <th>calls_6_months</th>\n",
       "      <th>logons_6_month</th>\n",
       "      <th>time_taken</th>\n",
       "      <th>total_time_taken</th>\n",
       "      <th>path</th>\n",
       "    </tr>\n",
       "  </thead>\n",
       "  <tbody>\n",
       "    <tr>\n",
       "      <th>236490</th>\n",
       "      <td>7338123</td>\n",
       "      <td>612065484_94198474375</td>\n",
       "      <td>100019538_17884295066_43909</td>\n",
       "      <td>start</td>\n",
       "      <td>2017-04-09 16:20:56</td>\n",
       "      <td>Test</td>\n",
       "      <td>88</td>\n",
       "      <td>7</td>\n",
       "      <td>23</td>\n",
       "      <td>M</td>\n",
       "      <td>2</td>\n",
       "      <td>26436.73</td>\n",
       "      <td>6</td>\n",
       "      <td>9</td>\n",
       "      <td>0.0</td>\n",
       "      <td>242.0</td>\n",
       "      <td>confused</td>\n",
       "    </tr>\n",
       "    <tr>\n",
       "      <th>243695</th>\n",
       "      <td>2478628</td>\n",
       "      <td>754122351_18568832435</td>\n",
       "      <td>100022086_87870757897_149620</td>\n",
       "      <td>start</td>\n",
       "      <td>2017-05-23 20:44:01</td>\n",
       "      <td>Test</td>\n",
       "      <td>198</td>\n",
       "      <td>16</td>\n",
       "      <td>47</td>\n",
       "      <td>F</td>\n",
       "      <td>2</td>\n",
       "      <td>32456.28</td>\n",
       "      <td>2</td>\n",
       "      <td>5</td>\n",
       "      <td>0.0</td>\n",
       "      <td>180.0</td>\n",
       "      <td>happy</td>\n",
       "    </tr>\n",
       "    <tr>\n",
       "      <th>235338</th>\n",
       "      <td>105007</td>\n",
       "      <td>676020267_36602664238</td>\n",
       "      <td>100030127_47967100085_936361</td>\n",
       "      <td>start</td>\n",
       "      <td>2017-03-22 11:07:49</td>\n",
       "      <td>Control</td>\n",
       "      <td>118</td>\n",
       "      <td>9</td>\n",
       "      <td>35</td>\n",
       "      <td>F</td>\n",
       "      <td>2</td>\n",
       "      <td>34897.47</td>\n",
       "      <td>3</td>\n",
       "      <td>6</td>\n",
       "      <td>0.0</td>\n",
       "      <td>0.0</td>\n",
       "      <td>dropped</td>\n",
       "    </tr>\n",
       "    <tr>\n",
       "      <th>27085</th>\n",
       "      <td>5623007</td>\n",
       "      <td>700426174_33289797318</td>\n",
       "      <td>100037962_47432393712_705583</td>\n",
       "      <td>start</td>\n",
       "      <td>2017-04-14 16:41:51</td>\n",
       "      <td>Control</td>\n",
       "      <td>202</td>\n",
       "      <td>16</td>\n",
       "      <td>78</td>\n",
       "      <td>M</td>\n",
       "      <td>2</td>\n",
       "      <td>146827.14</td>\n",
       "      <td>5</td>\n",
       "      <td>8</td>\n",
       "      <td>0.0</td>\n",
       "      <td>132.0</td>\n",
       "      <td>dropped</td>\n",
       "    </tr>\n",
       "    <tr>\n",
       "      <th>1594</th>\n",
       "      <td>4823947</td>\n",
       "      <td>611052344_43146965242</td>\n",
       "      <td>100057941_88477660212_944512</td>\n",
       "      <td>start</td>\n",
       "      <td>2017-04-09 11:30:10</td>\n",
       "      <td>Control</td>\n",
       "      <td>86</td>\n",
       "      <td>7</td>\n",
       "      <td>52</td>\n",
       "      <td>U</td>\n",
       "      <td>2</td>\n",
       "      <td>47340.11</td>\n",
       "      <td>5</td>\n",
       "      <td>8</td>\n",
       "      <td>0.0</td>\n",
       "      <td>254.0</td>\n",
       "      <td>dropped</td>\n",
       "    </tr>\n",
       "    <tr>\n",
       "      <th>...</th>\n",
       "      <td>...</td>\n",
       "      <td>...</td>\n",
       "      <td>...</td>\n",
       "      <td>...</td>\n",
       "      <td>...</td>\n",
       "      <td>...</td>\n",
       "      <td>...</td>\n",
       "      <td>...</td>\n",
       "      <td>...</td>\n",
       "      <td>...</td>\n",
       "      <td>...</td>\n",
       "      <td>...</td>\n",
       "      <td>...</td>\n",
       "      <td>...</td>\n",
       "      <td>...</td>\n",
       "      <td>...</td>\n",
       "      <td>...</td>\n",
       "    </tr>\n",
       "    <tr>\n",
       "      <th>181050</th>\n",
       "      <td>9498187</td>\n",
       "      <td>599653496_46358190244</td>\n",
       "      <td>999954858_74676709104_879685</td>\n",
       "      <td>start</td>\n",
       "      <td>2017-04-05 11:13:34</td>\n",
       "      <td>Test</td>\n",
       "      <td>60</td>\n",
       "      <td>5</td>\n",
       "      <td>21</td>\n",
       "      <td>U</td>\n",
       "      <td>2</td>\n",
       "      <td>31295.49</td>\n",
       "      <td>6</td>\n",
       "      <td>9</td>\n",
       "      <td>0.0</td>\n",
       "      <td>127.0</td>\n",
       "      <td>confused</td>\n",
       "    </tr>\n",
       "    <tr>\n",
       "      <th>73134</th>\n",
       "      <td>8971313</td>\n",
       "      <td>520929316_99288864740</td>\n",
       "      <td>999958344_67534252886_39917</td>\n",
       "      <td>start</td>\n",
       "      <td>2017-04-15 00:34:32</td>\n",
       "      <td>Test</td>\n",
       "      <td>95</td>\n",
       "      <td>7</td>\n",
       "      <td>25</td>\n",
       "      <td>U</td>\n",
       "      <td>2</td>\n",
       "      <td>46555.07</td>\n",
       "      <td>6</td>\n",
       "      <td>9</td>\n",
       "      <td>0.0</td>\n",
       "      <td>147.0</td>\n",
       "      <td>confused</td>\n",
       "    </tr>\n",
       "    <tr>\n",
       "      <th>8441</th>\n",
       "      <td>2979920</td>\n",
       "      <td>830229399_73416253406</td>\n",
       "      <td>999971096_28827267783_236076</td>\n",
       "      <td>start</td>\n",
       "      <td>2017-04-13 10:31:49</td>\n",
       "      <td>Test</td>\n",
       "      <td>138</td>\n",
       "      <td>11</td>\n",
       "      <td>28</td>\n",
       "      <td>F</td>\n",
       "      <td>2</td>\n",
       "      <td>83799.17</td>\n",
       "      <td>1</td>\n",
       "      <td>4</td>\n",
       "      <td>0.0</td>\n",
       "      <td>139.0</td>\n",
       "      <td>confused</td>\n",
       "    </tr>\n",
       "    <tr>\n",
       "      <th>209404</th>\n",
       "      <td>4449968</td>\n",
       "      <td>842902495_57580498240</td>\n",
       "      <td>999976049_95772503197_182554</td>\n",
       "      <td>start</td>\n",
       "      <td>2017-04-04 12:50:10</td>\n",
       "      <td>Test</td>\n",
       "      <td>252</td>\n",
       "      <td>21</td>\n",
       "      <td>53</td>\n",
       "      <td>F</td>\n",
       "      <td>4</td>\n",
       "      <td>124701.46</td>\n",
       "      <td>2</td>\n",
       "      <td>5</td>\n",
       "      <td>0.0</td>\n",
       "      <td>728.0</td>\n",
       "      <td>confused</td>\n",
       "    </tr>\n",
       "    <tr>\n",
       "      <th>90971</th>\n",
       "      <td>4064969</td>\n",
       "      <td>110735946_42614968419</td>\n",
       "      <td>999985675_64610694964_443659</td>\n",
       "      <td>start</td>\n",
       "      <td>2017-04-20 09:45:18</td>\n",
       "      <td>Control</td>\n",
       "      <td>75</td>\n",
       "      <td>6</td>\n",
       "      <td>64</td>\n",
       "      <td>U</td>\n",
       "      <td>2</td>\n",
       "      <td>74783.76</td>\n",
       "      <td>5</td>\n",
       "      <td>8</td>\n",
       "      <td>0.0</td>\n",
       "      <td>1050.0</td>\n",
       "      <td>happy</td>\n",
       "    </tr>\n",
       "  </tbody>\n",
       "</table>\n",
       "<p>45541 rows × 17 columns</p>\n",
       "</div>"
      ],
      "text/plain": [
       "        client_id             visitor_id                      visit_id  \\\n",
       "236490    7338123  612065484_94198474375   100019538_17884295066_43909   \n",
       "243695    2478628  754122351_18568832435  100022086_87870757897_149620   \n",
       "235338     105007  676020267_36602664238  100030127_47967100085_936361   \n",
       "27085     5623007  700426174_33289797318  100037962_47432393712_705583   \n",
       "1594      4823947  611052344_43146965242  100057941_88477660212_944512   \n",
       "...           ...                    ...                           ...   \n",
       "181050    9498187  599653496_46358190244  999954858_74676709104_879685   \n",
       "73134     8971313  520929316_99288864740   999958344_67534252886_39917   \n",
       "8441      2979920  830229399_73416253406  999971096_28827267783_236076   \n",
       "209404    4449968  842902495_57580498240  999976049_95772503197_182554   \n",
       "90971     4064969  110735946_42614968419  999985675_64610694964_443659   \n",
       "\n",
       "       process_step           date_time variation  client_since_month  \\\n",
       "236490        start 2017-04-09 16:20:56      Test                  88   \n",
       "243695        start 2017-05-23 20:44:01      Test                 198   \n",
       "235338        start 2017-03-22 11:07:49   Control                 118   \n",
       "27085         start 2017-04-14 16:41:51   Control                 202   \n",
       "1594          start 2017-04-09 11:30:10   Control                  86   \n",
       "...             ...                 ...       ...                 ...   \n",
       "181050        start 2017-04-05 11:13:34      Test                  60   \n",
       "73134         start 2017-04-15 00:34:32      Test                  95   \n",
       "8441          start 2017-04-13 10:31:49      Test                 138   \n",
       "209404        start 2017-04-04 12:50:10      Test                 252   \n",
       "90971         start 2017-04-20 09:45:18   Control                  75   \n",
       "\n",
       "        client_since_year  client_age gender  number_of_accounts    balance  \\\n",
       "236490                  7          23      M                   2   26436.73   \n",
       "243695                 16          47      F                   2   32456.28   \n",
       "235338                  9          35      F                   2   34897.47   \n",
       "27085                  16          78      M                   2  146827.14   \n",
       "1594                    7          52      U                   2   47340.11   \n",
       "...                   ...         ...    ...                 ...        ...   \n",
       "181050                  5          21      U                   2   31295.49   \n",
       "73134                   7          25      U                   2   46555.07   \n",
       "8441                   11          28      F                   2   83799.17   \n",
       "209404                 21          53      F                   4  124701.46   \n",
       "90971                   6          64      U                   2   74783.76   \n",
       "\n",
       "        calls_6_months  logons_6_month  time_taken  total_time_taken      path  \n",
       "236490               6               9         0.0             242.0  confused  \n",
       "243695               2               5         0.0             180.0     happy  \n",
       "235338               3               6         0.0               0.0   dropped  \n",
       "27085                5               8         0.0             132.0   dropped  \n",
       "1594                 5               8         0.0             254.0   dropped  \n",
       "...                ...             ...         ...               ...       ...  \n",
       "181050               6               9         0.0             127.0  confused  \n",
       "73134                6               9         0.0             147.0  confused  \n",
       "8441                 1               4         0.0             139.0  confused  \n",
       "209404               2               5         0.0             728.0  confused  \n",
       "90971                5               8         0.0            1050.0     happy  \n",
       "\n",
       "[45541 rows x 17 columns]"
      ]
     },
     "metadata": {},
     "output_type": "display_data"
    }
   ],
   "source": [
    "# Add 'path' column to unique_clients_visits\n",
    "unique_clients_visits.loc[:, 'path'] = 'dropped' \n",
    "\n",
    "# Update 'path' column for happy paths\n",
    "unique_clients_visits.loc[unique_clients_visits['visit_id'].isin(happy_paths['visit_id']), 'path'] = 'happy'\n",
    "\n",
    "# Update 'path' column for confused paths\n",
    "unique_clients_visits.loc[unique_clients_visits['visit_id'].isin(confused_paths['visit_id']), 'path'] = 'confused'\n",
    "\n",
    "display(unique_clients_visits)\n"
   ]
  },
  {
   "cell_type": "markdown",
   "metadata": {},
   "source": [
    "### Add helper columns"
   ]
  },
  {
   "cell_type": "code",
   "execution_count": 140,
   "metadata": {},
   "outputs": [
    {
     "name": "stderr",
     "output_type": "stream",
     "text": [
      "/var/folders/7w/s5bmwwgs2176bk3y33c2nv2m0000gn/T/ipykernel_59386/2500611121.py:2: SettingWithCopyWarning:\n",
      "\n",
      "\n",
      "A value is trying to be set on a copy of a slice from a DataFrame.\n",
      "Try using .loc[row_indexer,col_indexer] = value instead\n",
      "\n",
      "See the caveats in the documentation: https://pandas.pydata.org/pandas-docs/stable/user_guide/indexing.html#returning-a-view-versus-a-copy\n",
      "\n"
     ]
    },
    {
     "data": {
      "text/html": [
       "<div>\n",
       "<style scoped>\n",
       "    .dataframe tbody tr th:only-of-type {\n",
       "        vertical-align: middle;\n",
       "    }\n",
       "\n",
       "    .dataframe tbody tr th {\n",
       "        vertical-align: top;\n",
       "    }\n",
       "\n",
       "    .dataframe thead th {\n",
       "        text-align: right;\n",
       "    }\n",
       "</style>\n",
       "<table border=\"1\" class=\"dataframe\">\n",
       "  <thead>\n",
       "    <tr style=\"text-align: right;\">\n",
       "      <th></th>\n",
       "      <th>count</th>\n",
       "      <th>mean</th>\n",
       "      <th>std</th>\n",
       "      <th>min</th>\n",
       "      <th>25%</th>\n",
       "      <th>50%</th>\n",
       "      <th>75%</th>\n",
       "      <th>max</th>\n",
       "    </tr>\n",
       "    <tr>\n",
       "      <th>age_group</th>\n",
       "      <th></th>\n",
       "      <th></th>\n",
       "      <th></th>\n",
       "      <th></th>\n",
       "      <th></th>\n",
       "      <th></th>\n",
       "      <th></th>\n",
       "      <th></th>\n",
       "    </tr>\n",
       "  </thead>\n",
       "  <tbody>\n",
       "    <tr>\n",
       "      <th>Younger</th>\n",
       "      <td>15347.0</td>\n",
       "      <td>29.006842</td>\n",
       "      <td>4.900684</td>\n",
       "      <td>17.0</td>\n",
       "      <td>25.0</td>\n",
       "      <td>29.0</td>\n",
       "      <td>33.0</td>\n",
       "      <td>37.0</td>\n",
       "    </tr>\n",
       "    <tr>\n",
       "      <th>Middle aged</th>\n",
       "      <td>15252.0</td>\n",
       "      <td>47.033504</td>\n",
       "      <td>5.222779</td>\n",
       "      <td>38.0</td>\n",
       "      <td>43.0</td>\n",
       "      <td>47.0</td>\n",
       "      <td>52.0</td>\n",
       "      <td>55.0</td>\n",
       "    </tr>\n",
       "    <tr>\n",
       "      <th>Seniors</th>\n",
       "      <td>14942.0</td>\n",
       "      <td>64.414670</td>\n",
       "      <td>6.612759</td>\n",
       "      <td>56.0</td>\n",
       "      <td>59.0</td>\n",
       "      <td>63.0</td>\n",
       "      <td>68.0</td>\n",
       "      <td>96.0</td>\n",
       "    </tr>\n",
       "  </tbody>\n",
       "</table>\n",
       "</div>"
      ],
      "text/plain": [
       "               count       mean       std   min   25%   50%   75%   max\n",
       "age_group                                                              \n",
       "Younger      15347.0  29.006842  4.900684  17.0  25.0  29.0  33.0  37.0\n",
       "Middle aged  15252.0  47.033504  5.222779  38.0  43.0  47.0  52.0  55.0\n",
       "Seniors      14942.0  64.414670  6.612759  56.0  59.0  63.0  68.0  96.0"
      ]
     },
     "metadata": {},
     "output_type": "display_data"
    },
    {
     "name": "stderr",
     "output_type": "stream",
     "text": [
      "/var/folders/7w/s5bmwwgs2176bk3y33c2nv2m0000gn/T/ipykernel_59386/2500611121.py:6: SettingWithCopyWarning:\n",
      "\n",
      "\n",
      "A value is trying to be set on a copy of a slice from a DataFrame.\n",
      "Try using .loc[row_indexer,col_indexer] = value instead\n",
      "\n",
      "See the caveats in the documentation: https://pandas.pydata.org/pandas-docs/stable/user_guide/indexing.html#returning-a-view-versus-a-copy\n",
      "\n"
     ]
    },
    {
     "data": {
      "text/html": [
       "<div>\n",
       "<style scoped>\n",
       "    .dataframe tbody tr th:only-of-type {\n",
       "        vertical-align: middle;\n",
       "    }\n",
       "\n",
       "    .dataframe tbody tr th {\n",
       "        vertical-align: top;\n",
       "    }\n",
       "\n",
       "    .dataframe thead th {\n",
       "        text-align: right;\n",
       "    }\n",
       "</style>\n",
       "<table border=\"1\" class=\"dataframe\">\n",
       "  <thead>\n",
       "    <tr style=\"text-align: right;\">\n",
       "      <th></th>\n",
       "      <th>count</th>\n",
       "      <th>mean</th>\n",
       "      <th>std</th>\n",
       "      <th>min</th>\n",
       "      <th>25%</th>\n",
       "      <th>50%</th>\n",
       "      <th>75%</th>\n",
       "      <th>max</th>\n",
       "    </tr>\n",
       "    <tr>\n",
       "      <th>balance_group</th>\n",
       "      <th></th>\n",
       "      <th></th>\n",
       "      <th></th>\n",
       "      <th></th>\n",
       "      <th></th>\n",
       "      <th></th>\n",
       "      <th></th>\n",
       "      <th></th>\n",
       "    </tr>\n",
       "  </thead>\n",
       "  <tbody>\n",
       "    <tr>\n",
       "      <th>Low Balance</th>\n",
       "      <td>15180.0</td>\n",
       "      <td>34425.327307</td>\n",
       "      <td>6264.246422</td>\n",
       "      <td>23789.44</td>\n",
       "      <td>29268.5675</td>\n",
       "      <td>33847.89</td>\n",
       "      <td>39614.5500</td>\n",
       "      <td>46321.90</td>\n",
       "    </tr>\n",
       "    <tr>\n",
       "      <th>Medium Balance</th>\n",
       "      <td>15180.0</td>\n",
       "      <td>67699.102352</td>\n",
       "      <td>15397.096728</td>\n",
       "      <td>46325.24</td>\n",
       "      <td>54424.3375</td>\n",
       "      <td>64786.09</td>\n",
       "      <td>79313.8125</td>\n",
       "      <td>102001.33</td>\n",
       "    </tr>\n",
       "    <tr>\n",
       "      <th>High Balance</th>\n",
       "      <td>15181.0</td>\n",
       "      <td>335241.994777</td>\n",
       "      <td>444872.179152</td>\n",
       "      <td>102040.24</td>\n",
       "      <td>136866.6600</td>\n",
       "      <td>201103.89</td>\n",
       "      <td>356412.1700</td>\n",
       "      <td>8986419.77</td>\n",
       "    </tr>\n",
       "  </tbody>\n",
       "</table>\n",
       "</div>"
      ],
      "text/plain": [
       "                  count           mean            std        min          25%  \\\n",
       "balance_group                                                                   \n",
       "Low Balance     15180.0   34425.327307    6264.246422   23789.44   29268.5675   \n",
       "Medium Balance  15180.0   67699.102352   15397.096728   46325.24   54424.3375   \n",
       "High Balance    15181.0  335241.994777  444872.179152  102040.24  136866.6600   \n",
       "\n",
       "                      50%          75%         max  \n",
       "balance_group                                       \n",
       "Low Balance      33847.89   39614.5500    46321.90  \n",
       "Medium Balance   64786.09   79313.8125   102001.33  \n",
       "High Balance    201103.89  356412.1700  8986419.77  "
      ]
     },
     "metadata": {},
     "output_type": "display_data"
    },
    {
     "name": "stderr",
     "output_type": "stream",
     "text": [
      "/var/folders/7w/s5bmwwgs2176bk3y33c2nv2m0000gn/T/ipykernel_59386/2500611121.py:10: SettingWithCopyWarning:\n",
      "\n",
      "\n",
      "A value is trying to be set on a copy of a slice from a DataFrame.\n",
      "Try using .loc[row_indexer,col_indexer] = value instead\n",
      "\n",
      "See the caveats in the documentation: https://pandas.pydata.org/pandas-docs/stable/user_guide/indexing.html#returning-a-view-versus-a-copy\n",
      "\n"
     ]
    },
    {
     "data": {
      "text/plain": [
       "is_active\n",
       "True     25258\n",
       "False    20283\n",
       "Name: count, dtype: int64"
      ]
     },
     "metadata": {},
     "output_type": "display_data"
    }
   ],
   "source": [
    "# Add a column to separate ages into quantile-based groups with similar sizes\n",
    "unique_clients_visits['age_group'] = pd.qcut(unique_clients_visits['client_age'], q=3, labels=['Younger', 'Middle aged', 'Seniors'])\n",
    "display(unique_clients_visits.groupby('age_group', observed=False)['client_age'].describe())\n",
    "\n",
    "# Add a column to separate balance into quantile-based groups with similar sizes\n",
    "unique_clients_visits['balance_group'] = pd.qcut(unique_clients_visits['balance'], q=3, labels=['Low Balance', 'Medium Balance', 'High Balance'])\n",
    "display(unique_clients_visits.groupby('balance_group', observed=False)['balance'].describe())\n",
    "\n",
    "# Add a column 'is_active' if the client called more than thrice or logged on more than six times\n",
    "unique_clients_visits['is_active'] = (unique_clients_visits['calls_6_months'] >= 6) | (unique_clients_visits['logons_6_month'] >= 6)\n",
    "display(unique_clients_visits['is_active'].value_counts())"
   ]
  },
  {
   "cell_type": "markdown",
   "metadata": {},
   "source": [
    "### Export csv"
   ]
  },
  {
   "cell_type": "code",
   "execution_count": 141,
   "metadata": {},
   "outputs": [],
   "source": [
    "#export to csv\n",
    "unique_clients_visits.to_csv('data/unique_clients_visits.csv', index=False)"
   ]
  },
  {
   "cell_type": "markdown",
   "metadata": {},
   "source": [
    "## Analysis"
   ]
  },
  {
   "cell_type": "code",
   "execution_count": 142,
   "metadata": {},
   "outputs": [
    {
     "data": {
      "text/plain": [
       "5.318175941021329"
      ]
     },
     "metadata": {},
     "output_type": "display_data"
    },
    {
     "data": {
      "text/plain": [
       "5.24063465131602e-08"
      ]
     },
     "metadata": {},
     "output_type": "display_data"
    }
   ],
   "source": [
    "# PROPORTION Z TEST ----Happy Paths---- Proportion of successes is greater in Test group than in Control group\n",
    "# H0: Proportion of complete steps in TEST group <= Proportion of complete steps in CONTROL group\n",
    "# H1: Pt > Pc\n",
    "alpha = 0.05\n",
    "\n",
    "successes = [number_of_successes['Test'], number_of_successes['Control']]\n",
    "just_visits = [number_of_visits['Test'], number_of_visits['Control']]\n",
    "\n",
    "happy_results = proportions_ztest(successes, just_visits, alternative = \"larger\")\n",
    "display(happy_results[0],happy_results[1])\n"
   ]
  },
  {
   "cell_type": "code",
   "execution_count": 143,
   "metadata": {},
   "outputs": [
    {
     "data": {
      "text/plain": [
       "10.989131002898143"
      ]
     },
     "metadata": {},
     "output_type": "display_data"
    },
    {
     "data": {
      "text/plain": [
       "2.155281347923626e-28"
      ]
     },
     "metadata": {},
     "output_type": "display_data"
    }
   ],
   "source": [
    "# PROPORTION Z TEST ----Non Happy Paths----\n",
    "# H0: Proportion of complete steps in TEST group <= Proportion of complete steps in CONTROL group\n",
    "# H1: Pt > Pc\n",
    "alpha = 0.05\n",
    "\n",
    "successes = [number_of_visits_non_happy['Test'], number_of_visits_non_happy['Control']]\n",
    "just_visits = [number_of_visits['Test'], number_of_visits['Control']]\n",
    "\n",
    "confused_results = proportions_ztest(successes, just_visits, alternative = \"larger\")\n",
    "display(confused_results[0],confused_results[1])\n"
   ]
  },
  {
   "cell_type": "code",
   "execution_count": 144,
   "metadata": {},
   "outputs": [
    {
     "data": {
      "text/plain": [
       "-13.902867447375662"
      ]
     },
     "metadata": {},
     "output_type": "display_data"
    },
    {
     "data": {
      "text/plain": [
       "3.0426854749703e-44"
      ]
     },
     "metadata": {},
     "output_type": "display_data"
    }
   ],
   "source": [
    "# PROPORTION Z TEST ----Error Paths---- \n",
    "# H0: Proportion of visits in TEST group >= Proportion of visits in CONTROL group\n",
    "# H1: Pt < Pc\n",
    "alpha = 0.05\n",
    "\n",
    "successes = [number_of_visits_error_path['Test'], number_of_visits_error_path['Control']]\n",
    "just_visits = [number_of_visits['Test'], number_of_visits['Control']]\n",
    "\n",
    "error_results = proportions_ztest(successes, just_visits, alternative = \"smaller\")\n",
    "display(error_results[0],error_results[1])\n"
   ]
  },
  {
   "cell_type": "markdown",
   "metadata": {},
   "source": [
    "### T-Test for total time"
   ]
  },
  {
   "cell_type": "code",
   "execution_count": 145,
   "metadata": {},
   "outputs": [
    {
     "data": {
      "text/plain": [
       "TtestResult(statistic=-36.32060949743314, pvalue=9.542950582460536e-287, df=78067.40883326299)"
      ]
     },
     "execution_count": 145,
     "metadata": {},
     "output_type": "execute_result"
    }
   ],
   "source": [
    "# TWO SAMPLE T TEST ---- Average total_time of success is smaller in Test group than in Control group\n",
    "import scipy.stats as st\n",
    "# H0: average time it took to complete steps in test group is greater or equal to one in control group \n",
    "#       (Mean_time_test>=Mean_time_control)\n",
    "# H1: average time it took to complete steps is less in test group than in control group \n",
    "#       (Mean_time_test<Mean_time_control)\n",
    "alpha=0.05\n",
    "df_test = happy_paths[happy_paths['variation']=='Test']['total_time_taken']\n",
    "df_control = happy_paths[happy_paths['variation']=='Control']['total_time_taken']\n",
    "st.ttest_ind(df_test,df_control, equal_var=False, alternative = 'less')"
   ]
  },
  {
   "cell_type": "code",
   "execution_count": 146,
   "metadata": {},
   "outputs": [
    {
     "name": "stderr",
     "output_type": "stream",
     "text": [
      "/var/folders/7w/s5bmwwgs2176bk3y33c2nv2m0000gn/T/ipykernel_59386/4127129962.py:1: FutureWarning:\n",
      "\n",
      "The default of observed=False is deprecated and will be changed to True in a future version of pandas. Pass observed=False to retain current behavior or observed=True to adopt the future default and silence this warning.\n",
      "\n"
     ]
    },
    {
     "data": {
      "text/html": [
       "<div>\n",
       "<style scoped>\n",
       "    .dataframe tbody tr th:only-of-type {\n",
       "        vertical-align: middle;\n",
       "    }\n",
       "\n",
       "    .dataframe tbody tr th {\n",
       "        vertical-align: top;\n",
       "    }\n",
       "\n",
       "    .dataframe thead th {\n",
       "        text-align: right;\n",
       "    }\n",
       "</style>\n",
       "<table border=\"1\" class=\"dataframe\">\n",
       "  <thead>\n",
       "    <tr style=\"text-align: right;\">\n",
       "      <th></th>\n",
       "      <th>total_time_taken</th>\n",
       "    </tr>\n",
       "    <tr>\n",
       "      <th>variation</th>\n",
       "      <th></th>\n",
       "    </tr>\n",
       "  </thead>\n",
       "  <tbody>\n",
       "    <tr>\n",
       "      <th>Test</th>\n",
       "      <td>231.912514</td>\n",
       "    </tr>\n",
       "    <tr>\n",
       "      <th>Control</th>\n",
       "      <td>275.262521</td>\n",
       "    </tr>\n",
       "  </tbody>\n",
       "</table>\n",
       "</div>"
      ],
      "text/plain": [
       "           total_time_taken\n",
       "variation                  \n",
       "Test             231.912514\n",
       "Control          275.262521"
      ]
     },
     "execution_count": 146,
     "metadata": {},
     "output_type": "execute_result"
    }
   ],
   "source": [
    "average_time_per_variation = happy_paths.groupby('variation').agg({'total_time_taken': 'mean'})\n",
    "average_time_per_variation"
   ]
  },
  {
   "cell_type": "code",
   "execution_count": 147,
   "metadata": {},
   "outputs": [
    {
     "data": {
      "text/plain": [
       "251.94205686121296"
      ]
     },
     "metadata": {},
     "output_type": "display_data"
    }
   ],
   "source": [
    "# average total time without outliers\n",
    "avg_total_time = happy_paths['total_time_taken'].mean()\n",
    "display(avg_total_time)"
   ]
  },
  {
   "cell_type": "code",
   "execution_count": 148,
   "metadata": {},
   "outputs": [
    {
     "data": {
      "text/plain": [
       "TtestResult(statistic=5.897133165808121, pvalue=0.9999999981408997, df=60784.85035257793)"
      ]
     },
     "execution_count": 148,
     "metadata": {},
     "output_type": "execute_result"
    }
   ],
   "source": [
    "# TWO SAMPLE T TEST ---- Average total_time of success is smaller in Test group than in Control group\n",
    "import scipy.stats as st\n",
    "# H0: average time it took to complete steps in test group is greater or equal to one in control group \n",
    "#       (Mean_time_test>=Mean_time_control)\n",
    "# H1: average time it took to complete steps is less in test group than in control group \n",
    "#       (Mean_time_test<Mean_time_control)\n",
    "alpha=0.05\n",
    "df_test = confused_paths[confused_paths['variation']=='Test']['total_time_taken']\n",
    "df_control = confused_paths[confused_paths['variation']=='Control']['total_time_taken']\n",
    "st.ttest_ind(df_test,df_control, equal_var=False, alternative = 'less')"
   ]
  },
  {
   "cell_type": "code",
   "execution_count": 149,
   "metadata": {},
   "outputs": [
    {
     "name": "stderr",
     "output_type": "stream",
     "text": [
      "/var/folders/7w/s5bmwwgs2176bk3y33c2nv2m0000gn/T/ipykernel_59386/2527091129.py:1: FutureWarning:\n",
      "\n",
      "The default of observed=False is deprecated and will be changed to True in a future version of pandas. Pass observed=False to retain current behavior or observed=True to adopt the future default and silence this warning.\n",
      "\n"
     ]
    },
    {
     "data": {
      "text/html": [
       "<div>\n",
       "<style scoped>\n",
       "    .dataframe tbody tr th:only-of-type {\n",
       "        vertical-align: middle;\n",
       "    }\n",
       "\n",
       "    .dataframe tbody tr th {\n",
       "        vertical-align: top;\n",
       "    }\n",
       "\n",
       "    .dataframe thead th {\n",
       "        text-align: right;\n",
       "    }\n",
       "</style>\n",
       "<table border=\"1\" class=\"dataframe\">\n",
       "  <thead>\n",
       "    <tr style=\"text-align: right;\">\n",
       "      <th></th>\n",
       "      <th>total_time_taken</th>\n",
       "    </tr>\n",
       "    <tr>\n",
       "      <th>variation</th>\n",
       "      <th></th>\n",
       "    </tr>\n",
       "  </thead>\n",
       "  <tbody>\n",
       "    <tr>\n",
       "      <th>Test</th>\n",
       "      <td>439.773366</td>\n",
       "    </tr>\n",
       "    <tr>\n",
       "      <th>Control</th>\n",
       "      <td>428.878215</td>\n",
       "    </tr>\n",
       "  </tbody>\n",
       "</table>\n",
       "</div>"
      ],
      "text/plain": [
       "           total_time_taken\n",
       "variation                  \n",
       "Test             439.773366\n",
       "Control          428.878215"
      ]
     },
     "execution_count": 149,
     "metadata": {},
     "output_type": "execute_result"
    }
   ],
   "source": [
    "average_time_per_variation = confused_paths.groupby('variation').agg({'total_time_taken': 'mean'})\n",
    "average_time_per_variation"
   ]
  },
  {
   "cell_type": "code",
   "execution_count": 150,
   "metadata": {},
   "outputs": [
    {
     "data": {
      "text/plain": [
       "435.1294514818356"
      ]
     },
     "metadata": {},
     "output_type": "display_data"
    }
   ],
   "source": [
    "# average total time without outliers\n",
    "avg_total_time = confused_paths['total_time_taken'].mean()\n",
    "display(avg_total_time)"
   ]
  },
  {
   "cell_type": "code",
   "execution_count": 151,
   "metadata": {},
   "outputs": [],
   "source": [
    "#TODO: funnel analysis\n",
    "#TODO: stats on last step\n",
    "#TODO: analyze repeat visits?"
   ]
  },
  {
   "cell_type": "code",
   "execution_count": 152,
   "metadata": {},
   "outputs": [],
   "source": [
    "# STORY:\n",
    "\n",
    "# 1. The data had the journeys of 108216 clients in 130607 visits.\n",
    "    # We selected "
   ]
  },
  {
   "cell_type": "markdown",
   "metadata": {},
   "source": [
    "## Visualizations"
   ]
  },
  {
   "cell_type": "code",
   "execution_count": null,
   "metadata": {},
   "outputs": [],
   "source": []
  },
  {
   "cell_type": "markdown",
   "metadata": {},
   "source": [
    "## Conclusions"
   ]
  },
  {
   "cell_type": "code",
   "execution_count": null,
   "metadata": {},
   "outputs": [],
   "source": []
  },
  {
   "cell_type": "markdown",
   "metadata": {},
   "source": [
    "## Q"
   ]
  },
  {
   "cell_type": "code",
   "execution_count": 153,
   "metadata": {},
   "outputs": [],
   "source": [
    "# hypothesis testing interpretation\n",
    "# python debugging\n",
    "# config file\n",
    "# SQL to tableau\n",
    "# boxplot not all outliers"
   ]
  },
  {
   "cell_type": "code",
   "execution_count": null,
   "metadata": {},
   "outputs": [],
   "source": []
  },
  {
   "cell_type": "code",
   "execution_count": 154,
   "metadata": {},
   "outputs": [
    {
     "data": {
      "text/plain": [
       "[{'step': 'Raw data', 'count': 120157},\n",
       " {'step': 'Drop nulls', 'count': 100048},\n",
       " {'step': 'Remove unknown variation', 'count': 50487},\n",
       " {'step': 'Remove repeat and shared visits', 'count': 50109},\n",
       " {'step': 'Remove non-starters', 'count': 47914},\n",
       " {'step': 'Remove outliers', 'count': 45541},\n",
       " {'step': 'Happy Path', 'count': 16637},\n",
       " {'step': 'Confused Path', 'count': 8828},\n",
       " {'step': 'Dropped Path', 'count': 20090}]"
      ]
     },
     "metadata": {},
     "output_type": "display_data"
    },
    {
     "data": {
      "application/vnd.plotly.v1+json": {
       "config": {
        "plotlyServerURL": "https://plot.ly"
       },
       "data": [
        {
         "link": {
          "source": [
           5,
           1,
           0,
           3,
           3,
           0
          ],
          "target": [
           1,
           0,
           3,
           2,
           4,
           6
          ],
          "value": [
           1000,
           900,
           800,
           750,
           50,
           100
          ]
         },
         "node": {
          "label": [
           "Null Values Removed",
           "Removed Duplicates",
           "Final Clean Data",
           "Filtered Outliers",
           "Outliers Discarded",
           "Raw Data",
           "Nulls Discarded"
          ],
          "line": {
           "color": "black",
           "width": 0.5
          },
          "pad": 15,
          "thickness": 20
         },
         "type": "sankey"
        }
       ],
       "layout": {
        "font": {
         "size": 12
        },
        "template": {
         "data": {
          "bar": [
           {
            "error_x": {
             "color": "#2a3f5f"
            },
            "error_y": {
             "color": "#2a3f5f"
            },
            "marker": {
             "line": {
              "color": "#E5ECF6",
              "width": 0.5
             },
             "pattern": {
              "fillmode": "overlay",
              "size": 10,
              "solidity": 0.2
             }
            },
            "type": "bar"
           }
          ],
          "barpolar": [
           {
            "marker": {
             "line": {
              "color": "#E5ECF6",
              "width": 0.5
             },
             "pattern": {
              "fillmode": "overlay",
              "size": 10,
              "solidity": 0.2
             }
            },
            "type": "barpolar"
           }
          ],
          "carpet": [
           {
            "aaxis": {
             "endlinecolor": "#2a3f5f",
             "gridcolor": "white",
             "linecolor": "white",
             "minorgridcolor": "white",
             "startlinecolor": "#2a3f5f"
            },
            "baxis": {
             "endlinecolor": "#2a3f5f",
             "gridcolor": "white",
             "linecolor": "white",
             "minorgridcolor": "white",
             "startlinecolor": "#2a3f5f"
            },
            "type": "carpet"
           }
          ],
          "choropleth": [
           {
            "colorbar": {
             "outlinewidth": 0,
             "ticks": ""
            },
            "type": "choropleth"
           }
          ],
          "contour": [
           {
            "colorbar": {
             "outlinewidth": 0,
             "ticks": ""
            },
            "colorscale": [
             [
              0,
              "#0d0887"
             ],
             [
              0.1111111111111111,
              "#46039f"
             ],
             [
              0.2222222222222222,
              "#7201a8"
             ],
             [
              0.3333333333333333,
              "#9c179e"
             ],
             [
              0.4444444444444444,
              "#bd3786"
             ],
             [
              0.5555555555555556,
              "#d8576b"
             ],
             [
              0.6666666666666666,
              "#ed7953"
             ],
             [
              0.7777777777777778,
              "#fb9f3a"
             ],
             [
              0.8888888888888888,
              "#fdca26"
             ],
             [
              1,
              "#f0f921"
             ]
            ],
            "type": "contour"
           }
          ],
          "contourcarpet": [
           {
            "colorbar": {
             "outlinewidth": 0,
             "ticks": ""
            },
            "type": "contourcarpet"
           }
          ],
          "heatmap": [
           {
            "colorbar": {
             "outlinewidth": 0,
             "ticks": ""
            },
            "colorscale": [
             [
              0,
              "#0d0887"
             ],
             [
              0.1111111111111111,
              "#46039f"
             ],
             [
              0.2222222222222222,
              "#7201a8"
             ],
             [
              0.3333333333333333,
              "#9c179e"
             ],
             [
              0.4444444444444444,
              "#bd3786"
             ],
             [
              0.5555555555555556,
              "#d8576b"
             ],
             [
              0.6666666666666666,
              "#ed7953"
             ],
             [
              0.7777777777777778,
              "#fb9f3a"
             ],
             [
              0.8888888888888888,
              "#fdca26"
             ],
             [
              1,
              "#f0f921"
             ]
            ],
            "type": "heatmap"
           }
          ],
          "heatmapgl": [
           {
            "colorbar": {
             "outlinewidth": 0,
             "ticks": ""
            },
            "colorscale": [
             [
              0,
              "#0d0887"
             ],
             [
              0.1111111111111111,
              "#46039f"
             ],
             [
              0.2222222222222222,
              "#7201a8"
             ],
             [
              0.3333333333333333,
              "#9c179e"
             ],
             [
              0.4444444444444444,
              "#bd3786"
             ],
             [
              0.5555555555555556,
              "#d8576b"
             ],
             [
              0.6666666666666666,
              "#ed7953"
             ],
             [
              0.7777777777777778,
              "#fb9f3a"
             ],
             [
              0.8888888888888888,
              "#fdca26"
             ],
             [
              1,
              "#f0f921"
             ]
            ],
            "type": "heatmapgl"
           }
          ],
          "histogram": [
           {
            "marker": {
             "pattern": {
              "fillmode": "overlay",
              "size": 10,
              "solidity": 0.2
             }
            },
            "type": "histogram"
           }
          ],
          "histogram2d": [
           {
            "colorbar": {
             "outlinewidth": 0,
             "ticks": ""
            },
            "colorscale": [
             [
              0,
              "#0d0887"
             ],
             [
              0.1111111111111111,
              "#46039f"
             ],
             [
              0.2222222222222222,
              "#7201a8"
             ],
             [
              0.3333333333333333,
              "#9c179e"
             ],
             [
              0.4444444444444444,
              "#bd3786"
             ],
             [
              0.5555555555555556,
              "#d8576b"
             ],
             [
              0.6666666666666666,
              "#ed7953"
             ],
             [
              0.7777777777777778,
              "#fb9f3a"
             ],
             [
              0.8888888888888888,
              "#fdca26"
             ],
             [
              1,
              "#f0f921"
             ]
            ],
            "type": "histogram2d"
           }
          ],
          "histogram2dcontour": [
           {
            "colorbar": {
             "outlinewidth": 0,
             "ticks": ""
            },
            "colorscale": [
             [
              0,
              "#0d0887"
             ],
             [
              0.1111111111111111,
              "#46039f"
             ],
             [
              0.2222222222222222,
              "#7201a8"
             ],
             [
              0.3333333333333333,
              "#9c179e"
             ],
             [
              0.4444444444444444,
              "#bd3786"
             ],
             [
              0.5555555555555556,
              "#d8576b"
             ],
             [
              0.6666666666666666,
              "#ed7953"
             ],
             [
              0.7777777777777778,
              "#fb9f3a"
             ],
             [
              0.8888888888888888,
              "#fdca26"
             ],
             [
              1,
              "#f0f921"
             ]
            ],
            "type": "histogram2dcontour"
           }
          ],
          "mesh3d": [
           {
            "colorbar": {
             "outlinewidth": 0,
             "ticks": ""
            },
            "type": "mesh3d"
           }
          ],
          "parcoords": [
           {
            "line": {
             "colorbar": {
              "outlinewidth": 0,
              "ticks": ""
             }
            },
            "type": "parcoords"
           }
          ],
          "pie": [
           {
            "automargin": true,
            "type": "pie"
           }
          ],
          "scatter": [
           {
            "fillpattern": {
             "fillmode": "overlay",
             "size": 10,
             "solidity": 0.2
            },
            "type": "scatter"
           }
          ],
          "scatter3d": [
           {
            "line": {
             "colorbar": {
              "outlinewidth": 0,
              "ticks": ""
             }
            },
            "marker": {
             "colorbar": {
              "outlinewidth": 0,
              "ticks": ""
             }
            },
            "type": "scatter3d"
           }
          ],
          "scattercarpet": [
           {
            "marker": {
             "colorbar": {
              "outlinewidth": 0,
              "ticks": ""
             }
            },
            "type": "scattercarpet"
           }
          ],
          "scattergeo": [
           {
            "marker": {
             "colorbar": {
              "outlinewidth": 0,
              "ticks": ""
             }
            },
            "type": "scattergeo"
           }
          ],
          "scattergl": [
           {
            "marker": {
             "colorbar": {
              "outlinewidth": 0,
              "ticks": ""
             }
            },
            "type": "scattergl"
           }
          ],
          "scattermapbox": [
           {
            "marker": {
             "colorbar": {
              "outlinewidth": 0,
              "ticks": ""
             }
            },
            "type": "scattermapbox"
           }
          ],
          "scatterpolar": [
           {
            "marker": {
             "colorbar": {
              "outlinewidth": 0,
              "ticks": ""
             }
            },
            "type": "scatterpolar"
           }
          ],
          "scatterpolargl": [
           {
            "marker": {
             "colorbar": {
              "outlinewidth": 0,
              "ticks": ""
             }
            },
            "type": "scatterpolargl"
           }
          ],
          "scatterternary": [
           {
            "marker": {
             "colorbar": {
              "outlinewidth": 0,
              "ticks": ""
             }
            },
            "type": "scatterternary"
           }
          ],
          "surface": [
           {
            "colorbar": {
             "outlinewidth": 0,
             "ticks": ""
            },
            "colorscale": [
             [
              0,
              "#0d0887"
             ],
             [
              0.1111111111111111,
              "#46039f"
             ],
             [
              0.2222222222222222,
              "#7201a8"
             ],
             [
              0.3333333333333333,
              "#9c179e"
             ],
             [
              0.4444444444444444,
              "#bd3786"
             ],
             [
              0.5555555555555556,
              "#d8576b"
             ],
             [
              0.6666666666666666,
              "#ed7953"
             ],
             [
              0.7777777777777778,
              "#fb9f3a"
             ],
             [
              0.8888888888888888,
              "#fdca26"
             ],
             [
              1,
              "#f0f921"
             ]
            ],
            "type": "surface"
           }
          ],
          "table": [
           {
            "cells": {
             "fill": {
              "color": "#EBF0F8"
             },
             "line": {
              "color": "white"
             }
            },
            "header": {
             "fill": {
              "color": "#C8D4E3"
             },
             "line": {
              "color": "white"
             }
            },
            "type": "table"
           }
          ]
         },
         "layout": {
          "annotationdefaults": {
           "arrowcolor": "#2a3f5f",
           "arrowhead": 0,
           "arrowwidth": 1
          },
          "autotypenumbers": "strict",
          "coloraxis": {
           "colorbar": {
            "outlinewidth": 0,
            "ticks": ""
           }
          },
          "colorscale": {
           "diverging": [
            [
             0,
             "#8e0152"
            ],
            [
             0.1,
             "#c51b7d"
            ],
            [
             0.2,
             "#de77ae"
            ],
            [
             0.3,
             "#f1b6da"
            ],
            [
             0.4,
             "#fde0ef"
            ],
            [
             0.5,
             "#f7f7f7"
            ],
            [
             0.6,
             "#e6f5d0"
            ],
            [
             0.7,
             "#b8e186"
            ],
            [
             0.8,
             "#7fbc41"
            ],
            [
             0.9,
             "#4d9221"
            ],
            [
             1,
             "#276419"
            ]
           ],
           "sequential": [
            [
             0,
             "#0d0887"
            ],
            [
             0.1111111111111111,
             "#46039f"
            ],
            [
             0.2222222222222222,
             "#7201a8"
            ],
            [
             0.3333333333333333,
             "#9c179e"
            ],
            [
             0.4444444444444444,
             "#bd3786"
            ],
            [
             0.5555555555555556,
             "#d8576b"
            ],
            [
             0.6666666666666666,
             "#ed7953"
            ],
            [
             0.7777777777777778,
             "#fb9f3a"
            ],
            [
             0.8888888888888888,
             "#fdca26"
            ],
            [
             1,
             "#f0f921"
            ]
           ],
           "sequentialminus": [
            [
             0,
             "#0d0887"
            ],
            [
             0.1111111111111111,
             "#46039f"
            ],
            [
             0.2222222222222222,
             "#7201a8"
            ],
            [
             0.3333333333333333,
             "#9c179e"
            ],
            [
             0.4444444444444444,
             "#bd3786"
            ],
            [
             0.5555555555555556,
             "#d8576b"
            ],
            [
             0.6666666666666666,
             "#ed7953"
            ],
            [
             0.7777777777777778,
             "#fb9f3a"
            ],
            [
             0.8888888888888888,
             "#fdca26"
            ],
            [
             1,
             "#f0f921"
            ]
           ]
          },
          "colorway": [
           "#636efa",
           "#EF553B",
           "#00cc96",
           "#ab63fa",
           "#FFA15A",
           "#19d3f3",
           "#FF6692",
           "#B6E880",
           "#FF97FF",
           "#FECB52"
          ],
          "font": {
           "color": "#2a3f5f"
          },
          "geo": {
           "bgcolor": "white",
           "lakecolor": "white",
           "landcolor": "#E5ECF6",
           "showlakes": true,
           "showland": true,
           "subunitcolor": "white"
          },
          "hoverlabel": {
           "align": "left"
          },
          "hovermode": "closest",
          "mapbox": {
           "style": "light"
          },
          "paper_bgcolor": "white",
          "plot_bgcolor": "#E5ECF6",
          "polar": {
           "angularaxis": {
            "gridcolor": "white",
            "linecolor": "white",
            "ticks": ""
           },
           "bgcolor": "#E5ECF6",
           "radialaxis": {
            "gridcolor": "white",
            "linecolor": "white",
            "ticks": ""
           }
          },
          "scene": {
           "xaxis": {
            "backgroundcolor": "#E5ECF6",
            "gridcolor": "white",
            "gridwidth": 2,
            "linecolor": "white",
            "showbackground": true,
            "ticks": "",
            "zerolinecolor": "white"
           },
           "yaxis": {
            "backgroundcolor": "#E5ECF6",
            "gridcolor": "white",
            "gridwidth": 2,
            "linecolor": "white",
            "showbackground": true,
            "ticks": "",
            "zerolinecolor": "white"
           },
           "zaxis": {
            "backgroundcolor": "#E5ECF6",
            "gridcolor": "white",
            "gridwidth": 2,
            "linecolor": "white",
            "showbackground": true,
            "ticks": "",
            "zerolinecolor": "white"
           }
          },
          "shapedefaults": {
           "line": {
            "color": "#2a3f5f"
           }
          },
          "ternary": {
           "aaxis": {
            "gridcolor": "white",
            "linecolor": "white",
            "ticks": ""
           },
           "baxis": {
            "gridcolor": "white",
            "linecolor": "white",
            "ticks": ""
           },
           "bgcolor": "#E5ECF6",
           "caxis": {
            "gridcolor": "white",
            "linecolor": "white",
            "ticks": ""
           }
          },
          "title": {
           "x": 0.05
          },
          "xaxis": {
           "automargin": true,
           "gridcolor": "white",
           "linecolor": "white",
           "ticks": "",
           "title": {
            "standoff": 15
           },
           "zerolinecolor": "white",
           "zerolinewidth": 2
          },
          "yaxis": {
           "automargin": true,
           "gridcolor": "white",
           "linecolor": "white",
           "ticks": "",
           "title": {
            "standoff": 15
           },
           "zerolinecolor": "white",
           "zerolinewidth": 2
          }
         }
        },
        "title": {
         "text": "Data Cleaning Process"
        }
       }
      }
     },
     "metadata": {},
     "output_type": "display_data"
    }
   ],
   "source": [
    "import pandas as pd\n",
    "import plotly.graph_objects as go\n",
    "\n",
    "# Create a DataFrame with the data\n",
    "data = pd.DataFrame({\n",
    "    'Source': ['Raw Data', 'Removed Duplicates', 'Null Values Removed', 'Filtered Outliers', 'Filtered Outliers', 'Null Values Removed'],\n",
    "    'Target': ['Removed Duplicates', 'Null Values Removed', 'Filtered Outliers', 'Final Clean Data', 'Outliers Discarded', 'Nulls Discarded'],\n",
    "    'Value': [1000, 900, 800, 750, 50, 100]\n",
    "})\n",
    "\n",
    "# Create lists for the Sankey diagram\n",
    "sources = data['Source'].tolist()\n",
    "targets = data['Target'].tolist()\n",
    "values = data['Value'].tolist()\n",
    "\n",
    "# Create a list of unique labels for the nodes\n",
    "all_nodes = list(set(sources + targets))\n",
    "node_indices = {node: i for i, node in enumerate(all_nodes)}\n",
    "\n",
    "# Map the source and target labels to their corresponding indices\n",
    "source_indices = [node_indices[source] for source in sources]\n",
    "target_indices = [node_indices[target] for target in targets]\n",
    "\n",
    "# Create the Sankey diagram\n",
    "fig = go.Figure(go.Sankey(\n",
    "    node=dict(\n",
    "        pad=15,\n",
    "        thickness=20,\n",
    "        line=dict(color=\"black\", width=0.5),\n",
    "        label=all_nodes\n",
    "    ),\n",
    "    link=dict(\n",
    "        source=source_indices,\n",
    "        target=target_indices,\n",
    "        value=values\n",
    "    )\n",
    "))\n",
    "display(cleaning)\n",
    "# Update the layout and display the diagram\n",
    "fig.update_layout(title_text=\"Data Cleaning Process\", font_size=12)\n",
    "fig.show()"
   ]
  },
  {
   "cell_type": "code",
   "execution_count": 155,
   "metadata": {},
   "outputs": [
    {
     "data": {
      "text/plain": [
       "[{'step': 'Raw data', 'count': 120157},\n",
       " {'step': 'Drop nulls', 'count': 100048},\n",
       " {'step': 'Remove unknown variation', 'count': 50487},\n",
       " {'step': 'Remove repeat and shared visits', 'count': 50109},\n",
       " {'step': 'Remove non-starters', 'count': 47914},\n",
       " {'step': 'Remove outliers', 'count': 45541},\n",
       " {'step': 'Happy Path', 'count': 16637},\n",
       " {'step': 'Confused Path', 'count': 8828},\n",
       " {'step': 'Dropped Path', 'count': 20090}]"
      ]
     },
     "metadata": {},
     "output_type": "display_data"
    },
    {
     "data": {
      "application/vnd.plotly.v1+json": {
       "config": {
        "plotlyServerURL": "https://plot.ly"
       },
       "data": [
        {
         "link": {
          "source": [
           4,
           6,
           8,
           7,
           5,
           1,
           3,
           3,
           3
          ],
          "target": [
           6,
           8,
           7,
           5,
           1,
           3,
           0,
           9,
           2
          ],
          "value": [
           120157,
           100048,
           50487,
           50109,
           47914,
           45541,
           16637,
           8828,
           20090
          ]
         },
         "node": {
          "label": [
           "Happy Path",
           "Non-starters",
           "Dropped Path",
           "Outliers",
           "Raw Data",
           "Repeats & shared",
           "All Clients",
           "Unknown variations",
           "Drop nulls",
           "Confused Path"
          ],
          "line": {
           "color": "black",
           "width": 0.5
          },
          "pad": 15,
          "thickness": 20
         },
         "type": "sankey"
        }
       ],
       "layout": {
        "font": {
         "size": 12
        },
        "paper_bgcolor": "rgba(0,0,0,0)",
        "plot_bgcolor": "rgba(0,0,0,0)",
        "template": {
         "data": {
          "bar": [
           {
            "error_x": {
             "color": "#2a3f5f"
            },
            "error_y": {
             "color": "#2a3f5f"
            },
            "marker": {
             "line": {
              "color": "#E5ECF6",
              "width": 0.5
             },
             "pattern": {
              "fillmode": "overlay",
              "size": 10,
              "solidity": 0.2
             }
            },
            "type": "bar"
           }
          ],
          "barpolar": [
           {
            "marker": {
             "line": {
              "color": "#E5ECF6",
              "width": 0.5
             },
             "pattern": {
              "fillmode": "overlay",
              "size": 10,
              "solidity": 0.2
             }
            },
            "type": "barpolar"
           }
          ],
          "carpet": [
           {
            "aaxis": {
             "endlinecolor": "#2a3f5f",
             "gridcolor": "white",
             "linecolor": "white",
             "minorgridcolor": "white",
             "startlinecolor": "#2a3f5f"
            },
            "baxis": {
             "endlinecolor": "#2a3f5f",
             "gridcolor": "white",
             "linecolor": "white",
             "minorgridcolor": "white",
             "startlinecolor": "#2a3f5f"
            },
            "type": "carpet"
           }
          ],
          "choropleth": [
           {
            "colorbar": {
             "outlinewidth": 0,
             "ticks": ""
            },
            "type": "choropleth"
           }
          ],
          "contour": [
           {
            "colorbar": {
             "outlinewidth": 0,
             "ticks": ""
            },
            "colorscale": [
             [
              0,
              "#0d0887"
             ],
             [
              0.1111111111111111,
              "#46039f"
             ],
             [
              0.2222222222222222,
              "#7201a8"
             ],
             [
              0.3333333333333333,
              "#9c179e"
             ],
             [
              0.4444444444444444,
              "#bd3786"
             ],
             [
              0.5555555555555556,
              "#d8576b"
             ],
             [
              0.6666666666666666,
              "#ed7953"
             ],
             [
              0.7777777777777778,
              "#fb9f3a"
             ],
             [
              0.8888888888888888,
              "#fdca26"
             ],
             [
              1,
              "#f0f921"
             ]
            ],
            "type": "contour"
           }
          ],
          "contourcarpet": [
           {
            "colorbar": {
             "outlinewidth": 0,
             "ticks": ""
            },
            "type": "contourcarpet"
           }
          ],
          "heatmap": [
           {
            "colorbar": {
             "outlinewidth": 0,
             "ticks": ""
            },
            "colorscale": [
             [
              0,
              "#0d0887"
             ],
             [
              0.1111111111111111,
              "#46039f"
             ],
             [
              0.2222222222222222,
              "#7201a8"
             ],
             [
              0.3333333333333333,
              "#9c179e"
             ],
             [
              0.4444444444444444,
              "#bd3786"
             ],
             [
              0.5555555555555556,
              "#d8576b"
             ],
             [
              0.6666666666666666,
              "#ed7953"
             ],
             [
              0.7777777777777778,
              "#fb9f3a"
             ],
             [
              0.8888888888888888,
              "#fdca26"
             ],
             [
              1,
              "#f0f921"
             ]
            ],
            "type": "heatmap"
           }
          ],
          "heatmapgl": [
           {
            "colorbar": {
             "outlinewidth": 0,
             "ticks": ""
            },
            "colorscale": [
             [
              0,
              "#0d0887"
             ],
             [
              0.1111111111111111,
              "#46039f"
             ],
             [
              0.2222222222222222,
              "#7201a8"
             ],
             [
              0.3333333333333333,
              "#9c179e"
             ],
             [
              0.4444444444444444,
              "#bd3786"
             ],
             [
              0.5555555555555556,
              "#d8576b"
             ],
             [
              0.6666666666666666,
              "#ed7953"
             ],
             [
              0.7777777777777778,
              "#fb9f3a"
             ],
             [
              0.8888888888888888,
              "#fdca26"
             ],
             [
              1,
              "#f0f921"
             ]
            ],
            "type": "heatmapgl"
           }
          ],
          "histogram": [
           {
            "marker": {
             "pattern": {
              "fillmode": "overlay",
              "size": 10,
              "solidity": 0.2
             }
            },
            "type": "histogram"
           }
          ],
          "histogram2d": [
           {
            "colorbar": {
             "outlinewidth": 0,
             "ticks": ""
            },
            "colorscale": [
             [
              0,
              "#0d0887"
             ],
             [
              0.1111111111111111,
              "#46039f"
             ],
             [
              0.2222222222222222,
              "#7201a8"
             ],
             [
              0.3333333333333333,
              "#9c179e"
             ],
             [
              0.4444444444444444,
              "#bd3786"
             ],
             [
              0.5555555555555556,
              "#d8576b"
             ],
             [
              0.6666666666666666,
              "#ed7953"
             ],
             [
              0.7777777777777778,
              "#fb9f3a"
             ],
             [
              0.8888888888888888,
              "#fdca26"
             ],
             [
              1,
              "#f0f921"
             ]
            ],
            "type": "histogram2d"
           }
          ],
          "histogram2dcontour": [
           {
            "colorbar": {
             "outlinewidth": 0,
             "ticks": ""
            },
            "colorscale": [
             [
              0,
              "#0d0887"
             ],
             [
              0.1111111111111111,
              "#46039f"
             ],
             [
              0.2222222222222222,
              "#7201a8"
             ],
             [
              0.3333333333333333,
              "#9c179e"
             ],
             [
              0.4444444444444444,
              "#bd3786"
             ],
             [
              0.5555555555555556,
              "#d8576b"
             ],
             [
              0.6666666666666666,
              "#ed7953"
             ],
             [
              0.7777777777777778,
              "#fb9f3a"
             ],
             [
              0.8888888888888888,
              "#fdca26"
             ],
             [
              1,
              "#f0f921"
             ]
            ],
            "type": "histogram2dcontour"
           }
          ],
          "mesh3d": [
           {
            "colorbar": {
             "outlinewidth": 0,
             "ticks": ""
            },
            "type": "mesh3d"
           }
          ],
          "parcoords": [
           {
            "line": {
             "colorbar": {
              "outlinewidth": 0,
              "ticks": ""
             }
            },
            "type": "parcoords"
           }
          ],
          "pie": [
           {
            "automargin": true,
            "type": "pie"
           }
          ],
          "scatter": [
           {
            "fillpattern": {
             "fillmode": "overlay",
             "size": 10,
             "solidity": 0.2
            },
            "type": "scatter"
           }
          ],
          "scatter3d": [
           {
            "line": {
             "colorbar": {
              "outlinewidth": 0,
              "ticks": ""
             }
            },
            "marker": {
             "colorbar": {
              "outlinewidth": 0,
              "ticks": ""
             }
            },
            "type": "scatter3d"
           }
          ],
          "scattercarpet": [
           {
            "marker": {
             "colorbar": {
              "outlinewidth": 0,
              "ticks": ""
             }
            },
            "type": "scattercarpet"
           }
          ],
          "scattergeo": [
           {
            "marker": {
             "colorbar": {
              "outlinewidth": 0,
              "ticks": ""
             }
            },
            "type": "scattergeo"
           }
          ],
          "scattergl": [
           {
            "marker": {
             "colorbar": {
              "outlinewidth": 0,
              "ticks": ""
             }
            },
            "type": "scattergl"
           }
          ],
          "scattermapbox": [
           {
            "marker": {
             "colorbar": {
              "outlinewidth": 0,
              "ticks": ""
             }
            },
            "type": "scattermapbox"
           }
          ],
          "scatterpolar": [
           {
            "marker": {
             "colorbar": {
              "outlinewidth": 0,
              "ticks": ""
             }
            },
            "type": "scatterpolar"
           }
          ],
          "scatterpolargl": [
           {
            "marker": {
             "colorbar": {
              "outlinewidth": 0,
              "ticks": ""
             }
            },
            "type": "scatterpolargl"
           }
          ],
          "scatterternary": [
           {
            "marker": {
             "colorbar": {
              "outlinewidth": 0,
              "ticks": ""
             }
            },
            "type": "scatterternary"
           }
          ],
          "surface": [
           {
            "colorbar": {
             "outlinewidth": 0,
             "ticks": ""
            },
            "colorscale": [
             [
              0,
              "#0d0887"
             ],
             [
              0.1111111111111111,
              "#46039f"
             ],
             [
              0.2222222222222222,
              "#7201a8"
             ],
             [
              0.3333333333333333,
              "#9c179e"
             ],
             [
              0.4444444444444444,
              "#bd3786"
             ],
             [
              0.5555555555555556,
              "#d8576b"
             ],
             [
              0.6666666666666666,
              "#ed7953"
             ],
             [
              0.7777777777777778,
              "#fb9f3a"
             ],
             [
              0.8888888888888888,
              "#fdca26"
             ],
             [
              1,
              "#f0f921"
             ]
            ],
            "type": "surface"
           }
          ],
          "table": [
           {
            "cells": {
             "fill": {
              "color": "#EBF0F8"
             },
             "line": {
              "color": "white"
             }
            },
            "header": {
             "fill": {
              "color": "#C8D4E3"
             },
             "line": {
              "color": "white"
             }
            },
            "type": "table"
           }
          ]
         },
         "layout": {
          "annotationdefaults": {
           "arrowcolor": "#2a3f5f",
           "arrowhead": 0,
           "arrowwidth": 1
          },
          "autotypenumbers": "strict",
          "coloraxis": {
           "colorbar": {
            "outlinewidth": 0,
            "ticks": ""
           }
          },
          "colorscale": {
           "diverging": [
            [
             0,
             "#8e0152"
            ],
            [
             0.1,
             "#c51b7d"
            ],
            [
             0.2,
             "#de77ae"
            ],
            [
             0.3,
             "#f1b6da"
            ],
            [
             0.4,
             "#fde0ef"
            ],
            [
             0.5,
             "#f7f7f7"
            ],
            [
             0.6,
             "#e6f5d0"
            ],
            [
             0.7,
             "#b8e186"
            ],
            [
             0.8,
             "#7fbc41"
            ],
            [
             0.9,
             "#4d9221"
            ],
            [
             1,
             "#276419"
            ]
           ],
           "sequential": [
            [
             0,
             "#0d0887"
            ],
            [
             0.1111111111111111,
             "#46039f"
            ],
            [
             0.2222222222222222,
             "#7201a8"
            ],
            [
             0.3333333333333333,
             "#9c179e"
            ],
            [
             0.4444444444444444,
             "#bd3786"
            ],
            [
             0.5555555555555556,
             "#d8576b"
            ],
            [
             0.6666666666666666,
             "#ed7953"
            ],
            [
             0.7777777777777778,
             "#fb9f3a"
            ],
            [
             0.8888888888888888,
             "#fdca26"
            ],
            [
             1,
             "#f0f921"
            ]
           ],
           "sequentialminus": [
            [
             0,
             "#0d0887"
            ],
            [
             0.1111111111111111,
             "#46039f"
            ],
            [
             0.2222222222222222,
             "#7201a8"
            ],
            [
             0.3333333333333333,
             "#9c179e"
            ],
            [
             0.4444444444444444,
             "#bd3786"
            ],
            [
             0.5555555555555556,
             "#d8576b"
            ],
            [
             0.6666666666666666,
             "#ed7953"
            ],
            [
             0.7777777777777778,
             "#fb9f3a"
            ],
            [
             0.8888888888888888,
             "#fdca26"
            ],
            [
             1,
             "#f0f921"
            ]
           ]
          },
          "colorway": [
           "#636efa",
           "#EF553B",
           "#00cc96",
           "#ab63fa",
           "#FFA15A",
           "#19d3f3",
           "#FF6692",
           "#B6E880",
           "#FF97FF",
           "#FECB52"
          ],
          "font": {
           "color": "#2a3f5f"
          },
          "geo": {
           "bgcolor": "white",
           "lakecolor": "white",
           "landcolor": "#E5ECF6",
           "showlakes": true,
           "showland": true,
           "subunitcolor": "white"
          },
          "hoverlabel": {
           "align": "left"
          },
          "hovermode": "closest",
          "mapbox": {
           "style": "light"
          },
          "paper_bgcolor": "white",
          "plot_bgcolor": "#E5ECF6",
          "polar": {
           "angularaxis": {
            "gridcolor": "white",
            "linecolor": "white",
            "ticks": ""
           },
           "bgcolor": "#E5ECF6",
           "radialaxis": {
            "gridcolor": "white",
            "linecolor": "white",
            "ticks": ""
           }
          },
          "scene": {
           "xaxis": {
            "backgroundcolor": "#E5ECF6",
            "gridcolor": "white",
            "gridwidth": 2,
            "linecolor": "white",
            "showbackground": true,
            "ticks": "",
            "zerolinecolor": "white"
           },
           "yaxis": {
            "backgroundcolor": "#E5ECF6",
            "gridcolor": "white",
            "gridwidth": 2,
            "linecolor": "white",
            "showbackground": true,
            "ticks": "",
            "zerolinecolor": "white"
           },
           "zaxis": {
            "backgroundcolor": "#E5ECF6",
            "gridcolor": "white",
            "gridwidth": 2,
            "linecolor": "white",
            "showbackground": true,
            "ticks": "",
            "zerolinecolor": "white"
           }
          },
          "shapedefaults": {
           "line": {
            "color": "#2a3f5f"
           }
          },
          "ternary": {
           "aaxis": {
            "gridcolor": "white",
            "linecolor": "white",
            "ticks": ""
           },
           "baxis": {
            "gridcolor": "white",
            "linecolor": "white",
            "ticks": ""
           },
           "bgcolor": "#E5ECF6",
           "caxis": {
            "gridcolor": "white",
            "linecolor": "white",
            "ticks": ""
           }
          },
          "title": {
           "x": 0.05
          },
          "xaxis": {
           "automargin": true,
           "gridcolor": "white",
           "linecolor": "white",
           "ticks": "",
           "title": {
            "standoff": 15
           },
           "zerolinecolor": "white",
           "zerolinewidth": 2
          },
          "yaxis": {
           "automargin": true,
           "gridcolor": "white",
           "linecolor": "white",
           "ticks": "",
           "title": {
            "standoff": 15
           },
           "zerolinecolor": "white",
           "zerolinewidth": 2
          }
         }
        },
        "title": {
         "text": "Data Cleaning Process"
        }
       }
      }
     },
     "metadata": {},
     "output_type": "display_data"
    }
   ],
   "source": [
    "import pandas as pd\n",
    "import plotly.graph_objects as go\n",
    "\n",
    "# Create a DataFrame with the data\n",
    "data = pd.DataFrame({\n",
    "    'Source': ['Raw Data','All Clients', 'Drop nulls', 'Unknown variations', 'Repeats & shared', 'Non-starters', 'Outliers', 'Outliers', 'Outliers'],\n",
    "    'Target': ['All Clients','Drop nulls', 'Unknown variations', 'Repeats & shared', 'Non-starters', 'Outliers', 'Happy Path', 'Confused Path', 'Dropped Path'],\n",
    "    'Value': [120157, 100048, 50487, 50109, 47914, 45541, 16637, 8828, 20090]\n",
    "})\n",
    "\n",
    "# Create lists for the Sankey diagram\n",
    "sources = data['Source'].tolist()\n",
    "targets = data['Target'].tolist()\n",
    "values = data['Value'].tolist()\n",
    "\n",
    "# Create a list of unique labels for the nodes\n",
    "all_nodes = list(set(sources + targets))\n",
    "node_indices = {node: i for i, node in enumerate(all_nodes)}\n",
    "\n",
    "# Map the source and target labels to their corresponding indices\n",
    "source_indices = [node_indices[source] for source in sources]\n",
    "target_indices = [node_indices[target] for target in targets]\n",
    "\n",
    "# Create the Sankey diagram\n",
    "fig = go.Figure(go.Sankey(\n",
    "    node=dict(\n",
    "        pad=15,\n",
    "        thickness=20,\n",
    "        line=dict(color=\"black\", width=0.5),\n",
    "        label=all_nodes\n",
    "    ),\n",
    "    link=dict(\n",
    "        source=source_indices,\n",
    "        target=target_indices,\n",
    "        value=values\n",
    "    )\n",
    "))\n",
    "display(cleaning)\n",
    "# Update the layout and display the diagram with a transparent background\n",
    "fig.update_layout(\n",
    "    title_text=\"Data Cleaning Process\",\n",
    "    font_size=12,\n",
    "    paper_bgcolor='rgba(0,0,0,0)',\n",
    "    plot_bgcolor='rgba(0,0,0,0)'\n",
    ")\n",
    "fig.show()"
   ]
  },
  {
   "cell_type": "code",
   "execution_count": 156,
   "metadata": {},
   "outputs": [
    {
     "data": {
      "application/vnd.plotly.v1+json": {
       "config": {
        "plotlyServerURL": "https://plot.ly"
       },
       "data": [
        {
         "link": {
          "color": "rgba(0,100,255,0.4)",
          "customdata": [
           "120157",
           "100048",
           "50487",
           "50109",
           "47914",
           "45541",
           "16637",
           "8828",
           "20090"
          ],
          "hovertemplate": "Flow: %{value}",
          "label": [
           "120157",
           "100048",
           "50487",
           "50109",
           "47914",
           "45541",
           "16637",
           "8828",
           "20090"
          ],
          "source": [
           4,
           6,
           8,
           7,
           5,
           1,
           3,
           3,
           3
          ],
          "target": [
           6,
           8,
           7,
           5,
           1,
           3,
           0,
           9,
           2
          ],
          "value": [
           120157,
           100048,
           50487,
           50109,
           47914,
           45541,
           16637,
           8828,
           20090
          ]
         },
         "node": {
          "color": [
           "#636EFA",
           "#EF553B",
           "#00CC96",
           "#AB63FA",
           "#FFA15A",
           "#19D3F3",
           "#FF6692",
           "#B6E880",
           "#FF97FF",
           "#FECB52"
          ],
          "label": [
           "Happy Path",
           "Non-starters",
           "Dropped Path",
           "Outliers",
           "Raw Data",
           "Repeats & shared",
           "All Clients",
           "Unknown variations",
           "Drop nulls",
           "Confused Path"
          ],
          "line": {
           "color": "black",
           "width": 0.5
          },
          "pad": 15,
          "thickness": 20
         },
         "type": "sankey"
        }
       ],
       "layout": {
        "font": {
         "color": "white",
         "size": 12
        },
        "paper_bgcolor": "rgba(0,0,0,0)",
        "plot_bgcolor": "rgba(0,0,0,0)",
        "template": {
         "data": {
          "bar": [
           {
            "error_x": {
             "color": "#2a3f5f"
            },
            "error_y": {
             "color": "#2a3f5f"
            },
            "marker": {
             "line": {
              "color": "#E5ECF6",
              "width": 0.5
             },
             "pattern": {
              "fillmode": "overlay",
              "size": 10,
              "solidity": 0.2
             }
            },
            "type": "bar"
           }
          ],
          "barpolar": [
           {
            "marker": {
             "line": {
              "color": "#E5ECF6",
              "width": 0.5
             },
             "pattern": {
              "fillmode": "overlay",
              "size": 10,
              "solidity": 0.2
             }
            },
            "type": "barpolar"
           }
          ],
          "carpet": [
           {
            "aaxis": {
             "endlinecolor": "#2a3f5f",
             "gridcolor": "white",
             "linecolor": "white",
             "minorgridcolor": "white",
             "startlinecolor": "#2a3f5f"
            },
            "baxis": {
             "endlinecolor": "#2a3f5f",
             "gridcolor": "white",
             "linecolor": "white",
             "minorgridcolor": "white",
             "startlinecolor": "#2a3f5f"
            },
            "type": "carpet"
           }
          ],
          "choropleth": [
           {
            "colorbar": {
             "outlinewidth": 0,
             "ticks": ""
            },
            "type": "choropleth"
           }
          ],
          "contour": [
           {
            "colorbar": {
             "outlinewidth": 0,
             "ticks": ""
            },
            "colorscale": [
             [
              0,
              "#0d0887"
             ],
             [
              0.1111111111111111,
              "#46039f"
             ],
             [
              0.2222222222222222,
              "#7201a8"
             ],
             [
              0.3333333333333333,
              "#9c179e"
             ],
             [
              0.4444444444444444,
              "#bd3786"
             ],
             [
              0.5555555555555556,
              "#d8576b"
             ],
             [
              0.6666666666666666,
              "#ed7953"
             ],
             [
              0.7777777777777778,
              "#fb9f3a"
             ],
             [
              0.8888888888888888,
              "#fdca26"
             ],
             [
              1,
              "#f0f921"
             ]
            ],
            "type": "contour"
           }
          ],
          "contourcarpet": [
           {
            "colorbar": {
             "outlinewidth": 0,
             "ticks": ""
            },
            "type": "contourcarpet"
           }
          ],
          "heatmap": [
           {
            "colorbar": {
             "outlinewidth": 0,
             "ticks": ""
            },
            "colorscale": [
             [
              0,
              "#0d0887"
             ],
             [
              0.1111111111111111,
              "#46039f"
             ],
             [
              0.2222222222222222,
              "#7201a8"
             ],
             [
              0.3333333333333333,
              "#9c179e"
             ],
             [
              0.4444444444444444,
              "#bd3786"
             ],
             [
              0.5555555555555556,
              "#d8576b"
             ],
             [
              0.6666666666666666,
              "#ed7953"
             ],
             [
              0.7777777777777778,
              "#fb9f3a"
             ],
             [
              0.8888888888888888,
              "#fdca26"
             ],
             [
              1,
              "#f0f921"
             ]
            ],
            "type": "heatmap"
           }
          ],
          "heatmapgl": [
           {
            "colorbar": {
             "outlinewidth": 0,
             "ticks": ""
            },
            "colorscale": [
             [
              0,
              "#0d0887"
             ],
             [
              0.1111111111111111,
              "#46039f"
             ],
             [
              0.2222222222222222,
              "#7201a8"
             ],
             [
              0.3333333333333333,
              "#9c179e"
             ],
             [
              0.4444444444444444,
              "#bd3786"
             ],
             [
              0.5555555555555556,
              "#d8576b"
             ],
             [
              0.6666666666666666,
              "#ed7953"
             ],
             [
              0.7777777777777778,
              "#fb9f3a"
             ],
             [
              0.8888888888888888,
              "#fdca26"
             ],
             [
              1,
              "#f0f921"
             ]
            ],
            "type": "heatmapgl"
           }
          ],
          "histogram": [
           {
            "marker": {
             "pattern": {
              "fillmode": "overlay",
              "size": 10,
              "solidity": 0.2
             }
            },
            "type": "histogram"
           }
          ],
          "histogram2d": [
           {
            "colorbar": {
             "outlinewidth": 0,
             "ticks": ""
            },
            "colorscale": [
             [
              0,
              "#0d0887"
             ],
             [
              0.1111111111111111,
              "#46039f"
             ],
             [
              0.2222222222222222,
              "#7201a8"
             ],
             [
              0.3333333333333333,
              "#9c179e"
             ],
             [
              0.4444444444444444,
              "#bd3786"
             ],
             [
              0.5555555555555556,
              "#d8576b"
             ],
             [
              0.6666666666666666,
              "#ed7953"
             ],
             [
              0.7777777777777778,
              "#fb9f3a"
             ],
             [
              0.8888888888888888,
              "#fdca26"
             ],
             [
              1,
              "#f0f921"
             ]
            ],
            "type": "histogram2d"
           }
          ],
          "histogram2dcontour": [
           {
            "colorbar": {
             "outlinewidth": 0,
             "ticks": ""
            },
            "colorscale": [
             [
              0,
              "#0d0887"
             ],
             [
              0.1111111111111111,
              "#46039f"
             ],
             [
              0.2222222222222222,
              "#7201a8"
             ],
             [
              0.3333333333333333,
              "#9c179e"
             ],
             [
              0.4444444444444444,
              "#bd3786"
             ],
             [
              0.5555555555555556,
              "#d8576b"
             ],
             [
              0.6666666666666666,
              "#ed7953"
             ],
             [
              0.7777777777777778,
              "#fb9f3a"
             ],
             [
              0.8888888888888888,
              "#fdca26"
             ],
             [
              1,
              "#f0f921"
             ]
            ],
            "type": "histogram2dcontour"
           }
          ],
          "mesh3d": [
           {
            "colorbar": {
             "outlinewidth": 0,
             "ticks": ""
            },
            "type": "mesh3d"
           }
          ],
          "parcoords": [
           {
            "line": {
             "colorbar": {
              "outlinewidth": 0,
              "ticks": ""
             }
            },
            "type": "parcoords"
           }
          ],
          "pie": [
           {
            "automargin": true,
            "type": "pie"
           }
          ],
          "scatter": [
           {
            "fillpattern": {
             "fillmode": "overlay",
             "size": 10,
             "solidity": 0.2
            },
            "type": "scatter"
           }
          ],
          "scatter3d": [
           {
            "line": {
             "colorbar": {
              "outlinewidth": 0,
              "ticks": ""
             }
            },
            "marker": {
             "colorbar": {
              "outlinewidth": 0,
              "ticks": ""
             }
            },
            "type": "scatter3d"
           }
          ],
          "scattercarpet": [
           {
            "marker": {
             "colorbar": {
              "outlinewidth": 0,
              "ticks": ""
             }
            },
            "type": "scattercarpet"
           }
          ],
          "scattergeo": [
           {
            "marker": {
             "colorbar": {
              "outlinewidth": 0,
              "ticks": ""
             }
            },
            "type": "scattergeo"
           }
          ],
          "scattergl": [
           {
            "marker": {
             "colorbar": {
              "outlinewidth": 0,
              "ticks": ""
             }
            },
            "type": "scattergl"
           }
          ],
          "scattermapbox": [
           {
            "marker": {
             "colorbar": {
              "outlinewidth": 0,
              "ticks": ""
             }
            },
            "type": "scattermapbox"
           }
          ],
          "scatterpolar": [
           {
            "marker": {
             "colorbar": {
              "outlinewidth": 0,
              "ticks": ""
             }
            },
            "type": "scatterpolar"
           }
          ],
          "scatterpolargl": [
           {
            "marker": {
             "colorbar": {
              "outlinewidth": 0,
              "ticks": ""
             }
            },
            "type": "scatterpolargl"
           }
          ],
          "scatterternary": [
           {
            "marker": {
             "colorbar": {
              "outlinewidth": 0,
              "ticks": ""
             }
            },
            "type": "scatterternary"
           }
          ],
          "surface": [
           {
            "colorbar": {
             "outlinewidth": 0,
             "ticks": ""
            },
            "colorscale": [
             [
              0,
              "#0d0887"
             ],
             [
              0.1111111111111111,
              "#46039f"
             ],
             [
              0.2222222222222222,
              "#7201a8"
             ],
             [
              0.3333333333333333,
              "#9c179e"
             ],
             [
              0.4444444444444444,
              "#bd3786"
             ],
             [
              0.5555555555555556,
              "#d8576b"
             ],
             [
              0.6666666666666666,
              "#ed7953"
             ],
             [
              0.7777777777777778,
              "#fb9f3a"
             ],
             [
              0.8888888888888888,
              "#fdca26"
             ],
             [
              1,
              "#f0f921"
             ]
            ],
            "type": "surface"
           }
          ],
          "table": [
           {
            "cells": {
             "fill": {
              "color": "#EBF0F8"
             },
             "line": {
              "color": "white"
             }
            },
            "header": {
             "fill": {
              "color": "#C8D4E3"
             },
             "line": {
              "color": "white"
             }
            },
            "type": "table"
           }
          ]
         },
         "layout": {
          "annotationdefaults": {
           "arrowcolor": "#2a3f5f",
           "arrowhead": 0,
           "arrowwidth": 1
          },
          "autotypenumbers": "strict",
          "coloraxis": {
           "colorbar": {
            "outlinewidth": 0,
            "ticks": ""
           }
          },
          "colorscale": {
           "diverging": [
            [
             0,
             "#8e0152"
            ],
            [
             0.1,
             "#c51b7d"
            ],
            [
             0.2,
             "#de77ae"
            ],
            [
             0.3,
             "#f1b6da"
            ],
            [
             0.4,
             "#fde0ef"
            ],
            [
             0.5,
             "#f7f7f7"
            ],
            [
             0.6,
             "#e6f5d0"
            ],
            [
             0.7,
             "#b8e186"
            ],
            [
             0.8,
             "#7fbc41"
            ],
            [
             0.9,
             "#4d9221"
            ],
            [
             1,
             "#276419"
            ]
           ],
           "sequential": [
            [
             0,
             "#0d0887"
            ],
            [
             0.1111111111111111,
             "#46039f"
            ],
            [
             0.2222222222222222,
             "#7201a8"
            ],
            [
             0.3333333333333333,
             "#9c179e"
            ],
            [
             0.4444444444444444,
             "#bd3786"
            ],
            [
             0.5555555555555556,
             "#d8576b"
            ],
            [
             0.6666666666666666,
             "#ed7953"
            ],
            [
             0.7777777777777778,
             "#fb9f3a"
            ],
            [
             0.8888888888888888,
             "#fdca26"
            ],
            [
             1,
             "#f0f921"
            ]
           ],
           "sequentialminus": [
            [
             0,
             "#0d0887"
            ],
            [
             0.1111111111111111,
             "#46039f"
            ],
            [
             0.2222222222222222,
             "#7201a8"
            ],
            [
             0.3333333333333333,
             "#9c179e"
            ],
            [
             0.4444444444444444,
             "#bd3786"
            ],
            [
             0.5555555555555556,
             "#d8576b"
            ],
            [
             0.6666666666666666,
             "#ed7953"
            ],
            [
             0.7777777777777778,
             "#fb9f3a"
            ],
            [
             0.8888888888888888,
             "#fdca26"
            ],
            [
             1,
             "#f0f921"
            ]
           ]
          },
          "colorway": [
           "#636efa",
           "#EF553B",
           "#00cc96",
           "#ab63fa",
           "#FFA15A",
           "#19d3f3",
           "#FF6692",
           "#B6E880",
           "#FF97FF",
           "#FECB52"
          ],
          "font": {
           "color": "#2a3f5f"
          },
          "geo": {
           "bgcolor": "white",
           "lakecolor": "white",
           "landcolor": "#E5ECF6",
           "showlakes": true,
           "showland": true,
           "subunitcolor": "white"
          },
          "hoverlabel": {
           "align": "left"
          },
          "hovermode": "closest",
          "mapbox": {
           "style": "light"
          },
          "paper_bgcolor": "white",
          "plot_bgcolor": "#E5ECF6",
          "polar": {
           "angularaxis": {
            "gridcolor": "white",
            "linecolor": "white",
            "ticks": ""
           },
           "bgcolor": "#E5ECF6",
           "radialaxis": {
            "gridcolor": "white",
            "linecolor": "white",
            "ticks": ""
           }
          },
          "scene": {
           "xaxis": {
            "backgroundcolor": "#E5ECF6",
            "gridcolor": "white",
            "gridwidth": 2,
            "linecolor": "white",
            "showbackground": true,
            "ticks": "",
            "zerolinecolor": "white"
           },
           "yaxis": {
            "backgroundcolor": "#E5ECF6",
            "gridcolor": "white",
            "gridwidth": 2,
            "linecolor": "white",
            "showbackground": true,
            "ticks": "",
            "zerolinecolor": "white"
           },
           "zaxis": {
            "backgroundcolor": "#E5ECF6",
            "gridcolor": "white",
            "gridwidth": 2,
            "linecolor": "white",
            "showbackground": true,
            "ticks": "",
            "zerolinecolor": "white"
           }
          },
          "shapedefaults": {
           "line": {
            "color": "#2a3f5f"
           }
          },
          "ternary": {
           "aaxis": {
            "gridcolor": "white",
            "linecolor": "white",
            "ticks": ""
           },
           "baxis": {
            "gridcolor": "white",
            "linecolor": "white",
            "ticks": ""
           },
           "bgcolor": "#E5ECF6",
           "caxis": {
            "gridcolor": "white",
            "linecolor": "white",
            "ticks": ""
           }
          },
          "title": {
           "x": 0.05
          },
          "xaxis": {
           "automargin": true,
           "gridcolor": "white",
           "linecolor": "white",
           "ticks": "",
           "title": {
            "standoff": 15
           },
           "zerolinecolor": "white",
           "zerolinewidth": 2
          },
          "yaxis": {
           "automargin": true,
           "gridcolor": "white",
           "linecolor": "white",
           "ticks": "",
           "title": {
            "standoff": 15
           },
           "zerolinecolor": "white",
           "zerolinewidth": 2
          }
         }
        },
        "title": {
         "font": {
          "color": "white"
         },
         "text": "Data Cleaning Process"
        }
       }
      }
     },
     "metadata": {},
     "output_type": "display_data"
    }
   ],
   "source": [
    "import pandas as pd\n",
    "import plotly.graph_objects as go\n",
    "\n",
    "# Create a DataFrame with the data\n",
    "data = pd.DataFrame({\n",
    "    'Source': ['Raw Data','All Clients', 'Drop nulls', 'Unknown variations', 'Repeats & shared', 'Non-starters', 'Outliers', 'Outliers', 'Outliers'],\n",
    "    'Target': ['All Clients','Drop nulls', 'Unknown variations', 'Repeats & shared', 'Non-starters', 'Outliers', 'Happy Path', 'Confused Path', 'Dropped Path'],\n",
    "    'Value': [120157, 100048, 50487, 50109, 47914, 45541, 16637, 8828, 20090]\n",
    "})\n",
    "\n",
    "# Create lists for the Sankey diagram\n",
    "sources = data['Source'].tolist()\n",
    "targets = data['Target'].tolist()\n",
    "values = data['Value'].tolist()\n",
    "\n",
    "# Create a list of unique labels for the nodes\n",
    "all_nodes = list(set(sources + targets))\n",
    "node_indices = {node: i for i, node in enumerate(all_nodes)}\n",
    "\n",
    "# Map the source and target labels to their corresponding indices\n",
    "source_indices = [node_indices[source] for source in sources]\n",
    "target_indices = [node_indices[target] for target in targets]\n",
    "\n",
    "# Define custom colors for nodes (using a list of colors)\n",
    "node_colors = [\n",
    "    \"#636EFA\", \"#EF553B\", \"#00CC96\", \"#AB63FA\", \"#FFA15A\", \n",
    "    \"#19D3F3\", \"#FF6692\", \"#B6E880\", \"#FF97FF\", \"#FECB52\"\n",
    "]\n",
    "\n",
    "# Ensure node colors align with the all_nodes list length\n",
    "node_colors = node_colors[:len(all_nodes)]\n",
    "\n",
    "# Create the Sankey diagram with custom colors and values displayed\n",
    "fig = go.Figure(go.Sankey(\n",
    "    node=dict(\n",
    "        pad=15,\n",
    "        thickness=20,\n",
    "        line=dict(color=\"black\", width=0.5),\n",
    "        label=all_nodes,\n",
    "        color=node_colors  # Assign custom colors to nodes\n",
    "    ),\n",
    "    link=dict(\n",
    "        source=source_indices,\n",
    "        target=target_indices,\n",
    "        value=values,\n",
    "        color=\"rgba(0,100,255,0.4)\",  # Customize link colors (semi-transparent blue)\n",
    "        # Add text for the links with values\n",
    "        label=[f\"{value}\" for value in values],\n",
    "        customdata=[f\"{value}\" for value in values],  # Use custom data to display value\n",
    "        hovertemplate='Flow: %{value}'  # Show the value in hover text\n",
    "    )\n",
    "))\n",
    "\n",
    "# Update the layout and display the diagram with a transparent background\n",
    "fig.update_layout(\n",
    "    title_text=\"Data Cleaning Process\",\n",
    "    font_size=12,\n",
    "    paper_bgcolor='rgba(0,0,0,0)',\n",
    "    plot_bgcolor='rgba(0,0,0,0)',\n",
    "    title_font=dict(color=\"white\"),  # Set title color to white for better contrast\n",
    "    font_color=\"white\"  # Set overall font color to white for labels\n",
    ")\n",
    "\n",
    "fig.show()"
   ]
  },
  {
   "cell_type": "code",
   "execution_count": 159,
   "metadata": {},
   "outputs": [
    {
     "data": {
      "application/vnd.plotly.v1+json": {
       "config": {
        "plotlyServerURL": "https://plot.ly"
       },
       "data": [
        {
         "link": {
          "color": "rgba(0,128,128,0.4)",
          "customdata": [
           "120157",
           "100048",
           "50487",
           "50109",
           "47914",
           "45541",
           "16637",
           "8828",
           "20090"
          ],
          "hovertemplate": "Flow: %{value}",
          "label": [
           "120157",
           "100048",
           "50487",
           "50109",
           "47914",
           "45541",
           "16637",
           "8828",
           "20090"
          ],
          "source": [
           4,
           6,
           8,
           7,
           5,
           1,
           3,
           3,
           3
          ],
          "target": [
           6,
           8,
           7,
           5,
           1,
           3,
           0,
           9,
           2
          ],
          "value": [
           120157,
           100048,
           50487,
           50109,
           47914,
           45541,
           16637,
           8828,
           20090
          ]
         },
         "node": {
          "color": [
           "#0000ff",
           "#001cf1",
           "#0038e3",
           "#0055d4",
           "#0071c6",
           "#008eb8",
           "#00aaaa",
           "#00c79c",
           "#00e38e",
           "#00ff80"
          ],
          "label": [
           "Happy Path",
           "Non-starters",
           "Dropped Path",
           "Outliers",
           "Raw Data",
           "Repeats & shared",
           "All Clients",
           "Unknown variations",
           "Drop nulls",
           "Confused Path"
          ],
          "line": {
           "color": "black",
           "width": 0.5
          },
          "pad": 15,
          "thickness": 20
         },
         "type": "sankey"
        }
       ],
       "layout": {
        "font": {
         "color": "white",
         "size": 12
        },
        "paper_bgcolor": "rgba(0,0,0,0)",
        "plot_bgcolor": "rgba(0,0,0,0)",
        "template": {
         "data": {
          "bar": [
           {
            "error_x": {
             "color": "#2a3f5f"
            },
            "error_y": {
             "color": "#2a3f5f"
            },
            "marker": {
             "line": {
              "color": "#E5ECF6",
              "width": 0.5
             },
             "pattern": {
              "fillmode": "overlay",
              "size": 10,
              "solidity": 0.2
             }
            },
            "type": "bar"
           }
          ],
          "barpolar": [
           {
            "marker": {
             "line": {
              "color": "#E5ECF6",
              "width": 0.5
             },
             "pattern": {
              "fillmode": "overlay",
              "size": 10,
              "solidity": 0.2
             }
            },
            "type": "barpolar"
           }
          ],
          "carpet": [
           {
            "aaxis": {
             "endlinecolor": "#2a3f5f",
             "gridcolor": "white",
             "linecolor": "white",
             "minorgridcolor": "white",
             "startlinecolor": "#2a3f5f"
            },
            "baxis": {
             "endlinecolor": "#2a3f5f",
             "gridcolor": "white",
             "linecolor": "white",
             "minorgridcolor": "white",
             "startlinecolor": "#2a3f5f"
            },
            "type": "carpet"
           }
          ],
          "choropleth": [
           {
            "colorbar": {
             "outlinewidth": 0,
             "ticks": ""
            },
            "type": "choropleth"
           }
          ],
          "contour": [
           {
            "colorbar": {
             "outlinewidth": 0,
             "ticks": ""
            },
            "colorscale": [
             [
              0,
              "#0d0887"
             ],
             [
              0.1111111111111111,
              "#46039f"
             ],
             [
              0.2222222222222222,
              "#7201a8"
             ],
             [
              0.3333333333333333,
              "#9c179e"
             ],
             [
              0.4444444444444444,
              "#bd3786"
             ],
             [
              0.5555555555555556,
              "#d8576b"
             ],
             [
              0.6666666666666666,
              "#ed7953"
             ],
             [
              0.7777777777777778,
              "#fb9f3a"
             ],
             [
              0.8888888888888888,
              "#fdca26"
             ],
             [
              1,
              "#f0f921"
             ]
            ],
            "type": "contour"
           }
          ],
          "contourcarpet": [
           {
            "colorbar": {
             "outlinewidth": 0,
             "ticks": ""
            },
            "type": "contourcarpet"
           }
          ],
          "heatmap": [
           {
            "colorbar": {
             "outlinewidth": 0,
             "ticks": ""
            },
            "colorscale": [
             [
              0,
              "#0d0887"
             ],
             [
              0.1111111111111111,
              "#46039f"
             ],
             [
              0.2222222222222222,
              "#7201a8"
             ],
             [
              0.3333333333333333,
              "#9c179e"
             ],
             [
              0.4444444444444444,
              "#bd3786"
             ],
             [
              0.5555555555555556,
              "#d8576b"
             ],
             [
              0.6666666666666666,
              "#ed7953"
             ],
             [
              0.7777777777777778,
              "#fb9f3a"
             ],
             [
              0.8888888888888888,
              "#fdca26"
             ],
             [
              1,
              "#f0f921"
             ]
            ],
            "type": "heatmap"
           }
          ],
          "heatmapgl": [
           {
            "colorbar": {
             "outlinewidth": 0,
             "ticks": ""
            },
            "colorscale": [
             [
              0,
              "#0d0887"
             ],
             [
              0.1111111111111111,
              "#46039f"
             ],
             [
              0.2222222222222222,
              "#7201a8"
             ],
             [
              0.3333333333333333,
              "#9c179e"
             ],
             [
              0.4444444444444444,
              "#bd3786"
             ],
             [
              0.5555555555555556,
              "#d8576b"
             ],
             [
              0.6666666666666666,
              "#ed7953"
             ],
             [
              0.7777777777777778,
              "#fb9f3a"
             ],
             [
              0.8888888888888888,
              "#fdca26"
             ],
             [
              1,
              "#f0f921"
             ]
            ],
            "type": "heatmapgl"
           }
          ],
          "histogram": [
           {
            "marker": {
             "pattern": {
              "fillmode": "overlay",
              "size": 10,
              "solidity": 0.2
             }
            },
            "type": "histogram"
           }
          ],
          "histogram2d": [
           {
            "colorbar": {
             "outlinewidth": 0,
             "ticks": ""
            },
            "colorscale": [
             [
              0,
              "#0d0887"
             ],
             [
              0.1111111111111111,
              "#46039f"
             ],
             [
              0.2222222222222222,
              "#7201a8"
             ],
             [
              0.3333333333333333,
              "#9c179e"
             ],
             [
              0.4444444444444444,
              "#bd3786"
             ],
             [
              0.5555555555555556,
              "#d8576b"
             ],
             [
              0.6666666666666666,
              "#ed7953"
             ],
             [
              0.7777777777777778,
              "#fb9f3a"
             ],
             [
              0.8888888888888888,
              "#fdca26"
             ],
             [
              1,
              "#f0f921"
             ]
            ],
            "type": "histogram2d"
           }
          ],
          "histogram2dcontour": [
           {
            "colorbar": {
             "outlinewidth": 0,
             "ticks": ""
            },
            "colorscale": [
             [
              0,
              "#0d0887"
             ],
             [
              0.1111111111111111,
              "#46039f"
             ],
             [
              0.2222222222222222,
              "#7201a8"
             ],
             [
              0.3333333333333333,
              "#9c179e"
             ],
             [
              0.4444444444444444,
              "#bd3786"
             ],
             [
              0.5555555555555556,
              "#d8576b"
             ],
             [
              0.6666666666666666,
              "#ed7953"
             ],
             [
              0.7777777777777778,
              "#fb9f3a"
             ],
             [
              0.8888888888888888,
              "#fdca26"
             ],
             [
              1,
              "#f0f921"
             ]
            ],
            "type": "histogram2dcontour"
           }
          ],
          "mesh3d": [
           {
            "colorbar": {
             "outlinewidth": 0,
             "ticks": ""
            },
            "type": "mesh3d"
           }
          ],
          "parcoords": [
           {
            "line": {
             "colorbar": {
              "outlinewidth": 0,
              "ticks": ""
             }
            },
            "type": "parcoords"
           }
          ],
          "pie": [
           {
            "automargin": true,
            "type": "pie"
           }
          ],
          "scatter": [
           {
            "fillpattern": {
             "fillmode": "overlay",
             "size": 10,
             "solidity": 0.2
            },
            "type": "scatter"
           }
          ],
          "scatter3d": [
           {
            "line": {
             "colorbar": {
              "outlinewidth": 0,
              "ticks": ""
             }
            },
            "marker": {
             "colorbar": {
              "outlinewidth": 0,
              "ticks": ""
             }
            },
            "type": "scatter3d"
           }
          ],
          "scattercarpet": [
           {
            "marker": {
             "colorbar": {
              "outlinewidth": 0,
              "ticks": ""
             }
            },
            "type": "scattercarpet"
           }
          ],
          "scattergeo": [
           {
            "marker": {
             "colorbar": {
              "outlinewidth": 0,
              "ticks": ""
             }
            },
            "type": "scattergeo"
           }
          ],
          "scattergl": [
           {
            "marker": {
             "colorbar": {
              "outlinewidth": 0,
              "ticks": ""
             }
            },
            "type": "scattergl"
           }
          ],
          "scattermapbox": [
           {
            "marker": {
             "colorbar": {
              "outlinewidth": 0,
              "ticks": ""
             }
            },
            "type": "scattermapbox"
           }
          ],
          "scatterpolar": [
           {
            "marker": {
             "colorbar": {
              "outlinewidth": 0,
              "ticks": ""
             }
            },
            "type": "scatterpolar"
           }
          ],
          "scatterpolargl": [
           {
            "marker": {
             "colorbar": {
              "outlinewidth": 0,
              "ticks": ""
             }
            },
            "type": "scatterpolargl"
           }
          ],
          "scatterternary": [
           {
            "marker": {
             "colorbar": {
              "outlinewidth": 0,
              "ticks": ""
             }
            },
            "type": "scatterternary"
           }
          ],
          "surface": [
           {
            "colorbar": {
             "outlinewidth": 0,
             "ticks": ""
            },
            "colorscale": [
             [
              0,
              "#0d0887"
             ],
             [
              0.1111111111111111,
              "#46039f"
             ],
             [
              0.2222222222222222,
              "#7201a8"
             ],
             [
              0.3333333333333333,
              "#9c179e"
             ],
             [
              0.4444444444444444,
              "#bd3786"
             ],
             [
              0.5555555555555556,
              "#d8576b"
             ],
             [
              0.6666666666666666,
              "#ed7953"
             ],
             [
              0.7777777777777778,
              "#fb9f3a"
             ],
             [
              0.8888888888888888,
              "#fdca26"
             ],
             [
              1,
              "#f0f921"
             ]
            ],
            "type": "surface"
           }
          ],
          "table": [
           {
            "cells": {
             "fill": {
              "color": "#EBF0F8"
             },
             "line": {
              "color": "white"
             }
            },
            "header": {
             "fill": {
              "color": "#C8D4E3"
             },
             "line": {
              "color": "white"
             }
            },
            "type": "table"
           }
          ]
         },
         "layout": {
          "annotationdefaults": {
           "arrowcolor": "#2a3f5f",
           "arrowhead": 0,
           "arrowwidth": 1
          },
          "autotypenumbers": "strict",
          "coloraxis": {
           "colorbar": {
            "outlinewidth": 0,
            "ticks": ""
           }
          },
          "colorscale": {
           "diverging": [
            [
             0,
             "#8e0152"
            ],
            [
             0.1,
             "#c51b7d"
            ],
            [
             0.2,
             "#de77ae"
            ],
            [
             0.3,
             "#f1b6da"
            ],
            [
             0.4,
             "#fde0ef"
            ],
            [
             0.5,
             "#f7f7f7"
            ],
            [
             0.6,
             "#e6f5d0"
            ],
            [
             0.7,
             "#b8e186"
            ],
            [
             0.8,
             "#7fbc41"
            ],
            [
             0.9,
             "#4d9221"
            ],
            [
             1,
             "#276419"
            ]
           ],
           "sequential": [
            [
             0,
             "#0d0887"
            ],
            [
             0.1111111111111111,
             "#46039f"
            ],
            [
             0.2222222222222222,
             "#7201a8"
            ],
            [
             0.3333333333333333,
             "#9c179e"
            ],
            [
             0.4444444444444444,
             "#bd3786"
            ],
            [
             0.5555555555555556,
             "#d8576b"
            ],
            [
             0.6666666666666666,
             "#ed7953"
            ],
            [
             0.7777777777777778,
             "#fb9f3a"
            ],
            [
             0.8888888888888888,
             "#fdca26"
            ],
            [
             1,
             "#f0f921"
            ]
           ],
           "sequentialminus": [
            [
             0,
             "#0d0887"
            ],
            [
             0.1111111111111111,
             "#46039f"
            ],
            [
             0.2222222222222222,
             "#7201a8"
            ],
            [
             0.3333333333333333,
             "#9c179e"
            ],
            [
             0.4444444444444444,
             "#bd3786"
            ],
            [
             0.5555555555555556,
             "#d8576b"
            ],
            [
             0.6666666666666666,
             "#ed7953"
            ],
            [
             0.7777777777777778,
             "#fb9f3a"
            ],
            [
             0.8888888888888888,
             "#fdca26"
            ],
            [
             1,
             "#f0f921"
            ]
           ]
          },
          "colorway": [
           "#636efa",
           "#EF553B",
           "#00cc96",
           "#ab63fa",
           "#FFA15A",
           "#19d3f3",
           "#FF6692",
           "#B6E880",
           "#FF97FF",
           "#FECB52"
          ],
          "font": {
           "color": "#2a3f5f"
          },
          "geo": {
           "bgcolor": "white",
           "lakecolor": "white",
           "landcolor": "#E5ECF6",
           "showlakes": true,
           "showland": true,
           "subunitcolor": "white"
          },
          "hoverlabel": {
           "align": "left"
          },
          "hovermode": "closest",
          "mapbox": {
           "style": "light"
          },
          "paper_bgcolor": "white",
          "plot_bgcolor": "#E5ECF6",
          "polar": {
           "angularaxis": {
            "gridcolor": "white",
            "linecolor": "white",
            "ticks": ""
           },
           "bgcolor": "#E5ECF6",
           "radialaxis": {
            "gridcolor": "white",
            "linecolor": "white",
            "ticks": ""
           }
          },
          "scene": {
           "xaxis": {
            "backgroundcolor": "#E5ECF6",
            "gridcolor": "white",
            "gridwidth": 2,
            "linecolor": "white",
            "showbackground": true,
            "ticks": "",
            "zerolinecolor": "white"
           },
           "yaxis": {
            "backgroundcolor": "#E5ECF6",
            "gridcolor": "white",
            "gridwidth": 2,
            "linecolor": "white",
            "showbackground": true,
            "ticks": "",
            "zerolinecolor": "white"
           },
           "zaxis": {
            "backgroundcolor": "#E5ECF6",
            "gridcolor": "white",
            "gridwidth": 2,
            "linecolor": "white",
            "showbackground": true,
            "ticks": "",
            "zerolinecolor": "white"
           }
          },
          "shapedefaults": {
           "line": {
            "color": "#2a3f5f"
           }
          },
          "ternary": {
           "aaxis": {
            "gridcolor": "white",
            "linecolor": "white",
            "ticks": ""
           },
           "baxis": {
            "gridcolor": "white",
            "linecolor": "white",
            "ticks": ""
           },
           "bgcolor": "#E5ECF6",
           "caxis": {
            "gridcolor": "white",
            "linecolor": "white",
            "ticks": ""
           }
          },
          "title": {
           "x": 0.05
          },
          "xaxis": {
           "automargin": true,
           "gridcolor": "white",
           "linecolor": "white",
           "ticks": "",
           "title": {
            "standoff": 15
           },
           "zerolinecolor": "white",
           "zerolinewidth": 2
          },
          "yaxis": {
           "automargin": true,
           "gridcolor": "white",
           "linecolor": "white",
           "ticks": "",
           "title": {
            "standoff": 15
           },
           "zerolinecolor": "white",
           "zerolinewidth": 2
          }
         }
        },
        "title": {
         "font": {
          "color": "white"
         },
         "text": "Data Cleaning Process"
        }
       }
      }
     },
     "metadata": {},
     "output_type": "display_data"
    }
   ],
   "source": [
    "import pandas as pd\n",
    "import plotly.graph_objects as go\n",
    "import matplotlib.pyplot as plt\n",
    "import matplotlib.colors as mcolors\n",
    "import numpy as np\n",
    "\n",
    "# Create a DataFrame with the data\n",
    "data = pd.DataFrame({\n",
    "    'Source': ['Raw Data', 'All Clients', 'Drop nulls', 'Unknown variations', 'Repeats & shared', 'Non-starters', 'Outliers', 'Outliers', 'Outliers'],\n",
    "    'Target': ['All Clients', 'Drop nulls', 'Unknown variations', 'Repeats & shared', 'Non-starters', 'Outliers', 'Happy Path', 'Confused Path', 'Dropped Path'],\n",
    "    'Value': [120157, 100048, 50487, 50109, 47914, 45541, 16637, 8828, 20090]\n",
    "})\n",
    "\n",
    "# Create lists for the Sankey diagram\n",
    "sources = data['Source'].tolist()\n",
    "targets = data['Target'].tolist()\n",
    "values = data['Value'].tolist()\n",
    "\n",
    "# Create a list of unique labels for the nodes\n",
    "all_nodes = list(set(sources + targets))\n",
    "node_indices = {node: i for i, node in enumerate(all_nodes)}\n",
    "\n",
    "# Map the source and target labels to their corresponding indices\n",
    "source_indices = [node_indices[source] for source in sources]\n",
    "target_indices = [node_indices[target] for target in targets]\n",
    "\n",
    "# Define a gradient of teal colors using matplotlib\n",
    "cmap = plt.get_cmap('winter')  # 'winter' colormap gives a teal-like gradient\n",
    "gradient_colors = [mcolors.rgb2hex(cmap(i / (len(all_nodes) - 1))) for i in range(len(all_nodes))]\n",
    "\n",
    "# Create the Sankey diagram with the teal gradient colors\n",
    "fig = go.Figure(go.Sankey(\n",
    "    node=dict(\n",
    "        pad=15,\n",
    "        thickness=20,\n",
    "        line=dict(color=\"black\", width=0.5),\n",
    "        label=all_nodes,\n",
    "        color=gradient_colors  # Assign gradient colors to nodes\n",
    "    ),\n",
    "    link=dict(\n",
    "        source=source_indices,\n",
    "        target=target_indices,\n",
    "        value=values,\n",
    "        color=\"rgba(0,128,128,0.4)\",  # Semi-transparent teal color for links\n",
    "        label=[f\"{value}\" for value in values],\n",
    "        customdata=[f\"{value}\" for value in values],  # Use custom data to display value\n",
    "        hovertemplate='Flow: %{value}'  # Show the value in hover text\n",
    "    )\n",
    "))\n",
    "\n",
    "# Update the layout and display the diagram with a transparent background\n",
    "fig.update_layout(\n",
    "    title_text=\"Data Cleaning Process\",\n",
    "    font_size=12,\n",
    "    paper_bgcolor='rgba(0,0,0,0)',\n",
    "    plot_bgcolor='rgba(0,0,0,0)',\n",
    "    title_font=dict(color=\"white\"),  # Set title color to white for better contrast\n",
    "    font_color=\"white\"  # Set overall font color to white for labels\n",
    ")\n",
    "\n",
    "fig.show()"
   ]
  }
 ],
 "metadata": {
  "kernelspec": {
   "display_name": "base",
   "language": "python",
   "name": "python3"
  },
  "language_info": {
   "codemirror_mode": {
    "name": "ipython",
    "version": 3
   },
   "file_extension": ".py",
   "mimetype": "text/x-python",
   "name": "python",
   "nbconvert_exporter": "python",
   "pygments_lexer": "ipython3",
   "version": "3.12.4"
  }
 },
 "nbformat": 4,
 "nbformat_minor": 2
}
